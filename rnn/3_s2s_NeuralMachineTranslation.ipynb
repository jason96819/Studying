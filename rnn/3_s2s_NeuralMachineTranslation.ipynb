{
  "nbformat": 4,
  "nbformat_minor": 0,
  "metadata": {
    "colab": {
      "provenance": [],
      "authorship_tag": "ABX9TyNAxDYqRQ8B/SjsZbnBnouc",
      "include_colab_link": true
    },
    "kernelspec": {
      "name": "python3",
      "display_name": "Python 3"
    },
    "language_info": {
      "name": "python"
    },
    "accelerator": "GPU"
  },
  "cells": [
    {
      "cell_type": "markdown",
      "metadata": {
        "id": "view-in-github",
        "colab_type": "text"
      },
      "source": [
        "<a href=\"https://colab.research.google.com/github/jason96819/Studying/blob/main/rnn/3_s2s_NeuralMachineTranslation.ipynb\" target=\"_parent\"><img src=\"https://colab.research.google.com/assets/colab-badge.svg\" alt=\"Open In Colab\"/></a>"
      ]
    },
    {
      "cell_type": "markdown",
      "source": [
        "# 전처리"
      ],
      "metadata": {
        "id": "j3FhbYNHvoGj"
      }
    },
    {
      "cell_type": "code",
      "execution_count": null,
      "metadata": {
        "id": "21lVvRRcl_Qc"
      },
      "outputs": [],
      "source": [
        "import os\n",
        "import re\n",
        "import shutil\n",
        "import zipfile\n",
        "\n",
        "import numpy as np\n",
        "import pandas as pd\n",
        "import tensorflow as tf\n",
        "import unicodedata\n",
        "import urllib3\n",
        "from tensorflow.keras.layers import Embedding, GRU, Dense\n",
        "from tensorflow.keras.preprocessing.sequence import pad_sequences\n",
        "from tensorflow.keras.preprocessing.text import Tokenizer"
      ]
    },
    {
      "cell_type": "code",
      "source": [
        "http = urllib3.PoolManager()\n",
        "url = 'http://www.manythings.org/anki/fra-eng.zip'\n",
        "filename = 'fra-eng.zip'\n",
        "path = os.getcwd()\n",
        "zipfilename = os.path.join(path, filename)\n",
        "with http.request('GET', url, preload_content=False) as r, open(zipfilename, 'wb') as out_file:\n",
        "    shutil.copyfileobj(r, out_file)\n",
        "\n",
        "with zipfile.ZipFile(zipfilename, 'r') as zip_ref:\n",
        "    zip_ref.extractall(path)\n",
        "\n",
        "num_samples = 33000"
      ],
      "metadata": {
        "id": "-6pqwQsMvnwq"
      },
      "execution_count": null,
      "outputs": []
    },
    {
      "cell_type": "code",
      "source": [
        "def to_ascii(s):\n",
        "  # 프랑스어 악센트(accent) 삭제\n",
        "  # 예시 : 'déjà diné' -> deja dine\n",
        "  return ''.join(c for c in unicodedata.normalize('NFD', s)\n",
        "                   if unicodedata.category(c) != 'Mn')\n",
        "\n",
        "def preprocess_sentence(sent):\n",
        "  # 악센트 제거 함수 호출\n",
        "  sent = to_ascii(sent.lower())\n",
        "\n",
        "  # 단어와 구두점 사이에 공백 추가.\n",
        "  # ex) \"I am a student.\" => \"I am a student .\"\n",
        "  sent = re.sub(r\"([?.!,¿])\", r\" \\1\", sent)\n",
        "\n",
        "  # (a-z, A-Z, \".\", \"?\", \"!\", \",\") 이들을 제외하고는 전부 공백으로 변환.\n",
        "  sent = re.sub(r\"[^a-zA-Z!.?]+\", r\" \", sent)\n",
        "\n",
        "  # 다수 개의 공백을 하나의 공백으로 치환\n",
        "  sent = re.sub(r\"\\s+\", \" \", sent)\n",
        "  return sent"
      ],
      "metadata": {
        "id": "lzogdauOvnua"
      },
      "execution_count": null,
      "outputs": []
    },
    {
      "cell_type": "code",
      "source": [
        "# 전처리 테스트\n",
        "en_sent = u\"Have you had dinner?\"\n",
        "fr_sent = u\"Avez-vous déjà diné?\"\n",
        "\n",
        "print('전처리 전 영어 문장 :', en_sent)\n",
        "print('전처리 후 영어 문장 :',preprocess_sentence(en_sent))\n",
        "print('전처리 전 프랑스어 문장 :', fr_sent)\n",
        "print('전처리 후 프랑스어 문장 :', preprocess_sentence(fr_sent))"
      ],
      "metadata": {
        "colab": {
          "base_uri": "https://localhost:8080/"
        },
        "id": "u3IsD8QxvnsT",
        "outputId": "cf152377-1cb2-4f29-942d-386e5a7295e8"
      },
      "execution_count": null,
      "outputs": [
        {
          "output_type": "stream",
          "name": "stdout",
          "text": [
            "전처리 전 영어 문장 : Have you had dinner?\n",
            "전처리 후 영어 문장 : have you had dinner ?\n",
            "전처리 전 프랑스어 문장 : Avez-vous déjà diné?\n",
            "전처리 후 프랑스어 문장 : avez vous deja dine ?\n"
          ]
        }
      ]
    },
    {
      "cell_type": "code",
      "source": [
        "def load_preprocessed_data():\n",
        "  encoder_input, decoder_input, decoder_target = [], [], []\n",
        "\n",
        "  with open(\"fra.txt\", \"r\") as lines:\n",
        "    for i, line in enumerate(lines):\n",
        "      # source 데이터와 target 데이터 분리\n",
        "      src_line, tar_line, _ = line.strip().split('\\t')\n",
        "\n",
        "      # source 데이터 전처리\n",
        "      src_line = [w for w in preprocess_sentence(src_line).split()]\n",
        "\n",
        "      # target 데이터 전처리\n",
        "      tar_line = preprocess_sentence(tar_line)\n",
        "      tar_line_in = [w for w in (\"<sos> \" + tar_line).split()]\n",
        "      tar_line_out = [w for w in (tar_line + \" <eos>\").split()]\n",
        "\n",
        "      encoder_input.append(src_line)\n",
        "      decoder_input.append(tar_line_in)\n",
        "      decoder_target.append(tar_line_out)\n",
        "\n",
        "      if i == num_samples - 1:\n",
        "        break\n",
        "\n",
        "  return encoder_input, decoder_input, decoder_target"
      ],
      "metadata": {
        "id": "XpTFR-1pvnp6"
      },
      "execution_count": null,
      "outputs": []
    },
    {
      "cell_type": "code",
      "source": [
        "sents_en_in, sents_fra_in, sents_fra_out = load_preprocessed_data()\n",
        "print('인코더의 입력 :',sents_en_in[:5])\n",
        "print('디코더의 입력 :',sents_fra_in[:5])\n",
        "print('디코더의 레이블 :',sents_fra_out[:5])"
      ],
      "metadata": {
        "colab": {
          "base_uri": "https://localhost:8080/"
        },
        "id": "DqsbzHoPv3S0",
        "outputId": "c4b3a217-23e6-4b8b-a55d-9e60794987d8"
      },
      "execution_count": null,
      "outputs": [
        {
          "output_type": "stream",
          "name": "stdout",
          "text": [
            "인코더의 입력 : [['go', '.'], ['go', '.'], ['go', '.'], ['go', '.'], ['hi', '.']]\n",
            "디코더의 입력 : [['<sos>', 'va', '!'], ['<sos>', 'marche', '.'], ['<sos>', 'en', 'route', '!'], ['<sos>', 'bouge', '!'], ['<sos>', 'salut', '!']]\n",
            "디코더의 레이블 : [['va', '!', '<eos>'], ['marche', '.', '<eos>'], ['en', 'route', '!', '<eos>'], ['bouge', '!', '<eos>'], ['salut', '!', '<eos>']]\n"
          ]
        }
      ]
    },
    {
      "cell_type": "code",
      "source": [
        "tokenizer_en = Tokenizer(filters=\"\", lower=False)\n",
        "tokenizer_en.fit_on_texts(sents_en_in)\n",
        "encoder_input = tokenizer_en.texts_to_sequences(sents_en_in)\n",
        "encoder_input = pad_sequences(encoder_input, padding=\"post\")\n",
        "\n",
        "tokenizer_fra = Tokenizer(filters=\"\", lower=False)\n",
        "tokenizer_fra.fit_on_texts(sents_fra_in)\n",
        "tokenizer_fra.fit_on_texts(sents_fra_out)\n",
        "\n",
        "decoder_input = tokenizer_fra.texts_to_sequences(sents_fra_in)\n",
        "decoder_input = pad_sequences(decoder_input, padding=\"post\")\n",
        "\n",
        "decoder_target = tokenizer_fra.texts_to_sequences(sents_fra_out)\n",
        "decoder_target = pad_sequences(decoder_target, padding=\"post\")"
      ],
      "metadata": {
        "id": "D8ap7mS1v3RN"
      },
      "execution_count": null,
      "outputs": []
    },
    {
      "cell_type": "code",
      "source": [
        "print('인코더의 입력의 크기(shape) :',encoder_input.shape)\n",
        "print('디코더의 입력의 크기(shape) :',decoder_input.shape)\n",
        "print('디코더의 레이블의 크기(shape) :',decoder_target.shape)"
      ],
      "metadata": {
        "colab": {
          "base_uri": "https://localhost:8080/"
        },
        "id": "8hJ2VXppv3O1",
        "outputId": "c26583ab-02e0-46b6-87e6-9313f4494b34"
      },
      "execution_count": null,
      "outputs": [
        {
          "output_type": "stream",
          "name": "stdout",
          "text": [
            "인코더의 입력의 크기(shape) : (33000, 8)\n",
            "디코더의 입력의 크기(shape) : (33000, 16)\n",
            "디코더의 레이블의 크기(shape) : (33000, 16)\n"
          ]
        }
      ]
    },
    {
      "cell_type": "code",
      "source": [
        "src_vocab_size = len(tokenizer_en.word_index) + 1\n",
        "tar_vocab_size = len(tokenizer_fra.word_index) + 1\n",
        "print(\"영어 단어 집합의 크기 : {:d}, 프랑스어 단어 집합의 크기 : {:d}\".format(src_vocab_size, tar_vocab_size))"
      ],
      "metadata": {
        "colab": {
          "base_uri": "https://localhost:8080/"
        },
        "id": "AIHEJzLWv3Ms",
        "outputId": "aad7b69c-833f-4429-c585-ab3cf4204d90"
      },
      "execution_count": null,
      "outputs": [
        {
          "output_type": "stream",
          "name": "stdout",
          "text": [
            "영어 단어 집합의 크기 : 4672, 프랑스어 단어 집합의 크기 : 8137\n"
          ]
        }
      ]
    },
    {
      "cell_type": "code",
      "source": [
        "src_to_index = tokenizer_en.word_index\n",
        "index_to_src = tokenizer_en.index_word\n",
        "tar_to_index = tokenizer_fra.word_index\n",
        "index_to_tar = tokenizer_fra.index_word"
      ],
      "metadata": {
        "id": "eU5QJZ-dv3KU"
      },
      "execution_count": null,
      "outputs": []
    },
    {
      "cell_type": "code",
      "source": [
        "indices = np.arange(encoder_input.shape[0])\n",
        "np.random.shuffle(indices)\n",
        "print('랜덤 시퀀스 :',indices)"
      ],
      "metadata": {
        "colab": {
          "base_uri": "https://localhost:8080/"
        },
        "id": "tpsj9Nttv3IE",
        "outputId": "f1f129b9-3938-453c-b8a7-96dcd1d42010"
      },
      "execution_count": null,
      "outputs": [
        {
          "output_type": "stream",
          "name": "stdout",
          "text": [
            "랜덤 시퀀스 : [ 7999 22397  6637 ... 30158  9829  8519]\n"
          ]
        }
      ]
    },
    {
      "cell_type": "code",
      "source": [
        "encoder_input = encoder_input[indices]\n",
        "decoder_input = decoder_input[indices]\n",
        "decoder_target = decoder_target[indices]"
      ],
      "metadata": {
        "id": "6bkyYPEXwAZ9"
      },
      "execution_count": null,
      "outputs": []
    },
    {
      "cell_type": "code",
      "source": [
        "encoder_input[5472]"
      ],
      "metadata": {
        "colab": {
          "base_uri": "https://localhost:8080/"
        },
        "id": "GJDsgRvJw0bM",
        "outputId": "b4d4dc4c-6711-4c4c-ea51-2ffb7ecc9730"
      },
      "execution_count": null,
      "outputs": [
        {
          "output_type": "execute_result",
          "data": {
            "text/plain": [
              "array([  37, 1642,   15,    4,    0,    0,    0,    0], dtype=int32)"
            ]
          },
          "metadata": {},
          "execution_count": 15
        }
      ]
    },
    {
      "cell_type": "code",
      "source": [
        "decoder_input[5472]"
      ],
      "metadata": {
        "colab": {
          "base_uri": "https://localhost:8080/"
        },
        "id": "FwtC6WBtw0Q8",
        "outputId": "75e06da6-100e-4308-c029-34d42191bf63"
      },
      "execution_count": null,
      "outputs": [
        {
          "output_type": "execute_result",
          "data": {
            "text/plain": [
              "array([   2, 2455,   25,   39,   33, 4050,    6,    0,    0,    0,    0,\n",
              "          0,    0,    0,    0,    0], dtype=int32)"
            ]
          },
          "metadata": {},
          "execution_count": 16
        }
      ]
    },
    {
      "cell_type": "code",
      "source": [
        "decoder_target[5472]"
      ],
      "metadata": {
        "colab": {
          "base_uri": "https://localhost:8080/"
        },
        "id": "J8V9ftxAwAX1",
        "outputId": "2b08433e-2d1b-4be6-a7f4-a053331c0d92"
      },
      "execution_count": null,
      "outputs": [
        {
          "output_type": "execute_result",
          "data": {
            "text/plain": [
              "array([2455,   25,   39,   33, 4050,    6,    3,    0,    0,    0,    0,\n",
              "          0,    0,    0,    0,    0], dtype=int32)"
            ]
          },
          "metadata": {},
          "execution_count": 17
        }
      ]
    },
    {
      "cell_type": "code",
      "source": [
        "n_of_val = int(33000*0.1)\n",
        "print('검증 데이터의 개수 :',n_of_val)"
      ],
      "metadata": {
        "colab": {
          "base_uri": "https://localhost:8080/"
        },
        "id": "mNfsm-tXwAVt",
        "outputId": "a747720e-e6ef-4c4c-a834-cda519239ef2"
      },
      "execution_count": null,
      "outputs": [
        {
          "output_type": "stream",
          "name": "stdout",
          "text": [
            "검증 데이터의 개수 : 3300\n"
          ]
        }
      ]
    },
    {
      "cell_type": "code",
      "source": [
        "encoder_input_train = encoder_input[:-n_of_val]\n",
        "decoder_input_train = decoder_input[:-n_of_val]\n",
        "decoder_target_train = decoder_target[:-n_of_val]\n",
        "\n",
        "encoder_input_test = encoder_input[-n_of_val:]\n",
        "decoder_input_test = decoder_input[-n_of_val:]\n",
        "decoder_target_test = decoder_target[-n_of_val:]"
      ],
      "metadata": {
        "id": "RyFwW1ctwATl"
      },
      "execution_count": null,
      "outputs": []
    },
    {
      "cell_type": "code",
      "source": [
        "print('훈련 source 데이터의 크기 :',encoder_input_train.shape)\n",
        "print('훈련 target 데이터의 크기 :',decoder_input_train.shape)\n",
        "print('훈련 target 레이블의 크기 :',decoder_target_train.shape)\n",
        "print('테스트 source 데이터의 크기 :',encoder_input_test.shape)\n",
        "print('테스트 target 데이터의 크기 :',decoder_input_test.shape)\n",
        "print('테스트 target 레이블의 크기 :',decoder_target_test.shape)"
      ],
      "metadata": {
        "colab": {
          "base_uri": "https://localhost:8080/"
        },
        "id": "59A-qfpgwARF",
        "outputId": "eaa92fce-ec10-4d5f-b06f-32237d9e9f49"
      },
      "execution_count": null,
      "outputs": [
        {
          "output_type": "stream",
          "name": "stdout",
          "text": [
            "훈련 source 데이터의 크기 : (29700, 8)\n",
            "훈련 target 데이터의 크기 : (29700, 16)\n",
            "훈련 target 레이블의 크기 : (29700, 16)\n",
            "테스트 source 데이터의 크기 : (3300, 8)\n",
            "테스트 target 데이터의 크기 : (3300, 16)\n",
            "테스트 target 레이블의 크기 : (3300, 16)\n"
          ]
        }
      ]
    },
    {
      "cell_type": "markdown",
      "source": [
        "# 기계 번역기 만들기"
      ],
      "metadata": {
        "id": "2HLkG7pMwUAn"
      }
    },
    {
      "cell_type": "code",
      "source": [
        "from tensorflow.keras.layers import Input, LSTM, Embedding, Dense, Masking\n",
        "from tensorflow.keras.models import Model"
      ],
      "metadata": {
        "id": "QimSRM0hwSug"
      },
      "execution_count": null,
      "outputs": []
    },
    {
      "cell_type": "code",
      "source": [
        "embedding_dim = 64\n",
        "hidden_units = 64"
      ],
      "metadata": {
        "id": "HwBaJ9m5wSsR"
      },
      "execution_count": null,
      "outputs": []
    },
    {
      "cell_type": "code",
      "source": [
        "# 인코더\n",
        "encoder_inputs = Input(shape=(None,))\n",
        "enc_emb = Embedding(src_vocab_size, embedding_dim)(encoder_inputs) # 임베딩 층\n",
        "enc_masking = Masking(mask_value=0.0)(enc_emb) # 패딩 0은 연산에서 제외\n",
        "encoder_lstm = LSTM(hidden_units, return_state=True) # 상태값 리턴을 위해 return_state는 True\n",
        "encoder_outputs, state_h, state_c = encoder_lstm(enc_masking) # 은닉 상태와 셀 상태를 리턴\n",
        "encoder_states = [state_h, state_c] # 인코더의 은닉 상태와 셀 상태를 저장"
      ],
      "metadata": {
        "id": "APLBkSCEwSpw"
      },
      "execution_count": null,
      "outputs": []
    },
    {
      "cell_type": "code",
      "source": [
        "# 디코더\n",
        "decoder_inputs = Input(shape=(None,))\n",
        "dec_emb_layer = Embedding(tar_vocab_size, hidden_units) # 임베딩 층\n",
        "dec_emb = dec_emb_layer(decoder_inputs) # 패딩 0은 연산에서 제외\n",
        "dec_masking = Masking(mask_value=0.0)(dec_emb)\n",
        "\n",
        "# 상태값 리턴을 위해 return_state는 True, 모든 시점에 대해서 단어를 예측하기 위해 return_sequences는 True\n",
        "decoder_lstm = LSTM(hidden_units, return_sequences=True, return_state=True)\n",
        "\n",
        "# 인코더의 은닉 상태를 초기 은닉 상태(initial_state)로 사용\n",
        "decoder_outputs, _, _ = decoder_lstm(dec_masking,\n",
        "                                     initial_state=encoder_states)\n",
        "\n",
        "# 모든 시점의 결과에 대해서 소프트맥스 함수를 사용한 출력층을 통해 단어 예측\n",
        "decoder_dense = Dense(tar_vocab_size, activation='softmax')\n",
        "decoder_outputs = decoder_dense(decoder_outputs)\n",
        "\n",
        "# 모델의 입력과 출력을 정의.\n",
        "model = Model([encoder_inputs, decoder_inputs], decoder_outputs)\n",
        "\n",
        "model.compile(optimizer='adam', loss='sparse_categorical_crossentropy', metrics=['acc'])"
      ],
      "metadata": {
        "id": "fqlfsdxzwSnX"
      },
      "execution_count": null,
      "outputs": []
    },
    {
      "cell_type": "code",
      "source": [
        "model.fit(x=[encoder_input_train, decoder_input_train], y=decoder_target_train, \\\n",
        "          validation_data=([encoder_input_test, decoder_input_test], decoder_target_test),\n",
        "          batch_size=128, epochs=50)"
      ],
      "metadata": {
        "colab": {
          "base_uri": "https://localhost:8080/"
        },
        "id": "rUoEanB7wSjI",
        "outputId": "3e7b24b1-59ee-449b-f98c-b19e0340d363"
      },
      "execution_count": null,
      "outputs": [
        {
          "output_type": "stream",
          "name": "stdout",
          "text": [
            "Epoch 1/50\n",
            "233/233 [==============================] - 22s 41ms/step - loss: 3.4471 - acc: 0.6083 - val_loss: 2.0932 - val_acc: 0.6191\n",
            "Epoch 2/50\n",
            "233/233 [==============================] - 7s 30ms/step - loss: 1.9051 - acc: 0.6729 - val_loss: 1.7783 - val_acc: 0.7397\n",
            "Epoch 3/50\n",
            "233/233 [==============================] - 7s 30ms/step - loss: 1.6989 - acc: 0.7412 - val_loss: 1.6428 - val_acc: 0.7499\n",
            "Epoch 4/50\n",
            "233/233 [==============================] - 7s 30ms/step - loss: 1.5728 - acc: 0.7533 - val_loss: 1.5274 - val_acc: 0.7605\n",
            "Epoch 5/50\n",
            "233/233 [==============================] - 7s 30ms/step - loss: 1.4606 - acc: 0.7624 - val_loss: 1.4335 - val_acc: 0.7698\n",
            "Epoch 6/50\n",
            "233/233 [==============================] - 7s 30ms/step - loss: 1.3624 - acc: 0.7793 - val_loss: 1.3486 - val_acc: 0.7885\n",
            "Epoch 7/50\n",
            "233/233 [==============================] - 7s 30ms/step - loss: 1.2786 - acc: 0.7926 - val_loss: 1.2788 - val_acc: 0.7965\n",
            "Epoch 8/50\n",
            "233/233 [==============================] - 7s 30ms/step - loss: 1.2065 - acc: 0.8022 - val_loss: 1.2229 - val_acc: 0.8044\n",
            "Epoch 9/50\n",
            "233/233 [==============================] - 7s 30ms/step - loss: 1.1426 - acc: 0.8116 - val_loss: 1.1736 - val_acc: 0.8113\n",
            "Epoch 10/50\n",
            "233/233 [==============================] - 7s 30ms/step - loss: 1.0878 - acc: 0.8190 - val_loss: 1.1317 - val_acc: 0.8183\n",
            "Epoch 11/50\n",
            "233/233 [==============================] - 7s 30ms/step - loss: 1.0397 - acc: 0.8245 - val_loss: 1.0970 - val_acc: 0.8233\n",
            "Epoch 12/50\n",
            "233/233 [==============================] - 7s 30ms/step - loss: 0.9964 - acc: 0.8299 - val_loss: 1.0683 - val_acc: 0.8272\n",
            "Epoch 13/50\n",
            "233/233 [==============================] - 7s 30ms/step - loss: 0.9574 - acc: 0.8347 - val_loss: 1.0405 - val_acc: 0.8300\n",
            "Epoch 14/50\n",
            "233/233 [==============================] - 7s 30ms/step - loss: 0.9216 - acc: 0.8390 - val_loss: 1.0175 - val_acc: 0.8326\n",
            "Epoch 15/50\n",
            "233/233 [==============================] - 7s 30ms/step - loss: 0.8881 - acc: 0.8426 - val_loss: 0.9968 - val_acc: 0.8355\n",
            "Epoch 16/50\n",
            "233/233 [==============================] - 7s 30ms/step - loss: 0.8575 - acc: 0.8461 - val_loss: 0.9771 - val_acc: 0.8372\n",
            "Epoch 17/50\n",
            "233/233 [==============================] - 7s 30ms/step - loss: 0.8275 - acc: 0.8493 - val_loss: 0.9609 - val_acc: 0.8391\n",
            "Epoch 18/50\n",
            "233/233 [==============================] - 7s 30ms/step - loss: 0.8004 - acc: 0.8524 - val_loss: 0.9445 - val_acc: 0.8419\n",
            "Epoch 19/50\n",
            "233/233 [==============================] - 7s 30ms/step - loss: 0.7745 - acc: 0.8549 - val_loss: 0.9296 - val_acc: 0.8427\n",
            "Epoch 20/50\n",
            "233/233 [==============================] - 7s 30ms/step - loss: 0.7498 - acc: 0.8579 - val_loss: 0.9145 - val_acc: 0.8445\n",
            "Epoch 21/50\n",
            "233/233 [==============================] - 7s 30ms/step - loss: 0.7262 - acc: 0.8602 - val_loss: 0.9020 - val_acc: 0.8453\n",
            "Epoch 22/50\n",
            "233/233 [==============================] - 7s 30ms/step - loss: 0.7045 - acc: 0.8626 - val_loss: 0.8924 - val_acc: 0.8457\n",
            "Epoch 23/50\n",
            "233/233 [==============================] - 7s 30ms/step - loss: 0.6828 - acc: 0.8650 - val_loss: 0.8801 - val_acc: 0.8473\n",
            "Epoch 24/50\n",
            "233/233 [==============================] - 7s 30ms/step - loss: 0.6627 - acc: 0.8672 - val_loss: 0.8705 - val_acc: 0.8488\n",
            "Epoch 25/50\n",
            "233/233 [==============================] - 7s 29ms/step - loss: 0.6425 - acc: 0.8697 - val_loss: 0.8604 - val_acc: 0.8497\n",
            "Epoch 26/50\n",
            "233/233 [==============================] - 7s 30ms/step - loss: 0.6238 - acc: 0.8720 - val_loss: 0.8541 - val_acc: 0.8508\n",
            "Epoch 27/50\n",
            "233/233 [==============================] - 7s 29ms/step - loss: 0.6057 - acc: 0.8742 - val_loss: 0.8449 - val_acc: 0.8527\n",
            "Epoch 28/50\n",
            "233/233 [==============================] - 7s 29ms/step - loss: 0.5879 - acc: 0.8768 - val_loss: 0.8365 - val_acc: 0.8545\n",
            "Epoch 29/50\n",
            "233/233 [==============================] - 7s 29ms/step - loss: 0.5707 - acc: 0.8792 - val_loss: 0.8301 - val_acc: 0.8549\n",
            "Epoch 30/50\n",
            "233/233 [==============================] - 7s 30ms/step - loss: 0.5551 - acc: 0.8811 - val_loss: 0.8252 - val_acc: 0.8552\n",
            "Epoch 31/50\n",
            "233/233 [==============================] - 7s 30ms/step - loss: 0.5389 - acc: 0.8836 - val_loss: 0.8189 - val_acc: 0.8568\n",
            "Epoch 32/50\n",
            "233/233 [==============================] - 7s 30ms/step - loss: 0.5230 - acc: 0.8863 - val_loss: 0.8130 - val_acc: 0.8562\n",
            "Epoch 33/50\n",
            "233/233 [==============================] - 7s 30ms/step - loss: 0.5085 - acc: 0.8883 - val_loss: 0.8101 - val_acc: 0.8581\n",
            "Epoch 34/50\n",
            "233/233 [==============================] - 7s 30ms/step - loss: 0.4935 - acc: 0.8908 - val_loss: 0.8043 - val_acc: 0.8585\n",
            "Epoch 35/50\n",
            "233/233 [==============================] - 7s 30ms/step - loss: 0.4801 - acc: 0.8925 - val_loss: 0.7993 - val_acc: 0.8584\n",
            "Epoch 36/50\n",
            "233/233 [==============================] - 7s 30ms/step - loss: 0.4670 - acc: 0.8949 - val_loss: 0.7955 - val_acc: 0.8598\n",
            "Epoch 37/50\n",
            "233/233 [==============================] - 7s 30ms/step - loss: 0.4541 - acc: 0.8974 - val_loss: 0.7926 - val_acc: 0.8605\n",
            "Epoch 38/50\n",
            "233/233 [==============================] - 7s 30ms/step - loss: 0.4419 - acc: 0.8993 - val_loss: 0.7891 - val_acc: 0.8611\n",
            "Epoch 39/50\n",
            "233/233 [==============================] - 7s 30ms/step - loss: 0.4303 - acc: 0.9011 - val_loss: 0.7875 - val_acc: 0.8612\n",
            "Epoch 40/50\n",
            "233/233 [==============================] - 7s 30ms/step - loss: 0.4193 - acc: 0.9032 - val_loss: 0.7858 - val_acc: 0.8612\n",
            "Epoch 41/50\n",
            "233/233 [==============================] - 7s 30ms/step - loss: 0.4082 - acc: 0.9052 - val_loss: 0.7829 - val_acc: 0.8630\n",
            "Epoch 42/50\n",
            "233/233 [==============================] - 7s 30ms/step - loss: 0.3969 - acc: 0.9073 - val_loss: 0.7788 - val_acc: 0.8634\n",
            "Epoch 43/50\n",
            "233/233 [==============================] - 7s 30ms/step - loss: 0.3867 - acc: 0.9088 - val_loss: 0.7771 - val_acc: 0.8640\n",
            "Epoch 44/50\n",
            "233/233 [==============================] - 7s 30ms/step - loss: 0.3770 - acc: 0.9109 - val_loss: 0.7766 - val_acc: 0.8635\n",
            "Epoch 45/50\n",
            "233/233 [==============================] - 7s 29ms/step - loss: 0.3677 - acc: 0.9126 - val_loss: 0.7760 - val_acc: 0.8636\n",
            "Epoch 46/50\n",
            "233/233 [==============================] - 7s 30ms/step - loss: 0.3594 - acc: 0.9142 - val_loss: 0.7747 - val_acc: 0.8639\n",
            "Epoch 47/50\n",
            "233/233 [==============================] - 7s 30ms/step - loss: 0.3496 - acc: 0.9160 - val_loss: 0.7744 - val_acc: 0.8644\n",
            "Epoch 48/50\n",
            "233/233 [==============================] - 7s 30ms/step - loss: 0.3431 - acc: 0.9171 - val_loss: 0.7726 - val_acc: 0.8646\n",
            "Epoch 49/50\n",
            "233/233 [==============================] - 7s 30ms/step - loss: 0.3338 - acc: 0.9191 - val_loss: 0.7708 - val_acc: 0.8664\n",
            "Epoch 50/50\n",
            "233/233 [==============================] - 7s 30ms/step - loss: 0.3258 - acc: 0.9209 - val_loss: 0.7710 - val_acc: 0.8655\n"
          ]
        },
        {
          "output_type": "execute_result",
          "data": {
            "text/plain": [
              "<keras.callbacks.History at 0x7fe9765c9490>"
            ]
          },
          "metadata": {},
          "execution_count": 25
        }
      ]
    },
    {
      "cell_type": "markdown",
      "source": [
        "# 번역기 동작 시키기"
      ],
      "metadata": {
        "id": "2lvfyXh3wdN5"
      }
    },
    {
      "cell_type": "code",
      "source": [
        "# 인코더\n",
        "encoder_model = Model(encoder_inputs, encoder_states)\n",
        "\n",
        "# 디코더 설계 시작\n",
        "# 이전 시점의 상태를 보관할 텐서\n",
        "decoder_state_input_h = Input(shape=(hidden_units,))\n",
        "decoder_state_input_c = Input(shape=(hidden_units,))\n",
        "decoder_states_inputs = [decoder_state_input_h, decoder_state_input_c]\n",
        "\n",
        "# 훈련 때 사용했던 임베딩 층을 재사용\n",
        "dec_emb2 = dec_emb_layer(decoder_inputs)\n",
        "\n",
        "# 다음 단어 예측을 위해 이전 시점의 상태를 현 시점의 초기 상태로 사용\n",
        "decoder_outputs2, state_h2, state_c2 = decoder_lstm(dec_emb2, initial_state=decoder_states_inputs)\n",
        "decoder_states2 = [state_h2, state_c2]\n",
        "\n",
        "# 모든 시점에 대해서 단어 예측\n",
        "decoder_outputs2 = decoder_dense(decoder_outputs2)\n",
        "\n",
        "# 수정된 디코더\n",
        "decoder_model = Model(\n",
        "    [decoder_inputs] + decoder_states_inputs,\n",
        "    [decoder_outputs2] + decoder_states2)"
      ],
      "metadata": {
        "id": "uO3LZQt7wSgg"
      },
      "execution_count": null,
      "outputs": []
    },
    {
      "cell_type": "code",
      "source": [
        "def decode_sequence(input_seq):\n",
        "  # 입력으로부터 인코더의 마지막 시점의 상태(은닉 상태, 셀 상태)를 얻음\n",
        "  states_value = encoder_model.predict(input_seq)\n",
        "\n",
        "  # <SOS>에 해당하는 정수 생성\n",
        "  target_seq = np.zeros((1,1))\n",
        "  target_seq[0, 0] = tar_to_index['<sos>']\n",
        "\n",
        "  stop_condition = False\n",
        "  decoded_sentence = ''\n",
        "\n",
        "  # stop_condition이 True가 될 때까지 루프 반복\n",
        "  # 구현의 간소화를 위해서 이 함수는 배치 크기를 1로 가정합니다.\n",
        "  while not stop_condition:\n",
        "    # 이점 시점의 상태 states_value를 현 시점의 초기 상태로 사용\n",
        "    output_tokens, h, c = decoder_model.predict([target_seq] + states_value)\n",
        "\n",
        "    # 예측 결과를 단어로 변환\n",
        "    sampled_token_index = np.argmax(output_tokens[0, -1, :])\n",
        "    sampled_char = index_to_tar[sampled_token_index]\n",
        "\n",
        "    # 현재 시점의 예측 단어를 예측 문장에 추가\n",
        "    decoded_sentence += ' '+sampled_char\n",
        "\n",
        "    # <eos>에 도달하거나 정해진 길이를 넘으면 중단.\n",
        "    if (sampled_char == '<eos>' or\n",
        "        len(decoded_sentence) > 50):\n",
        "        stop_condition = True\n",
        "\n",
        "    # 현재 시점의 예측 결과를 다음 시점의 입력으로 사용하기 위해 저장\n",
        "    target_seq = np.zeros((1,1))\n",
        "    target_seq[0, 0] = sampled_token_index\n",
        "\n",
        "    # 현재 시점의 상태를 다음 시점의 상태로 사용하기 위해 저장\n",
        "    states_value = [h, c]\n",
        "\n",
        "  return decoded_sentence"
      ],
      "metadata": {
        "id": "pLLTqwwvwh3J"
      },
      "execution_count": null,
      "outputs": []
    },
    {
      "cell_type": "code",
      "source": [
        "# 원문의 정수 시퀀스를 텍스트 시퀀스로 변환\n",
        "def seq_to_src(input_seq):\n",
        "  sentence = ''\n",
        "  for encoded_word in input_seq:\n",
        "    if(encoded_word != 0):\n",
        "      sentence = sentence + index_to_src[encoded_word] + ' '\n",
        "  return sentence\n",
        "\n",
        "# 번역문의 정수 시퀀스를 텍스트 시퀀스로 변환\n",
        "def seq_to_tar(input_seq):\n",
        "  sentence = ''\n",
        "  for encoded_word in input_seq:\n",
        "    if(encoded_word != 0 and encoded_word != tar_to_index['<sos>'] and encoded_word != tar_to_index['<eos>']):\n",
        "      sentence = sentence + index_to_tar[encoded_word] + ' '\n",
        "  return sentence"
      ],
      "metadata": {
        "id": "z-B1Vn43whwR"
      },
      "execution_count": null,
      "outputs": []
    },
    {
      "cell_type": "code",
      "source": [
        "for seq_index in [3, 50, 100, 300, 1001]:\n",
        "  input_seq = encoder_input_train[seq_index: seq_index + 1]\n",
        "  decoded_sentence = decode_sequence(input_seq)\n",
        "\n",
        "  print(\"입력문장 :\",seq_to_src(encoder_input_train[seq_index]))\n",
        "  print(\"정답문장 :\",seq_to_tar(decoder_input_train[seq_index]))\n",
        "  print(\"번역문장 :\",decoded_sentence[1:-5])\n",
        "  print(\"-\"*50)"
      ],
      "metadata": {
        "colab": {
          "base_uri": "https://localhost:8080/"
        },
        "id": "-FX98TQfwkXZ",
        "outputId": "f1605a0f-b443-433a-a04e-f5cbd40efdfe"
      },
      "execution_count": null,
      "outputs": [
        {
          "output_type": "stream",
          "name": "stdout",
          "text": [
            "입력문장 : how much is it ? \n",
            "정답문장 : ca coute combien ? \n",
            "번역문장 : combien ca coute ? \n",
            "--------------------------------------------------\n",
            "입력문장 : i hate that guy . \n",
            "정답문장 : je deteste ce type . \n",
            "번역문장 : je deteste ce etre vrai . \n",
            "--------------------------------------------------\n",
            "입력문장 : you re no fun . \n",
            "정답문장 : tu n es pas drole . \n",
            "번역문장 : tu n es pas pret . \n",
            "--------------------------------------------------\n",
            "입력문장 : please call tom . \n",
            "정답문장 : veuillez appeler tom . \n",
            "번역문장 : veuillez appeler tom . \n",
            "--------------------------------------------------\n",
            "입력문장 : watch yourselves ! \n",
            "정답문장 : faites attention a vous ! \n",
            "번역문장 : fais attention ! \n",
            "--------------------------------------------------\n"
          ]
        }
      ]
    },
    {
      "cell_type": "code",
      "source": [
        "for seq_index in [3, 50, 100, 300, 1001]:\n",
        "  input_seq = encoder_input_test[seq_index: seq_index + 1]\n",
        "  decoded_sentence = decode_sequence(input_seq)\n",
        "\n",
        "  print(\"입력문장 :\",seq_to_src(encoder_input_test[seq_index]))\n",
        "  print(\"정답문장 :\",seq_to_tar(decoder_input_test[seq_index]))\n",
        "  print(\"번역문장 :\",decoded_sentence[1:-5])\n",
        "  print(\"-\"*50)"
      ],
      "metadata": {
        "colab": {
          "base_uri": "https://localhost:8080/"
        },
        "id": "EGOA8EiZwl5B",
        "outputId": "9a892ed6-2f22-4886-e005-21d6694d2042"
      },
      "execution_count": null,
      "outputs": [
        {
          "output_type": "stream",
          "name": "stdout",
          "text": [
            "입력문장 : is mary your niece ? \n",
            "정답문장 : est ce que marie est ta niece ? \n",
            "번역문장 : est ce que tom est ouvert apres toi . \n",
            "--------------------------------------------------\n",
            "입력문장 : we got separated . \n",
            "정답문장 : nous avons ete separees . \n",
            "번역문장 : nous nous sommes separees . \n",
            "--------------------------------------------------\n",
            "입력문장 : tom is slim . \n",
            "정답문장 : tom est mince . \n",
            "번역문장 : tom est fou . \n",
            "--------------------------------------------------\n",
            "입력문장 : who talked ? \n",
            "정답문장 : qui a parle ? \n",
            "번역문장 : qui a t vote ? \n",
            "--------------------------------------------------\n",
            "입력문장 : what gave it away ? \n",
            "정답문장 : qu est ce qui l a revele ? \n",
            "번역문장 : qu est ce que ca a faire ? \n",
            "--------------------------------------------------\n"
          ]
        }
      ]
    }
  ]
}