{
  "nbformat": 4,
  "nbformat_minor": 0,
  "metadata": {
    "colab": {
      "provenance": [],
      "authorship_tag": "ABX9TyOxOwD91Z/2tvXhvvq6CYGB",
      "include_colab_link": true
    },
    "kernelspec": {
      "name": "python3",
      "display_name": "Python 3"
    },
    "language_info": {
      "name": "python"
    },
    "accelerator": "GPU",
    "gpuClass": "standard"
  },
  "cells": [
    {
      "cell_type": "markdown",
      "metadata": {
        "id": "view-in-github",
        "colab_type": "text"
      },
      "source": [
        "<a href=\"https://colab.research.google.com/github/jason96819/Studying/blob/main/rnn/RNN%EC%9D%84_%EC%9D%B4%EC%9A%A9%ED%95%9C_%ED%85%8D%EC%8A%A4%ED%8A%B8_%EC%83%9D%EC%84%B1.ipynb\" target=\"_parent\"><img src=\"https://colab.research.google.com/assets/colab-badge.svg\" alt=\"Open In Colab\"/></a>"
      ]
    },
    {
      "cell_type": "markdown",
      "source": [
        "#RNN을 이용한 텍스트 생성\n",
        "'경마장에 있는 말이 뛰고 있다'\n",
        "'그의 말이 법이다'\n",
        "'가는 말이 고와야 오는 말이 곱다'\n",
        "세가지 문장을 모델이 문맥을 학습할 수 있도록 전체 문장의 앞의 단어들을 전부 고려해 학습하도록 데이터를 재구성하겠습니다."
      ],
      "metadata": {
        "id": "PpjKDPQvodNL"
      }
    },
    {
      "cell_type": "markdown",
      "source": [
        "## 데이터에 대한 이해와 전처리"
      ],
      "metadata": {
        "id": "elYpNwXDpFBq"
      }
    },
    {
      "cell_type": "code",
      "source": [
        "import numpy as np\n",
        "from tensorflow.keras.preprocessing.text import Tokenizer\n",
        "from tensorflow.keras.preprocessing.sequence import pad_sequences\n",
        "from tensorflow.keras.utils import to_categorical"
      ],
      "metadata": {
        "id": "WguNhQyIpCOK"
      },
      "execution_count": null,
      "outputs": []
    },
    {
      "cell_type": "code",
      "source": [
        "# 3개의 한국어 문장 저장\n",
        "\n",
        "text = \"\"\" 경마장에 있는 말이 뛰고 있다\\n\n",
        "그의 말이 법이다\\n\n",
        "가는 말이 고와야 오는 말이 곱다\\n\"\"\""
      ],
      "metadata": {
        "id": "FN5HOh3lpBY-"
      },
      "execution_count": null,
      "outputs": []
    },
    {
      "cell_type": "code",
      "source": [
        "# 단어 집합의 크기를 저장할 떄는 케라스 토크나이저이 정수 인코딩은 인덱스가 1부터 시작하지만,\n",
        "# 패딩을 위한 0을 고려해 +1을 해줍니다.\n",
        "\n",
        "tokenizer = Tokenizer()\n",
        "tokenizer.fit_on_texts([text])\n",
        "vocab_size = len(tokenizer.word_index) + 1\n",
        "print('단어 집합의 크기 : %d' %vocab_size)"
      ],
      "metadata": {
        "colab": {
          "base_uri": "https://localhost:8080/"
        },
        "id": "0psdcyq9pr0w",
        "outputId": "f50b6534-9b33-42d2-dd8a-7389f334a84d"
      },
      "execution_count": null,
      "outputs": [
        {
          "output_type": "stream",
          "name": "stdout",
          "text": [
            "단어 집합의 크기 : 12\n"
          ]
        }
      ]
    },
    {
      "cell_type": "code",
      "source": [
        "# 각 단어와 단어에 부여된 정수 인덱스를 출력해보겠습니다.\n",
        "\n",
        "print(tokenizer.word_index)"
      ],
      "metadata": {
        "colab": {
          "base_uri": "https://localhost:8080/"
        },
        "id": "-7jeXw0xqbPU",
        "outputId": "1e9b473a-b362-420b-af70-6f8d678a2fea"
      },
      "execution_count": null,
      "outputs": [
        {
          "output_type": "stream",
          "name": "stdout",
          "text": [
            "{'말이': 1, '경마장에': 2, '있는': 3, '뛰고': 4, '있다': 5, '그의': 6, '법이다': 7, '가는': 8, '고와야': 9, '오는': 10, '곱다': 11}\n"
          ]
        }
      ]
    },
    {
      "cell_type": "code",
      "source": [
        "# 훈련 데이터를 만들어보겠습니다.\n",
        "\n",
        "sequences = list()\n",
        "for line in text.split('\\n'):                                                                 # 줄바꿈 문자를 기준으로 문장 토큰화\n",
        "  encoded = tokenizer.texts_to_sequences([line])[0]\n",
        "  for i in range(1, len(encoded)):\n",
        "    sequence = encoded[:i+1]\n",
        "    sequences.append(sequence)\n",
        "\n",
        "print('학습에 사용할 샘플의 개수 : %d' % len(sequences))"
      ],
      "metadata": {
        "colab": {
          "base_uri": "https://localhost:8080/"
        },
        "id": "ZL1V0u0PqbbU",
        "outputId": "0d5a6ddb-fba7-4836-87e2-0a3bf26f0377"
      },
      "execution_count": null,
      "outputs": [
        {
          "output_type": "stream",
          "name": "stdout",
          "text": [
            "학습에 사용할 샘플의 개수 : 11\n"
          ]
        }
      ]
    },
    {
      "cell_type": "code",
      "source": [
        "# 전체 샘플을 출력해보겠습니다.\n",
        "\n",
        "print(sequences)"
      ],
      "metadata": {
        "colab": {
          "base_uri": "https://localhost:8080/"
        },
        "id": "g-InDod6qbnR",
        "outputId": "75c77042-3e2e-40f6-cae8-d29dfd5f0bb6"
      },
      "execution_count": null,
      "outputs": [
        {
          "output_type": "stream",
          "name": "stdout",
          "text": [
            "[[2, 3], [2, 3, 1], [2, 3, 1, 4], [2, 3, 1, 4, 5], [6, 1], [6, 1, 7], [8, 1], [8, 1, 9], [8, 1, 9, 10], [8, 1, 9, 10, 1], [8, 1, 9, 10, 1, 11]]\n"
          ]
        }
      ]
    },
    {
      "cell_type": "code",
      "source": [
        "'''\n",
        "위의 데이터는 아직 레이블로 사용될 단어를 분리하지 않은 훈련 데이터입니다.\n",
        "[2, 3]은 [경마장에, 있는]에 해당되며, [2, 3, 1]은 [경마장에, 있는, 말이]에 해당됩니다.\n",
        "전체 훈련 데이터에 대해 맨 우측에 있는 단어에 대해서만 레이블로 분리해야 합니다.\n",
        "\n",
        "우선 전체 샘플에 대해 길이를 일치시켜줍니다.\n",
        "가장 긴 샘플의 길이를 기준으로 합니다. 길이가 가장 긴 샘플은 [8, 1, 9, 10, 1, 11]이고 길이는 6입니다.\n",
        "이를 코드로는 다음과 같이 구할 수 있습니다.\n",
        "'''"
      ],
      "metadata": {
        "colab": {
          "base_uri": "https://localhost:8080/",
          "height": 73
        },
        "id": "jyuZPMghrNdn",
        "outputId": "50a324bd-5c2f-4dc8-df0b-aab813f54a7f"
      },
      "execution_count": null,
      "outputs": [
        {
          "output_type": "execute_result",
          "data": {
            "text/plain": [
              "'\\n위의 데이터는 아직 레이블로 사용될 단어를 분리하지 않은 훈련 데이터입니다.\\n[2, 3]은 [경마장에, 있는]에 해당되며, [2, 3, 1]은 [경마장에, 있는, 말이]에 해당됩니다.\\n전체 훈련 데이터에 대해 맨 우측에 있는 단어에 대해서만 레이블로 분리해야 합니다.\\n\\n우선 전체 샘플에 대해 길이를 일치시켜줍니다.\\n가장 긴 샘플의 길이를 기준으로 합니다. 길이가 가장 긴 샘플은 [8, 1, 9, 10, 1, 11]이고 길이는 6입니다.\\n이를 코드로는 다음과 같이 구할 수 있습니다.\\n'"
            ],
            "application/vnd.google.colaboratory.intrinsic+json": {
              "type": "string"
            }
          },
          "metadata": {},
          "execution_count": 7
        }
      ]
    },
    {
      "cell_type": "code",
      "source": [
        "max_len = max(len(l) for l in sequences)         # 모든 샘플에서 길이가 가장 긴 샘플의 길이 출력\n",
        "\n",
        "print('샘플의 최대 길이 : {}'.format(max_len))"
      ],
      "metadata": {
        "colab": {
          "base_uri": "https://localhost:8080/"
        },
        "id": "y0J3s9CErmgE",
        "outputId": "f7da29ea-4cb1-4260-ac0c-8f5a504a16cd"
      },
      "execution_count": null,
      "outputs": [
        {
          "output_type": "stream",
          "name": "stdout",
          "text": [
            "샘플의 최대 길이 : 6\n"
          ]
        }
      ]
    },
    {
      "cell_type": "code",
      "source": [
        "# 전체 훈련 데이터에서 가장 긴 샘플의 길이가 6임을 확인했습니다. 전체 샘플의 길이를 6으로 패딩하겠습니다.\n",
        "\n",
        "sequences = pad_sequences(sequences, maxlen=max_len, padding='pre')\n",
        "\n",
        "'''\n",
        "pad_sequences()는 모든 샘플에 대해 0을 사용해 길이를 맞춰줍니다.\n",
        "maxlen의 값으로 6을 주면 모든 샘플의 길이를 6으로 맞춰주며,\n",
        "padding의 인자로 'pre'로 주면 길이가 6보다 짧은 샘플의 앞에 0으로 채웁니다.\n",
        "전체 훈련 데이터를 출력해 보겠습니다.\n",
        "'''\n",
        "\n",
        "print(sequences)"
      ],
      "metadata": {
        "colab": {
          "base_uri": "https://localhost:8080/"
        },
        "id": "cLn93igMr0Oo",
        "outputId": "818af9d3-6495-4f54-c3cd-7dca9b38ce71"
      },
      "execution_count": null,
      "outputs": [
        {
          "output_type": "stream",
          "name": "stdout",
          "text": [
            "[[ 0  0  0  0  2  3]\n",
            " [ 0  0  0  2  3  1]\n",
            " [ 0  0  2  3  1  4]\n",
            " [ 0  2  3  1  4  5]\n",
            " [ 0  0  0  0  6  1]\n",
            " [ 0  0  0  6  1  7]\n",
            " [ 0  0  0  0  8  1]\n",
            " [ 0  0  0  8  1  9]\n",
            " [ 0  0  8  1  9 10]\n",
            " [ 0  8  1  9 10  1]\n",
            " [ 8  1  9 10  1 11]]\n"
          ]
        }
      ]
    },
    {
      "cell_type": "code",
      "source": [
        "'''\n",
        "길이가 6보다 짧은 모든 샘플에 대해 앞에 0을 채워 모든 샘플의 길이를 6으로 바꿨습니다.\n",
        "이제 각 샘플의 마지막 단어를 레이블로 분리하겠습니다.\n",
        "레이블의 분리는 numpy를 이용해 리스트의 마지막 값을 제외하고 저장한 것은 X, 리스트의 마지막 값만 저장한 것은 Y.\n",
        "이는 레이블에 해당됩니다.\n",
        "'''\n",
        "\n",
        "sequences = np.array(sequences)\n",
        "X = sequences[:, :-1]\n",
        "Y = sequences[:, -1]\n",
        "\n",
        "print(X)\n",
        "print(Y)"
      ],
      "metadata": {
        "colab": {
          "base_uri": "https://localhost:8080/"
        },
        "id": "2jm29UwhsbUU",
        "outputId": "66741a14-0927-47b9-e1aa-2d80ebfc68fb"
      },
      "execution_count": null,
      "outputs": [
        {
          "output_type": "stream",
          "name": "stdout",
          "text": [
            "[[ 0  0  0  0  2]\n",
            " [ 0  0  0  2  3]\n",
            " [ 0  0  2  3  1]\n",
            " [ 0  2  3  1  4]\n",
            " [ 0  0  0  0  6]\n",
            " [ 0  0  0  6  1]\n",
            " [ 0  0  0  0  8]\n",
            " [ 0  0  0  8  1]\n",
            " [ 0  0  8  1  9]\n",
            " [ 0  8  1  9 10]\n",
            " [ 8  1  9 10  1]]\n",
            "[ 3  1  4  5  1  7  1  9 10  1 11]\n"
          ]
        }
      ]
    },
    {
      "cell_type": "code",
      "source": [
        "# 레이블이 분리되었습니다. RNN 모델에 훈련 데이터를 훈련시키기 전에 레이블에 대해 원-핫 인코딩을 수행합니다.\n",
        "\n",
        "Y= to_categorical(Y, num_classes=vocab_size)\n",
        "\n",
        "print(Y)                                                              # 각각 3에대한 원-핫 벡터, 1에 대한 원-핫 벡터, 4, 5, 1, 7, 1, 9, 10, 1, 11"
      ],
      "metadata": {
        "colab": {
          "base_uri": "https://localhost:8080/"
        },
        "id": "D_LKEd9Ns86x",
        "outputId": "58cd39c6-b048-4839-c8a9-21849fdaab71"
      },
      "execution_count": null,
      "outputs": [
        {
          "output_type": "stream",
          "name": "stdout",
          "text": [
            "[[0. 0. 0. 1. 0. 0. 0. 0. 0. 0. 0. 0.]\n",
            " [0. 1. 0. 0. 0. 0. 0. 0. 0. 0. 0. 0.]\n",
            " [0. 0. 0. 0. 1. 0. 0. 0. 0. 0. 0. 0.]\n",
            " [0. 0. 0. 0. 0. 1. 0. 0. 0. 0. 0. 0.]\n",
            " [0. 1. 0. 0. 0. 0. 0. 0. 0. 0. 0. 0.]\n",
            " [0. 0. 0. 0. 0. 0. 0. 1. 0. 0. 0. 0.]\n",
            " [0. 1. 0. 0. 0. 0. 0. 0. 0. 0. 0. 0.]\n",
            " [0. 0. 0. 0. 0. 0. 0. 0. 0. 1. 0. 0.]\n",
            " [0. 0. 0. 0. 0. 0. 0. 0. 0. 0. 1. 0.]\n",
            " [0. 1. 0. 0. 0. 0. 0. 0. 0. 0. 0. 0.]\n",
            " [0. 0. 0. 0. 0. 0. 0. 0. 0. 0. 0. 1.]]\n"
          ]
        }
      ]
    },
    {
      "cell_type": "markdown",
      "source": [
        "## 모델 설계하기"
      ],
      "metadata": {
        "id": "mGyGgCf-teMB"
      }
    },
    {
      "cell_type": "code",
      "source": [
        "from tensorflow.keras.models import Sequential\n",
        "from tensorflow.keras.layers import Embedding, Dense, SimpleRNN"
      ],
      "metadata": {
        "id": "f57YP_O8tgZ6"
      },
      "execution_count": null,
      "outputs": []
    },
    {
      "cell_type": "code",
      "source": [
        "'''\n",
        "임베딩 벡터의 차원은 10\n",
        "은닉 상태의 크기는 32\n",
        "다 대 일 구조의 RNN을 사용합니다.\n",
        "전결합층을 출력층으로 단어 집합 크기만큼의 뉴런을 배치해 모델을 설계합니다.\n",
        "해당 모델은 마지막시점에서 모든 가능한 단어 중 하나의 단어를 예측하는 다중 클래스 분류 문제를 수행하는 모델입니다.\n",
        "다중 클래스 분류 문제의 경우, 출력층에 소프트맥스 회귀를 사용해야 하므로 활성화 함수를 사용하고,\n",
        "손실 함수로 크로스 엔트로피 함수를 사용해 200에포크 수행합니다.\n",
        "'''\n",
        "\n",
        "embedding_dim = 10\n",
        "hidden_units = 32\n",
        "\n",
        "model = Sequential()\n",
        "model.add(Embedding(vocab_size, embedding_dim))\n",
        "model.add(SimpleRNN(hidden_units))\n",
        "model.add(Dense(vocab_size, activation='softmax'))\n",
        "\n",
        "model.compile(loss='categorical_crossentropy',\n",
        "              optimizer='adam',\n",
        "              metrics=['accuracy'])\n",
        "\n",
        "model.fit(X, Y, epochs=200, verbose=2)"
      ],
      "metadata": {
        "id": "hpfhQvL6trzW"
      },
      "execution_count": null,
      "outputs": []
    },
    {
      "cell_type": "code",
      "source": [
        "# 모델이 정확하게 예측하고 있는지 문장을 생성하는 함수를 만들어 출력해보겠습니다.\n",
        "\n",
        "def sentence_generation(model, toeknizer, current_word, n):  #모델, 토크나이저, 현재 단어, 반복할 횟수\n",
        "  init_word = current_word\n",
        "  sentence = ' '\n",
        "\n",
        "  # n번 반복\n",
        "  for _ in range(n):\n",
        "    # 현재 단어에 대한 정수 인코딩과 패딩\n",
        "    encoded = tokenizer.texts_to_sequences([current_word])[0]\n",
        "    encoded = pad_sequences([encoded], maxlen=5, padding='pre')\n",
        "\n",
        "    # 입력한 X(현재 단어)에 대해 Y를 예측하고 Y(예측한 단어)를 result에 저장\n",
        "    result = model.predict(encoded, verbose=0)\n",
        "    result = np.argmax(result, axis=1)\n",
        "\n",
        "    for word, index in tokenizer.word_index.items():\n",
        "      # 만약 예측한 단어와 인덱스와 동일한 단어가 있다면 break\n",
        "      if index == result:\n",
        "        break\n",
        "\n",
        "    # 현재 단어 + ' ' + 예측 단어를 현재 단어로 변경\n",
        "    current_word = current_word + ' ' + word\n",
        "\n",
        "    # 예측 단어를 문장에 저장\n",
        "    sentence = sentence + ' ' + word\n",
        "\n",
        "  sentence = init_word + sentence\n",
        "  return sentence"
      ],
      "metadata": {
        "id": "ZD3FQDG9vz0L"
      },
      "execution_count": null,
      "outputs": []
    },
    {
      "cell_type": "code",
      "source": [
        "'''\n",
        "입력된 단어로부터 다음 단어를 예측해 문장을 생성하는 함수를 만들었습니다.\n",
        "'경마장에'라는 단어 뒤에는 총 4개의 단어가 있으므로 4번 예측해보겠습니다.\n",
        "'''\n",
        "\n",
        "print(sentence_generation(model, tokenizer, '경마장에', 4))"
      ],
      "metadata": {
        "colab": {
          "base_uri": "https://localhost:8080/"
        },
        "id": "FFd_ALqwxDeB",
        "outputId": "3b161b34-9262-4da8-8c47-f83f3f7cd7d4"
      },
      "execution_count": null,
      "outputs": [
        {
          "output_type": "stream",
          "name": "stdout",
          "text": [
            "경마장에  있는 말이 뛰고 있다\n"
          ]
        }
      ]
    },
    {
      "cell_type": "code",
      "source": [
        "print(sentence_generation(model, tokenizer, '가는', 5))"
      ],
      "metadata": {
        "colab": {
          "base_uri": "https://localhost:8080/"
        },
        "id": "oB82V9iWxXne",
        "outputId": "26c0ab27-f4fb-4ba5-c5dd-d7fc93bd9cc1"
      },
      "execution_count": null,
      "outputs": [
        {
          "output_type": "stream",
          "name": "stdout",
          "text": [
            "가는  말이 고와야 오는 말이 곱다\n"
          ]
        }
      ]
    },
    {
      "cell_type": "code",
      "source": [
        "'''\n",
        "앞의 문맥을 기준으로 '말이' 라는 단어 다음에 나올 단어를 기존의 훈련 데이터와 일치하게 예측함을 보여줍니다.\n",
        "이 모델은 충분한 훈련 데이터를 갖고 있지 못하므로 위에서 문장의 길이에 맞게 적절하게 예측해야하는\n",
        "횟수 4, 2, 5를 각각 인자값으로 주었습니다. 이 이상의 숫자를 주면 기계는 '있다', '법이다', '곱다' 다음에\n",
        "나오는 단어가 무엇인지 배운 적이 없으므로 임의 예측을 합니다. 이번에는 더 많은 훈련 데이터를 가지고 실습해봅시다.\n",
        "'''"
      ],
      "metadata": {
        "id": "waP3pa7MxeVr"
      },
      "execution_count": null,
      "outputs": []
    },
    {
      "cell_type": "markdown",
      "source": [
        "# LSTM을 이용한 텍스트 생성\n",
        "이번에는 LSTM을 통해 보다 많은 데이터로 텍스트를 생성해보겠습니다."
      ],
      "metadata": {
        "id": "LMYlnq-3yD7A"
      }
    },
    {
      "cell_type": "markdown",
      "source": [
        "## 데이터에 대한 이해와 전처리\n",
        "사용할 데이터는 뉴욕 타입즈 기사의 제목입니다."
      ],
      "metadata": {
        "id": "JvdnoQiVySjp"
      }
    },
    {
      "cell_type": "code",
      "source": [
        "import pandas as pd\n",
        "import numpy as np\n",
        "\n",
        "from string import punctuation\n",
        "\n",
        "from tensorflow.keras.preprocessing.text import Tokenizer\n",
        "from tensorflow.keras.preprocessing.sequence import pad_sequences\n",
        "from tensorflow.keras.utils import to_categorical"
      ],
      "metadata": {
        "id": "7Pw27qbUyG_i"
      },
      "execution_count": null,
      "outputs": []
    },
    {
      "cell_type": "code",
      "source": [
        "# 다운로드한 훈련 데이터를 데이터프레임에 저장합니다.\n",
        "\n",
        "df = pd.read_csv(\"ArticlesApril2018.csv\")\n",
        "df.head()"
      ],
      "metadata": {
        "colab": {
          "base_uri": "https://localhost:8080/",
          "height": 704
        },
        "id": "JU_lqArVzARn",
        "outputId": "d7f39e40-f455-4a3a-f74e-1939e068ebaf"
      },
      "execution_count": null,
      "outputs": [
        {
          "output_type": "execute_result",
          "data": {
            "text/plain": [
              "                  articleID  articleWordCount  \\\n",
              "0  5adf6684068401528a2aa69b               781   \n",
              "1  5adf653f068401528a2aa697               656   \n",
              "2  5adf4626068401528a2aa628              2427   \n",
              "3  5adf40d2068401528a2aa619               626   \n",
              "4  5adf3d64068401528a2aa60f               815   \n",
              "\n",
              "                                      byline documentType  \\\n",
              "0                             By JOHN BRANCH      article   \n",
              "1                           By LISA FRIEDMAN      article   \n",
              "2                              By PETE WELLS      article   \n",
              "3  By JULIE HIRSCHFELD DAVIS and PETER BAKER      article   \n",
              "4             By IAN AUSTEN and DAN BILEFSKY      article   \n",
              "\n",
              "                                            headline  \\\n",
              "0  Former N.F.L. Cheerleaders’ Settlement Offer: ...   \n",
              "1  E.P.A. to Unveil a New Rule. Its Effect: Less ...   \n",
              "2                            The New Noma, Explained   \n",
              "3                                            Unknown   \n",
              "4                                            Unknown   \n",
              "\n",
              "                                            keywords  multimedia     newDesk  \\\n",
              "0  ['Workplace Hazards and Violations', 'Football...          68      Sports   \n",
              "1  ['Environmental Protection Agency', 'Pruitt, S...          68     Climate   \n",
              "2  ['Restaurants', 'Noma (Copenhagen, Restaurant)...          66      Dining   \n",
              "3  ['Macron, Emmanuel (1977- )', 'Trump, Donald J...          68  Washington   \n",
              "4  ['Toronto, Ontario, Attack (April, 2018)', 'Mu...          68     Foreign   \n",
              "\n",
              "   printPage              pubDate   sectionName  \\\n",
              "0          0  2018-04-24 17:16:49  Pro Football   \n",
              "1          0  2018-04-24 17:11:21       Unknown   \n",
              "2          0  2018-04-24 14:58:44       Unknown   \n",
              "3          0  2018-04-24 14:35:57        Europe   \n",
              "4          0  2018-04-24 14:21:21        Canada   \n",
              "\n",
              "                                             snippet              source  \\\n",
              "0  “I understand that they could meet with us, pa...  The New York Times   \n",
              "1  The agency plans to publish a new regulation T...  The New York Times   \n",
              "2  What’s it like to eat at the second incarnatio...  The New York Times   \n",
              "3  President Trump welcomed President Emmanuel Ma...  The New York Times   \n",
              "4  Alek Minassian, 25, a resident of Toronto’s Ri...  The New York Times   \n",
              "\n",
              "  typeOfMaterial                                             webURL  \n",
              "0           News  https://www.nytimes.com/2018/04/24/sports/foot...  \n",
              "1           News  https://www.nytimes.com/2018/04/24/climate/epa...  \n",
              "2           News  https://www.nytimes.com/2018/04/24/dining/noma...  \n",
              "3           News  https://www.nytimes.com/2018/04/24/world/europ...  \n",
              "4           News  https://www.nytimes.com/2018/04/24/world/canad...  "
            ],
            "text/html": [
              "\n",
              "  <div id=\"df-5c0a1e9d-659f-4fb3-80d6-7a640764bd7a\">\n",
              "    <div class=\"colab-df-container\">\n",
              "      <div>\n",
              "<style scoped>\n",
              "    .dataframe tbody tr th:only-of-type {\n",
              "        vertical-align: middle;\n",
              "    }\n",
              "\n",
              "    .dataframe tbody tr th {\n",
              "        vertical-align: top;\n",
              "    }\n",
              "\n",
              "    .dataframe thead th {\n",
              "        text-align: right;\n",
              "    }\n",
              "</style>\n",
              "<table border=\"1\" class=\"dataframe\">\n",
              "  <thead>\n",
              "    <tr style=\"text-align: right;\">\n",
              "      <th></th>\n",
              "      <th>articleID</th>\n",
              "      <th>articleWordCount</th>\n",
              "      <th>byline</th>\n",
              "      <th>documentType</th>\n",
              "      <th>headline</th>\n",
              "      <th>keywords</th>\n",
              "      <th>multimedia</th>\n",
              "      <th>newDesk</th>\n",
              "      <th>printPage</th>\n",
              "      <th>pubDate</th>\n",
              "      <th>sectionName</th>\n",
              "      <th>snippet</th>\n",
              "      <th>source</th>\n",
              "      <th>typeOfMaterial</th>\n",
              "      <th>webURL</th>\n",
              "    </tr>\n",
              "  </thead>\n",
              "  <tbody>\n",
              "    <tr>\n",
              "      <th>0</th>\n",
              "      <td>5adf6684068401528a2aa69b</td>\n",
              "      <td>781</td>\n",
              "      <td>By JOHN BRANCH</td>\n",
              "      <td>article</td>\n",
              "      <td>Former N.F.L. Cheerleaders’ Settlement Offer: ...</td>\n",
              "      <td>['Workplace Hazards and Violations', 'Football...</td>\n",
              "      <td>68</td>\n",
              "      <td>Sports</td>\n",
              "      <td>0</td>\n",
              "      <td>2018-04-24 17:16:49</td>\n",
              "      <td>Pro Football</td>\n",
              "      <td>“I understand that they could meet with us, pa...</td>\n",
              "      <td>The New York Times</td>\n",
              "      <td>News</td>\n",
              "      <td>https://www.nytimes.com/2018/04/24/sports/foot...</td>\n",
              "    </tr>\n",
              "    <tr>\n",
              "      <th>1</th>\n",
              "      <td>5adf653f068401528a2aa697</td>\n",
              "      <td>656</td>\n",
              "      <td>By LISA FRIEDMAN</td>\n",
              "      <td>article</td>\n",
              "      <td>E.P.A. to Unveil a New Rule. Its Effect: Less ...</td>\n",
              "      <td>['Environmental Protection Agency', 'Pruitt, S...</td>\n",
              "      <td>68</td>\n",
              "      <td>Climate</td>\n",
              "      <td>0</td>\n",
              "      <td>2018-04-24 17:11:21</td>\n",
              "      <td>Unknown</td>\n",
              "      <td>The agency plans to publish a new regulation T...</td>\n",
              "      <td>The New York Times</td>\n",
              "      <td>News</td>\n",
              "      <td>https://www.nytimes.com/2018/04/24/climate/epa...</td>\n",
              "    </tr>\n",
              "    <tr>\n",
              "      <th>2</th>\n",
              "      <td>5adf4626068401528a2aa628</td>\n",
              "      <td>2427</td>\n",
              "      <td>By PETE WELLS</td>\n",
              "      <td>article</td>\n",
              "      <td>The New Noma, Explained</td>\n",
              "      <td>['Restaurants', 'Noma (Copenhagen, Restaurant)...</td>\n",
              "      <td>66</td>\n",
              "      <td>Dining</td>\n",
              "      <td>0</td>\n",
              "      <td>2018-04-24 14:58:44</td>\n",
              "      <td>Unknown</td>\n",
              "      <td>What’s it like to eat at the second incarnatio...</td>\n",
              "      <td>The New York Times</td>\n",
              "      <td>News</td>\n",
              "      <td>https://www.nytimes.com/2018/04/24/dining/noma...</td>\n",
              "    </tr>\n",
              "    <tr>\n",
              "      <th>3</th>\n",
              "      <td>5adf40d2068401528a2aa619</td>\n",
              "      <td>626</td>\n",
              "      <td>By JULIE HIRSCHFELD DAVIS and PETER BAKER</td>\n",
              "      <td>article</td>\n",
              "      <td>Unknown</td>\n",
              "      <td>['Macron, Emmanuel (1977- )', 'Trump, Donald J...</td>\n",
              "      <td>68</td>\n",
              "      <td>Washington</td>\n",
              "      <td>0</td>\n",
              "      <td>2018-04-24 14:35:57</td>\n",
              "      <td>Europe</td>\n",
              "      <td>President Trump welcomed President Emmanuel Ma...</td>\n",
              "      <td>The New York Times</td>\n",
              "      <td>News</td>\n",
              "      <td>https://www.nytimes.com/2018/04/24/world/europ...</td>\n",
              "    </tr>\n",
              "    <tr>\n",
              "      <th>4</th>\n",
              "      <td>5adf3d64068401528a2aa60f</td>\n",
              "      <td>815</td>\n",
              "      <td>By IAN AUSTEN and DAN BILEFSKY</td>\n",
              "      <td>article</td>\n",
              "      <td>Unknown</td>\n",
              "      <td>['Toronto, Ontario, Attack (April, 2018)', 'Mu...</td>\n",
              "      <td>68</td>\n",
              "      <td>Foreign</td>\n",
              "      <td>0</td>\n",
              "      <td>2018-04-24 14:21:21</td>\n",
              "      <td>Canada</td>\n",
              "      <td>Alek Minassian, 25, a resident of Toronto’s Ri...</td>\n",
              "      <td>The New York Times</td>\n",
              "      <td>News</td>\n",
              "      <td>https://www.nytimes.com/2018/04/24/world/canad...</td>\n",
              "    </tr>\n",
              "  </tbody>\n",
              "</table>\n",
              "</div>\n",
              "      <button class=\"colab-df-convert\" onclick=\"convertToInteractive('df-5c0a1e9d-659f-4fb3-80d6-7a640764bd7a')\"\n",
              "              title=\"Convert this dataframe to an interactive table.\"\n",
              "              style=\"display:none;\">\n",
              "        \n",
              "  <svg xmlns=\"http://www.w3.org/2000/svg\" height=\"24px\"viewBox=\"0 0 24 24\"\n",
              "       width=\"24px\">\n",
              "    <path d=\"M0 0h24v24H0V0z\" fill=\"none\"/>\n",
              "    <path d=\"M18.56 5.44l.94 2.06.94-2.06 2.06-.94-2.06-.94-.94-2.06-.94 2.06-2.06.94zm-11 1L8.5 8.5l.94-2.06 2.06-.94-2.06-.94L8.5 2.5l-.94 2.06-2.06.94zm10 10l.94 2.06.94-2.06 2.06-.94-2.06-.94-.94-2.06-.94 2.06-2.06.94z\"/><path d=\"M17.41 7.96l-1.37-1.37c-.4-.4-.92-.59-1.43-.59-.52 0-1.04.2-1.43.59L10.3 9.45l-7.72 7.72c-.78.78-.78 2.05 0 2.83L4 21.41c.39.39.9.59 1.41.59.51 0 1.02-.2 1.41-.59l7.78-7.78 2.81-2.81c.8-.78.8-2.07 0-2.86zM5.41 20L4 18.59l7.72-7.72 1.47 1.35L5.41 20z\"/>\n",
              "  </svg>\n",
              "      </button>\n",
              "      \n",
              "  <style>\n",
              "    .colab-df-container {\n",
              "      display:flex;\n",
              "      flex-wrap:wrap;\n",
              "      gap: 12px;\n",
              "    }\n",
              "\n",
              "    .colab-df-convert {\n",
              "      background-color: #E8F0FE;\n",
              "      border: none;\n",
              "      border-radius: 50%;\n",
              "      cursor: pointer;\n",
              "      display: none;\n",
              "      fill: #1967D2;\n",
              "      height: 32px;\n",
              "      padding: 0 0 0 0;\n",
              "      width: 32px;\n",
              "    }\n",
              "\n",
              "    .colab-df-convert:hover {\n",
              "      background-color: #E2EBFA;\n",
              "      box-shadow: 0px 1px 2px rgba(60, 64, 67, 0.3), 0px 1px 3px 1px rgba(60, 64, 67, 0.15);\n",
              "      fill: #174EA6;\n",
              "    }\n",
              "\n",
              "    [theme=dark] .colab-df-convert {\n",
              "      background-color: #3B4455;\n",
              "      fill: #D2E3FC;\n",
              "    }\n",
              "\n",
              "    [theme=dark] .colab-df-convert:hover {\n",
              "      background-color: #434B5C;\n",
              "      box-shadow: 0px 1px 3px 1px rgba(0, 0, 0, 0.15);\n",
              "      filter: drop-shadow(0px 1px 2px rgba(0, 0, 0, 0.3));\n",
              "      fill: #FFFFFF;\n",
              "    }\n",
              "  </style>\n",
              "\n",
              "      <script>\n",
              "        const buttonEl =\n",
              "          document.querySelector('#df-5c0a1e9d-659f-4fb3-80d6-7a640764bd7a button.colab-df-convert');\n",
              "        buttonEl.style.display =\n",
              "          google.colab.kernel.accessAllowed ? 'block' : 'none';\n",
              "\n",
              "        async function convertToInteractive(key) {\n",
              "          const element = document.querySelector('#df-5c0a1e9d-659f-4fb3-80d6-7a640764bd7a');\n",
              "          const dataTable =\n",
              "            await google.colab.kernel.invokeFunction('convertToInteractive',\n",
              "                                                     [key], {});\n",
              "          if (!dataTable) return;\n",
              "\n",
              "          const docLinkHtml = 'Like what you see? Visit the ' +\n",
              "            '<a target=\"_blank\" href=https://colab.research.google.com/notebooks/data_table.ipynb>data table notebook</a>'\n",
              "            + ' to learn more about interactive tables.';\n",
              "          element.innerHTML = '';\n",
              "          dataTable['output_type'] = 'display_data';\n",
              "          await google.colab.output.renderOutput(dataTable, element);\n",
              "          const docLink = document.createElement('div');\n",
              "          docLink.innerHTML = docLinkHtml;\n",
              "          element.appendChild(docLink);\n",
              "        }\n",
              "      </script>\n",
              "    </div>\n",
              "  </div>\n",
              "  "
            ]
          },
          "metadata": {},
          "execution_count": 6
        }
      ]
    },
    {
      "cell_type": "code",
      "source": [
        "# 총 15개의 열이 존재합니다. 여기서 사용할 열은 제목에 해당되는 headline 열입니다.\n",
        "\n",
        "print('열의 개수 :',len(df.columns))\n",
        "print(df.columns)"
      ],
      "metadata": {
        "colab": {
          "base_uri": "https://localhost:8080/"
        },
        "id": "1V601miRGURx",
        "outputId": "0e957a20-5c3c-44dd-f53a-4dd60b58f6db"
      },
      "execution_count": null,
      "outputs": [
        {
          "output_type": "stream",
          "name": "stdout",
          "text": [
            "열의 개수 : 15\n",
            "Index(['articleID', 'articleWordCount', 'byline', 'documentType', 'headline',\n",
            "       'keywords', 'multimedia', 'newDesk', 'printPage', 'pubDate',\n",
            "       'sectionName', 'snippet', 'source', 'typeOfMaterial', 'webURL'],\n",
            "      dtype='object')\n"
          ]
        }
      ]
    },
    {
      "cell_type": "code",
      "source": [
        "# null 값이 있는지 확인\n",
        "\n",
        "print(df['headline'].isnull().values.any())"
      ],
      "metadata": {
        "colab": {
          "base_uri": "https://localhost:8080/"
        },
        "id": "Xc9qcXT7BD-a",
        "outputId": "4de460eb-1293-40af-f0ce-b144184bcf0a"
      },
      "execution_count": null,
      "outputs": [
        {
          "output_type": "stream",
          "name": "stdout",
          "text": [
            "False\n"
          ]
        }
      ]
    },
    {
      "cell_type": "code",
      "source": [
        "# headline 열에서 모든 신문 기사의 제목을 뽑아서 하나의 리스트로 저장해보도록 하겠습니다.\n",
        "\n",
        "headline = []\n",
        "\n",
        "headline.extend(list(df.headline.values))\n",
        "headline[:5]"
      ],
      "metadata": {
        "colab": {
          "base_uri": "https://localhost:8080/"
        },
        "id": "NZCq5cQKBD74",
        "outputId": "489f58a8-27a3-48c6-d9a5-d8125e4f1c13"
      },
      "execution_count": null,
      "outputs": [
        {
          "output_type": "execute_result",
          "data": {
            "text/plain": [
              "['Former N.F.L. Cheerleaders’ Settlement Offer: $1 and a Meeting With Goodell',\n",
              " 'E.P.A. to Unveil a New Rule. Its Effect: Less Science in Policymaking.',\n",
              " 'The New Noma, Explained',\n",
              " 'Unknown',\n",
              " 'Unknown']"
            ]
          },
          "metadata": {},
          "execution_count": 9
        }
      ]
    },
    {
      "cell_type": "code",
      "source": [
        "# Unknown값을 가진 샘플이있습니다. 비록 null은 아니지만 도움이 되지 않는 노이즈 데이터이므로 제거해줄 필요가있습니다.\n",
        "# 제거하기전 현재 샘플의 개수를 확인해보고 제거 전, 후의 샘플의 개수를 비교해보겠습니다.\n",
        "\n",
        "print('총 샘플의 개수 : {}'.format(len(headline)))"
      ],
      "metadata": {
        "colab": {
          "base_uri": "https://localhost:8080/"
        },
        "id": "ocVWDtb6BD5j",
        "outputId": "cb979d0f-7067-440d-ed5f-360208f01e4a"
      },
      "execution_count": null,
      "outputs": [
        {
          "output_type": "stream",
          "name": "stdout",
          "text": [
            "총 샘플의 개수 : 1324\n"
          ]
        }
      ]
    },
    {
      "cell_type": "code",
      "source": [
        "# 노이즈 데이터를 제거하기 전 신문 기사의 제목 샘플은 총 1,324개 입니다. Unkown값을 가진 샘플을 제거하겠습니다.\n",
        "\n",
        "headline = [word for word in headline if word != \"Unknown\"]\n",
        "\n",
        "print('노이즈값 제거 후 샘플의 개수 : {}'.format(len(headline)))"
      ],
      "metadata": {
        "colab": {
          "base_uri": "https://localhost:8080/"
        },
        "id": "MUFND8c1BD3B",
        "outputId": "c6de600a-63a5-4572-b626-691b84c028ad"
      },
      "execution_count": null,
      "outputs": [
        {
          "output_type": "stream",
          "name": "stdout",
          "text": [
            "노이즈값 제거 후 샘플의 개수 : 1214\n"
          ]
        }
      ]
    },
    {
      "cell_type": "code",
      "source": [
        "# 기존의 출력했던 5개의 샘플을 출력해보겠습니다.\n",
        "\n",
        "headline[:5]"
      ],
      "metadata": {
        "colab": {
          "base_uri": "https://localhost:8080/"
        },
        "id": "N_GgKXXzBD0y",
        "outputId": "14084d4d-7245-4496-cf1a-fe6bb64a163d"
      },
      "execution_count": null,
      "outputs": [
        {
          "output_type": "execute_result",
          "data": {
            "text/plain": [
              "['Former N.F.L. Cheerleaders’ Settlement Offer: $1 and a Meeting With Goodell',\n",
              " 'E.P.A. to Unveil a New Rule. Its Effect: Less Science in Policymaking.',\n",
              " 'The New Noma, Explained',\n",
              " 'How a Bag of Texas Dirt  Became a Times Tradition',\n",
              " 'Is School a Place for Self-Expression?']"
            ]
          },
          "metadata": {},
          "execution_count": 12
        }
      ]
    },
    {
      "cell_type": "code",
      "source": [
        "# 이제 데이터 전처리를 수행합니다. 여기서 선택한 전처리는 구두점 제거와 단어의 소문자화입니다.\n",
        "# 전처리를 수행하고 다시 샘플 5개를 출력해보겠습니다.\n",
        "\n",
        "def repreprocessing(raw_sentence):\n",
        "  preproceseed_sentence = raw_sentence.encode(\"utf8\").decode(\"ascii\", 'ignore')\n",
        "  # 구두점 제거와 동시에 소문자화\n",
        "  return ''.join(word for word in preproceseed_sentence if word not in punctuation).lower()\n",
        "\n",
        "preproceseed_headline = [repreprocessing(x) for x in headline]\n",
        "preproceseed_headline[:10]"
      ],
      "metadata": {
        "colab": {
          "base_uri": "https://localhost:8080/"
        },
        "id": "QBeEjXtvBDyJ",
        "outputId": "822149cc-9401-4ad9-9667-28e92c0a63d8"
      },
      "execution_count": null,
      "outputs": [
        {
          "output_type": "execute_result",
          "data": {
            "text/plain": [
              "['former nfl cheerleaders settlement offer 1 and a meeting with goodell',\n",
              " 'epa to unveil a new rule its effect less science in policymaking',\n",
              " 'the new noma explained',\n",
              " 'how a bag of texas dirt  became a times tradition',\n",
              " 'is school a place for selfexpression',\n",
              " 'commuter reprogramming',\n",
              " 'ford changed leaders looking for a lift its still looking',\n",
              " 'romney failed to win at utah convention but few believe hes doomed',\n",
              " 'chain reaction',\n",
              " 'he forced the vatican to investigate sex abuse now hes meeting with pope francis']"
            ]
          },
          "metadata": {},
          "execution_count": 13
        }
      ]
    },
    {
      "cell_type": "code",
      "source": [
        "# 단어 집합(vocabulary)을 만들고 크기를 확인합니다.\n",
        "\n",
        "tokenizer = Tokenizer()\n",
        "tokenizer.fit_on_texts(preproceseed_headline)\n",
        "vocab_size = len(tokenizer.word_index) + 1\n",
        "\n",
        "print('단어 집합의 크기 : %d' % vocab_size)"
      ],
      "metadata": {
        "colab": {
          "base_uri": "https://localhost:8080/"
        },
        "id": "FcSTEw1UBDvo",
        "outputId": "61e89468-50ee-4f68-9378-00c096e704fd"
      },
      "execution_count": null,
      "outputs": [
        {
          "output_type": "stream",
          "name": "stdout",
          "text": [
            "단어 집합의 크기 : 3494\n"
          ]
        }
      ]
    },
    {
      "cell_type": "code",
      "source": [
        "# 정수 인코딩을 진행하는 동시에 하나의 문장을 여러 줄로 분해해 훈련 데이터를 구성합니다.\n",
        "\n",
        "sequences = list()\n",
        "\n",
        "for sentence in preproceseed_headline:\n",
        "\n",
        "  # 각 샘플에 대한 정수 인코딩\n",
        "  encoded = tokenizer.texts_to_sequences([sentence])[0]\n",
        "  for i in range(1, len(encoded)):\n",
        "    sequence = encoded[:i+1]\n",
        "    sequences.append(sequence)\n",
        "\n",
        "sequences[:11]"
      ],
      "metadata": {
        "colab": {
          "base_uri": "https://localhost:8080/"
        },
        "id": "cvoSn35fBDep",
        "outputId": "a22ed77b-b8c2-4c17-dc9c-39a678890a40"
      },
      "execution_count": null,
      "outputs": [
        {
          "output_type": "execute_result",
          "data": {
            "text/plain": [
              "[[99, 269],\n",
              " [99, 269, 371],\n",
              " [99, 269, 371, 1115],\n",
              " [99, 269, 371, 1115, 582],\n",
              " [99, 269, 371, 1115, 582, 52],\n",
              " [99, 269, 371, 1115, 582, 52, 7],\n",
              " [99, 269, 371, 1115, 582, 52, 7, 2],\n",
              " [99, 269, 371, 1115, 582, 52, 7, 2, 372],\n",
              " [99, 269, 371, 1115, 582, 52, 7, 2, 372, 10],\n",
              " [99, 269, 371, 1115, 582, 52, 7, 2, 372, 10, 1116],\n",
              " [100, 3]]"
            ]
          },
          "metadata": {},
          "execution_count": 15
        }
      ]
    },
    {
      "cell_type": "code",
      "source": [
        "# 위의 sequences는 모든 문장을 각 단어가 각 시점마다 하나씩 추갖거으로 등장하는 형태로 만들기는 했지만,\n",
        "# 아직 예측할 단어에 해당되는 레이블을 분리하는 작업까지는 수행하지 않았습니다.\n",
        "# 어떤 정수가 어떤 단어를 의미하는지 알아보기 위해 인덱스로부터 단어를 찾는 index_to_word를 만들겠습니다.\n",
        "\n",
        "index_to_word = {}\n",
        "for key, value in tokenizer.word_index.items():    # 인덱스를 단어로 바꾸기 위해 index_to_word를 생성\n",
        "  index_to_word[value] = key\n",
        "\n",
        "print('빈도수 상위 582번 단어 : {}'.format(index_to_word[582]))"
      ],
      "metadata": {
        "colab": {
          "base_uri": "https://localhost:8080/"
        },
        "id": "s2Sg9wWQGEQf",
        "outputId": "00f35e83-d25e-466d-8b66-df891440a429"
      },
      "execution_count": null,
      "outputs": [
        {
          "output_type": "stream",
          "name": "stdout",
          "text": [
            "빈도수 상위 582번 단어 : offer\n"
          ]
        }
      ]
    },
    {
      "cell_type": "code",
      "source": [
        "# 이제 y데이터를 분리하기전에 전체 샘플의 길이를 동일하게 만드는 패딩 작업을 수행합니다.\n",
        "# 패딩 작업을 수행하기 전에 가장 긴 샘플의 길이를 확인합니다.\n",
        "\n",
        "max_len = max(len(l) for l in sequences)\n",
        "print('샘플의 최대 길이 : {}'.format(max_len))"
      ],
      "metadata": {
        "colab": {
          "base_uri": "https://localhost:8080/"
        },
        "id": "cBl75rCHGEOf",
        "outputId": "c32be9a5-f421-4f92-d1ee-0154f052d32b"
      },
      "execution_count": null,
      "outputs": [
        {
          "output_type": "stream",
          "name": "stdout",
          "text": [
            "샘플의 최대 길이 : 24\n"
          ]
        }
      ]
    },
    {
      "cell_type": "code",
      "source": [
        "# 가장 긴 샘플의 길이인 24로 모든 샘플의 길이를 패딩하겠습니다.\n",
        "\n",
        "sequences = pad_sequences(sequences, maxlen=max_len, padding='pre')\n",
        "print(sequences[:5])"
      ],
      "metadata": {
        "colab": {
          "base_uri": "https://localhost:8080/"
        },
        "id": "LWOmxjrtGEMP",
        "outputId": "3cfa4318-0f2d-4ec9-bd58-c30e113247e9"
      },
      "execution_count": null,
      "outputs": [
        {
          "output_type": "stream",
          "name": "stdout",
          "text": [
            "[[   0    0    0    0    0    0    0    0    0    0    0    0    0    0\n",
            "     0    0    0    0    0    0    0    0   99  269]\n",
            " [   0    0    0    0    0    0    0    0    0    0    0    0    0    0\n",
            "     0    0    0    0    0    0    0   99  269  371]\n",
            " [   0    0    0    0    0    0    0    0    0    0    0    0    0    0\n",
            "     0    0    0    0    0    0   99  269  371 1115]\n",
            " [   0    0    0    0    0    0    0    0    0    0    0    0    0    0\n",
            "     0    0    0    0    0   99  269  371 1115  582]\n",
            " [   0    0    0    0    0    0    0    0    0    0    0    0    0    0\n",
            "     0    0    0    0   99  269  371 1115  582   52]]\n"
          ]
        }
      ]
    },
    {
      "cell_type": "code",
      "source": [
        "# 이제 맨 우측 단어만 레이블로 분리하겠습니다.\n",
        "\n",
        "sequences = np.array(sequences)\n",
        "X = sequences[:, :-1]\n",
        "Y = sequences[:, -1]\n",
        "\n",
        "print(X[:3])\n",
        "print(Y)"
      ],
      "metadata": {
        "colab": {
          "base_uri": "https://localhost:8080/"
        },
        "id": "cMKnlnmeGEKG",
        "outputId": "be10d6b7-8395-438b-a7fd-01afc90908a2"
      },
      "execution_count": null,
      "outputs": [
        {
          "output_type": "stream",
          "name": "stdout",
          "text": [
            "[[  0   0   0   0   0   0   0   0   0   0   0   0   0   0   0   0   0   0\n",
            "    0   0   0   0  99]\n",
            " [  0   0   0   0   0   0   0   0   0   0   0   0   0   0   0   0   0   0\n",
            "    0   0   0  99 269]\n",
            " [  0   0   0   0   0   0   0   0   0   0   0   0   0   0   0   0   0   0\n",
            "    0   0  99 269 371]]\n",
            "[ 269  371 1115 ...  115    2 1025]\n"
          ]
        }
      ]
    },
    {
      "cell_type": "code",
      "source": [
        "# 레이블 데이터 Y에 대해 원-핫 인코딩을 수행하겠습니다.\n",
        "\n",
        "Y = to_categorical(Y, num_classes=vocab_size)"
      ],
      "metadata": {
        "id": "y-csKwaqGEHv"
      },
      "execution_count": null,
      "outputs": []
    },
    {
      "cell_type": "markdown",
      "source": [
        "## 모델 설계하기\n",
        "하이퍼파라미터인 임베딩 벡터의 차원은 10,\n",
        "은닉 상태의 크기는 128입니다.\n",
        "다 대 일 구조의 LSTM을 사용합니다.\n",
        "전결합층(Fully Connected Layer)을 출력층으로 단어 집합 크기만큼의 뉴런을 배치하여 모델을 설계합니다.\n",
        "해당 모델은 마지막 시점에서 모든 가능한 단어 중 하나의 단어를 예측하는 다중 클래스 분류 문제를 수행하는 모델입니다.\n",
        "다중 클래스 분류 문제의 경우, 출력층에 소프트맥스 회귀를 사용해야 하므로 활성화 함수로는 소프트맥스 함수를 사용하고, 손실 함수로 크로스 엔트로피 함수를 사용하여 200 에포크를 수행합니다."
      ],
      "metadata": {
        "id": "X2tqW6hUH2Lt"
      }
    },
    {
      "cell_type": "code",
      "source": [
        "from tensorflow.keras.models import Sequential\n",
        "from tensorflow.keras.layers import Embedding, Dense, LSTM"
      ],
      "metadata": {
        "id": "JGGeiwU3GEFO"
      },
      "execution_count": null,
      "outputs": []
    },
    {
      "cell_type": "code",
      "source": [
        "embedding_dim = 10\n",
        "hidden_units = 128\n",
        "\n",
        "model = Sequential()\n",
        "model.add(Embedding(vocab_size, embedding_dim))\n",
        "model.add(LSTM(hidden_units))\n",
        "model.add(Dense(vocab_size, activation='softmax'))\n",
        "\n",
        "model.compile(loss='categorical_crossentropy', optimizer='adam', metrics=['accuracy'])\n",
        "\n",
        "model.fit(X, Y, epochs=200)"
      ],
      "metadata": {
        "colab": {
          "base_uri": "https://localhost:8080/"
        },
        "id": "3JcxVWHaGEDG",
        "outputId": "c1d67c86-834b-4d2b-ac3e-17c1e19b8add"
      },
      "execution_count": null,
      "outputs": [
        {
          "output_type": "stream",
          "name": "stdout",
          "text": [
            "Epoch 1/200\n",
            "244/244 [==============================] - 8s 6ms/step - loss: 7.6475 - accuracy: 0.0309\n",
            "Epoch 2/200\n",
            "244/244 [==============================] - 1s 6ms/step - loss: 7.1061 - accuracy: 0.0309\n",
            "Epoch 3/200\n",
            "244/244 [==============================] - 1s 6ms/step - loss: 6.9674 - accuracy: 0.0349\n",
            "Epoch 4/200\n",
            "244/244 [==============================] - 1s 6ms/step - loss: 6.8353 - accuracy: 0.0414\n",
            "Epoch 5/200\n",
            "244/244 [==============================] - 1s 6ms/step - loss: 6.6802 - accuracy: 0.0452\n",
            "Epoch 6/200\n",
            "244/244 [==============================] - 1s 6ms/step - loss: 6.5039 - accuracy: 0.0496\n",
            "Epoch 7/200\n",
            "244/244 [==============================] - 1s 6ms/step - loss: 6.3113 - accuracy: 0.0552\n",
            "Epoch 8/200\n",
            "244/244 [==============================] - 1s 6ms/step - loss: 6.1164 - accuracy: 0.0578\n",
            "Epoch 9/200\n",
            "244/244 [==============================] - 1s 6ms/step - loss: 5.9263 - accuracy: 0.0618\n",
            "Epoch 10/200\n",
            "244/244 [==============================] - 1s 6ms/step - loss: 5.7494 - accuracy: 0.0656\n",
            "Epoch 11/200\n",
            "244/244 [==============================] - 1s 6ms/step - loss: 5.5826 - accuracy: 0.0737\n",
            "Epoch 12/200\n",
            "244/244 [==============================] - 1s 6ms/step - loss: 5.4215 - accuracy: 0.0797\n",
            "Epoch 13/200\n",
            "244/244 [==============================] - 1s 6ms/step - loss: 5.2704 - accuracy: 0.0845\n",
            "Epoch 14/200\n",
            "244/244 [==============================] - 1s 6ms/step - loss: 5.1214 - accuracy: 0.0934\n",
            "Epoch 15/200\n",
            "244/244 [==============================] - 1s 6ms/step - loss: 4.9832 - accuracy: 0.0969\n",
            "Epoch 16/200\n",
            "244/244 [==============================] - 1s 6ms/step - loss: 4.8460 - accuracy: 0.1066\n",
            "Epoch 17/200\n",
            "244/244 [==============================] - 1s 6ms/step - loss: 4.7158 - accuracy: 0.1196\n",
            "Epoch 18/200\n",
            "244/244 [==============================] - 1s 6ms/step - loss: 4.5903 - accuracy: 0.1323\n",
            "Epoch 19/200\n",
            "244/244 [==============================] - 1s 6ms/step - loss: 4.4668 - accuracy: 0.1503\n",
            "Epoch 20/200\n",
            "244/244 [==============================] - 1s 6ms/step - loss: 4.3479 - accuracy: 0.1633\n",
            "Epoch 21/200\n",
            "244/244 [==============================] - 1s 6ms/step - loss: 4.2336 - accuracy: 0.1767\n",
            "Epoch 22/200\n",
            "244/244 [==============================] - 1s 6ms/step - loss: 4.1205 - accuracy: 0.1968\n",
            "Epoch 23/200\n",
            "244/244 [==============================] - 1s 6ms/step - loss: 4.0119 - accuracy: 0.2139\n",
            "Epoch 24/200\n",
            "244/244 [==============================] - 1s 6ms/step - loss: 3.9048 - accuracy: 0.2298\n",
            "Epoch 25/200\n",
            "244/244 [==============================] - 1s 6ms/step - loss: 3.8023 - accuracy: 0.2475\n",
            "Epoch 26/200\n",
            "244/244 [==============================] - 1s 6ms/step - loss: 3.7025 - accuracy: 0.2627\n",
            "Epoch 27/200\n",
            "244/244 [==============================] - 1s 6ms/step - loss: 3.6051 - accuracy: 0.2800\n",
            "Epoch 28/200\n",
            "244/244 [==============================] - 1s 6ms/step - loss: 3.5119 - accuracy: 0.2968\n",
            "Epoch 29/200\n",
            "244/244 [==============================] - 1s 6ms/step - loss: 3.4188 - accuracy: 0.3106\n",
            "Epoch 30/200\n",
            "244/244 [==============================] - 1s 6ms/step - loss: 3.3342 - accuracy: 0.3290\n",
            "Epoch 31/200\n",
            "244/244 [==============================] - 1s 6ms/step - loss: 3.2443 - accuracy: 0.3444\n",
            "Epoch 32/200\n",
            "244/244 [==============================] - 1s 6ms/step - loss: 3.1639 - accuracy: 0.3577\n",
            "Epoch 33/200\n",
            "244/244 [==============================] - 1s 6ms/step - loss: 3.0828 - accuracy: 0.3741\n",
            "Epoch 34/200\n",
            "244/244 [==============================] - 1s 6ms/step - loss: 3.0038 - accuracy: 0.3873\n",
            "Epoch 35/200\n",
            "244/244 [==============================] - 1s 6ms/step - loss: 2.9318 - accuracy: 0.4025\n",
            "Epoch 36/200\n",
            "244/244 [==============================] - 1s 6ms/step - loss: 2.8576 - accuracy: 0.4221\n",
            "Epoch 37/200\n",
            "244/244 [==============================] - 1s 6ms/step - loss: 2.7884 - accuracy: 0.4329\n",
            "Epoch 38/200\n",
            "244/244 [==============================] - 1s 6ms/step - loss: 2.7222 - accuracy: 0.4433\n",
            "Epoch 39/200\n",
            "244/244 [==============================] - 1s 6ms/step - loss: 2.6558 - accuracy: 0.4588\n",
            "Epoch 40/200\n",
            "244/244 [==============================] - 1s 6ms/step - loss: 2.5913 - accuracy: 0.4734\n",
            "Epoch 41/200\n",
            "244/244 [==============================] - 1s 6ms/step - loss: 2.5290 - accuracy: 0.4842\n",
            "Epoch 42/200\n",
            "244/244 [==============================] - 1s 6ms/step - loss: 2.4688 - accuracy: 0.5007\n",
            "Epoch 43/200\n",
            "244/244 [==============================] - 1s 6ms/step - loss: 2.4114 - accuracy: 0.5037\n",
            "Epoch 44/200\n",
            "244/244 [==============================] - 1s 6ms/step - loss: 2.3565 - accuracy: 0.5139\n",
            "Epoch 45/200\n",
            "244/244 [==============================] - 2s 6ms/step - loss: 2.3023 - accuracy: 0.5304\n",
            "Epoch 46/200\n",
            "244/244 [==============================] - 1s 6ms/step - loss: 2.2464 - accuracy: 0.5422\n",
            "Epoch 47/200\n",
            "244/244 [==============================] - 1s 6ms/step - loss: 2.1952 - accuracy: 0.5491\n",
            "Epoch 48/200\n",
            "244/244 [==============================] - 1s 6ms/step - loss: 2.1435 - accuracy: 0.5615\n",
            "Epoch 49/200\n",
            "244/244 [==============================] - 1s 6ms/step - loss: 2.0964 - accuracy: 0.5712\n",
            "Epoch 50/200\n",
            "244/244 [==============================] - 1s 6ms/step - loss: 2.0498 - accuracy: 0.5825\n",
            "Epoch 51/200\n",
            "244/244 [==============================] - 1s 6ms/step - loss: 2.0024 - accuracy: 0.5890\n",
            "Epoch 52/200\n",
            "244/244 [==============================] - 1s 6ms/step - loss: 1.9583 - accuracy: 0.5953\n",
            "Epoch 53/200\n",
            "244/244 [==============================] - 1s 6ms/step - loss: 1.9126 - accuracy: 0.6095\n",
            "Epoch 54/200\n",
            "244/244 [==============================] - 1s 6ms/step - loss: 1.8720 - accuracy: 0.6169\n",
            "Epoch 55/200\n",
            "244/244 [==============================] - 1s 6ms/step - loss: 1.8287 - accuracy: 0.6267\n",
            "Epoch 56/200\n",
            "244/244 [==============================] - 1s 6ms/step - loss: 1.7891 - accuracy: 0.6354\n",
            "Epoch 57/200\n",
            "244/244 [==============================] - 1s 6ms/step - loss: 1.7510 - accuracy: 0.6476\n",
            "Epoch 58/200\n",
            "244/244 [==============================] - 1s 6ms/step - loss: 1.7123 - accuracy: 0.6522\n",
            "Epoch 59/200\n",
            "244/244 [==============================] - 1s 6ms/step - loss: 1.6710 - accuracy: 0.6599\n",
            "Epoch 60/200\n",
            "244/244 [==============================] - 1s 6ms/step - loss: 1.6358 - accuracy: 0.6694\n",
            "Epoch 61/200\n",
            "244/244 [==============================] - 1s 6ms/step - loss: 1.6013 - accuracy: 0.6755\n",
            "Epoch 62/200\n",
            "244/244 [==============================] - 1s 6ms/step - loss: 1.5661 - accuracy: 0.6852\n",
            "Epoch 63/200\n",
            "244/244 [==============================] - 1s 6ms/step - loss: 1.5318 - accuracy: 0.6892\n",
            "Epoch 64/200\n",
            "244/244 [==============================] - 1s 6ms/step - loss: 1.4967 - accuracy: 0.6963\n",
            "Epoch 65/200\n",
            "244/244 [==============================] - 1s 6ms/step - loss: 1.4614 - accuracy: 0.7046\n",
            "Epoch 66/200\n",
            "244/244 [==============================] - 1s 6ms/step - loss: 1.4306 - accuracy: 0.7120\n",
            "Epoch 67/200\n",
            "244/244 [==============================] - 1s 6ms/step - loss: 1.3968 - accuracy: 0.7232\n",
            "Epoch 68/200\n",
            "244/244 [==============================] - 1s 6ms/step - loss: 1.3680 - accuracy: 0.7243\n",
            "Epoch 69/200\n",
            "244/244 [==============================] - 1s 6ms/step - loss: 1.3397 - accuracy: 0.7298\n",
            "Epoch 70/200\n",
            "244/244 [==============================] - 1s 6ms/step - loss: 1.3080 - accuracy: 0.7407\n",
            "Epoch 71/200\n",
            "244/244 [==============================] - 2s 6ms/step - loss: 1.2818 - accuracy: 0.7423\n",
            "Epoch 72/200\n",
            "244/244 [==============================] - 1s 6ms/step - loss: 1.2529 - accuracy: 0.7512\n",
            "Epoch 73/200\n",
            "244/244 [==============================] - 1s 6ms/step - loss: 1.2258 - accuracy: 0.7555\n",
            "Epoch 74/200\n",
            "244/244 [==============================] - 1s 6ms/step - loss: 1.1988 - accuracy: 0.7597\n",
            "Epoch 75/200\n",
            "244/244 [==============================] - 2s 6ms/step - loss: 1.1721 - accuracy: 0.7605\n",
            "Epoch 76/200\n",
            "244/244 [==============================] - 1s 6ms/step - loss: 1.1442 - accuracy: 0.7748\n",
            "Epoch 77/200\n",
            "244/244 [==============================] - 1s 6ms/step - loss: 1.1197 - accuracy: 0.7779\n",
            "Epoch 78/200\n",
            "244/244 [==============================] - 1s 6ms/step - loss: 1.0978 - accuracy: 0.7798\n",
            "Epoch 79/200\n",
            "244/244 [==============================] - 1s 6ms/step - loss: 1.0705 - accuracy: 0.7857\n",
            "Epoch 80/200\n",
            "244/244 [==============================] - 1s 6ms/step - loss: 1.0497 - accuracy: 0.7879\n",
            "Epoch 81/200\n",
            "244/244 [==============================] - 1s 6ms/step - loss: 1.0254 - accuracy: 0.7958\n",
            "Epoch 82/200\n",
            "244/244 [==============================] - 1s 6ms/step - loss: 1.0027 - accuracy: 0.7975\n",
            "Epoch 83/200\n",
            "244/244 [==============================] - 1s 6ms/step - loss: 0.9822 - accuracy: 0.8049\n",
            "Epoch 84/200\n",
            "244/244 [==============================] - 1s 6ms/step - loss: 0.9601 - accuracy: 0.8093\n",
            "Epoch 85/200\n",
            "244/244 [==============================] - 1s 6ms/step - loss: 0.9421 - accuracy: 0.8131\n",
            "Epoch 86/200\n",
            "244/244 [==============================] - 1s 6ms/step - loss: 0.9219 - accuracy: 0.8156\n",
            "Epoch 87/200\n",
            "244/244 [==============================] - 1s 6ms/step - loss: 0.8989 - accuracy: 0.8226\n",
            "Epoch 88/200\n",
            "244/244 [==============================] - 1s 6ms/step - loss: 0.8792 - accuracy: 0.8253\n",
            "Epoch 89/200\n",
            "244/244 [==============================] - 1s 6ms/step - loss: 0.8598 - accuracy: 0.8296\n",
            "Epoch 90/200\n",
            "244/244 [==============================] - 1s 6ms/step - loss: 0.8436 - accuracy: 0.8340\n",
            "Epoch 91/200\n",
            "244/244 [==============================] - 1s 6ms/step - loss: 0.8254 - accuracy: 0.8358\n",
            "Epoch 92/200\n",
            "244/244 [==============================] - 1s 6ms/step - loss: 0.8066 - accuracy: 0.8398\n",
            "Epoch 93/200\n",
            "244/244 [==============================] - 1s 6ms/step - loss: 0.7904 - accuracy: 0.8445\n",
            "Epoch 94/200\n",
            "244/244 [==============================] - 1s 6ms/step - loss: 0.7729 - accuracy: 0.8452\n",
            "Epoch 95/200\n",
            "244/244 [==============================] - 1s 6ms/step - loss: 0.7562 - accuracy: 0.8498\n",
            "Epoch 96/200\n",
            "244/244 [==============================] - 1s 6ms/step - loss: 0.7399 - accuracy: 0.8535\n",
            "Epoch 97/200\n",
            "244/244 [==============================] - 1s 6ms/step - loss: 0.7256 - accuracy: 0.8571\n",
            "Epoch 98/200\n",
            "244/244 [==============================] - 1s 6ms/step - loss: 0.7085 - accuracy: 0.8617\n",
            "Epoch 99/200\n",
            "244/244 [==============================] - 2s 6ms/step - loss: 0.6918 - accuracy: 0.8636\n",
            "Epoch 100/200\n",
            "244/244 [==============================] - 1s 6ms/step - loss: 0.6789 - accuracy: 0.8677\n",
            "Epoch 101/200\n",
            "244/244 [==============================] - 1s 6ms/step - loss: 0.6675 - accuracy: 0.8671\n",
            "Epoch 102/200\n",
            "244/244 [==============================] - 1s 6ms/step - loss: 0.6533 - accuracy: 0.8702\n",
            "Epoch 103/200\n",
            "244/244 [==============================] - 1s 6ms/step - loss: 0.6378 - accuracy: 0.8725\n",
            "Epoch 104/200\n",
            "244/244 [==============================] - 1s 6ms/step - loss: 0.6278 - accuracy: 0.8749\n",
            "Epoch 105/200\n",
            "244/244 [==============================] - 1s 6ms/step - loss: 0.6121 - accuracy: 0.8753\n",
            "Epoch 106/200\n",
            "244/244 [==============================] - 2s 6ms/step - loss: 0.6002 - accuracy: 0.8806\n",
            "Epoch 107/200\n",
            "244/244 [==============================] - 2s 6ms/step - loss: 0.5882 - accuracy: 0.8806\n",
            "Epoch 108/200\n",
            "244/244 [==============================] - 2s 6ms/step - loss: 0.5742 - accuracy: 0.8824\n",
            "Epoch 109/200\n",
            "244/244 [==============================] - 1s 6ms/step - loss: 0.5641 - accuracy: 0.8865\n",
            "Epoch 110/200\n",
            "244/244 [==============================] - 2s 6ms/step - loss: 0.5532 - accuracy: 0.8863\n",
            "Epoch 111/200\n",
            "244/244 [==============================] - 1s 6ms/step - loss: 0.5421 - accuracy: 0.8897\n",
            "Epoch 112/200\n",
            "244/244 [==============================] - 1s 6ms/step - loss: 0.5440 - accuracy: 0.8904\n",
            "Epoch 113/200\n",
            "244/244 [==============================] - 1s 6ms/step - loss: 0.5259 - accuracy: 0.8915\n",
            "Epoch 114/200\n",
            "244/244 [==============================] - 1s 6ms/step - loss: 0.5129 - accuracy: 0.8938\n",
            "Epoch 115/200\n",
            "244/244 [==============================] - 1s 6ms/step - loss: 0.5019 - accuracy: 0.8947\n",
            "Epoch 116/200\n",
            "244/244 [==============================] - 2s 6ms/step - loss: 0.4919 - accuracy: 0.8972\n",
            "Epoch 117/200\n",
            "244/244 [==============================] - 2s 6ms/step - loss: 0.4833 - accuracy: 0.9006\n",
            "Epoch 118/200\n",
            "244/244 [==============================] - 1s 6ms/step - loss: 0.4760 - accuracy: 0.9012\n",
            "Epoch 119/200\n",
            "244/244 [==============================] - 1s 6ms/step - loss: 0.4654 - accuracy: 0.9004\n",
            "Epoch 120/200\n",
            "244/244 [==============================] - 1s 6ms/step - loss: 0.4603 - accuracy: 0.9061\n",
            "Epoch 121/200\n",
            "244/244 [==============================] - 1s 6ms/step - loss: 0.4508 - accuracy: 0.9050\n",
            "Epoch 122/200\n",
            "244/244 [==============================] - 1s 6ms/step - loss: 0.4424 - accuracy: 0.9058\n",
            "Epoch 123/200\n",
            "244/244 [==============================] - 1s 6ms/step - loss: 0.4349 - accuracy: 0.9071\n",
            "Epoch 124/200\n",
            "244/244 [==============================] - 2s 6ms/step - loss: 0.4269 - accuracy: 0.9075\n",
            "Epoch 125/200\n",
            "244/244 [==============================] - 2s 6ms/step - loss: 0.4212 - accuracy: 0.9071\n",
            "Epoch 126/200\n",
            "244/244 [==============================] - 1s 6ms/step - loss: 0.4138 - accuracy: 0.9112\n",
            "Epoch 127/200\n",
            "244/244 [==============================] - 2s 6ms/step - loss: 0.4129 - accuracy: 0.9091\n",
            "Epoch 128/200\n",
            "244/244 [==============================] - 2s 6ms/step - loss: 0.4058 - accuracy: 0.9093\n",
            "Epoch 129/200\n",
            "244/244 [==============================] - 2s 6ms/step - loss: 0.3940 - accuracy: 0.9116\n",
            "Epoch 130/200\n",
            "244/244 [==============================] - 2s 6ms/step - loss: 0.3885 - accuracy: 0.9117\n",
            "Epoch 131/200\n",
            "244/244 [==============================] - 2s 6ms/step - loss: 0.3838 - accuracy: 0.9134\n",
            "Epoch 132/200\n",
            "244/244 [==============================] - 2s 6ms/step - loss: 0.3778 - accuracy: 0.9130\n",
            "Epoch 133/200\n",
            "244/244 [==============================] - 2s 6ms/step - loss: 0.3729 - accuracy: 0.9145\n",
            "Epoch 134/200\n",
            "244/244 [==============================] - 2s 6ms/step - loss: 0.3673 - accuracy: 0.9120\n",
            "Epoch 135/200\n",
            "244/244 [==============================] - 1s 6ms/step - loss: 0.3625 - accuracy: 0.9146\n",
            "Epoch 136/200\n",
            "244/244 [==============================] - 2s 6ms/step - loss: 0.3601 - accuracy: 0.9134\n",
            "Epoch 137/200\n",
            "244/244 [==============================] - 1s 6ms/step - loss: 0.3543 - accuracy: 0.9148\n",
            "Epoch 138/200\n",
            "244/244 [==============================] - 1s 6ms/step - loss: 0.3500 - accuracy: 0.9149\n",
            "Epoch 139/200\n",
            "244/244 [==============================] - 1s 6ms/step - loss: 0.3448 - accuracy: 0.9166\n",
            "Epoch 140/200\n",
            "244/244 [==============================] - 1s 6ms/step - loss: 0.3416 - accuracy: 0.9159\n",
            "Epoch 141/200\n",
            "244/244 [==============================] - 1s 6ms/step - loss: 0.3386 - accuracy: 0.9161\n",
            "Epoch 142/200\n",
            "244/244 [==============================] - 1s 6ms/step - loss: 0.3336 - accuracy: 0.9154\n",
            "Epoch 143/200\n",
            "244/244 [==============================] - 1s 6ms/step - loss: 0.3316 - accuracy: 0.9150\n",
            "Epoch 144/200\n",
            "244/244 [==============================] - 1s 6ms/step - loss: 0.3281 - accuracy: 0.9177\n",
            "Epoch 145/200\n",
            "244/244 [==============================] - 1s 6ms/step - loss: 0.3230 - accuracy: 0.9149\n",
            "Epoch 146/200\n",
            "244/244 [==============================] - 1s 6ms/step - loss: 0.3191 - accuracy: 0.9167\n",
            "Epoch 147/200\n",
            "244/244 [==============================] - 1s 6ms/step - loss: 0.3175 - accuracy: 0.9164\n",
            "Epoch 148/200\n",
            "244/244 [==============================] - 2s 6ms/step - loss: 0.3148 - accuracy: 0.9164\n",
            "Epoch 149/200\n",
            "244/244 [==============================] - 1s 6ms/step - loss: 0.3309 - accuracy: 0.9136\n",
            "Epoch 150/200\n",
            "244/244 [==============================] - 2s 6ms/step - loss: 0.3292 - accuracy: 0.9145\n",
            "Epoch 151/200\n",
            "244/244 [==============================] - 1s 6ms/step - loss: 0.3121 - accuracy: 0.9170\n",
            "Epoch 152/200\n",
            "244/244 [==============================] - 1s 6ms/step - loss: 0.3063 - accuracy: 0.9146\n",
            "Epoch 153/200\n",
            "244/244 [==============================] - 1s 6ms/step - loss: 0.3028 - accuracy: 0.9155\n",
            "Epoch 154/200\n",
            "244/244 [==============================] - 1s 6ms/step - loss: 0.3015 - accuracy: 0.9175\n",
            "Epoch 155/200\n",
            "244/244 [==============================] - 2s 6ms/step - loss: 0.2982 - accuracy: 0.9166\n",
            "Epoch 156/200\n",
            "244/244 [==============================] - 2s 6ms/step - loss: 0.2960 - accuracy: 0.9173\n",
            "Epoch 157/200\n",
            "244/244 [==============================] - 2s 6ms/step - loss: 0.2964 - accuracy: 0.9162\n",
            "Epoch 158/200\n",
            "244/244 [==============================] - 2s 6ms/step - loss: 0.2945 - accuracy: 0.9167\n",
            "Epoch 159/200\n",
            "244/244 [==============================] - 2s 6ms/step - loss: 0.2919 - accuracy: 0.9173\n",
            "Epoch 160/200\n",
            "244/244 [==============================] - 1s 6ms/step - loss: 0.2907 - accuracy: 0.9166\n",
            "Epoch 161/200\n",
            "244/244 [==============================] - 1s 6ms/step - loss: 0.2903 - accuracy: 0.9166\n",
            "Epoch 162/200\n",
            "244/244 [==============================] - 2s 6ms/step - loss: 0.2888 - accuracy: 0.9177\n",
            "Epoch 163/200\n",
            "244/244 [==============================] - 1s 6ms/step - loss: 0.2860 - accuracy: 0.9176\n",
            "Epoch 164/200\n",
            "244/244 [==============================] - 2s 6ms/step - loss: 0.2858 - accuracy: 0.9166\n",
            "Epoch 165/200\n",
            "244/244 [==============================] - 1s 6ms/step - loss: 0.2843 - accuracy: 0.9170\n",
            "Epoch 166/200\n",
            "244/244 [==============================] - 2s 6ms/step - loss: 0.2897 - accuracy: 0.9144\n",
            "Epoch 167/200\n",
            "244/244 [==============================] - 2s 6ms/step - loss: 0.2918 - accuracy: 0.9155\n",
            "Epoch 168/200\n",
            "244/244 [==============================] - 2s 6ms/step - loss: 0.2984 - accuracy: 0.9157\n",
            "Epoch 169/200\n",
            "244/244 [==============================] - 2s 6ms/step - loss: 0.2893 - accuracy: 0.9159\n",
            "Epoch 170/200\n",
            "244/244 [==============================] - 2s 6ms/step - loss: 0.2805 - accuracy: 0.9177\n",
            "Epoch 171/200\n",
            "244/244 [==============================] - 2s 6ms/step - loss: 0.2771 - accuracy: 0.9163\n",
            "Epoch 172/200\n",
            "244/244 [==============================] - 2s 6ms/step - loss: 0.2761 - accuracy: 0.9170\n",
            "Epoch 173/200\n",
            "244/244 [==============================] - 1s 6ms/step - loss: 0.2752 - accuracy: 0.9162\n",
            "Epoch 174/200\n",
            "244/244 [==============================] - 1s 6ms/step - loss: 0.2738 - accuracy: 0.9166\n",
            "Epoch 175/200\n",
            "244/244 [==============================] - 2s 6ms/step - loss: 0.2731 - accuracy: 0.9166\n",
            "Epoch 176/200\n",
            "244/244 [==============================] - 2s 6ms/step - loss: 0.2729 - accuracy: 0.9168\n",
            "Epoch 177/200\n",
            "244/244 [==============================] - 2s 6ms/step - loss: 0.2724 - accuracy: 0.9153\n",
            "Epoch 178/200\n",
            "244/244 [==============================] - 1s 6ms/step - loss: 0.2718 - accuracy: 0.9173\n",
            "Epoch 179/200\n",
            "244/244 [==============================] - 2s 6ms/step - loss: 0.2720 - accuracy: 0.9175\n",
            "Epoch 180/200\n",
            "244/244 [==============================] - 2s 6ms/step - loss: 0.2713 - accuracy: 0.9162\n",
            "Epoch 181/200\n",
            "244/244 [==============================] - 2s 6ms/step - loss: 0.2728 - accuracy: 0.9162\n",
            "Epoch 182/200\n",
            "244/244 [==============================] - 2s 6ms/step - loss: 0.2704 - accuracy: 0.9171\n",
            "Epoch 183/200\n",
            "244/244 [==============================] - 2s 6ms/step - loss: 0.2694 - accuracy: 0.9181\n",
            "Epoch 184/200\n",
            "244/244 [==============================] - 2s 6ms/step - loss: 0.2686 - accuracy: 0.9168\n",
            "Epoch 185/200\n",
            "244/244 [==============================] - 1s 6ms/step - loss: 0.2677 - accuracy: 0.9157\n",
            "Epoch 186/200\n",
            "244/244 [==============================] - 2s 6ms/step - loss: 0.2680 - accuracy: 0.9155\n",
            "Epoch 187/200\n",
            "244/244 [==============================] - 2s 6ms/step - loss: 0.2663 - accuracy: 0.9152\n",
            "Epoch 188/200\n",
            "244/244 [==============================] - 2s 6ms/step - loss: 0.2658 - accuracy: 0.9166\n",
            "Epoch 189/200\n",
            "244/244 [==============================] - 2s 6ms/step - loss: 0.2663 - accuracy: 0.9166\n",
            "Epoch 190/200\n",
            "244/244 [==============================] - 2s 6ms/step - loss: 0.2657 - accuracy: 0.9161\n",
            "Epoch 191/200\n",
            "244/244 [==============================] - 1s 6ms/step - loss: 0.2661 - accuracy: 0.9155\n",
            "Epoch 192/200\n",
            "244/244 [==============================] - 1s 6ms/step - loss: 0.2782 - accuracy: 0.9138\n",
            "Epoch 193/200\n",
            "244/244 [==============================] - 1s 6ms/step - loss: 0.3043 - accuracy: 0.9085\n",
            "Epoch 194/200\n",
            "244/244 [==============================] - 2s 6ms/step - loss: 0.2726 - accuracy: 0.9158\n",
            "Epoch 195/200\n",
            "244/244 [==============================] - 2s 6ms/step - loss: 0.2642 - accuracy: 0.9175\n",
            "Epoch 196/200\n",
            "244/244 [==============================] - 2s 6ms/step - loss: 0.2637 - accuracy: 0.9171\n",
            "Epoch 197/200\n",
            "244/244 [==============================] - 2s 6ms/step - loss: 0.2634 - accuracy: 0.9164\n",
            "Epoch 198/200\n",
            "244/244 [==============================] - 2s 6ms/step - loss: 0.2615 - accuracy: 0.9161\n",
            "Epoch 199/200\n",
            "244/244 [==============================] - 2s 6ms/step - loss: 0.2612 - accuracy: 0.9170\n",
            "Epoch 200/200\n",
            "244/244 [==============================] - 2s 6ms/step - loss: 0.2613 - accuracy: 0.9163\n"
          ]
        },
        {
          "output_type": "execute_result",
          "data": {
            "text/plain": [
              "<keras.callbacks.History at 0x7f284a425490>"
            ]
          },
          "metadata": {},
          "execution_count": 22
        }
      ]
    },
    {
      "cell_type": "code",
      "source": [
        "def sentence_generation(model, tokenizer, current_word, n): # 모델, 토크나이저, 현재 단어, 반복할 횟수\n",
        "    init_word = current_word\n",
        "    sentence = ''\n",
        "\n",
        "    # n번 반복\n",
        "    for _ in range(n):\n",
        "        encoded = tokenizer.texts_to_sequences([current_word])[0]\n",
        "        encoded = pad_sequences([encoded], maxlen=max_len-1, padding='pre')\n",
        "\n",
        "        # 입력한 X(현재 단어)에 대해서 y를 예측하고 y(예측한 단어)를 result에 저장.\n",
        "        result = model.predict(encoded, verbose=0)\n",
        "        result = np.argmax(result, axis=1)\n",
        "\n",
        "        for word, index in tokenizer.word_index.items():\n",
        "            # 만약 예측한 단어와 인덱스와 동일한 단어가 있다면\n",
        "            if index == result:\n",
        "                break\n",
        "\n",
        "        # 현재 단어 + ' ' + 예측 단어를 현재 단어로 변경\n",
        "        current_word = current_word + ' '  + word\n",
        "\n",
        "        # 예측 단어를 문장에 저장\n",
        "        sentence = sentence + ' ' + word\n",
        "\n",
        "    sentence = init_word + sentence\n",
        "    return sentence"
      ],
      "metadata": {
        "id": "akoCrXD8GD2P"
      },
      "execution_count": null,
      "outputs": []
    },
    {
      "cell_type": "code",
      "source": [
        "print(sentence_generation(model, tokenizer, 'i', 10))\n"
      ],
      "metadata": {
        "colab": {
          "base_uri": "https://localhost:8080/"
        },
        "id": "pRuHEyMURS1n",
        "outputId": "160a7a09-cbd8-457f-afc0-fe16ea84e33a"
      },
      "execution_count": null,
      "outputs": [
        {
          "output_type": "stream",
          "name": "stdout",
          "text": [
            "i disapprove of school vouchers can i still apply for them\n"
          ]
        }
      ]
    },
    {
      "cell_type": "code",
      "source": [
        "print(sentence_generation(model, tokenizer, 'what', 15))\n"
      ],
      "metadata": {
        "colab": {
          "base_uri": "https://localhost:8080/"
        },
        "id": "_qtSfjYERSzb",
        "outputId": "64a43bdf-7355-480e-938e-5e02c6a35698"
      },
      "execution_count": null,
      "outputs": [
        {
          "output_type": "stream",
          "name": "stdout",
          "text": [
            "what the heck is that niobe wont be alive on the past of died and weapons\n"
          ]
        }
      ]
    }
  ]
}