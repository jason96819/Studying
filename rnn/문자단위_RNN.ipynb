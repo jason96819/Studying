{
  "nbformat": 4,
  "nbformat_minor": 0,
  "metadata": {
    "colab": {
      "provenance": [],
      "authorship_tag": "ABX9TyN5BzWdeeOLHvYzIPXwosR8",
      "include_colab_link": true
    },
    "kernelspec": {
      "name": "python3",
      "display_name": "Python 3"
    },
    "language_info": {
      "name": "python"
    },
    "accelerator": "GPU",
    "gpuClass": "standard"
  },
  "cells": [
    {
      "cell_type": "markdown",
      "metadata": {
        "id": "view-in-github",
        "colab_type": "text"
      },
      "source": [
        "<a href=\"https://colab.research.google.com/github/jason96819/Studying/blob/main/rnn/%EB%AC%B8%EC%9E%90%EB%8B%A8%EC%9C%84_RNN.ipynb\" target=\"_parent\"><img src=\"https://colab.research.google.com/assets/colab-badge.svg\" alt=\"Open In Colab\"/></a>"
      ]
    },
    {
      "cell_type": "markdown",
      "source": [
        "# 문자단위 RNN\n",
        "지금까지 배운 RNN은 전부 입려과 출력의 단위가 단어 벡터였습니다. 하지만 입출려그이 단위를 단어 레벨에서 문자 레벨로 변경해 RNN을 구현할 수 있습니다."
      ],
      "metadata": {
        "id": "an4A8yuBAKFD"
      }
    },
    {
      "cell_type": "markdown",
      "source": [
        "## 다 대 다 구조를 이용한 문자 단위 RNN 언어 모델\n",
        "이전 시점의 예측 문자를 다음 시점의 입력으로 사용하는 문자 단위 RNN 언어 모델을 구현해보겠습니다.\n",
        "앞서 배운 단어 단위 RNN 언어 모델과 다른 점은 단어 단위가 아니라 문자 단위를 입, 출력으로 사용하므로 임베딩층을 여기서는 사용하지 않습니다. 여기서는 언어 모델의 훈련 과정과 테스트 과정의 차이를 이해하는데 집중합니다."
      ],
      "metadata": {
        "id": "VL5S_mIkAuxZ"
      }
    },
    {
      "cell_type": "markdown",
      "source": [
        "### 데이터에 대한 이해와 전처리\n",
        "'이상한 나라의 앨리스'소설을 다운로드해 데이터를 로드하고 특수문자를 제거하고 단어를 소문자화하는 간단한 전처리를 수행하겠습니다."
      ],
      "metadata": {
        "id": "84QrkW_LBNTx"
      }
    },
    {
      "cell_type": "code",
      "source": [
        "import numpy as np\n",
        "import urllib.request\n",
        "from tensorflow.keras.utils import to_categorical\n",
        "\n",
        "# 데이터 로드\n",
        "urllib.request.urlretrieve(\"http://www.gutenberg.org/files/11/11-0.txt\", filename=\"11-0.txt\")\n",
        "\n",
        "f = open('11-0.txt', 'rb')\n",
        "sentences = []\n",
        "for sentence in f:                                                                                                                                    # 데이터로부터 한 줄씩 읽는다.\n",
        "    sentence = sentence.strip()                                                                                                                 # strip()을 통해 \\r, \\n을 제거한다.\n",
        "    sentence = sentence.lower()                                                                                                               # 소문자화.\n",
        "    sentence = sentence.decode('ascii', 'ignore')                                                                                       # \\xe2 \\x80 \\x99 등과 같은 바이트 열 제거\n",
        "    if len(sentence) > 0:\n",
        "        sentences.append(sentence)\n",
        "f.close()"
      ],
      "metadata": {
        "id": "HAvtigSUAVLj"
      },
      "execution_count": null,
      "outputs": []
    },
    {
      "cell_type": "code",
      "source": [
        "sentences[:5]"
      ],
      "metadata": {
        "colab": {
          "base_uri": "https://localhost:8080/"
        },
        "id": "uoJN1ikEAVJN",
        "outputId": "210108ca-e290-40c0-ea51-b82dcbfe615c"
      },
      "execution_count": null,
      "outputs": [
        {
          "output_type": "execute_result",
          "data": {
            "text/plain": [
              "['the project gutenberg ebook of alices adventures in wonderland, by lewis carroll',\n",
              " 'this ebook is for the use of anyone anywhere in the united states and',\n",
              " 'most other parts of the world at no cost and with almost no restrictions',\n",
              " 'whatsoever. you may copy it, give it away or re-use it under the terms',\n",
              " 'of the project gutenberg license included with this ebook or online at']"
            ]
          },
          "metadata": {},
          "execution_count": 2
        }
      ]
    },
    {
      "cell_type": "code",
      "source": [
        "# 리스트의 원소는 문자열로 구성되어져 있는데 의미있게 문장 토큰화가 된 상태는 아닙니다.\n",
        "# 이를 하나의 문자열로 통합하겠습니다.\n",
        "\n",
        "total_data = ' '.join(sentences)\n",
        "print('문자열의 길이 또는 총 문자의 개수: %d' % len(total_data))"
      ],
      "metadata": {
        "colab": {
          "base_uri": "https://localhost:8080/"
        },
        "id": "BD8D-TfkAVHE",
        "outputId": "486b7cee-121a-417e-e4f4-fa58a0c3bb6e"
      },
      "execution_count": null,
      "outputs": [
        {
          "output_type": "stream",
          "name": "stdout",
          "text": [
            "문자열의 길이 또는 총 문자의 개수: 159484\n"
          ]
        }
      ]
    },
    {
      "cell_type": "code",
      "source": [
        "# 하나의 문자열로 통합되었고, 문자열의 길이는 약 15만 9천입니다. 일부 출력해보겠습니다.\n",
        "\n",
        "print(total_data[:85])"
      ],
      "metadata": {
        "colab": {
          "base_uri": "https://localhost:8080/"
        },
        "id": "Tmy-F8GQAVEi",
        "outputId": "4975199c-8ecc-4870-99c0-626a34e32144"
      },
      "execution_count": null,
      "outputs": [
        {
          "output_type": "stream",
          "name": "stdout",
          "text": [
            "the project gutenberg ebook of alices adventures in wonderland, by lewis carroll this\n"
          ]
        }
      ]
    },
    {
      "cell_type": "code",
      "source": [
        "# 이 문자열로부터 문자 집합을 만들겠습니다. 기존에는 중복을 제거한 단어들의 모음인 단어 집합(vocabulary)을 만들었으나,\n",
        "# 이번에 만들 집합은 단어 집합이 아니라 문자 집합입니다.\n",
        "\n",
        "char_vocab = sorted(list(set(total_data)))\n",
        "vocab_size = len(char_vocab)\n",
        "print ('문자 집합의 크기 : {}'.format(vocab_size))"
      ],
      "metadata": {
        "colab": {
          "base_uri": "https://localhost:8080/"
        },
        "id": "5HB01E3XAU_S",
        "outputId": "4b6e6833-98ea-4018-b11f-f21056f1a193"
      },
      "execution_count": null,
      "outputs": [
        {
          "output_type": "stream",
          "name": "stdout",
          "text": [
            "문자 집합의 크기 : 56\n"
          ]
        }
      ]
    },
    {
      "cell_type": "code",
      "source": [
        "'''\n",
        "영어가 훈련 데이터일 때 문자 집합의 크기는 단어 집합을 사용했을 경우보다 집합의 크기가 현저히 작습니다.\n",
        "아무리 훈련 코퍼스에 수십만 개 이상의 많은 영어 단어가 존재한다고 하더라도, 영어 단어를 표현하기 위해서\n",
        "사용되는 문자는 26개의 알파벳뿐이기 때문입니다. 만약 훈련 데이터의 알파벳이 대, 소문자가 구분된 상태라고\n",
        "하더라도 모든 영어 단어는 총 52개의 알파벳으로 표현 가능합니다.\n",
        "\n",
        "어떤 방대한 양의 텍스트라도 집합의 크기를 적게 가져갈 수 있다는 것은 구현과 테스트를 굉장히 쉽게 할 수\n",
        "있다는 이점을 가지므로, RNN의 동작 메커니즘 이해를 위한 토이 프로젝트 용도로 유용합니다. 문자 집합의\n",
        "각 문자에 정수를 부여하고 출력해보겠습니다.\n",
        "'''\n",
        "\n",
        "# 문자에 고유한 정수 부여\n",
        "char_to_index = dict((char, index) for index, char in enumerate(char_vocab))\n",
        "print('문자 집합 :',char_to_index)"
      ],
      "metadata": {
        "colab": {
          "base_uri": "https://localhost:8080/"
        },
        "id": "9atnOGHvCO_M",
        "outputId": "5f704d1d-54b9-4feb-c2f6-bcc0a93eb327"
      },
      "execution_count": null,
      "outputs": [
        {
          "output_type": "stream",
          "name": "stdout",
          "text": [
            "문자 집합 : {' ': 0, '!': 1, '\"': 2, '#': 3, '$': 4, '%': 5, \"'\": 6, '(': 7, ')': 8, '*': 9, ',': 10, '-': 11, '.': 12, '/': 13, '0': 14, '1': 15, '2': 16, '3': 17, '4': 18, '5': 19, '6': 20, '7': 21, '8': 22, '9': 23, ':': 24, ';': 25, '?': 26, '[': 27, ']': 28, '_': 29, 'a': 30, 'b': 31, 'c': 32, 'd': 33, 'e': 34, 'f': 35, 'g': 36, 'h': 37, 'i': 38, 'j': 39, 'k': 40, 'l': 41, 'm': 42, 'n': 43, 'o': 44, 'p': 45, 'q': 46, 'r': 47, 's': 48, 't': 49, 'u': 50, 'v': 51, 'w': 52, 'x': 53, 'y': 54, 'z': 55}\n"
          ]
        }
      ]
    },
    {
      "cell_type": "code",
      "source": [
        "# 정수 0부터 29까지는 공백을 포함한 각종 구두점, 특수문자가 존재하고, 정수 30부터 54까지는 a부터 z까지\n",
        "# 총 26개의 알파벳 소문자가 문자 집합에 포함되어져 있습니다. 반대로 정수로부터 문자를 리턴하는 index_to_char을 만듭니다.\n",
        "\n",
        "index_to_char = {}\n",
        "for key, value in char_to_index.items():\n",
        "    index_to_char[value] = key"
      ],
      "metadata": {
        "id": "6LTAOs4bCO9J"
      },
      "execution_count": null,
      "outputs": []
    },
    {
      "cell_type": "code",
      "source": [
        "'''\n",
        "훈련 데이터를 구성해보겠습니다. 훈련 데이터 구성을 위한 간소화 된 예를 들어봅시다.\n",
        "훈련 데이터에 apple이라는 시퀀스가 있고, 입력의 길이를 4라고 정하였을 때 데이터의 구성은 어떻게 될까요?\n",
        "입력의 길이가 4이므로 입력 시퀀스와 예측해야 하는 출력 시퀀스 모두 길이는 4가 됩니다.\n",
        "다시 말해 RNN은 총 네 번의 시점을(timestep)을 가질 수 있다는 의미입니다.\n",
        "apple은 다섯 글자이지만 입력의 길이는 4이므로 'appl'까지만 입력으로 사용할 수 있습니다.\n",
        "그리고 언어 모델은 다음 시점의 입력을 예측해야하는 모델이므로 'pple'를 예측하도록 데이터가 구성됩니다.\n",
        "'''\n",
        "\n",
        "# appl (입력 시퀀스) -> pple (예측해야하는 시퀀스)\n",
        "train_X = 'appl'\n",
        "train_y = 'pple'"
      ],
      "metadata": {
        "id": "eMbru2XRCO7C"
      },
      "execution_count": null,
      "outputs": []
    },
    {
      "cell_type": "code",
      "source": [
        "'''\n",
        "이제 15만 9천의 길이를 가진 문자열로부터 다수의 샘플들을 만들어보겠습니다.\n",
        "데이터를 만드는 방법은 문장 샘플의 길이를 정하고, 해당 길이만큼 문자열 전체를 등분하는 것입니다.\n",
        "여기서는 문장의 길이를 60으로 정했는데, 결국 15만 9천을 60으로 나눈 수가 샘플의 수가 됩니다.\n",
        "몇 개의 샘플을 만들 수 있을지 그 개수를 계산해봅시다.\n",
        "'''\n",
        "\n",
        "seq_length = 60\n",
        "\n",
        "# 문자열의 길이를 seq_length로 나누면 전처리 후 생겨날 샘플 수\n",
        "n_samples = int(np.floor((len(total_data) - 1) / seq_length))\n",
        "print ('샘플의 수 : {}'.format(n_samples))"
      ],
      "metadata": {
        "colab": {
          "base_uri": "https://localhost:8080/"
        },
        "id": "mOE1pb1_CO4x",
        "outputId": "03cf7db1-f81e-49b9-bc6f-f610a2af98fd"
      },
      "execution_count": null,
      "outputs": [
        {
          "output_type": "stream",
          "name": "stdout",
          "text": [
            "샘플의 수 : 2658\n"
          ]
        }
      ]
    },
    {
      "cell_type": "code",
      "source": [
        "# 여기서는 총 샘플의 수가 2,658개가 될 예정입니다. 이제 전처리를 진행합니다.\n",
        "# 전처리가 어떻게 진행되었는지는 전처리 후 얻은 train_X와 train_y를 통해 설명하겠습니다.\n",
        "\n",
        "train_X = []\n",
        "train_y = []\n",
        "\n",
        "for i in range(n_samples):\n",
        "    # 0:60 -> 60:120 -> 120:180로 loop를 돌면서 문장 샘플을 1개씩 pick.\n",
        "    X_sample = total_data[i * seq_length: (i + 1) * seq_length]\n",
        "\n",
        "    # 정수 인코딩\n",
        "    X_encoded = [char_to_index[c] for c in X_sample]\n",
        "    train_X.append(X_encoded)\n",
        "\n",
        "    # 오른쪽으로 1칸 쉬프트\n",
        "    y_sample = total_data[i * seq_length + 1: (i + 1) * seq_length + 1]\n",
        "    y_encoded = [char_to_index[c] for c in y_sample]\n",
        "    train_y.append(y_encoded)"
      ],
      "metadata": {
        "id": "ODQK8kvBCO2Z"
      },
      "execution_count": null,
      "outputs": []
    },
    {
      "cell_type": "code",
      "source": [
        "# train_X와 train_y의 첫번째 샘플을 출력해봅시다.\n",
        "\n",
        "print('X 데이터의 첫번째 샘플 :',train_X[0])\n",
        "print('y 데이터의 첫번째 샘플 :',train_y[0])\n",
        "print('-'*50)\n",
        "print('X 데이터의 첫번째 샘플 디코딩 :',[index_to_char[i] for i in train_X[0]])\n",
        "print('y 데이터의 첫번째 샘플 디코딩 :',[index_to_char[i] for i in train_y[0]])"
      ],
      "metadata": {
        "colab": {
          "base_uri": "https://localhost:8080/"
        },
        "id": "yazdsBNGCOzx",
        "outputId": "b902c910-a847-45b2-abf6-c2a116bd63e5"
      },
      "execution_count": null,
      "outputs": [
        {
          "output_type": "stream",
          "name": "stdout",
          "text": [
            "X 데이터의 첫번째 샘플 : [49, 37, 34, 0, 45, 47, 44, 39, 34, 32, 49, 0, 36, 50, 49, 34, 43, 31, 34, 47, 36, 0, 34, 31, 44, 44, 40, 0, 44, 35, 0, 30, 41, 38, 32, 34, 48, 0, 30, 33, 51, 34, 43, 49, 50, 47, 34, 48, 0, 38, 43, 0, 52, 44, 43, 33, 34, 47, 41, 30]\n",
            "y 데이터의 첫번째 샘플 : [37, 34, 0, 45, 47, 44, 39, 34, 32, 49, 0, 36, 50, 49, 34, 43, 31, 34, 47, 36, 0, 34, 31, 44, 44, 40, 0, 44, 35, 0, 30, 41, 38, 32, 34, 48, 0, 30, 33, 51, 34, 43, 49, 50, 47, 34, 48, 0, 38, 43, 0, 52, 44, 43, 33, 34, 47, 41, 30, 43]\n",
            "--------------------------------------------------\n",
            "X 데이터의 첫번째 샘플 디코딩 : ['t', 'h', 'e', ' ', 'p', 'r', 'o', 'j', 'e', 'c', 't', ' ', 'g', 'u', 't', 'e', 'n', 'b', 'e', 'r', 'g', ' ', 'e', 'b', 'o', 'o', 'k', ' ', 'o', 'f', ' ', 'a', 'l', 'i', 'c', 'e', 's', ' ', 'a', 'd', 'v', 'e', 'n', 't', 'u', 'r', 'e', 's', ' ', 'i', 'n', ' ', 'w', 'o', 'n', 'd', 'e', 'r', 'l', 'a']\n",
            "y 데이터의 첫번째 샘플 디코딩 : ['h', 'e', ' ', 'p', 'r', 'o', 'j', 'e', 'c', 't', ' ', 'g', 'u', 't', 'e', 'n', 'b', 'e', 'r', 'g', ' ', 'e', 'b', 'o', 'o', 'k', ' ', 'o', 'f', ' ', 'a', 'l', 'i', 'c', 'e', 's', ' ', 'a', 'd', 'v', 'e', 'n', 't', 'u', 'r', 'e', 's', ' ', 'i', 'n', ' ', 'w', 'o', 'n', 'd', 'e', 'r', 'l', 'a', 'n']\n"
          ]
        }
      ]
    },
    {
      "cell_type": "code",
      "source": [
        "# train_y[0]은 train_X[0]에서 오른쪽으로 한 칸 쉬프트 된 문장임을 알 수 있습니다.\n",
        "# train_X와 train_y의 두번째 샘플. 즉, 인덱스가 1번인 샘플을 출력하여 데이터의 구성을 확인해봅시다.\n",
        "\n",
        "print(train_X[1])\n",
        "print(train_y[1])"
      ],
      "metadata": {
        "colab": {
          "base_uri": "https://localhost:8080/"
        },
        "id": "oTZ6mEDbCOwy",
        "outputId": "542e539d-19f5-4ece-b66e-8d137f70f1f4"
      },
      "execution_count": null,
      "outputs": [
        {
          "output_type": "stream",
          "name": "stdout",
          "text": [
            "[43, 33, 10, 0, 31, 54, 0, 41, 34, 52, 38, 48, 0, 32, 30, 47, 47, 44, 41, 41, 0, 49, 37, 38, 48, 0, 34, 31, 44, 44, 40, 0, 38, 48, 0, 35, 44, 47, 0, 49, 37, 34, 0, 50, 48, 34, 0, 44, 35, 0, 30, 43, 54, 44, 43, 34, 0, 30, 43, 54]\n",
            "[33, 10, 0, 31, 54, 0, 41, 34, 52, 38, 48, 0, 32, 30, 47, 47, 44, 41, 41, 0, 49, 37, 38, 48, 0, 34, 31, 44, 44, 40, 0, 38, 48, 0, 35, 44, 47, 0, 49, 37, 34, 0, 50, 48, 34, 0, 44, 35, 0, 30, 43, 54, 44, 43, 34, 0, 30, 43, 54, 52]\n"
          ]
        }
      ]
    },
    {
      "cell_type": "code",
      "source": [
        "'''\n",
        "마찬가지로 train_y[1]은 train_X[1]에서 오른쪽으로 한 칸 쉬프트 된 문장임을 알 수 있습니다.\n",
        "이제 train_X와 train_y에 대해서 원-핫 인코딩을 수행합니다.\n",
        "문자 단위 RNN에서는 입력 시퀀스에 대해서 워드 임베딩을 하지 않습니다.\n",
        "다시 말해 임베딩층(embedding layer)을 사용하지 않을 것이므로,\n",
        "입력 시퀀스인 train_X에 대해서도 원-핫 인코딩을 합니다.\n",
        "'''\n",
        "\n",
        "train_X = to_categorical(train_X)\n",
        "train_y = to_categorical(train_y)\n",
        "\n",
        "print('train_X의 크기(shape) : {}'.format(train_X.shape)) # 원-핫 인코딩\n",
        "print('train_y의 크기(shape) : {}'.format(train_y.shape)) # 원-핫 인코딩"
      ],
      "metadata": {
        "colab": {
          "base_uri": "https://localhost:8080/"
        },
        "id": "gKKjxRs8COuL",
        "outputId": "a4bf280e-8ce0-4d09-b06a-f52f189d3c6b"
      },
      "execution_count": null,
      "outputs": [
        {
          "output_type": "stream",
          "name": "stdout",
          "text": [
            "train_X의 크기(shape) : (2658, 60, 56)\n",
            "train_y의 크기(shape) : (2658, 60, 56)\n"
          ]
        }
      ]
    },
    {
      "cell_type": "code",
      "source": [
        "'''\n",
        "train_X와 train_y의 크기는 2,658 × 60 × 56 입니다.\n",
        "\n",
        "이는 샘플의 수(No. of samples)가 2,658개, 입력 시퀀스의 길이(input_length)가 60,\n",
        "각 벡터의 차원(input_dim)이 55임을 의미합니다.\n",
        "원-핫 벡터의 차원은 문자 집합의 크기인 56이어야 하므로 원-핫 인코딩이 수행되었음을 알 수 있습니다.\n",
        "'''"
      ],
      "metadata": {
        "id": "rlk8bLomD3Ue"
      },
      "execution_count": null,
      "outputs": []
    },
    {
      "cell_type": "markdown",
      "source": [
        "### 모델 설계하기\n",
        "하이퍼파라미터인 은닉 상태의 크기는 256입니다. 모델은 다 대 다 구조의 LSTM을 사용하며, LSTM 은닉층은 두 개를 사용합니다. 전결합층(Fully Connected Layer)을 출력층으로 문자 집합 크기만큼의 뉴런을 배치하여 모델을 설계합니다. 해당 모델은 모든 시점에서 모든 가능한 문자 중 하나의 문자를 예측하는 다중 클래스 분류 문제를 수행하는 모델입니다. 출력층에 소프트맥스 회귀를 사용해야 하므로 활성화 함수로는 소프트맥스 함수를 사용하고, 손실 함수로 크로스 엔트로피 함수를 사용하여 80 에포크를 수행합니다."
      ],
      "metadata": {
        "id": "VLVgpZEYD74W"
      }
    },
    {
      "cell_type": "code",
      "source": [
        "from tensorflow.keras.models import Sequential\n",
        "from tensorflow.keras.layers import Dense, LSTM, TimeDistributed\n",
        "\n",
        "hidden_units = 256\n",
        "\n",
        "model = Sequential()\n",
        "model.add(LSTM(hidden_units, input_shape=(None, train_X.shape[2]), return_sequences=True))\n",
        "model.add(LSTM(hidden_units, return_sequences=True))\n",
        "model.add(TimeDistributed(Dense(vocab_size, activation='softmax')))\n",
        "\n",
        "model.compile(loss='categorical_crossentropy', optimizer='adam', metrics=['accuracy'])\n",
        "model.fit(train_X, train_y, epochs=80, verbose=2)"
      ],
      "metadata": {
        "colab": {
          "base_uri": "https://localhost:8080/"
        },
        "id": "aSmgaJMTEEEw",
        "outputId": "7b4d8bff-f29c-4ee9-d001-1df6de1bd6f5"
      },
      "execution_count": null,
      "outputs": [
        {
          "output_type": "stream",
          "name": "stdout",
          "text": [
            "Epoch 1/80\n",
            "84/84 - 51s - loss: 3.0684 - accuracy: 0.1826 - 51s/epoch - 610ms/step\n",
            "Epoch 2/80\n",
            "84/84 - 48s - loss: 2.7651 - accuracy: 0.2403 - 48s/epoch - 574ms/step\n",
            "Epoch 3/80\n",
            "84/84 - 47s - loss: 2.4105 - accuracy: 0.3257 - 47s/epoch - 561ms/step\n",
            "Epoch 4/80\n",
            "84/84 - 47s - loss: 2.2737 - accuracy: 0.3560 - 47s/epoch - 562ms/step\n",
            "Epoch 5/80\n",
            "84/84 - 47s - loss: 2.1768 - accuracy: 0.3786 - 47s/epoch - 556ms/step\n",
            "Epoch 6/80\n",
            "84/84 - 47s - loss: 2.1034 - accuracy: 0.3974 - 47s/epoch - 563ms/step\n",
            "Epoch 7/80\n",
            "84/84 - 49s - loss: 2.0373 - accuracy: 0.4141 - 49s/epoch - 577ms/step\n",
            "Epoch 8/80\n",
            "84/84 - 47s - loss: 1.9808 - accuracy: 0.4310 - 47s/epoch - 565ms/step\n",
            "Epoch 9/80\n",
            "84/84 - 47s - loss: 1.9334 - accuracy: 0.4431 - 47s/epoch - 559ms/step\n",
            "Epoch 10/80\n",
            "84/84 - 48s - loss: 1.8869 - accuracy: 0.4544 - 48s/epoch - 569ms/step\n",
            "Epoch 11/80\n",
            "84/84 - 48s - loss: 1.8443 - accuracy: 0.4649 - 48s/epoch - 577ms/step\n",
            "Epoch 12/80\n",
            "84/84 - 47s - loss: 1.8066 - accuracy: 0.4746 - 47s/epoch - 562ms/step\n",
            "Epoch 13/80\n",
            "84/84 - 47s - loss: 1.7672 - accuracy: 0.4841 - 47s/epoch - 557ms/step\n",
            "Epoch 14/80\n",
            "84/84 - 47s - loss: 1.7331 - accuracy: 0.4936 - 47s/epoch - 559ms/step\n",
            "Epoch 15/80\n",
            "84/84 - 47s - loss: 1.6990 - accuracy: 0.5038 - 47s/epoch - 562ms/step\n",
            "Epoch 16/80\n",
            "84/84 - 50s - loss: 1.6667 - accuracy: 0.5120 - 50s/epoch - 595ms/step\n",
            "Epoch 17/80\n",
            "84/84 - 47s - loss: 1.6344 - accuracy: 0.5207 - 47s/epoch - 558ms/step\n",
            "Epoch 18/80\n",
            "84/84 - 48s - loss: 1.6077 - accuracy: 0.5269 - 48s/epoch - 569ms/step\n",
            "Epoch 19/80\n",
            "84/84 - 48s - loss: 1.5759 - accuracy: 0.5362 - 48s/epoch - 576ms/step\n",
            "Epoch 20/80\n",
            "84/84 - 49s - loss: 1.5477 - accuracy: 0.5436 - 49s/epoch - 580ms/step\n",
            "Epoch 21/80\n",
            "84/84 - 48s - loss: 1.5215 - accuracy: 0.5499 - 48s/epoch - 568ms/step\n",
            "Epoch 22/80\n",
            "84/84 - 48s - loss: 1.4940 - accuracy: 0.5576 - 48s/epoch - 573ms/step\n",
            "Epoch 23/80\n",
            "84/84 - 48s - loss: 1.4686 - accuracy: 0.5648 - 48s/epoch - 574ms/step\n",
            "Epoch 24/80\n",
            "84/84 - 49s - loss: 1.4422 - accuracy: 0.5725 - 49s/epoch - 579ms/step\n",
            "Epoch 25/80\n",
            "84/84 - 51s - loss: 1.4171 - accuracy: 0.5799 - 51s/epoch - 609ms/step\n",
            "Epoch 26/80\n",
            "84/84 - 50s - loss: 1.3907 - accuracy: 0.5872 - 50s/epoch - 592ms/step\n",
            "Epoch 27/80\n",
            "84/84 - 49s - loss: 1.3679 - accuracy: 0.5925 - 49s/epoch - 586ms/step\n",
            "Epoch 28/80\n",
            "84/84 - 51s - loss: 1.3400 - accuracy: 0.6007 - 51s/epoch - 605ms/step\n",
            "Epoch 29/80\n",
            "84/84 - 50s - loss: 1.3162 - accuracy: 0.6071 - 50s/epoch - 596ms/step\n",
            "Epoch 30/80\n",
            "84/84 - 52s - loss: 1.2906 - accuracy: 0.6147 - 52s/epoch - 616ms/step\n",
            "Epoch 31/80\n",
            "84/84 - 50s - loss: 1.2658 - accuracy: 0.6222 - 50s/epoch - 598ms/step\n",
            "Epoch 32/80\n",
            "84/84 - 51s - loss: 1.2405 - accuracy: 0.6301 - 51s/epoch - 604ms/step\n",
            "Epoch 33/80\n",
            "84/84 - 51s - loss: 1.2148 - accuracy: 0.6360 - 51s/epoch - 606ms/step\n",
            "Epoch 34/80\n",
            "84/84 - 52s - loss: 1.1907 - accuracy: 0.6439 - 52s/epoch - 623ms/step\n",
            "Epoch 35/80\n",
            "84/84 - 50s - loss: 1.1688 - accuracy: 0.6506 - 50s/epoch - 598ms/step\n",
            "Epoch 36/80\n",
            "84/84 - 50s - loss: 1.1363 - accuracy: 0.6608 - 50s/epoch - 591ms/step\n",
            "Epoch 37/80\n",
            "84/84 - 50s - loss: 1.1164 - accuracy: 0.6655 - 50s/epoch - 599ms/step\n",
            "Epoch 38/80\n",
            "84/84 - 49s - loss: 1.0871 - accuracy: 0.6754 - 49s/epoch - 588ms/step\n",
            "Epoch 39/80\n",
            "84/84 - 52s - loss: 1.0615 - accuracy: 0.6826 - 52s/epoch - 613ms/step\n",
            "Epoch 40/80\n",
            "84/84 - 51s - loss: 1.0359 - accuracy: 0.6906 - 51s/epoch - 608ms/step\n",
            "Epoch 41/80\n",
            "84/84 - 50s - loss: 1.0099 - accuracy: 0.6982 - 50s/epoch - 599ms/step\n",
            "Epoch 42/80\n",
            "84/84 - 50s - loss: 0.9820 - accuracy: 0.7069 - 50s/epoch - 594ms/step\n",
            "Epoch 43/80\n",
            "84/84 - 49s - loss: 0.9663 - accuracy: 0.7108 - 49s/epoch - 589ms/step\n",
            "Epoch 44/80\n",
            "84/84 - 51s - loss: 0.9354 - accuracy: 0.7212 - 51s/epoch - 603ms/step\n",
            "Epoch 45/80\n",
            "84/84 - 50s - loss: 0.9091 - accuracy: 0.7296 - 50s/epoch - 599ms/step\n",
            "Epoch 46/80\n",
            "84/84 - 50s - loss: 0.8765 - accuracy: 0.7397 - 50s/epoch - 597ms/step\n",
            "Epoch 47/80\n",
            "84/84 - 50s - loss: 0.8551 - accuracy: 0.7459 - 50s/epoch - 596ms/step\n",
            "Epoch 48/80\n",
            "84/84 - 49s - loss: 0.8328 - accuracy: 0.7531 - 49s/epoch - 581ms/step\n",
            "Epoch 49/80\n",
            "84/84 - 50s - loss: 0.8029 - accuracy: 0.7632 - 50s/epoch - 596ms/step\n",
            "Epoch 50/80\n",
            "84/84 - 49s - loss: 0.7750 - accuracy: 0.7723 - 49s/epoch - 586ms/step\n",
            "Epoch 51/80\n",
            "84/84 - 49s - loss: 0.7557 - accuracy: 0.7779 - 49s/epoch - 588ms/step\n",
            "Epoch 52/80\n",
            "84/84 - 52s - loss: 0.7384 - accuracy: 0.7836 - 52s/epoch - 623ms/step\n",
            "Epoch 53/80\n",
            "84/84 - 50s - loss: 0.7082 - accuracy: 0.7931 - 50s/epoch - 590ms/step\n",
            "Epoch 54/80\n",
            "84/84 - 50s - loss: 0.6929 - accuracy: 0.7980 - 50s/epoch - 598ms/step\n",
            "Epoch 55/80\n",
            "84/84 - 50s - loss: 0.6646 - accuracy: 0.8078 - 50s/epoch - 599ms/step\n",
            "Epoch 56/80\n",
            "84/84 - 51s - loss: 0.6443 - accuracy: 0.8129 - 51s/epoch - 607ms/step\n",
            "Epoch 57/80\n",
            "84/84 - 50s - loss: 0.6282 - accuracy: 0.8175 - 50s/epoch - 597ms/step\n",
            "Epoch 58/80\n",
            "84/84 - 51s - loss: 0.6087 - accuracy: 0.8244 - 51s/epoch - 602ms/step\n",
            "Epoch 59/80\n",
            "84/84 - 51s - loss: 0.5875 - accuracy: 0.8309 - 51s/epoch - 603ms/step\n",
            "Epoch 60/80\n",
            "84/84 - 51s - loss: 0.5564 - accuracy: 0.8431 - 51s/epoch - 607ms/step\n",
            "Epoch 61/80\n",
            "84/84 - 53s - loss: 0.5434 - accuracy: 0.8449 - 53s/epoch - 629ms/step\n",
            "Epoch 62/80\n",
            "84/84 - 51s - loss: 0.5201 - accuracy: 0.8539 - 51s/epoch - 602ms/step\n",
            "Epoch 63/80\n",
            "84/84 - 51s - loss: 0.5204 - accuracy: 0.8509 - 51s/epoch - 607ms/step\n",
            "Epoch 64/80\n",
            "84/84 - 51s - loss: 0.4821 - accuracy: 0.8658 - 51s/epoch - 608ms/step\n",
            "Epoch 65/80\n",
            "84/84 - 52s - loss: 0.4616 - accuracy: 0.8737 - 52s/epoch - 621ms/step\n",
            "Epoch 66/80\n",
            "84/84 - 51s - loss: 0.4519 - accuracy: 0.8750 - 51s/epoch - 609ms/step\n",
            "Epoch 67/80\n",
            "84/84 - 51s - loss: 0.4298 - accuracy: 0.8840 - 51s/epoch - 612ms/step\n",
            "Epoch 68/80\n",
            "84/84 - 51s - loss: 0.4159 - accuracy: 0.8873 - 51s/epoch - 606ms/step\n",
            "Epoch 69/80\n",
            "84/84 - 53s - loss: 0.3961 - accuracy: 0.8948 - 53s/epoch - 626ms/step\n",
            "Epoch 70/80\n",
            "84/84 - 51s - loss: 0.3822 - accuracy: 0.8981 - 51s/epoch - 613ms/step\n",
            "Epoch 71/80\n",
            "84/84 - 51s - loss: 0.3712 - accuracy: 0.9012 - 51s/epoch - 610ms/step\n",
            "Epoch 72/80\n",
            "84/84 - 52s - loss: 0.3570 - accuracy: 0.9060 - 52s/epoch - 619ms/step\n",
            "Epoch 73/80\n",
            "84/84 - 53s - loss: 0.3367 - accuracy: 0.9134 - 53s/epoch - 630ms/step\n",
            "Epoch 74/80\n",
            "84/84 - 54s - loss: 0.3269 - accuracy: 0.9159 - 54s/epoch - 640ms/step\n",
            "Epoch 75/80\n",
            "84/84 - 54s - loss: 0.3245 - accuracy: 0.9155 - 54s/epoch - 641ms/step\n",
            "Epoch 76/80\n",
            "84/84 - 52s - loss: 0.3048 - accuracy: 0.9228 - 52s/epoch - 619ms/step\n",
            "Epoch 77/80\n",
            "84/84 - 51s - loss: 0.3059 - accuracy: 0.9204 - 51s/epoch - 604ms/step\n",
            "Epoch 78/80\n",
            "84/84 - 52s - loss: 0.2965 - accuracy: 0.9232 - 52s/epoch - 624ms/step\n",
            "Epoch 79/80\n",
            "84/84 - 51s - loss: 0.2683 - accuracy: 0.9343 - 51s/epoch - 603ms/step\n",
            "Epoch 80/80\n",
            "84/84 - 50s - loss: 0.2627 - accuracy: 0.9350 - 50s/epoch - 598ms/step\n"
          ]
        },
        {
          "output_type": "execute_result",
          "data": {
            "text/plain": [
              "<keras.callbacks.History at 0x7f3817553b90>"
            ]
          },
          "metadata": {},
          "execution_count": 17
        }
      ]
    },
    {
      "cell_type": "code",
      "source": [
        "'''\n",
        "특정 문자를 주면 다음 문자를 계속해서 생성해내는 sentence_generation 함수를 구현합니다.\n",
        "인자로 학습한 모델. 그리고 모델로 다음 문자를 몇 번 생성할 것인지 횟수를 전달해주면,\n",
        "해당 함수는 임의로 시작 문자를 정한 뒤에 정해진 횟수만큼의 다음 문자를 지속적으로 예측하여 문장을 생성해냅니다.\n",
        "'''\n",
        "\n",
        "def sentence_generation(model, length):\n",
        "    # 문자에 대한 랜덤한 정수 생성\n",
        "    ix = [np.random.randint(vocab_size)]\n",
        "\n",
        "    # 랜덤한 정수로부터 맵핑되는 문자 생성\n",
        "    y_char = [index_to_char[ix[-1]]]\n",
        "    print(ix[-1],'번 문자',y_char[-1],'로 예측을 시작!')\n",
        "\n",
        "    # (1, length, 55) 크기의 X 생성. 즉, LSTM의 입력 시퀀스 생성\n",
        "    X = np.zeros((1, length, vocab_size))\n",
        "\n",
        "    for i in range(length):\n",
        "        # X[0][i][예측한 문자의 인덱스] = 1, 즉, 예측 문자를 다음 입력 시퀀스에 추가\n",
        "        X[0][i][ix[-1]] = 1\n",
        "        print(index_to_char[ix[-1]], end=\"\")\n",
        "        ix = np.argmax(model.predict(X[:, :i+1, :])[0], 1)\n",
        "        y_char.append(index_to_char[ix[-1]])\n",
        "    return ('').join(y_char)"
      ],
      "metadata": {
        "id": "D5QHdjTmEECX"
      },
      "execution_count": null,
      "outputs": []
    },
    {
      "cell_type": "code",
      "source": [
        "result = sentence_generation(model, 100)\n",
        "print(result)"
      ],
      "metadata": {
        "colab": {
          "base_uri": "https://localhost:8080/"
        },
        "id": "i-R_1j3iEEAA",
        "outputId": "af38fbb7-9aa6-4854-cbfa-98f1f89f9f2c"
      },
      "execution_count": null,
      "outputs": [
        {
          "output_type": "stream",
          "name": "stdout",
          "text": [
            "55 번 문자 z 로 예측을 시작!\n",
            "ze to do it! oh dear! id nearly forgotten that ive got to grow wroce any near or sound of mulding meze to do it! oh dear! id nearly forgotten that ive got to grow wroce any near or sound of mulding mer\n"
          ]
        }
      ]
    },
    {
      "cell_type": "markdown",
      "source": [
        "## 다 대 일 구조를 이용한 문자 단위 RNN 언어 모델\n",
        "이번에는 다 대 일 구조의 RNN을 문자 단위로 학습시키고, 텍스트 생성을 해보겠습니다."
      ],
      "metadata": {
        "id": "c5TwxLMWG4PX"
      }
    },
    {
      "cell_type": "markdown",
      "source": [
        "### 데이터의 이해와 전처리"
      ],
      "metadata": {
        "id": "V6K3dnWrHIvo"
      }
    },
    {
      "cell_type": "code",
      "source": [
        "import numpy as np\n",
        "from tensorflow.keras.utils import to_categorical"
      ],
      "metadata": {
        "id": "XyWMraZ2ED9x"
      },
      "execution_count": null,
      "outputs": []
    },
    {
      "cell_type": "code",
      "source": [
        "raw_text = '''\n",
        "Same bed but it feels just a little bit bigger now.\n",
        "\n",
        "Our song on the radio but it don't sound the same.\n",
        "\n",
        "When our friends talk about you, all it does is just tear me down.\n",
        "\n",
        "Cause my heart breaks a little when I hear your name.\n",
        "\n",
        "It all just sounds like oooooH.\n",
        "\n",
        "Mmm, too young, too dumb to realize.\n",
        "\n",
        "That I should have bought you flowers.\n",
        "\n",
        "And held your hand.\n",
        "\n",
        "Should have gave you all my hours.\n",
        "\n",
        "When I had the chance.\n",
        "\n",
        "Take you to every party.\n",
        "\n",
        "Cause all you wanted to do was dance.\n",
        "\n",
        "Now my babys dancing.\n",
        "\n",
        "But shes dancing with another man.\n",
        "\n",
        "'''"
      ],
      "metadata": {
        "id": "vgcVGAQKED7Q"
      },
      "execution_count": null,
      "outputs": []
    },
    {
      "cell_type": "code",
      "source": [
        "# 위의 텍스트에 존재하는 단락 구분을 없애고 하나의 문자열로 재저장하겠습니다.\n",
        "\n",
        "tokens = raw_text.split()\n",
        "raw_text = ' '.join(tokens)\n",
        "print(raw_text)"
      ],
      "metadata": {
        "colab": {
          "base_uri": "https://localhost:8080/"
        },
        "id": "KgZFPaHeED5A",
        "outputId": "33cb5be5-f644-4cb0-e997-2501520a30f7"
      },
      "execution_count": null,
      "outputs": [
        {
          "output_type": "stream",
          "name": "stdout",
          "text": [
            "Same bed but it feels just a little bit bigger now. Our song on the radio but it don't sound the same. When our friends talk about you, all it does is just tear me down. Cause my heart breaks a little when I hear your name. It all just sounds like oooooH. Mmm, too young, too dumb to realize. That I should have bought you flowers. And held your hand. Should have gave you all my hours. When I had the chance. Take you to every party. Cause all you wanted to do was dance. Now my babys dancing. But shes dancing with another man.\n"
          ]
        }
      ]
    },
    {
      "cell_type": "code",
      "source": [
        "'''\n",
        "단락 구분이 없어지고 하나의 문자열로 재저장되었습니다.\n",
        "이로부터 문자 집합을 만들어보겠습니다.\n",
        "기존에는 중복을 제거한 단어들의 모음인 단어 집합(vocabulary)을 만들었으나,\n",
        "이번에 만들 집합은 단어 집합이 아니라 문자 집합입니다.\n",
        "'''\n",
        "\n",
        "# 중복을 제거한 문자 집합 생성\n",
        "char_vocab = sorted(list(set(raw_text)))\n",
        "vocab_size = len(char_vocab)\n",
        "print('문자 집합 :',char_vocab)\n",
        "print ('문자 집합의 크기 : {}'.format(vocab_size))"
      ],
      "metadata": {
        "colab": {
          "base_uri": "https://localhost:8080/"
        },
        "id": "eM9YBCklED2n",
        "outputId": "5486493e-edcf-47fb-8381-775e8a736037"
      },
      "execution_count": null,
      "outputs": [
        {
          "output_type": "stream",
          "name": "stdout",
          "text": [
            "문자 집합 : [' ', \"'\", ',', '.', 'A', 'B', 'C', 'H', 'I', 'M', 'N', 'O', 'S', 'T', 'W', 'a', 'b', 'c', 'd', 'e', 'f', 'g', 'h', 'i', 'j', 'k', 'l', 'm', 'n', 'o', 'p', 'r', 's', 't', 'u', 'v', 'w', 'y', 'z']\n",
            "문자 집합의 크기 : 39\n"
          ]
        }
      ]
    },
    {
      "cell_type": "code",
      "source": [
        "# 알파벳 또는 구두점 등의 단위의 집합인 문자 집합이 생성되었습니다. 문자 집합의 크기는 33입니다.\n",
        "\n",
        "char_to_index = dict((char, index) for index, char in enumerate(char_vocab)) # 문자에 고유한 정수 인덱스 부여\n",
        "print(char_to_index)"
      ],
      "metadata": {
        "colab": {
          "base_uri": "https://localhost:8080/"
        },
        "id": "iNXwcn0MEDz_",
        "outputId": "65ef6805-ce76-42dd-984a-c2162e426cae"
      },
      "execution_count": null,
      "outputs": [
        {
          "output_type": "stream",
          "name": "stdout",
          "text": [
            "{' ': 0, \"'\": 1, ',': 2, '.': 3, 'A': 4, 'B': 5, 'C': 6, 'H': 7, 'I': 8, 'M': 9, 'N': 10, 'O': 11, 'S': 12, 'T': 13, 'W': 14, 'a': 15, 'b': 16, 'c': 17, 'd': 18, 'e': 19, 'f': 20, 'g': 21, 'h': 22, 'i': 23, 'j': 24, 'k': 25, 'l': 26, 'm': 27, 'n': 28, 'o': 29, 'p': 30, 'r': 31, 's': 32, 't': 33, 'u': 34, 'v': 35, 'w': 36, 'y': 37, 'z': 38}\n"
          ]
        }
      ]
    },
    {
      "cell_type": "code",
      "source": [
        "'''\n",
        "이번 실습의 문자 집합의 경우 훈련 데이터에 등장한 알파벳의 대, 소문자를 구분하고 구두점과 공백을 포함하였습니다.\n",
        "이제 훈련에 사용할 문장 샘플들을 만들어보겠습니다. 여기서는 RNN을 이용한 생성한 텍스트 챕터와 유사하게 데이터를\n",
        "구성합니다.\n",
        "다만, 단위가 문자 단위라는 점이 다릅니다. 예를 들어 훈련 데이터에 student라는 단어가 있고,\n",
        "입력 시퀀스의 길이를 5라고 한다면 입력 시퀀스와 예측해야하는 문자는 다음과 같이 구성됩니다.\n",
        "5개의 입력 문자 시퀀스로부터 다음 문자 시퀀스를 예측하는 것입니다. 즉, RNN의 시점(timesteps)은 5번입니다.\n",
        "\n",
        "stude -> n\n",
        "tuden -> t\n",
        "여기서는 입력 시퀀스의 길이가 10가 되도록 데이터를 구성하겠습니다.\n",
        "예측 대상인 문자도 필요하므로 길이가 11이 되도록 데이터를 구성합니다.\n",
        "'''\n",
        "\n",
        "length = 11\n",
        "sequences = []\n",
        "for i in range(length, len(raw_text)):\n",
        "    seq = raw_text[i-length:i] # 길이 11의 문자열을 지속적으로 만든다.\n",
        "    sequences.append(seq)\n",
        "print('총 훈련 샘플의 수: %d' % len(sequences))"
      ],
      "metadata": {
        "colab": {
          "base_uri": "https://localhost:8080/"
        },
        "id": "CyvkzpPVEDeX",
        "outputId": "8a19c4a7-690f-4445-e76a-2f7117f66879"
      },
      "execution_count": null,
      "outputs": [
        {
          "output_type": "stream",
          "name": "stdout",
          "text": [
            "총 훈련 샘플의 수: 518\n"
          ]
        }
      ]
    },
    {
      "cell_type": "code",
      "source": [
        "# 총 샘플의 수는 426개가 완성되었습니다. 이 중 10개만 출력해보겠습니다.\n",
        "\n",
        "sequences[:10]"
      ],
      "metadata": {
        "colab": {
          "base_uri": "https://localhost:8080/"
        },
        "id": "2iIlC0hEHX8L",
        "outputId": "890a2c61-2902-4cd1-b0de-cdc1ba4d1206"
      },
      "execution_count": null,
      "outputs": [
        {
          "output_type": "execute_result",
          "data": {
            "text/plain": [
              "['Same bed bu',\n",
              " 'ame bed but',\n",
              " 'me bed but ',\n",
              " 'e bed but i',\n",
              " ' bed but it',\n",
              " 'bed but it ',\n",
              " 'ed but it f',\n",
              " 'd but it fe',\n",
              " ' but it fee',\n",
              " 'but it feel']"
            ]
          },
          "metadata": {},
          "execution_count": 8
        }
      ]
    },
    {
      "cell_type": "code",
      "source": [
        "'''\n",
        "첫번째 문장이었던 'I get on with life as a programmer,'가 10개의 샘플로 분리된 것을 확인할 수 있습니다.\n",
        "다른 문장들에 대해서도 sequences에 모두 저장되어져 있습니다.\n",
        "원한다면, sequences[30:45] 등과 같이 인덱스 범위를 변경하여 출력해보시기 바랍니다.\n",
        "이제 앞서 만든 char_to_index를 사용하여 전체 데이터에 대해서 정수 인코딩을 수행합니다.\n",
        "'''\n",
        "\n",
        "encoded_sequences = []\n",
        "for sequence in sequences:                                                               # 전체 데이터에서 문장 샘플을 1개씩 꺼낸다.\n",
        "    encoded_sequence = [char_to_index[char] for char in sequence]  # 문장 샘플에서 각 문자에 대해서 정수 인코딩을 수행.\n",
        "    encoded_sequences.append(encoded_sequence)"
      ],
      "metadata": {
        "id": "Jn37PvLHHX6T"
      },
      "execution_count": null,
      "outputs": []
    },
    {
      "cell_type": "code",
      "source": [
        "# 정수 인코딩 된 결과가 X에 저장되었습니다. 5개만 출력해보겠습니다.\n",
        "\n",
        "encoded_sequences[:5]"
      ],
      "metadata": {
        "colab": {
          "base_uri": "https://localhost:8080/"
        },
        "id": "smZHwEbqHX4M",
        "outputId": "62b9e803-0eb1-4e6b-9f06-1fa35203468f"
      },
      "execution_count": null,
      "outputs": [
        {
          "output_type": "execute_result",
          "data": {
            "text/plain": [
              "[[12, 15, 27, 19, 0, 16, 19, 18, 0, 16, 34],\n",
              " [15, 27, 19, 0, 16, 19, 18, 0, 16, 34, 33],\n",
              " [27, 19, 0, 16, 19, 18, 0, 16, 34, 33, 0],\n",
              " [19, 0, 16, 19, 18, 0, 16, 34, 33, 0, 23],\n",
              " [0, 16, 19, 18, 0, 16, 34, 33, 0, 23, 33]]"
            ]
          },
          "metadata": {},
          "execution_count": 10
        }
      ]
    },
    {
      "cell_type": "code",
      "source": [
        "# 정수 인코딩이 수행되었습니다. 예측 대상인 문자를 분리시켜주는 작업을 해봅시다.\n",
        "# 모든 샘플 문장에 대해서 마지막 문자를 분리하여 마지막 문자가 분리된 샘플은 X_data에 저장하고,\n",
        "# 마지막 문자는 y_data에 저장합니다.\n",
        "\n",
        "encoded_sequences = np.array(encoded_sequences)\n",
        "\n",
        "# 맨 마지막 위치의 문자를 분리\n",
        "X_data = encoded_sequences[:,:-1]\n",
        "# 맨 마지막 위치의 문자를 저장\n",
        "y_data = encoded_sequences[:,-1]"
      ],
      "metadata": {
        "id": "6t7zpHA-HX17"
      },
      "execution_count": null,
      "outputs": []
    },
    {
      "cell_type": "code",
      "source": [
        "# 정상적으로 분리가 되었는지 X와 y 둘 다 5개씩 출력해보겠습니다.\n",
        "\n",
        "print(X_data[:5])\n",
        "print(y_data[:5])"
      ],
      "metadata": {
        "colab": {
          "base_uri": "https://localhost:8080/"
        },
        "id": "9ZAUyZ7kHXzy",
        "outputId": "631cf5f9-30f0-4eb0-9acc-764be00b0215"
      },
      "execution_count": null,
      "outputs": [
        {
          "output_type": "stream",
          "name": "stdout",
          "text": [
            "[[12 15 27 19  0 16 19 18  0 16]\n",
            " [15 27 19  0 16 19 18  0 16 34]\n",
            " [27 19  0 16 19 18  0 16 34 33]\n",
            " [19  0 16 19 18  0 16 34 33  0]\n",
            " [ 0 16 19 18  0 16 34 33  0 23]]\n",
            "[34 33  0 23 33]\n"
          ]
        }
      ]
    },
    {
      "cell_type": "code",
      "source": [
        "# 앞서 출력한 5개의 샘플에서 각각 맨 뒤의 문자였던 18, 28, 17, 0, 21이 별도로 분리되어 y에 저장되었습니다.\n",
        "# 이제 X와 y에 대해서 원-핫 인코딩을 수행해보겠습니다.\n",
        "\n",
        "# 원-핫 인코딩\n",
        "X_data_one_hot = [to_categorical(encoded, num_classes=vocab_size) for encoded in X_data]\n",
        "X_data_one_hot = np.array(X_data_one_hot)\n",
        "y_data_one_hot = to_categorical(y_data, num_classes=vocab_size)"
      ],
      "metadata": {
        "id": "vtrwBA90HXxk"
      },
      "execution_count": null,
      "outputs": []
    },
    {
      "cell_type": "code",
      "source": [
        "# 원-핫 인코딩이 수행되었는지 확인하기 위해 수행한 후의 X의 크기(shape)를 보겠습니다.\n",
        "\n",
        "print(X_data_one_hot.shape)"
      ],
      "metadata": {
        "colab": {
          "base_uri": "https://localhost:8080/"
        },
        "id": "vaK7WpF1HXvU",
        "outputId": "6cf620c6-bee0-4db9-bc68-c0d972581cf7"
      },
      "execution_count": null,
      "outputs": [
        {
          "output_type": "stream",
          "name": "stdout",
          "text": [
            "(518, 10, 39)\n"
          ]
        }
      ]
    },
    {
      "cell_type": "code",
      "source": [
        "'''\n",
        "현재 X의 크기는 426 × 10 × 33 입니다.\n",
        "\n",
        "이는 샘플의 수(No. of samples)가 426개,\n",
        "입력 시퀀스의 길이(input_length)가 10,\n",
        "각 벡터의 차원(input_dim)이 33임을 의미합니다.\n",
        "원-핫 벡터의 차원은 문자 집합의 크기인 33이어야 하므로 X에 대해서 원-핫 인코딩이 수행되었음을 알 수 있습니다.\n",
        "'''"
      ],
      "metadata": {
        "id": "eahSr9K1HXsq"
      },
      "execution_count": null,
      "outputs": []
    },
    {
      "cell_type": "markdown",
      "source": [
        "### 모델 설계하기\n",
        "하이퍼파라미터인 은닉 상태의 크기는 64입니다. 모델은 다 대 일 구조의 LSTM을 사용합니다. 전결합층(Fully Connected Layer)을 출력층으로 문자 집합 크기만큼의 뉴런을 배치하여 모델을 설계합니다. 해당 모델은 마지막 시점에서 모든 가능한 문자 중 하나의 문자를 예측하는 다중 클래스 분류 문제를 수행하는 모델입니다. 다중 클래스 분류 문제의 경우, 출력층에 소프트맥스 회귀를 사용해야 하므로 활성화 함수로는 소프트맥스 함수를 사용하고, 손실 함수로 크로스 엔트로피 함수를 사용하여 100 에포크를 수행합니다."
      ],
      "metadata": {
        "id": "OrrkulhtIDkB"
      }
    },
    {
      "cell_type": "code",
      "source": [
        "from tensorflow.keras.models import Sequential\n",
        "from tensorflow.keras.layers import Dense, LSTM\n",
        "from tensorflow.keras.preprocessing.sequence import pad_sequences\n",
        "\n",
        "hidden_units = 64\n",
        "\n",
        "model = Sequential()\n",
        "model.add(LSTM(hidden_units, input_shape=(X_data_one_hot.shape[1], X_data_one_hot.shape[2])))\n",
        "model.add(Dense(vocab_size, activation='softmax'))\n",
        "\n",
        "model.compile(loss='categorical_crossentropy', optimizer='adam', metrics=['accuracy'])\n",
        "model.fit(X_data_one_hot, y_data_one_hot, epochs=100, verbose=2)"
      ],
      "metadata": {
        "colab": {
          "base_uri": "https://localhost:8080/"
        },
        "id": "JH-i8tp3IH9B",
        "outputId": "093ed114-b5b7-4996-9bcf-21fc55ce6791"
      },
      "execution_count": null,
      "outputs": [
        {
          "output_type": "stream",
          "name": "stdout",
          "text": [
            "Epoch 1/100\n",
            "17/17 - 6s - loss: 3.6315 - accuracy: 0.1255 - 6s/epoch - 371ms/step\n",
            "Epoch 2/100\n",
            "17/17 - 0s - loss: 3.4747 - accuracy: 0.1988 - 55ms/epoch - 3ms/step\n",
            "Epoch 3/100\n",
            "17/17 - 0s - loss: 3.1153 - accuracy: 0.1988 - 55ms/epoch - 3ms/step\n",
            "Epoch 4/100\n",
            "17/17 - 0s - loss: 3.0063 - accuracy: 0.1988 - 54ms/epoch - 3ms/step\n",
            "Epoch 5/100\n",
            "17/17 - 0s - loss: 2.9725 - accuracy: 0.1988 - 54ms/epoch - 3ms/step\n",
            "Epoch 6/100\n",
            "17/17 - 0s - loss: 2.9514 - accuracy: 0.1988 - 59ms/epoch - 3ms/step\n",
            "Epoch 7/100\n",
            "17/17 - 0s - loss: 2.9397 - accuracy: 0.1988 - 55ms/epoch - 3ms/step\n",
            "Epoch 8/100\n",
            "17/17 - 0s - loss: 2.9183 - accuracy: 0.1988 - 58ms/epoch - 3ms/step\n",
            "Epoch 9/100\n",
            "17/17 - 0s - loss: 2.8990 - accuracy: 0.1988 - 57ms/epoch - 3ms/step\n",
            "Epoch 10/100\n",
            "17/17 - 0s - loss: 2.8722 - accuracy: 0.1988 - 55ms/epoch - 3ms/step\n",
            "Epoch 11/100\n",
            "17/17 - 0s - loss: 2.8464 - accuracy: 0.1988 - 56ms/epoch - 3ms/step\n",
            "Epoch 12/100\n",
            "17/17 - 0s - loss: 2.8139 - accuracy: 0.2027 - 57ms/epoch - 3ms/step\n",
            "Epoch 13/100\n",
            "17/17 - 0s - loss: 2.7768 - accuracy: 0.2220 - 69ms/epoch - 4ms/step\n",
            "Epoch 14/100\n",
            "17/17 - 0s - loss: 2.7307 - accuracy: 0.2104 - 56ms/epoch - 3ms/step\n",
            "Epoch 15/100\n",
            "17/17 - 0s - loss: 2.6997 - accuracy: 0.2452 - 59ms/epoch - 3ms/step\n",
            "Epoch 16/100\n",
            "17/17 - 0s - loss: 2.6629 - accuracy: 0.2490 - 57ms/epoch - 3ms/step\n",
            "Epoch 17/100\n",
            "17/17 - 0s - loss: 2.6514 - accuracy: 0.2490 - 57ms/epoch - 3ms/step\n",
            "Epoch 18/100\n",
            "17/17 - 0s - loss: 2.5835 - accuracy: 0.2625 - 57ms/epoch - 3ms/step\n",
            "Epoch 19/100\n",
            "17/17 - 0s - loss: 2.5579 - accuracy: 0.2664 - 56ms/epoch - 3ms/step\n",
            "Epoch 20/100\n",
            "17/17 - 0s - loss: 2.5062 - accuracy: 0.2915 - 61ms/epoch - 4ms/step\n",
            "Epoch 21/100\n",
            "17/17 - 0s - loss: 2.4835 - accuracy: 0.2973 - 57ms/epoch - 3ms/step\n",
            "Epoch 22/100\n",
            "17/17 - 0s - loss: 2.4589 - accuracy: 0.3243 - 63ms/epoch - 4ms/step\n",
            "Epoch 23/100\n",
            "17/17 - 0s - loss: 2.4002 - accuracy: 0.3166 - 55ms/epoch - 3ms/step\n",
            "Epoch 24/100\n",
            "17/17 - 0s - loss: 2.3644 - accuracy: 0.3340 - 57ms/epoch - 3ms/step\n",
            "Epoch 25/100\n",
            "17/17 - 0s - loss: 2.3362 - accuracy: 0.3494 - 63ms/epoch - 4ms/step\n",
            "Epoch 26/100\n",
            "17/17 - 0s - loss: 2.2819 - accuracy: 0.3571 - 56ms/epoch - 3ms/step\n",
            "Epoch 27/100\n",
            "17/17 - 0s - loss: 2.2410 - accuracy: 0.3726 - 60ms/epoch - 4ms/step\n",
            "Epoch 28/100\n",
            "17/17 - 0s - loss: 2.2101 - accuracy: 0.3784 - 57ms/epoch - 3ms/step\n",
            "Epoch 29/100\n",
            "17/17 - 0s - loss: 2.1697 - accuracy: 0.3938 - 62ms/epoch - 4ms/step\n",
            "Epoch 30/100\n",
            "17/17 - 0s - loss: 2.1540 - accuracy: 0.3919 - 56ms/epoch - 3ms/step\n",
            "Epoch 31/100\n",
            "17/17 - 0s - loss: 2.1169 - accuracy: 0.4093 - 60ms/epoch - 4ms/step\n",
            "Epoch 32/100\n",
            "17/17 - 0s - loss: 2.0971 - accuracy: 0.3764 - 56ms/epoch - 3ms/step\n",
            "Epoch 33/100\n",
            "17/17 - 0s - loss: 2.0356 - accuracy: 0.4305 - 55ms/epoch - 3ms/step\n",
            "Epoch 34/100\n",
            "17/17 - 0s - loss: 2.0175 - accuracy: 0.4208 - 57ms/epoch - 3ms/step\n",
            "Epoch 35/100\n",
            "17/17 - 0s - loss: 1.9646 - accuracy: 0.4479 - 54ms/epoch - 3ms/step\n",
            "Epoch 36/100\n",
            "17/17 - 0s - loss: 1.9541 - accuracy: 0.4247 - 55ms/epoch - 3ms/step\n",
            "Epoch 37/100\n",
            "17/17 - 0s - loss: 1.8885 - accuracy: 0.4691 - 56ms/epoch - 3ms/step\n",
            "Epoch 38/100\n",
            "17/17 - 0s - loss: 1.8643 - accuracy: 0.4672 - 54ms/epoch - 3ms/step\n",
            "Epoch 39/100\n",
            "17/17 - 0s - loss: 1.8610 - accuracy: 0.4710 - 54ms/epoch - 3ms/step\n",
            "Epoch 40/100\n",
            "17/17 - 0s - loss: 1.8026 - accuracy: 0.4826 - 55ms/epoch - 3ms/step\n",
            "Epoch 41/100\n",
            "17/17 - 0s - loss: 1.7642 - accuracy: 0.4923 - 61ms/epoch - 4ms/step\n",
            "Epoch 42/100\n",
            "17/17 - 0s - loss: 1.7327 - accuracy: 0.5232 - 54ms/epoch - 3ms/step\n",
            "Epoch 43/100\n",
            "17/17 - 0s - loss: 1.6965 - accuracy: 0.5328 - 56ms/epoch - 3ms/step\n",
            "Epoch 44/100\n",
            "17/17 - 0s - loss: 1.6734 - accuracy: 0.5135 - 58ms/epoch - 3ms/step\n",
            "Epoch 45/100\n",
            "17/17 - 0s - loss: 1.6467 - accuracy: 0.5328 - 56ms/epoch - 3ms/step\n",
            "Epoch 46/100\n",
            "17/17 - 0s - loss: 1.6120 - accuracy: 0.5386 - 66ms/epoch - 4ms/step\n",
            "Epoch 47/100\n",
            "17/17 - 0s - loss: 1.5686 - accuracy: 0.5676 - 58ms/epoch - 3ms/step\n",
            "Epoch 48/100\n",
            "17/17 - 0s - loss: 1.5381 - accuracy: 0.5618 - 57ms/epoch - 3ms/step\n",
            "Epoch 49/100\n",
            "17/17 - 0s - loss: 1.5065 - accuracy: 0.5985 - 55ms/epoch - 3ms/step\n",
            "Epoch 50/100\n",
            "17/17 - 0s - loss: 1.4738 - accuracy: 0.5888 - 55ms/epoch - 3ms/step\n",
            "Epoch 51/100\n",
            "17/17 - 0s - loss: 1.4294 - accuracy: 0.6023 - 59ms/epoch - 3ms/step\n",
            "Epoch 52/100\n",
            "17/17 - 0s - loss: 1.4170 - accuracy: 0.6236 - 55ms/epoch - 3ms/step\n",
            "Epoch 53/100\n",
            "17/17 - 0s - loss: 1.3694 - accuracy: 0.6448 - 57ms/epoch - 3ms/step\n",
            "Epoch 54/100\n",
            "17/17 - 0s - loss: 1.3386 - accuracy: 0.6332 - 56ms/epoch - 3ms/step\n",
            "Epoch 55/100\n",
            "17/17 - 0s - loss: 1.3173 - accuracy: 0.6448 - 57ms/epoch - 3ms/step\n",
            "Epoch 56/100\n",
            "17/17 - 0s - loss: 1.3085 - accuracy: 0.6409 - 64ms/epoch - 4ms/step\n",
            "Epoch 57/100\n",
            "17/17 - 0s - loss: 1.2459 - accuracy: 0.6737 - 56ms/epoch - 3ms/step\n",
            "Epoch 58/100\n",
            "17/17 - 0s - loss: 1.2303 - accuracy: 0.6699 - 60ms/epoch - 4ms/step\n",
            "Epoch 59/100\n",
            "17/17 - 0s - loss: 1.2099 - accuracy: 0.6873 - 57ms/epoch - 3ms/step\n",
            "Epoch 60/100\n",
            "17/17 - 0s - loss: 1.1590 - accuracy: 0.7201 - 56ms/epoch - 3ms/step\n",
            "Epoch 61/100\n",
            "17/17 - 0s - loss: 1.1329 - accuracy: 0.7278 - 59ms/epoch - 3ms/step\n",
            "Epoch 62/100\n",
            "17/17 - 0s - loss: 1.0902 - accuracy: 0.7336 - 66ms/epoch - 4ms/step\n",
            "Epoch 63/100\n",
            "17/17 - 0s - loss: 1.0779 - accuracy: 0.7336 - 57ms/epoch - 3ms/step\n",
            "Epoch 64/100\n",
            "17/17 - 0s - loss: 1.0610 - accuracy: 0.7432 - 56ms/epoch - 3ms/step\n",
            "Epoch 65/100\n",
            "17/17 - 0s - loss: 1.0460 - accuracy: 0.7490 - 56ms/epoch - 3ms/step\n",
            "Epoch 66/100\n",
            "17/17 - 0s - loss: 0.9922 - accuracy: 0.7799 - 58ms/epoch - 3ms/step\n",
            "Epoch 67/100\n",
            "17/17 - 0s - loss: 0.9781 - accuracy: 0.7819 - 57ms/epoch - 3ms/step\n",
            "Epoch 68/100\n",
            "17/17 - 0s - loss: 0.9504 - accuracy: 0.7876 - 57ms/epoch - 3ms/step\n",
            "Epoch 69/100\n",
            "17/17 - 0s - loss: 0.9304 - accuracy: 0.7876 - 55ms/epoch - 3ms/step\n",
            "Epoch 70/100\n",
            "17/17 - 0s - loss: 0.8949 - accuracy: 0.8398 - 57ms/epoch - 3ms/step\n",
            "Epoch 71/100\n",
            "17/17 - 0s - loss: 0.8616 - accuracy: 0.8378 - 60ms/epoch - 4ms/step\n",
            "Epoch 72/100\n",
            "17/17 - 0s - loss: 0.8471 - accuracy: 0.8185 - 54ms/epoch - 3ms/step\n",
            "Epoch 73/100\n",
            "17/17 - 0s - loss: 0.8281 - accuracy: 0.8456 - 57ms/epoch - 3ms/step\n",
            "Epoch 74/100\n",
            "17/17 - 0s - loss: 0.7952 - accuracy: 0.8552 - 57ms/epoch - 3ms/step\n",
            "Epoch 75/100\n",
            "17/17 - 0s - loss: 0.7571 - accuracy: 0.8764 - 63ms/epoch - 4ms/step\n",
            "Epoch 76/100\n",
            "17/17 - 0s - loss: 0.7336 - accuracy: 0.8784 - 59ms/epoch - 3ms/step\n",
            "Epoch 77/100\n",
            "17/17 - 0s - loss: 0.7264 - accuracy: 0.8745 - 63ms/epoch - 4ms/step\n",
            "Epoch 78/100\n",
            "17/17 - 0s - loss: 0.7114 - accuracy: 0.8784 - 68ms/epoch - 4ms/step\n",
            "Epoch 79/100\n",
            "17/17 - 0s - loss: 0.6886 - accuracy: 0.8822 - 62ms/epoch - 4ms/step\n",
            "Epoch 80/100\n",
            "17/17 - 0s - loss: 0.6757 - accuracy: 0.8880 - 59ms/epoch - 3ms/step\n",
            "Epoch 81/100\n",
            "17/17 - 0s - loss: 0.6474 - accuracy: 0.8900 - 57ms/epoch - 3ms/step\n",
            "Epoch 82/100\n",
            "17/17 - 0s - loss: 0.6257 - accuracy: 0.8977 - 57ms/epoch - 3ms/step\n",
            "Epoch 83/100\n",
            "17/17 - 0s - loss: 0.5889 - accuracy: 0.9151 - 56ms/epoch - 3ms/step\n",
            "Epoch 84/100\n",
            "17/17 - 0s - loss: 0.5869 - accuracy: 0.9286 - 57ms/epoch - 3ms/step\n",
            "Epoch 85/100\n",
            "17/17 - 0s - loss: 0.5748 - accuracy: 0.9189 - 59ms/epoch - 3ms/step\n",
            "Epoch 86/100\n",
            "17/17 - 0s - loss: 0.5570 - accuracy: 0.9112 - 58ms/epoch - 3ms/step\n",
            "Epoch 87/100\n",
            "17/17 - 0s - loss: 0.5211 - accuracy: 0.9382 - 58ms/epoch - 3ms/step\n",
            "Epoch 88/100\n",
            "17/17 - 0s - loss: 0.5023 - accuracy: 0.9479 - 76ms/epoch - 4ms/step\n",
            "Epoch 89/100\n",
            "17/17 - 0s - loss: 0.4952 - accuracy: 0.9537 - 58ms/epoch - 3ms/step\n",
            "Epoch 90/100\n",
            "17/17 - 0s - loss: 0.4980 - accuracy: 0.9421 - 59ms/epoch - 3ms/step\n",
            "Epoch 91/100\n",
            "17/17 - 0s - loss: 0.4646 - accuracy: 0.9575 - 56ms/epoch - 3ms/step\n",
            "Epoch 92/100\n",
            "17/17 - 0s - loss: 0.4374 - accuracy: 0.9595 - 57ms/epoch - 3ms/step\n",
            "Epoch 93/100\n",
            "17/17 - 0s - loss: 0.4357 - accuracy: 0.9653 - 60ms/epoch - 4ms/step\n",
            "Epoch 94/100\n",
            "17/17 - 0s - loss: 0.4132 - accuracy: 0.9730 - 58ms/epoch - 3ms/step\n",
            "Epoch 95/100\n",
            "17/17 - 0s - loss: 0.3998 - accuracy: 0.9691 - 61ms/epoch - 4ms/step\n",
            "Epoch 96/100\n",
            "17/17 - 0s - loss: 0.3885 - accuracy: 0.9710 - 56ms/epoch - 3ms/step\n",
            "Epoch 97/100\n",
            "17/17 - 0s - loss: 0.3898 - accuracy: 0.9749 - 56ms/epoch - 3ms/step\n",
            "Epoch 98/100\n",
            "17/17 - 0s - loss: 0.3729 - accuracy: 0.9710 - 56ms/epoch - 3ms/step\n",
            "Epoch 99/100\n",
            "17/17 - 0s - loss: 0.3615 - accuracy: 0.9768 - 58ms/epoch - 3ms/step\n",
            "Epoch 100/100\n",
            "17/17 - 0s - loss: 0.3483 - accuracy: 0.9768 - 57ms/epoch - 3ms/step\n"
          ]
        },
        {
          "output_type": "execute_result",
          "data": {
            "text/plain": [
              "<keras.callbacks.History at 0x7fd892677410>"
            ]
          },
          "metadata": {},
          "execution_count": 15
        }
      ]
    },
    {
      "cell_type": "code",
      "source": [
        "# 문장을 생성하는 함수 sentence_generation을 만들어서 문장을 생성해봅시다.\n",
        "# 해당 함수는 문자열을 입력하면, 해당 문자열로부터 다음 문자를 예측하는 것을 반복하여 최종적으로 문장을 완성합니다.\n",
        "\n",
        "def sentence_generation(model, char_to_index, seq_length, seed_text, n):\n",
        "\n",
        "    # 초기 시퀀스\n",
        "    init_text = seed_text\n",
        "    sentence = ''\n",
        "\n",
        "    # 다음 문자 예측은 총 n번만 반복.\n",
        "    for _ in range(n):\n",
        "        encoded = [char_to_index[char] for char in seed_text] # 현재 시퀀스에 대한 정수 인코딩\n",
        "        encoded = pad_sequences([encoded], maxlen=seq_length, padding='pre') # 데이터에 대한 패딩\n",
        "        encoded = to_categorical(encoded, num_classes=len(char_to_index))\n",
        "\n",
        "        # 입력한 X(현재 시퀀스)에 대해서 y를 예측하고 y(예측한 문자)를 result에 저장.\n",
        "        result = model.predict(encoded, verbose=0)\n",
        "        result = np.argmax(result, axis=1)\n",
        "\n",
        "        for char, index in char_to_index.items():\n",
        "            if index == result:\n",
        "                break\n",
        "\n",
        "        # 현재 시퀀스 + 예측 문자를 현재 시퀀스로 변경\n",
        "        seed_text = seed_text + char\n",
        "\n",
        "        # 예측 문자를 문장에 저장\n",
        "        sentence = sentence + char\n",
        "\n",
        "    # n번의 다음 문자 예측이 끝나면 최종 완성된 문장을 리턴.\n",
        "    sentence = init_text + sentence\n",
        "    return sentence"
      ],
      "metadata": {
        "id": "e1I4Cmm1IH66"
      },
      "execution_count": null,
      "outputs": []
    },
    {
      "cell_type": "code",
      "source": [
        "print(sentence_generation(model, char_to_index, 10, 'Same bed b', 80))"
      ],
      "metadata": {
        "colab": {
          "base_uri": "https://localhost:8080/"
        },
        "id": "9ekPALJuIH4b",
        "outputId": "df49260c-4121-41a0-f6e3-a56ffd77ce01"
      },
      "execution_count": null,
      "outputs": [
        {
          "output_type": "stream",
          "name": "stdout",
          "text": [
            "Same bed but it feels just a little bit bigger now. Our song on the radio but it donlt sou\n"
          ]
        }
      ]
    }
  ]
}