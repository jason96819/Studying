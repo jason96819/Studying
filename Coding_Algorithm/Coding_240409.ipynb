{
  "nbformat": 4,
  "nbformat_minor": 0,
  "metadata": {
    "colab": {
      "provenance": [],
      "collapsed_sections": [
        "J5ferBUESido",
        "TNu-MK3yBv0b"
      ],
      "authorship_tag": "ABX9TyMiPv0aw+Ukk2HZH2MnAXoo",
      "include_colab_link": true
    },
    "kernelspec": {
      "name": "python3",
      "display_name": "Python 3"
    },
    "language_info": {
      "name": "python"
    }
  },
  "cells": [
    {
      "cell_type": "markdown",
      "metadata": {
        "id": "view-in-github",
        "colab_type": "text"
      },
      "source": [
        "<a href=\"https://colab.research.google.com/github/jason96819/Studying/blob/main/Coding_Algorithm/Coding_240409.ipynb\" target=\"_parent\"><img src=\"https://colab.research.google.com/assets/colab-badge.svg\" alt=\"Open In Colab\"/></a>"
      ]
    },
    {
      "cell_type": "code",
      "execution_count": null,
      "metadata": {
        "id": "cFjrXC7dSY9q"
      },
      "outputs": [],
      "source": []
    },
    {
      "cell_type": "markdown",
      "source": [
        "# 1일 1코딩 알고리즘 연습"
      ],
      "metadata": {
        "id": "tpaREozMSidh"
      }
    },
    {
      "cell_type": "markdown",
      "source": [
        "## 24년 04월 05일 금요일"
      ],
      "metadata": {
        "id": "J5ferBUESido"
      }
    },
    {
      "cell_type": "markdown",
      "source": [
        "H-Index - https://school.programmers.co.kr/learn/courses/30/lessons/42747\n",
        "\n",
        "문제 설명\n",
        "\n",
        "H-Index는 과학자의 생산성과 영향력을 나타내는 지표입니다. 어느 과학자의 H-Index를 나타내는 값인 h를 구하려고 합니다. 위키백과1에 따르면, H-Index는 다음과 같이 구합니다.\n",
        "\n",
        "어떤 과학자가 발표한 논문 n편 중, h번 이상 인용된 논문이 h편 이상이고 나머지 논문이 h번 이하 인용되었다면 h의 최댓값이 이 과학자의 H-Index입니다.\n",
        "\n",
        "어떤 과학자가 발표한 논문의 인용 횟수를 담은 배열 citations가 매개변수로 주어질 때, 이 과학자의 H-Index를 return 하도록 solution 함수를 작성해주세요.\n",
        "\n",
        "제한사항\n",
        "\n",
        "과학자가 발표한 논문의 수는 1편 이상 1,000편 이하입니다.\n",
        "논문별 인용 횟수는 0회 이상 10,000회 이하입니다.\n",
        "\n",
        "|citations\t| return|\n",
        "|--- | ---|\n",
        "|[ 3, 0, 6, 1, 5 ]|3|\n",
        "\n",
        "입출력 예 설명\n",
        "\n",
        "이 과학자가 발표한 논문의 수는 5편이고, 그중 3편의 논문은 3회 이상 인용되었습니다. 그리고 나머지 2편의 논문은 3회 이하 인용되었기 때문에 이 과학자의 H-Index는 3입니다."
      ],
      "metadata": {
        "id": "vuzeNhXPD8vv"
      }
    },
    {
      "cell_type": "markdown",
      "source": [
        "큰 수로 정렬 후 그 값을 기준으로 비교하면 끝"
      ],
      "metadata": {
        "id": "0GCiyj0oztsz"
      }
    },
    {
      "cell_type": "code",
      "source": [
        "citations = [3, 0, 6, 1, 5]"
      ],
      "metadata": {
        "id": "JVOV6bSWy0BT"
      },
      "execution_count": null,
      "outputs": []
    },
    {
      "cell_type": "code",
      "source": [
        "citations.sort(reverse=True)\n",
        "citations"
      ],
      "metadata": {
        "colab": {
          "base_uri": "https://localhost:8080/"
        },
        "id": "q9OMeLybyz-6",
        "outputId": "2ce8e703-9798-4e50-b666-8ed1669bb8d0"
      },
      "execution_count": null,
      "outputs": [
        {
          "output_type": "execute_result",
          "data": {
            "text/plain": [
              "[6, 5, 3, 1, 0]"
            ]
          },
          "metadata": {},
          "execution_count": 31
        }
      ]
    },
    {
      "cell_type": "code",
      "source": [
        "for i in range(len(citations)):\n",
        "    print(i+1)                                 # 논문 개수"
      ],
      "metadata": {
        "colab": {
          "base_uri": "https://localhost:8080/"
        },
        "id": "ogbLHyIm4BXY",
        "outputId": "984b08a6-f20b-408a-b20f-5e6318cf762d"
      },
      "execution_count": null,
      "outputs": [
        {
          "output_type": "stream",
          "name": "stdout",
          "text": [
            "1\n",
            "2\n",
            "3\n",
            "4\n",
            "5\n"
          ]
        }
      ]
    },
    {
      "cell_type": "code",
      "source": [
        "for i in range(len(citations)):\n",
        "    print(citations[i])                     # 인용 횟수 내림차순"
      ],
      "metadata": {
        "colab": {
          "base_uri": "https://localhost:8080/"
        },
        "id": "Zh5g_MPQ4BVL",
        "outputId": "1f29e94e-e7df-4257-fb2c-3c31fa138a72"
      },
      "execution_count": null,
      "outputs": [
        {
          "output_type": "stream",
          "name": "stdout",
          "text": [
            "6\n",
            "5\n",
            "3\n",
            "1\n",
            "0\n"
          ]
        }
      ]
    },
    {
      "cell_type": "code",
      "source": [
        "for i in range(len(citations)):\n",
        "    if citations[i] <= i+1:\n",
        "        print(citations[i])"
      ],
      "metadata": {
        "colab": {
          "base_uri": "https://localhost:8080/"
        },
        "id": "j3m0nO7L4BTE",
        "outputId": "2787db22-8762-4faf-a6b1-dc1134d9f80b"
      },
      "execution_count": null,
      "outputs": [
        {
          "output_type": "stream",
          "name": "stdout",
          "text": [
            "3\n",
            "1\n",
            "0\n"
          ]
        }
      ]
    },
    {
      "cell_type": "code",
      "source": [
        "for i in range(len(citations)):\n",
        "    if citations[i] <= i+1:\n",
        "        print(i)"
      ],
      "metadata": {
        "colab": {
          "base_uri": "https://localhost:8080/"
        },
        "id": "nbssACZD42ZK",
        "outputId": "763f606c-d678-4d28-aac8-3600c962721a"
      },
      "execution_count": null,
      "outputs": [
        {
          "output_type": "stream",
          "name": "stdout",
          "text": [
            "2\n",
            "3\n",
            "4\n"
          ]
        }
      ]
    },
    {
      "cell_type": "markdown",
      "source": [
        "여기서 최댓값 return\n",
        "\n",
        "만약 조건문에 걸리지 않으면 citations의 길이 출력 = 논문 개수"
      ],
      "metadata": {
        "id": "NJPPGSub4nt5"
      }
    },
    {
      "cell_type": "code",
      "source": [
        "def solution(citations):\n",
        "    citations.sort(reverse=True)\n",
        "    for i in range(len(citations)):\n",
        "        if citations[i] <= i+1:\n",
        "            return max(citations[i], i)\n",
        "    else:\n",
        "        return len(citations)"
      ],
      "metadata": {
        "id": "FgwV_3Rgyz4i"
      },
      "execution_count": null,
      "outputs": []
    },
    {
      "cell_type": "markdown",
      "source": [
        "## 24년 04월 09일 화요일"
      ],
      "metadata": {
        "id": "TNu-MK3yBv0b"
      }
    },
    {
      "cell_type": "markdown",
      "source": [
        "기능 개발 - https://school.programmers.co.kr/learn/courses/30/lessons/42586\n",
        "\n",
        "문제 설명\n",
        "프로그래머스 팀에서는 기능 개선 작업을 수행 중입니다. 각 기능은 진도가 100%일 때 서비스에 반영할 수 있습니다.\n",
        "\n",
        "또, 각 기능의 개발속도는 모두 다르기 때문에 뒤에 있는 기능이 앞에 있는 기능보다 먼저 개발될 수 있고, 이때 뒤에 있는 기능은 앞에 있는 기능이 배포될 때 함께 배포됩니다.\n",
        "\n",
        "먼저 배포되어야 하는 순서대로 작업의 진도가 적힌 정수 배열 progresses와 각 작업의 개발 속도가 적힌 정수 배열 speeds가 주어질 때 각 배포마다 몇 개의 기능이 배포되는지를 return 하도록 solution 함수를 완성하세요.\n",
        "\n",
        "제한 사항\n",
        "- 작업의 개수(progresses, speeds배열의 길이)는 100개 이하입니다.\n",
        "- 작업 진도는 100 미만의 자연수입니다.\n",
        "- 작업 속도는 100 이하의 자연수입니다.\n",
        "- 배포는 하루에 한 번만 할 수 있으며, 하루의 끝에 이루어진다고 가정합니다. 예를 들어 진도율이 95%인 작업의 개발 속도가 하루에 4%라면 배포는 2일 뒤에 이루어집니다."
      ],
      "metadata": {
        "id": "Q6roO8bUB14d"
      }
    },
    {
      "cell_type": "markdown",
      "source": [
        "입출력 예\n",
        "\n",
        "|progresses|\tspeeds |\treturn|\n",
        "|--|--|--|\n",
        "| [93, 30, 55] |\t[1, 30, 5]|\t[2, 1]|\n",
        "|[95, 90, 99, 99, 80, 99]\t|[1, 1, 1, 1, 1, 1]|\t[1, 3, 2]|"
      ],
      "metadata": {
        "id": "GzBq44tp5cov"
      }
    },
    {
      "cell_type": "markdown",
      "source": [
        "입출력 예 설명\n",
        "\n",
        "입출력 예 #1\n",
        "\n",
        "첫 번째 기능은 93% 완료되어 있고 하루에 1%씩 작업이 가능하므로 7일간 작업 후 배포가 가능합니다.\n",
        "\n",
        "두 번째 기능은 30%가 완료되어 있고 하루에 30%씩 작업이 가능하므로 3일간 작업 후 배포가 가능합니다. 하지만 이전 첫 번째 기능이 아직 완성된 상태가 아니기 때문에 첫 번째 기능이 배포되는 7일째 배포됩니다.\n",
        "\n",
        "세 번째 기능은 55%가 완료되어 있고 하루에 5%씩 작업이 가능하므로 9일간 작업 후 배포가 가능합니다.\n",
        "\n",
        "따라서 7일째에 2개의 기능, 9일째에 1개의 기능이 배포됩니다.\n",
        "\n",
        "입출력 예 #2\n",
        "\n",
        "모든 기능이 하루에 1%씩 작업이 가능하므로, 작업이 끝나기까지 남은 일수는 각각 5일, 10일, 1일, 1일, 20일, 1일입니다. 어떤 기능이 먼저 완성되었더라도 앞에 있는 모든 기능이 완성되지 않으면 배포가 불가능합니다.\n",
        "\n",
        "따라서 5일째에 1개의 기능, 10일째에 3개의 기능, 20일째에 2개의 기능이 배포됩니다."
      ],
      "metadata": {
        "id": "nA7p0qnp5rFa"
      }
    },
    {
      "cell_type": "code",
      "source": [
        "progresses = [97, 30, 55, 55]\n",
        "speeds\t= [1, 30, 5, 5]"
      ],
      "metadata": {
        "id": "lf8eRTMUB1vP"
      },
      "execution_count": null,
      "outputs": []
    },
    {
      "cell_type": "code",
      "source": [
        "progresses = [95, 90, 99, 99, 80, 99]\n",
        "speeds = [1, 1, 1, 1, 1, 1]"
      ],
      "metadata": {
        "id": "-SylfbFq-oXU"
      },
      "execution_count": null,
      "outputs": []
    },
    {
      "cell_type": "code",
      "source": [
        "progresses = [98,99,98]\n",
        "speeds = [1,1,1]"
      ],
      "metadata": {
        "id": "lNM0hh2oFphR"
      },
      "execution_count": null,
      "outputs": []
    },
    {
      "cell_type": "code",
      "source": [
        "from math import ceil\n",
        "from queue import deque"
      ],
      "metadata": {
        "id": "d0yco0EHErLk"
      },
      "execution_count": null,
      "outputs": []
    },
    {
      "cell_type": "code",
      "source": [
        "dummy_list = []\n",
        "\n",
        "for i, j in zip(progresses, speeds):\n",
        "    dummy_list.append(math.ceil((100 - i) / j))\n",
        "dummy_list"
      ],
      "metadata": {
        "colab": {
          "base_uri": "https://localhost:8080/"
        },
        "id": "BlDoLdXXEnT0",
        "outputId": "3ea21ae4-662f-45e7-9961-cc75886a7ea2"
      },
      "execution_count": null,
      "outputs": [
        {
          "output_type": "execute_result",
          "data": {
            "text/plain": [
              "[2, 1, 2]"
            ]
          },
          "metadata": {},
          "execution_count": 137
        }
      ]
    },
    {
      "cell_type": "code",
      "source": [
        "result = []\n",
        "count = 1\n",
        "\n",
        "for i in range(len(dummy_list) - 1):\n",
        "  if dummy_list[i] >= dummy_list[i + 1]:\n",
        "    count += 1\n",
        "  else:\n",
        "    result.append(count)\n",
        "    count = 1\n",
        "result.append(count)\n",
        "result\n",
        "\n",
        "# 답 [3]"
      ],
      "metadata": {
        "colab": {
          "base_uri": "https://localhost:8080/"
        },
        "id": "OktUDy1PA76G",
        "outputId": "9d3a3c65-89f6-40d2-9613-c206d530cc98"
      },
      "execution_count": null,
      "outputs": [
        {
          "output_type": "execute_result",
          "data": {
            "text/plain": [
              "[2, 1]"
            ]
          },
          "metadata": {},
          "execution_count": 139
        }
      ]
    },
    {
      "cell_type": "code",
      "source": [
        "days = deque(ceil((100 - i) / j) for i, j in zip(progresses, speeds))\n",
        "days"
      ],
      "metadata": {
        "colab": {
          "base_uri": "https://localhost:8080/"
        },
        "id": "MsqaCqElGlT2",
        "outputId": "0175fb24-d363-40c4-c496-0c1f20d9c82e"
      },
      "execution_count": null,
      "outputs": [
        {
          "output_type": "execute_result",
          "data": {
            "text/plain": [
              "deque([5, 10, 1, 1, 20, 1])"
            ]
          },
          "metadata": {},
          "execution_count": 163
        }
      ]
    },
    {
      "cell_type": "code",
      "source": [
        "days.popleft()"
      ],
      "metadata": {
        "colab": {
          "base_uri": "https://localhost:8080/"
        },
        "id": "zzVkjPNZHDjr",
        "outputId": "15b8f99f-95b6-4751-ca98-bca126dcc3c9"
      },
      "execution_count": null,
      "outputs": [
        {
          "output_type": "execute_result",
          "data": {
            "text/plain": [
              "5"
            ]
          },
          "metadata": {},
          "execution_count": 156
        }
      ]
    },
    {
      "cell_type": "code",
      "source": [
        "days"
      ],
      "metadata": {
        "colab": {
          "base_uri": "https://localhost:8080/"
        },
        "id": "lAjKZ1rDHEw8",
        "outputId": "9172829a-b7fe-4a9d-a2fa-d2785a5d15e1"
      },
      "execution_count": null,
      "outputs": [
        {
          "output_type": "execute_result",
          "data": {
            "text/plain": [
              "deque([10, 1, 1, 20, 1])"
            ]
          },
          "metadata": {},
          "execution_count": 157
        }
      ]
    },
    {
      "cell_type": "code",
      "source": [
        "long_day = 0\n",
        "answer = []\n",
        "\n",
        "while days:\n",
        "    day = days.popleft()\n",
        "    if day > long_day:\n",
        "        answer.append(1)\n",
        "        long_day = day\n",
        "    else:\n",
        "        answer[-1] += 1\n",
        "answer"
      ],
      "metadata": {
        "colab": {
          "base_uri": "https://localhost:8080/"
        },
        "id": "8gXej78qG_gi",
        "outputId": "e9dda071-5a2f-403e-e93d-02b5e5ac2a50"
      },
      "execution_count": null,
      "outputs": [
        {
          "output_type": "execute_result",
          "data": {
            "text/plain": [
              "[1, 3, 2]"
            ]
          },
          "metadata": {},
          "execution_count": 164
        }
      ]
    },
    {
      "cell_type": "code",
      "source": [],
      "metadata": {
        "id": "XEMk2R5tDWSg"
      },
      "execution_count": null,
      "outputs": []
    },
    {
      "cell_type": "code",
      "source": [
        "def solution(progresses, speeds):\n",
        "    long_day = 0\n",
        "    answer = []\n",
        "    days = deque(ceil((100 - p) / s) for i, j in zip(progresses, speeds))\n",
        "    while days:\n",
        "        day = days.popleft()\n",
        "        if day > long_day:\n",
        "            answer.append(1)\n",
        "            long_day = day\n",
        "        else:\n",
        "            answer[-1] += 1\n",
        "    return answer"
      ],
      "metadata": {
        "id": "8HwEAKKa-n6L"
      },
      "execution_count": null,
      "outputs": []
    }
  ]
}