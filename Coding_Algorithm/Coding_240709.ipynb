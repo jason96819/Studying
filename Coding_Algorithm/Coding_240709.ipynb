{
  "nbformat": 4,
  "nbformat_minor": 0,
  "metadata": {
    "colab": {
      "provenance": [],
      "authorship_tag": "ABX9TyOQvRVAr5quG+jfoPixp4Ao",
      "include_colab_link": true
    },
    "kernelspec": {
      "name": "python3",
      "display_name": "Python 3"
    },
    "language_info": {
      "name": "python"
    }
  },
  "cells": [
    {
      "cell_type": "markdown",
      "metadata": {
        "id": "view-in-github",
        "colab_type": "text"
      },
      "source": [
        "<a href=\"https://colab.research.google.com/github/jason96819/Studying/blob/main/Coding_Algorithm/Coding_240709.ipynb\" target=\"_parent\"><img src=\"https://colab.research.google.com/assets/colab-badge.svg\" alt=\"Open In Colab\"/></a>"
      ]
    },
    {
      "cell_type": "markdown",
      "source": [
        "#2024년 7월 9일 화요일\n",
        "\n",
        "피로도\n",
        "\n",
        "https://school.programmers.co.kr/learn/courses/30/lessons/87946"
      ],
      "metadata": {
        "id": "hzsf9-JTxjSf"
      }
    },
    {
      "cell_type": "markdown",
      "source": [
        "##문제 설명"
      ],
      "metadata": {
        "id": "3ywHgSogbgp6"
      }
    },
    {
      "cell_type": "markdown",
      "source": [
        "XX게임에는 피로도 시스템(0 이상의 정수로 표현합니다)이 있으며, 일정 피로도를 사용해서 던전을 탐험할 수 있습니다. 이때, 각 던전마다 탐험을 시작하기 위해 필요한 \"최소 필요 피로도\"와 던전 탐험을 마쳤을 때 소모되는 \"소모 피로도\"가 있습니다.\n",
        "\n",
        "\"최소 필요 피로도\"는 해당 던전을 탐험하기 위해 가지고 있어야 하는 최소한의 피로도를 나타내며, \"소모 피로도\"는 던전을 탐험한 후 소모되는 피로도를 나타냅니다. 예를 들어 \"최소 필요 피로도\"가 80, \"소모 피로도\"가 20인 던전을 탐험하기 위해서는 유저의 현재 남은 피로도는 80 이상 이어야 하며, 던전을 탐험한 후에는 피로도 20이 소모됩니다.\n",
        "\n",
        "이 게임에는 하루에 한 번씩 탐험할 수 있는 던전이 여러개 있는데, 한 유저가 오늘 이 던전들을 최대한 많이 탐험하려 합니다. 유저의 현재 피로도 k와 각 던전별 \"최소 필요 피로도\", \"소모 피로도\"가 담긴 2차원 배열 dungeons 가 매개변수로 주어질 때, 유저가 탐험할수 있는 최대 던전 수를 return 하도록 solution 함수를 완성해주세요.\n",
        "\n",
        "제한사항\n",
        "\n",
        "- k는 1 이상 5,000 이하인 자연수입니다.\n",
        "- dungeons의 세로(행) 길이(즉, 던전의 개수)는 1 이상 8 이하입니다.\n",
        "  - dungeons의 가로(열) 길이는 2 입니다.\n",
        "  - dungeons의 각 행은 각 던전의 [\"최소 필요 피로도\", \"소모 피로도\"] 입니다.\n",
        "  -\"최소 필요 피로도\"는 항상 \"소모 피로도\"보다 크거나 같습니다.\n",
        "  -\"최소 필요 피로도\"와 \"소모 피로도\"는 1 이상 1,000 이하인 자연수입니다.\n",
        "  -서로 다른 던전의 [\"최소 필요 피로도\", \"소모 피로도\"]가 서로 같을 수 있습니다."
      ],
      "metadata": {
        "id": "kAiM4y5KxqAf"
      }
    },
    {
      "cell_type": "markdown",
      "source": [
        "입출력 예\n",
        "\n",
        "![image.png](data:image/png;base64,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)"
      ],
      "metadata": {
        "id": "4P9xnNoZx3k9"
      }
    },
    {
      "cell_type": "markdown",
      "source": [
        "입출력 예 설명\n",
        "\n",
        "현재 피로도는 80입니다.\n",
        "\n",
        "만약, 첫 번째 → 두 번째 → 세 번째 던전 순서로 탐험한다면\n",
        "\n",
        " - 현재 피로도는 80이며, 첫 번째 던전을 돌기위해 필요한 \"최소 필요 피로도\" 또한 80이므로, 첫 번째 던전을 탐험할 수 있습니다. 첫 번째 던전의 \"소모 피로도\"는 20이므로, 던전을 탐험한 후 남은 피로도는 60입니다.\n",
        " - 남은 피로도는 60이며, 두 번째 던전을 돌기위해 필요한 \"최소 필요 피로도\"는 50이므로, 두 번째 던전을 탐험할 수 있습니다. 두 번째 던전의 \"소모 피로도\"는 40이므로, 던전을 탐험한 후 남은 피로도는 20입니다.\n",
        " - 남은 피로도는 20이며, 세 번째 던전을 돌기위해 필요한 \"최소 필요 피로도\"는 30입니다. 따라서 세 번째 던전은 탐험할 수 없습니다.\n",
        "\n",
        "만약, 첫 번째 → 세 번째 → 두 번째 던전 순서로 탐험한다면\n",
        "\n",
        " - 현재 피로도는 80이며, 첫 번째 던전을 돌기위해 필요한 \"최소 필요 피로도\" 또한 80이므로, 첫 번째 던전을 탐험할 수 있습니다. 첫 번째 던전의 \"소모 피로도\"는 20이므로, 던전을 탐험한 후 남은 피로도는 60입니다.\n",
        " - 남은 피로도는 60이며, 세 번째 던전을 돌기위해 필요한 \"최소 필요 피로도\"는 30이므로, 세 번째 던전을 탐험할 수 있습니다. 세 번째 던전의 \"소모 피로도\"는 10이므로, 던전을 탐험한 후 남은 피로도는 50입니다.\n",
        " - 남은 피로도는 50이며, 두 번째 던전을 돌기위해 필요한 \"최소 필요 피로도\"는 50이므로, 두 번째 던전을 탐험할 수 있습니다. 두 번째 던전의 \"소모 피로도\"는 40이므로, 던전을 탐험한 후 남은 피로도는 10입니다.\n",
        "\n",
        "따라서 이 경우 세 던전을 모두 탐험할 수 있으며, 유저가 탐험할 수 있는 최대 던전 수는 3입니다."
      ],
      "metadata": {
        "id": "NeHM5yUKx7cI"
      }
    },
    {
      "cell_type": "markdown",
      "source": [
        "## 문제 풀이"
      ],
      "metadata": {
        "id": "FYWwAl08bjuU"
      }
    },
    {
      "cell_type": "markdown",
      "source": [
        "예시"
      ],
      "metadata": {
        "id": "LfSCHnK1rhuM"
      }
    },
    {
      "cell_type": "code",
      "source": [
        "dungeons = [[100,10], [85, 30], [80,20],[50,40],[30,10]]\n",
        "k = 80"
      ],
      "metadata": {
        "id": "nAcJiGHIrhYt"
      },
      "execution_count": 13,
      "outputs": []
    },
    {
      "cell_type": "code",
      "source": [
        "answer = 0"
      ],
      "metadata": {
        "id": "qs74kBCC7XLo"
      },
      "execution_count": 16,
      "outputs": []
    },
    {
      "cell_type": "markdown",
      "source": [
        "answer를 전역 변수로 선언한다.\n",
        "\n",
        "answer(최종 탐험 횟수)를 전역변수로 선언하여 DFS 함수 내에서 계속 갱신되는 cnt 값과 비교하고,\n",
        "\n",
        "cnt값이 answer보다 큰 경우 answer를 해당 cnt 값으로 새롭게 갱신한다."
      ],
      "metadata": {
        "id": "ybfFG28E7wov"
      }
    },
    {
      "cell_type": "code",
      "source": [
        "def dfs(k, cnt, dungeons, check):\n",
        "    global answer\n",
        "    answer = max(answer, cnt)"
      ],
      "metadata": {
        "id": "BuVN6p6l7ac7"
      },
      "execution_count": 18,
      "outputs": []
    },
    {
      "cell_type": "markdown",
      "source": [
        "반복문 안의 조건문 방문하지 않은 던전이고, 현재 피로도가 해당 던전을 방문하기 위한 최소 피로도보다 크면"
      ],
      "metadata": {
        "id": "rtzPknGa8CV6"
      }
    },
    {
      "cell_type": "code",
      "source": [
        "def dfs(k, cnt, dungeons, check):\n",
        "    global answer\n",
        "    answer = max(answer, cnt)\n",
        "    for i in range(len(dungeons)):\n",
        "        if check[i] == 0 and k >= dungeons[i][0]:\n",
        "            check[i] = 1"
      ],
      "metadata": {
        "id": "piQQRGLx8Ax6"
      },
      "execution_count": null,
      "outputs": []
    },
    {
      "cell_type": "markdown",
      "source": [
        "이전 노드로 다시 back할 때, check 값만 0으로 바꿔줄 뿐 아니라\n",
        "\n",
        "현재 피로도의 수도 해당 노드를 방문하기 전의 피로도로 다시 복구해줘야 한다.\n",
        "\n",
        "따라서, 직접적으로 k 값과 cnt 값을 바꿔주기 보다는, DFS 함수 내에서 보내주는 매개변수의 값을 수정해줘야 한다."
      ],
      "metadata": {
        "id": "shhUUZ2A8Mg8"
      }
    },
    {
      "cell_type": "code",
      "source": [
        "def dfs(k, cnt, dungeons, check):\n",
        "    global answer\n",
        "    answer = max(answer, cnt)\n",
        "    for i in range(len(dungeons)):\n",
        "        if check[i] == 0 and k >= dungeons[i][0]:\n",
        "            check[i] = 1\n",
        "            dfs(k - dungeons[i][1], cnt + 1, dungeons, check)\n",
        "            check[i] = 0"
      ],
      "metadata": {
        "id": "TjsSKlL152ia"
      },
      "execution_count": 19,
      "outputs": []
    },
    {
      "cell_type": "markdown",
      "source": [
        "정답 정리\n",
        "\n",
        "cnt : 탐험한 던전 개수\n",
        "\n",
        "k : 남은 피로도"
      ],
      "metadata": {
        "id": "Tq3yXREs8dyl"
      }
    },
    {
      "cell_type": "code",
      "source": [
        "def solution(k, dungeons):\n",
        "    global answer\n",
        "    check = [0]*len(dungeons)       # 방문 여부 체크하는 배열\n",
        "    DFS(k, 0, dungeons, check)      # 0: 방문한 던전의 개수를 0으로 DFS 함수에 넘겨준다.\n",
        "\n",
        "    return answer"
      ],
      "metadata": {
        "id": "EzXypHss52gM"
      },
      "execution_count": 21,
      "outputs": []
    },
    {
      "cell_type": "code",
      "source": [
        "# 최종답\n",
        "\n",
        "answer = 0\n",
        "\n",
        "def dfs(k, cnt, dungeons, check):\n",
        "    global answer\n",
        "    answer = max(answer, cnt)\n",
        "    for i in range(len(dungeons)):\n",
        "        if check[i] == 0 and k >= dungeons[i][0]:\n",
        "            check[i] = 1\n",
        "            dfs(k - dungeons[i][1], cnt + 1, dungeons, check)\n",
        "            check[i] = 0\n",
        "\n",
        "def solution(k, dungeons):\n",
        "    global answer\n",
        "    check = [0]*len(dungeons)\n",
        "    dfs(k, 0, dungeons, check)\n",
        "    return answer"
      ],
      "metadata": {
        "id": "eRUnFiD352dw"
      },
      "execution_count": 22,
      "outputs": []
    },
    {
      "cell_type": "code",
      "source": [
        "solution(k, dungeons)"
      ],
      "metadata": {
        "colab": {
          "base_uri": "https://localhost:8080/"
        },
        "id": "T17aLmRg52bR",
        "outputId": "223c83ef-38e4-4916-d7c3-436f0a66a19f"
      },
      "execution_count": 23,
      "outputs": [
        {
          "output_type": "execute_result",
          "data": {
            "text/plain": [
              "3"
            ]
          },
          "metadata": {},
          "execution_count": 23
        }
      ]
    },
    {
      "cell_type": "code",
      "source": [],
      "metadata": {
        "id": "rN9rE06_81IX"
      },
      "execution_count": null,
      "outputs": []
    }
  ]
}