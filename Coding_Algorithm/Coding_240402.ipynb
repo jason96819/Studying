{
  "nbformat": 4,
  "nbformat_minor": 0,
  "metadata": {
    "colab": {
      "provenance": [],
      "authorship_tag": "ABX9TyNAzy9J7NBrxnf5tBc+dPoT",
      "include_colab_link": true
    },
    "kernelspec": {
      "name": "python3",
      "display_name": "Python 3"
    },
    "language_info": {
      "name": "python"
    }
  },
  "cells": [
    {
      "cell_type": "markdown",
      "metadata": {
        "id": "view-in-github",
        "colab_type": "text"
      },
      "source": [
        "<a href=\"https://colab.research.google.com/github/jason96819/Studying/blob/main/Coding_Algorithm/Coding_240402.ipynb\" target=\"_parent\"><img src=\"https://colab.research.google.com/assets/colab-badge.svg\" alt=\"Open In Colab\"/></a>"
      ]
    },
    {
      "cell_type": "code",
      "execution_count": null,
      "metadata": {
        "id": "cFjrXC7dSY9q"
      },
      "outputs": [],
      "source": []
    },
    {
      "cell_type": "markdown",
      "source": [
        "# 1일 1코딩 알고리즘 연습"
      ],
      "metadata": {
        "id": "tpaREozMSidh"
      }
    },
    {
      "cell_type": "markdown",
      "source": [
        "## 24년 04월 02일 화요일"
      ],
      "metadata": {
        "id": "J5ferBUESido"
      }
    },
    {
      "cell_type": "markdown",
      "source": [
        "구명보트 - https://school.programmers.co.kr/learn/courses/30/lessons/42885\n",
        "\n",
        "문제 설명\n",
        "무인도에 갇힌 사람들을 구명보트를 이용하여 구출하려고 합니다. 구명보트는 작아서 한 번에 최대 2명씩 밖에 탈 수 없고, 무게 제한도 있습니다.\n",
        "\n",
        "예를 들어, 사람들의 몸무게가 [70kg, 50kg, 80kg, 50kg]이고 구명보트의 무게 제한이 100kg이라면 2번째 사람과 4번째 사람은 같이 탈 수 있지만 1번째 사람과 3번째 사람의 무게의 합은 150kg이므로 구명보트의 무게 제한을 초과하여 같이 탈 수 없습니다.\n",
        "\n",
        "구명보트를 최대한 적게 사용하여 모든 사람을 구출하려고 합니다.\n",
        "\n",
        "사람들의 몸무게를 담은 배열 people과 구명보트의 무게 제한 limit가 매개변수로 주어질 때, 모든 사람을 구출하기 위해 필요한 구명보트 개수의 최솟값을 return 하도록 solution 함수를 작성해주세요."
      ],
      "metadata": {
        "id": "vuzeNhXPD8vv"
      }
    },
    {
      "cell_type": "markdown",
      "source": [
        "대표적인 그리디 알고리즘\n",
        "\n",
        "한 번에 2명씩 밖에 탈 수 없기 때문에 정렬 후 맨앞과 맨뒤의 몸무게를 더해서 limit에 비교"
      ],
      "metadata": {
        "id": "GcIRTtwPD_6D"
      }
    },
    {
      "cell_type": "code",
      "source": [
        "people = [70, 50, 80, 50]\n",
        "limit = 100"
      ],
      "metadata": {
        "id": "IMla-zl3D8TL"
      },
      "execution_count": 16,
      "outputs": []
    },
    {
      "cell_type": "code",
      "source": [
        "people.sort()\n",
        "people"
      ],
      "metadata": {
        "colab": {
          "base_uri": "https://localhost:8080/"
        },
        "id": "nn16UNCdp6aq",
        "outputId": "67fdfa77-337c-4b8a-d442-030366e992be"
      },
      "execution_count": 17,
      "outputs": [
        {
          "output_type": "execute_result",
          "data": {
            "text/plain": [
              "[50, 50, 70, 80]"
            ]
          },
          "metadata": {},
          "execution_count": 17
        }
      ]
    },
    {
      "cell_type": "code",
      "source": [
        "len(people)"
      ],
      "metadata": {
        "colab": {
          "base_uri": "https://localhost:8080/"
        },
        "id": "tju0bxeJxSdx",
        "outputId": "7c92feac-679a-4568-a192-260586915211"
      },
      "execution_count": 18,
      "outputs": [
        {
          "output_type": "execute_result",
          "data": {
            "text/plain": [
              "4"
            ]
          },
          "metadata": {},
          "execution_count": 18
        }
      ]
    },
    {
      "cell_type": "code",
      "source": [
        "start = 0\n",
        "end = len(people) - 1"
      ],
      "metadata": {
        "id": "61HqMYF3p6YZ"
      },
      "execution_count": 19,
      "outputs": []
    },
    {
      "cell_type": "code",
      "source": [
        "print(\"첫번째 값 :\",people[start],',',\"마지막 값 :\",people[end])"
      ],
      "metadata": {
        "colab": {
          "base_uri": "https://localhost:8080/"
        },
        "id": "M1bMFfSiAlY7",
        "outputId": "0faef24d-1e99-44ca-fd24-db87b3597622"
      },
      "execution_count": 20,
      "outputs": [
        {
          "output_type": "stream",
          "name": "stdout",
          "text": [
            "첫번째 값 : 50 , 마지막 값 : 80\n"
          ]
        }
      ]
    },
    {
      "cell_type": "code",
      "source": [
        "people[start] + people[end]"
      ],
      "metadata": {
        "colab": {
          "base_uri": "https://localhost:8080/"
        },
        "id": "SC0m6BEZp6WK",
        "outputId": "b9a7b637-d000-4c27-969a-976ae3e4f0bf"
      },
      "execution_count": 21,
      "outputs": [
        {
          "output_type": "execute_result",
          "data": {
            "text/plain": [
              "130"
            ]
          },
          "metadata": {},
          "execution_count": 21
        }
      ]
    },
    {
      "cell_type": "code",
      "source": [
        "people[start] + people[end] <= limit"
      ],
      "metadata": {
        "colab": {
          "base_uri": "https://localhost:8080/"
        },
        "id": "8t5JN4bBp6UL",
        "outputId": "548e4b01-3460-48c5-b641-5ffcd794b1d2"
      },
      "execution_count": 22,
      "outputs": [
        {
          "output_type": "execute_result",
          "data": {
            "text/plain": [
              "False"
            ]
          },
          "metadata": {},
          "execution_count": 22
        }
      ]
    },
    {
      "cell_type": "code",
      "source": [
        "end -= 1\n",
        "print(\"뒤에서 두 번째 값 :\",people[end])\n",
        "people[start] + people[end] <= limit"
      ],
      "metadata": {
        "id": "LbLBg1KQp6Rv",
        "colab": {
          "base_uri": "https://localhost:8080/"
        },
        "outputId": "1373c175-e275-47e7-8c11-2712118a1735"
      },
      "execution_count": 23,
      "outputs": [
        {
          "output_type": "stream",
          "name": "stdout",
          "text": [
            "뒤에서 두 번째 값 : 70\n"
          ]
        },
        {
          "output_type": "execute_result",
          "data": {
            "text/plain": [
              "False"
            ]
          },
          "metadata": {},
          "execution_count": 23
        }
      ]
    },
    {
      "cell_type": "code",
      "source": [
        "end -= 1\n",
        "print(\"뒤에서 두 번째 값 :\",people[end])\n",
        "people[start] + people[end] <= limit"
      ],
      "metadata": {
        "colab": {
          "base_uri": "https://localhost:8080/"
        },
        "id": "cUvKjs_RwwNi",
        "outputId": "b6c18e13-f4a3-48a1-fd26-6a52cd70897d"
      },
      "execution_count": 24,
      "outputs": [
        {
          "output_type": "stream",
          "name": "stdout",
          "text": [
            "뒤에서 두 번째 값 : 50\n"
          ]
        },
        {
          "output_type": "execute_result",
          "data": {
            "text/plain": [
              "True"
            ]
          },
          "metadata": {},
          "execution_count": 24
        }
      ]
    },
    {
      "cell_type": "code",
      "source": [
        "def solution(people, limit):\n",
        "    answer = 0\n",
        "    people.sort()\n",
        "    start = 0\n",
        "    end = len(people) - 1\n",
        "\n",
        "    while(start <= end):\n",
        "        if(people[start]+people[end] <= limit):\n",
        "            start += 1\n",
        "            end -= 1\n",
        "        else:\n",
        "            end -= 1\n",
        "        answer += 1\n",
        "    return answer"
      ],
      "metadata": {
        "id": "au0y64_jETeU"
      },
      "execution_count": null,
      "outputs": []
    },
    {
      "cell_type": "code",
      "source": [
        "solution(people, limit)"
      ],
      "metadata": {
        "id": "C0Q5ZhMHKDVV",
        "colab": {
          "base_uri": "https://localhost:8080/"
        },
        "outputId": "87b19cf4-d46c-4192-f5eb-55dae8375531"
      },
      "execution_count": null,
      "outputs": [
        {
          "output_type": "execute_result",
          "data": {
            "text/plain": [
              "3"
            ]
          },
          "metadata": {},
          "execution_count": 47
        }
      ]
    },
    {
      "cell_type": "code",
      "source": [],
      "metadata": {
        "id": "XtnGwWePKDSs"
      },
      "execution_count": null,
      "outputs": []
    },
    {
      "cell_type": "markdown",
      "source": [
        "## 24년 04월 03일 수요일"
      ],
      "metadata": {
        "id": "TNu-MK3yBv0b"
      }
    },
    {
      "cell_type": "markdown",
      "source": [
        "카펫 - https://school.programmers.co.kr/learn/courses/30/lessons/42842\n",
        "\n",
        "문제 설명\n",
        "\n",
        "Leo는 카펫을 사러 갔다가 아래 그림과 같이 중앙에는 노란색으로 칠해져 있고 테두리 1줄은 갈색으로 칠해져 있는 격자 모양 카펫을 봤습니다.\n",
        "\n",
        "Leo는 집으로 돌아와서 아까 본 카펫의 노란색과 갈색으로 색칠된 격자의 개수는 기억했지만, 전체 카펫의 크기는 기억하지 못했습니다.\n",
        "\n",
        "Leo가 본 카펫에서 갈색 격자의 수 brown, 노란색 격자의 수 yellow가 매개변수로 주어질 때 카펫의 가로, 세로 크기를 순서대로 배열에 담아 return 하도록 solution 함수를 작성해주세요.\n",
        "\n",
        "제한사항\n",
        "- 갈색 격자의 수 brown은 8 이상 5,000 이하인 자연수입니다.\n",
        "- 노란색 격자의 수 yellow는 1 이상 2,000,000 이하인 자연수입니다.\n",
        "- 카펫의 가로 길이는 세로 길이와 같거나, 세로 길이보다 깁니다."
      ],
      "metadata": {
        "id": "Q6roO8bUB14d"
      }
    },
    {
      "cell_type": "markdown",
      "source": [
        "입출력 예\n",
        "\n",
        "|brown|yellow|return|\n",
        "|---|---|---|\n",
        "|10|2|[4, 3]|\n",
        "|8|1|[3, 3]|\n",
        "|24|24|[8, 6]|"
      ],
      "metadata": {
        "id": "v7HAJ6wWXfKj"
      }
    },
    {
      "cell_type": "markdown",
      "source": [
        "수학적으로 해석 - 일단 노란색을 중심으로 바깥으로 갈색을 채우면 된다."
      ],
      "metadata": {
        "id": "qIvOkq0YVwvf"
      }
    },
    {
      "cell_type": "markdown",
      "source": [
        "노란색 타일의 가로 세로 = w, y\n",
        "\n",
        "노란색 타일의 개수(y) = w * h\n",
        "\n",
        "갈색 타일의 개수(b) = 2(w + h + 2)\n",
        "\n",
        "2w + 2(y/w) + 4 - b = 0\n",
        "\n",
        "2w^2 + 2y + 4w - bw = 0\n",
        "\n",
        "w^2 + y + 2w - (bw / 2) = 0\n",
        "\n",
        "w^2 + 2w - (bw / 2) + y = 0\n",
        "\n",
        "w^2 +(2 - b/2)w + y = 0\n",
        "\n",
        "w에 대한 2차방정식 완성 w에 대한 근의 공식으로 w를 구할 수 있다.\n",
        "\n",
        "w = (-2 + b/2) + sqrt((2 - b/2)^2 - 4y) / 2"
      ],
      "metadata": {
        "id": "ZdMoDNeRdMis"
      }
    },
    {
      "cell_type": "code",
      "source": [
        "def solution(brown, yellow):\n",
        "    w=(-2+brown/2+(((2-brown/2))**2-4*yellow)**0.5)/2\n",
        "    h=yellow/w\n",
        "    return [w+2,h+2]"
      ],
      "metadata": {
        "id": "5c7hsOuimoVg"
      },
      "execution_count": null,
      "outputs": []
    },
    {
      "cell_type": "code",
      "source": [
        "solution(24, 24)"
      ],
      "metadata": {
        "colab": {
          "base_uri": "https://localhost:8080/"
        },
        "id": "dVkxXAcKpbhF",
        "outputId": "c8f1dc82-3537-4b42-f9e4-c1f433fde8a4"
      },
      "execution_count": null,
      "outputs": [
        {
          "output_type": "execute_result",
          "data": {
            "text/plain": [
              "[8.0, 6.0]"
            ]
          },
          "metadata": {},
          "execution_count": 30
        }
      ]
    },
    {
      "cell_type": "code",
      "source": [
        "solution(16, 8)"
      ],
      "metadata": {
        "colab": {
          "base_uri": "https://localhost:8080/"
        },
        "id": "3vbRDSeLpdY6",
        "outputId": "8092eea4-d405-45ed-f97d-4f7bb8e8ea9e"
      },
      "execution_count": null,
      "outputs": [
        {
          "output_type": "execute_result",
          "data": {
            "text/plain": [
              "[6.0, 4.0]"
            ]
          },
          "metadata": {},
          "execution_count": 34
        }
      ]
    },
    {
      "cell_type": "code",
      "source": [],
      "metadata": {
        "id": "csp_SeuUphdO"
      },
      "execution_count": null,
      "outputs": []
    }
  ]
}