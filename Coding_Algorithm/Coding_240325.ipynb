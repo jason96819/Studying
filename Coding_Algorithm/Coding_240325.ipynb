{
  "nbformat": 4,
  "nbformat_minor": 0,
  "metadata": {
    "colab": {
      "provenance": [],
      "collapsed_sections": [
        "J5ferBUESido",
        "N97gZHiCSidp"
      ],
      "authorship_tag": "ABX9TyPeGaer/NMMOM105VIqiWHi",
      "include_colab_link": true
    },
    "kernelspec": {
      "name": "python3",
      "display_name": "Python 3"
    },
    "language_info": {
      "name": "python"
    }
  },
  "cells": [
    {
      "cell_type": "markdown",
      "metadata": {
        "id": "view-in-github",
        "colab_type": "text"
      },
      "source": [
        "<a href=\"https://colab.research.google.com/github/jason96819/Studying/blob/main/Coding_Algorithm/Coding_240325.ipynb\" target=\"_parent\"><img src=\"https://colab.research.google.com/assets/colab-badge.svg\" alt=\"Open In Colab\"/></a>"
      ]
    },
    {
      "cell_type": "code",
      "execution_count": null,
      "metadata": {
        "id": "cFjrXC7dSY9q"
      },
      "outputs": [],
      "source": []
    },
    {
      "cell_type": "markdown",
      "source": [
        "# 1일 1코딩 알고리즘 연습"
      ],
      "metadata": {
        "id": "tpaREozMSidh"
      }
    },
    {
      "cell_type": "markdown",
      "source": [
        "## 24년 3월 23일 토요일"
      ],
      "metadata": {
        "id": "J5ferBUESido"
      }
    },
    {
      "cell_type": "markdown",
      "source": [
        "달리기경 - https://school.programmers.co.kr/learn/courses/30/lessons/178871\n",
        "\n",
        "얀에서는 매년 달리기 경주가 열립니다. 해설진들은 선수들이 자기 바로 앞의 선수를 추월할 때 추월한 선수의 이름을 부릅니다. 예를 들어 1등부터 3등까지 \"mumu\", \"soe\", \"poe\" 선수들이 순서대로 달리고 있을 때, 해설진이 \"soe\"선수를 불렀다면 2등인 \"soe\" 선수가 1등인 \"mumu\" 선수를 추월했다는 것입니다. 즉 \"soe\" 선수가 1등, \"mumu\" 선수가 2등으로 바뀝니다.\n",
        "\n",
        "선수들의 이름이 1등부터 현재 등수 순서대로 담긴 문자열 배열 players와 해설진이 부른 이름을 담은 문자열 배열 callings가 매개변수로 주어질 때, 경주가 끝났을 때 선수들의 이름을 1등부터 등수 순서대로 배열에 담아 return 하는 solution 함수를 완성해주세요."
      ],
      "metadata": {
        "id": "_TZF5P3RSido"
      }
    },
    {
      "cell_type": "code",
      "source": [
        "players\t= [\"mumu\", \"soe\", \"poe\", \"kai\", \"mine\"]\n",
        "callings = [\"kai\", \"kai\", \"mine\", \"mine\"]\n",
        "result = [\"mumu\", \"kai\", \"mine\", \"soe\", \"poe\"]"
      ],
      "metadata": {
        "id": "3uauHvbdS6Wn"
      },
      "execution_count": null,
      "outputs": []
    },
    {
      "cell_type": "code",
      "source": [
        "for i in callings:\n",
        "    num = players.index(i)\n",
        "    players[num-1], players[num] = players[num], players[num-1]\n",
        "players"
      ],
      "metadata": {
        "colab": {
          "base_uri": "https://localhost:8080/"
        },
        "id": "1MrxIlxlTe4B",
        "outputId": "2c5ff921-bdff-48b5-97aa-803c4c6c1cdf"
      },
      "execution_count": null,
      "outputs": [
        {
          "output_type": "execute_result",
          "data": {
            "text/plain": [
              "['mumu', 'kai', 'mine', 'soe', 'poe']"
            ]
          },
          "metadata": {},
          "execution_count": 6
        }
      ]
    },
    {
      "cell_type": "code",
      "source": [
        "def solution(players, callings):\n",
        "\n",
        "    for i in callings:\n",
        "        num = players.index(i)\n",
        "        players[num-1], players[num] = players[num], players[num-1]\n",
        "\n",
        "    return players\n",
        "\n",
        "## 시간초과!!!!!"
      ],
      "metadata": {
        "id": "7Jbg6s8JS77d"
      },
      "execution_count": null,
      "outputs": []
    },
    {
      "cell_type": "markdown",
      "source": [
        "5 ≤ players의 길이 ≤ 50,000\n",
        "\n",
        "2 ≤ callings의 길이 ≤ 1,000,000\n",
        "\n",
        "때문에 최악의 결과 O(n^2)으로 1,000,000 × 50,000번을 반복"
      ],
      "metadata": {
        "id": "I3edg2joXtye"
      }
    },
    {
      "cell_type": "code",
      "source": [
        "def solution(players, callings):\n",
        "    result = {player: i for i, player in enumerate(players)}                    # 선수: 등수\n",
        "\n",
        "    for c in callings:\n",
        "        i = result[c]                                                                   # 호명된 선수의 현재 등수\n",
        "        result[c] -= 1                                                                    # 하나 앞 등수로 바꿔줌 -1\n",
        "        result[players[i-1]] += 1                                                         # 앞에 위치했던 선수의 등수 +1\n",
        "        players[i-1], players[i] = players[i], players[i-1]            # 위치 변경\n",
        "\n",
        "    return players\n",
        "\n",
        "solution(players, callings)"
      ],
      "metadata": {
        "colab": {
          "base_uri": "https://localhost:8080/"
        },
        "id": "FuO3i2j7S7yN",
        "outputId": "9c4eb171-5de4-4e89-c5ae-9c2b25e02192"
      },
      "execution_count": null,
      "outputs": [
        {
          "output_type": "execute_result",
          "data": {
            "text/plain": [
              "['mumu', 'kai', 'mine', 'soe', 'poe']"
            ]
          },
          "metadata": {},
          "execution_count": 96
        }
      ]
    },
    {
      "cell_type": "code",
      "source": [
        "result = {player: i for i, player in enumerate(players)}                                # 딕셔너리 생성"
      ],
      "metadata": {
        "id": "LfCdHAgwaHx3"
      },
      "execution_count": null,
      "outputs": []
    },
    {
      "cell_type": "code",
      "source": [
        "print(f\"{result} : 첫번째 꺼\")\n",
        "print(\"=\"*50)\n",
        "for calling in callings:\n",
        "    idx = result[calling]\n",
        "    result[calling] -= 1\n",
        "    print(idx,\", \",calling)\n",
        "    print(f\"{result} : 해당 인덱스 -1 하기\")\n",
        "    result[players[idx-1]] += 1\n",
        "    print(f\"{result} : 그 앞 인덱스 +1 하기\")\n",
        "    print(\"=\"*40)\n",
        "\n",
        "players[idx-1], players[idx] = players[idx], players[idx-1]                             # 위치 변경\n",
        "players"
      ],
      "metadata": {
        "colab": {
          "base_uri": "https://localhost:8080/"
        },
        "id": "hfzmbsv8Yq31",
        "outputId": "857c5e3a-89ce-438d-ef01-d2d9dfe224ce"
      },
      "execution_count": null,
      "outputs": [
        {
          "output_type": "stream",
          "name": "stdout",
          "text": [
            "{'mumu': 0, 'soe': 1, 'poe': 2, 'kai': 3, 'mine': 4} : 첫번째 꺼\n",
            "==================================================\n",
            "3 ,  kai\n",
            "{'mumu': 0, 'soe': 1, 'poe': 2, 'kai': 2, 'mine': 4} : 해당 인덱스 -1 하기\n",
            "{'mumu': 0, 'soe': 1, 'poe': 3, 'kai': 2, 'mine': 4} : 그 앞 인덱스 +1 하기\n",
            "========================================\n",
            "2 ,  kai\n",
            "{'mumu': 0, 'soe': 1, 'poe': 3, 'kai': 1, 'mine': 4} : 해당 인덱스 -1 하기\n",
            "{'mumu': 0, 'soe': 2, 'poe': 3, 'kai': 1, 'mine': 4} : 그 앞 인덱스 +1 하기\n",
            "========================================\n",
            "4 ,  mine\n",
            "{'mumu': 0, 'soe': 2, 'poe': 3, 'kai': 1, 'mine': 3} : 해당 인덱스 -1 하기\n",
            "{'mumu': 0, 'soe': 2, 'poe': 3, 'kai': 2, 'mine': 3} : 그 앞 인덱스 +1 하기\n",
            "========================================\n",
            "3 ,  mine\n",
            "{'mumu': 0, 'soe': 2, 'poe': 3, 'kai': 2, 'mine': 2} : 해당 인덱스 -1 하기\n",
            "{'mumu': 0, 'soe': 2, 'poe': 4, 'kai': 2, 'mine': 2} : 그 앞 인덱스 +1 하기\n",
            "========================================\n"
          ]
        },
        {
          "output_type": "execute_result",
          "data": {
            "text/plain": [
              "['mumu', 'soe', 'kai', 'poe', 'mine']"
            ]
          },
          "metadata": {},
          "execution_count": 99
        }
      ]
    },
    {
      "cell_type": "code",
      "source": [
        "# 전문가 정답\n",
        "\n",
        "def solution(players, callings):\n",
        "    pla_dic = {key: i for i, key in enumerate(players)}\n",
        "\n",
        "    for p in callings:\n",
        "        c = pla_dic[p]\n",
        "        pla_dic[p] -= 1\n",
        "        pla_dic[players[c-1]] += 1\n",
        "        players[c-1], players[c] = players[c], players[c-1]\n",
        "\n",
        "    return players"
      ],
      "metadata": {
        "id": "eeW-meskYqwd"
      },
      "execution_count": null,
      "outputs": []
    },
    {
      "cell_type": "markdown",
      "source": [
        "## 24년 3월 25일 월요일"
      ],
      "metadata": {
        "id": "N97gZHiCSidp"
      }
    },
    {
      "cell_type": "markdown",
      "source": [
        "공원산책 - https://school.programmers.co.kr/learn/courses/30/lessons/172928\n",
        "\n",
        "지나다니는 길을 'O', 장애물을 'X'로 나타낸 직사각형 격자 모양의 공원에서 로봇 강아지가 산책을 하려합니다. 산책은 로봇 강아지에 미리 입력된 명령에 따라 진행하며, 명령은 다음과 같은 형식으로 주어집니다.\n",
        "\n",
        "[\"방향 거리\", \"방향 거리\" … ]\n",
        "예를 들어 \"E 5\"는 로봇 강아지가 현재 위치에서 동쪽으로 5칸 이동했다는 의미입니다. 로봇 강아지는 명령을 수행하기 전에 다음 두 가지를 먼저 확인합니다.\n",
        "\n",
        "주어진 방향으로 이동할 때 공원을 벗어나는지 확인합니다.\n",
        "주어진 방향으로 이동 중 장애물을 만나는지 확인합니다.\n",
        "위 두 가지중 어느 하나라도 해당된다면, 로봇 강아지는 해당 명령을 무시하고 다음 명령을 수행합니다.\n",
        "공원의 가로 길이가 W, 세로 길이가 H라고 할 때, 공원의 좌측 상단의 좌표는 (0, 0), 우측 하단의 좌표는 (H - 1, W - 1) 입니다.\n",
        "![image.png](data:image/png;base64,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)\n",
        "\n",
        "공원을 나타내는 문자열 배열 park, 로봇 강아지가 수행할 명령이 담긴 문자열 배열 routes가 매개변수로 주어질 때, 로봇 강아지가 모든 명령을 수행 후 놓인 위치를 [세로 방향 좌표, 가로 방향 좌표] 순으로 배열에 담아 return 하도록 solution 함수를 완성해주세요."
      ],
      "metadata": {
        "id": "9KBKcmC8Sidp"
      }
    },
    {
      "cell_type": "code",
      "source": [
        "def solution(park, routes):\n",
        "    answer = []\n",
        "    return answer"
      ],
      "metadata": {
        "id": "a4F8cc_MhFu5"
      },
      "execution_count": null,
      "outputs": []
    },
    {
      "cell_type": "code",
      "source": [
        "park_1 = [\"SOO\",\"OOO\",\"OOO\"]\n",
        "routes_1 = [\"E 2\",\"S 2\",\"W 1\"]\n",
        "result_1 = [2,1]"
      ],
      "metadata": {
        "id": "nN0UbVxo8x3X"
      },
      "execution_count": null,
      "outputs": []
    },
    {
      "cell_type": "code",
      "source": [
        "park_2 = [\"SOO\",\"OXX\",\"OOO\"]\n",
        "routes_2 = [\"E 2\",\"S 2\",\"W 1\"]\n",
        "result_2 = [0,1]"
      ],
      "metadata": {
        "id": "2J7NIx10c13x"
      },
      "execution_count": null,
      "outputs": []
    },
    {
      "cell_type": "code",
      "source": [
        "park_3 = [\"OSO\",\"OOO\",\"OXO\",\"OOO\"]\n",
        "routes_3 = [\"E 2\",\"S 3\",\"W 1\"]\n",
        "result_3 = [0,0]"
      ],
      "metadata": {
        "id": "qpgg4dCWc11Z"
      },
      "execution_count": null,
      "outputs": []
    },
    {
      "cell_type": "code",
      "source": [
        "import numpy as np\n",
        "\n",
        "m = []\n",
        "\n",
        "for i in range(len(park_3)):\n",
        "    for j in range(len(park_3[0])):\n",
        "        m.append(park_3[i][j])\n",
        "\n",
        "m = np.array(m)\n",
        "m = m.reshape(len(park_3), -1)\n",
        "result = m.tolist()\n",
        "result"
      ],
      "metadata": {
        "colab": {
          "base_uri": "https://localhost:8080/"
        },
        "id": "a7RK_Oric1sC",
        "outputId": "b5af7e44-cde5-4c47-d1a6-b36c96fb5e56"
      },
      "execution_count": null,
      "outputs": [
        {
          "output_type": "execute_result",
          "data": {
            "text/plain": [
              "[['O', 'S', 'O'], ['O', 'O', 'O'], ['O', 'X', 'O'], ['O', 'O', 'O']]"
            ]
          },
          "metadata": {},
          "execution_count": 574
        }
      ]
    },
    {
      "cell_type": "code",
      "source": [
        "for i in range(len(result)):\n",
        "    for j in range(len(result[i])):\n",
        "        if result[i][j] == 'S':\n",
        "            p = [i, j]\n",
        "p"
      ],
      "metadata": {
        "colab": {
          "base_uri": "https://localhost:8080/"
        },
        "id": "YOJ1a1MLfJp2",
        "outputId": "3f87b0f7-0df4-4ae7-e5fa-9f31e45c439e"
      },
      "execution_count": null,
      "outputs": [
        {
          "output_type": "execute_result",
          "data": {
            "text/plain": [
              "[0, 1]"
            ]
          },
          "metadata": {},
          "execution_count": 575
        }
      ]
    },
    {
      "cell_type": "code",
      "source": [
        "X_list = []\n",
        "\n",
        "for i in range(len(result)):\n",
        "    for j in range(len(result[i])):\n",
        "        if result[i][j] == 'X':\n",
        "            x_list = [i ,j]\n",
        "            X_list.append(x_list)\n",
        "X_list"
      ],
      "metadata": {
        "colab": {
          "base_uri": "https://localhost:8080/"
        },
        "id": "KiGjDvuv1FY4",
        "outputId": "e7660cc0-e403-4edc-8214-3b0512b90248"
      },
      "execution_count": null,
      "outputs": [
        {
          "output_type": "execute_result",
          "data": {
            "text/plain": [
              "[[2, 1]]"
            ]
          },
          "metadata": {},
          "execution_count": 576
        }
      ]
    },
    {
      "cell_type": "code",
      "source": [
        "dis_dict = {}\n",
        "\n",
        "for route in routes_3:\n",
        "    direction, distance = route.split()\n",
        "    dis_dict[direction] = int(distance)\n",
        "dis_dict"
      ],
      "metadata": {
        "colab": {
          "base_uri": "https://localhost:8080/"
        },
        "id": "o4hj7ca7g77a",
        "outputId": "ca178556-3083-40bd-b24d-5cca387636aa"
      },
      "execution_count": null,
      "outputs": [
        {
          "output_type": "execute_result",
          "data": {
            "text/plain": [
              "{'E': 2, 'S': 3, 'W': 1}"
            ]
          },
          "metadata": {},
          "execution_count": 577
        }
      ]
    },
    {
      "cell_type": "code",
      "source": [
        "for k, v in dis_dict.items():\n",
        "    print(p, k, \"시작합니다.\")\n",
        "    if k == \"E\":\n",
        "        p[1] += int(v)\n",
        "        print(p, \"이동완료.\")\n",
        "        if p[1] >= len(result[0]):\n",
        "            p[1] -= int(v)\n",
        "            print(p, \"거리제한입니다. 돌아갑니다.\")\n",
        "        else:\n",
        "            print(\"거리안에 있습니다.\")\n",
        "            for i in range(len(X_list)):\n",
        "                if p[0] == X_list[i][0] and p[1] >= X_list[i][1]:\n",
        "                    print('하지만, 장애물에 걸렸습니다. 돌아갑니다.')\n",
        "                    p[1] -= int(v)\n",
        "    elif k == \"S\":\n",
        "        p[0] += int(v)\n",
        "        print(p, \"이동완료.\")\n",
        "        if p[0] >= len(result):\n",
        "            p[0] -= int(v)\n",
        "            print(p, \"거리제한입니다. 돌아갑니다.\")\n",
        "        else:\n",
        "            print(\"거리안에 있습니다.\")\n",
        "            for i in range(len(X_list)):\n",
        "                if p[1] == X_list[i][1] and p[0] >= X_list[i][0]:\n",
        "                    print('하지만, 장애물에 걸렸습니다. 돌아갑니다.')\n",
        "                    p[0] -= int(v)\n",
        "    elif k == \"W\":\n",
        "        p[1] -= int(v)\n",
        "        print(p, \"이동완료.\")\n",
        "        if p[1] < 0:\n",
        "            p[1] += int(v)\n",
        "            print(p, \"거리제한입니다. 돌아갑니다.\")\n",
        "        else:\n",
        "            print(\"거리안에 있습니다.\")\n",
        "            for i in range(len(X_list)):\n",
        "                if p[0] == X_list[i][0] and p[1] <= X_list[i][1]:\n",
        "                    print('하지만, 장애물에 걸렸습니다. 돌아갑니다.')\n",
        "                    p[1] += int(v)\n",
        "    elif k == \"N\":\n",
        "        p[0] -= int(v)\n",
        "        print(p, \"이동완료.\")\n",
        "        if p[0] < 0:\n",
        "            p[0] += int(v)\n",
        "            print(p, \"거리제한입니다. 돌아갑니다.\")\n",
        "        else:\n",
        "            print(\"거리안에 있습니다.\")\n",
        "            for i in range(len(X_list)):\n",
        "                if p[1] == X_list[i][1] and p[0] <= X_list[i][0]:\n",
        "                    print('하지만, 장애물에 걸렸습니다. 돌아갑니다.')\n",
        "                    p[0] += int(v)\n",
        "p"
      ],
      "metadata": {
        "colab": {
          "base_uri": "https://localhost:8080/"
        },
        "id": "EjM73WkkytrH",
        "outputId": "38e8d03f-dbb3-4dbd-ac31-30a84a389dbf"
      },
      "execution_count": null,
      "outputs": [
        {
          "output_type": "stream",
          "name": "stdout",
          "text": [
            "[0, 1] E 시작합니다.\n",
            "[0, 3] 이동완료.\n",
            "[0, 1] 거리제한입니다. 돌아갑니다.\n",
            "[0, 1] S 시작합니다.\n",
            "[3, 1] 이동완료.\n",
            "거리안에 있습니다.\n",
            "하지만, 장애물에 걸렸습니다. 돌아갑니다.\n",
            "[0, 1] W 시작합니다.\n",
            "[0, 0] 이동완료.\n",
            "거리안에 있습니다.\n"
          ]
        },
        {
          "output_type": "execute_result",
          "data": {
            "text/plain": [
              "[0, 0]"
            ]
          },
          "metadata": {},
          "execution_count": 578
        }
      ]
    },
    {
      "cell_type": "code",
      "source": [
        "import numpy as np\n",
        "\n",
        "def make_map(park):\n",
        "    m = []\n",
        "    for i in range(len(park)):\n",
        "        for j in range(len(park[0])):\n",
        "            m.append(park[i][j])\n",
        "    m = np.array(m)\n",
        "    m = m.reshape(len(park), -1)\n",
        "    res = m.tolist()\n",
        "    return res\n",
        "\n",
        "def start_point(result):\n",
        "    for i in range(len(result)):\n",
        "        for j in range(len(result[i])):\n",
        "            if result[i][j] == 'S':\n",
        "                p = [i, j]\n",
        "    return p\n",
        "\n",
        "def make_x_list(result):\n",
        "    X_list = []\n",
        "    for i in range(len(result)):\n",
        "        for j in range(len(result[i])):\n",
        "            if result[i][j] == 'X':\n",
        "                x_list = [i ,j]\n",
        "                X_list.append(x_list)\n",
        "    return X_list\n",
        "\n",
        "def routes_dict(routes):\n",
        "    dis_dict = {}\n",
        "    for route in routes:\n",
        "        direction, distance = route.split()\n",
        "        dis_dict[direction] = int(distance)\n",
        "    return dis_dict"
      ],
      "metadata": {
        "id": "GpbiB3KDD9Q4"
      },
      "execution_count": null,
      "outputs": []
    },
    {
      "cell_type": "code",
      "source": [
        "import numpy as np\n",
        "\n",
        "def solution(park, routes):\n",
        "\n",
        "    m = []\n",
        "    for i in range(len(park)):\n",
        "        for j in range(len(park[0])):\n",
        "            m.append(park[i][j])\n",
        "    m = np.array(m)\n",
        "    m = m.reshape(len(park), -1)\n",
        "    result = m.tolist()\n",
        "\n",
        "    for i in range(len(result)):\n",
        "        for j in range(len(result[i])):\n",
        "            if result[i][j] == 'S':\n",
        "                sp = [i, j]\n",
        "\n",
        "    X_list = []\n",
        "    for i in range(len(result)):\n",
        "        for j in range(len(result[i])):\n",
        "            if result[i][j] == 'X':\n",
        "                x_list = [i ,j]\n",
        "                X_list.append(x_list)\n",
        "\n",
        "    dis_dict = {}\n",
        "    for route in routes:\n",
        "        direction, distance = route.split()\n",
        "        dis_dict[direction] = int(distance)\n",
        "\n",
        "    for k, v in dis_dict.items():\n",
        "        if k == \"E\":\n",
        "            sp[1] += int(v)\n",
        "            if sp[1] >= len(result[0]):\n",
        "                sp[1] -= int(v)\n",
        "            else:\n",
        "                for i in range(len(X_list)):\n",
        "                    if sp[0] == X_list[i][0] and sp[1] >= X_list[i][1]:\n",
        "                        sp[1] -= int(v)\n",
        "        elif k == \"S\":\n",
        "            sp[0] += int(v)\n",
        "            if sp[0] >= len(result):\n",
        "                sp[0] -= int(v)\n",
        "            else:\n",
        "                for i in range(len(X_list)):\n",
        "                    if sp[1] == X_list[i][1] and sp[0] >= X_list[i][0]:\n",
        "                        sp[0] -= int(v)\n",
        "        elif k == \"W\":\n",
        "            sp[1] -= int(v)\n",
        "            if sp[1] < 0:\n",
        "                sp[1] += int(v)\n",
        "            else:\n",
        "                for i in range(len(X_list)):\n",
        "                    if sp[0] == X_list[i][0] and sp[1] <= X_list[i][1]:\n",
        "                        sp[1] += int(v)\n",
        "        elif k == \"N\":\n",
        "            sp[0] -= int(v)\n",
        "            if sp[0] < 0:\n",
        "                sp[0] += int(v)\n",
        "            else:\n",
        "                for i in range(len(X_list)):\n",
        "                    if sp[1] == X_list[i][1] and sp[0] <= X_list[i][0]:\n",
        "                        sp[0] += int(v)\n",
        "    return sp"
      ],
      "metadata": {
        "id": "yudCs1fcrE8w"
      },
      "execution_count": null,
      "outputs": []
    },
    {
      "cell_type": "code",
      "source": [
        "solution(park_1, routes_1)"
      ],
      "metadata": {
        "colab": {
          "base_uri": "https://localhost:8080/"
        },
        "id": "VZ--C9s2sst-",
        "outputId": "cfcecda1-223d-4e75-daba-f1cef0f21de7"
      },
      "execution_count": null,
      "outputs": [
        {
          "output_type": "execute_result",
          "data": {
            "text/plain": [
              "[4, 1]"
            ]
          },
          "metadata": {},
          "execution_count": 600
        }
      ]
    },
    {
      "cell_type": "code",
      "source": [
        "solution(park_2, routes_2)"
      ],
      "metadata": {
        "colab": {
          "base_uri": "https://localhost:8080/"
        },
        "id": "99zzFNpHsvaG",
        "outputId": "19f60ec9-05b6-489a-864c-caf34d573204"
      },
      "execution_count": null,
      "outputs": [
        {
          "output_type": "execute_result",
          "data": {
            "text/plain": [
              "[0, 1]"
            ]
          },
          "metadata": {},
          "execution_count": 601
        }
      ]
    },
    {
      "cell_type": "code",
      "source": [
        "solution(park_3, routes_3)"
      ],
      "metadata": {
        "colab": {
          "base_uri": "https://localhost:8080/"
        },
        "id": "oxfq_hvAsxRc",
        "outputId": "8b9902e5-6b30-4213-9ea5-08f7b4b550a1"
      },
      "execution_count": null,
      "outputs": [
        {
          "output_type": "execute_result",
          "data": {
            "text/plain": [
              "[0, 0]"
            ]
          },
          "metadata": {},
          "execution_count": 602
        }
      ]
    },
    {
      "cell_type": "code",
      "source": [
        "park_1 = [\"SOOOO\",\"OXOXX\",\"OOOOO\", \"OOOOO\", \"OOOOO\"]\n",
        "routes_1 = [\"E 2\",\"S 4\",\"W 1\", \"N 3\"]"
      ],
      "metadata": {
        "id": "gHG5Q7xasy92"
      },
      "execution_count": null,
      "outputs": []
    },
    {
      "cell_type": "code",
      "source": [],
      "metadata": {
        "id": "0UId3hHuHSau"
      },
      "execution_count": null,
      "outputs": []
    },
    {
      "cell_type": "code",
      "source": [],
      "metadata": {
        "id": "m43SNUDKIubm"
      },
      "execution_count": null,
      "outputs": []
    },
    {
      "cell_type": "code",
      "source": [
        "# 전문가 1\n",
        "\n",
        "class Dog:\n",
        "    def __init__(self, x, y):\n",
        "        self.x = x\n",
        "        self.y = y\n",
        "        self.g = {\"N\": (-1, 0), \"W\": (0, -1), \"E\": (0, 1), \"S\": (1, 0)}\n",
        "\n",
        "    def move(self, park, direction, distance):\n",
        "        i, j = self.g[direction]\n",
        "        x, y = self.x + (i * distance), self.y + (j * distance)\n",
        "        if x < 0 or y < 0 or x >= len(park) or y >= len(park[0]):\n",
        "            return park\n",
        "        elif \"X\" in park[x][min(self.y, y) : max(self.y, y) + 1] or \"X\" in [\n",
        "            row[y] for row in park[min(self.x, x) : max(self.x, x)]\n",
        "        ]:\n",
        "            return park\n",
        "        park[self.x][self.y] = \"O\"\n",
        "        park[x][y] = \"S\"\n",
        "        self.x = x\n",
        "        self.y = y\n",
        "        return park\n",
        "\n",
        "    @classmethod\n",
        "    def detect_start_dogs_location(self, park):\n",
        "        for i, row in enumerate(park):\n",
        "            for j, item in enumerate(row):\n",
        "                if item == \"S\":\n",
        "                    return i, j\n",
        "\n",
        "\n",
        "def solution(park, routes):\n",
        "    park = [list(row) for row in park]\n",
        "    x, y = Dog.detect_start_dogs_location(park)\n",
        "\n",
        "    dog = Dog(x, y)\n",
        "\n",
        "    for route in routes:\n",
        "        direction, distance = route.split()\n",
        "        park = dog.move(park, direction, int(distance))\n",
        "\n",
        "    return [dog.x, dog.y]"
      ],
      "metadata": {
        "id": "9O_6e8hyIuQ6"
      },
      "execution_count": null,
      "outputs": []
    },
    {
      "cell_type": "code",
      "source": [
        "# 전문가 2\n",
        "\n",
        "def solution(park, routes):\n",
        "    h = len(park)\n",
        "    w = len(park[0])\n",
        "    x,y = 0,0\n",
        "\n",
        "    nav = {\n",
        "        'S': [1,0],\n",
        "        'N':[-1,0],\n",
        "        'W': [0,-1],\n",
        "        'E':[0,1]\n",
        "    }\n",
        "\n",
        "    for i in range(h):\n",
        "        for j in range(w):\n",
        "            if park[i][j] == \"S\":\n",
        "                x = i\n",
        "                y = j\n",
        "\n",
        "    for route in routes:\n",
        "        direction, distance = route.split()\n",
        "        distance = int(distance)\n",
        "        flag = 0\n",
        "        step_x = x\n",
        "        step_y = y\n",
        "        for i in range(1,distance+1):\n",
        "            step_x += nav[direction][0]\n",
        "            step_y += nav[direction][1]\n",
        "\n",
        "            if step_x >= h or step_x <= -1 or step_y >= w or step_y <= -1 or park[step_x][step_y] == 'X':\n",
        "                flag = 1\n",
        "                break\n",
        "\n",
        "        if(flag == 0):\n",
        "            x += nav[direction][0] * distance\n",
        "            y += nav[direction][1] * distance\n",
        "\n",
        "    answer = [x,y]\n",
        "    return answer"
      ],
      "metadata": {
        "id": "ipIRtaR5IuOi"
      },
      "execution_count": null,
      "outputs": []
    }
  ]
}