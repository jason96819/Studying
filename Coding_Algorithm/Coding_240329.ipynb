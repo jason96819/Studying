{
  "nbformat": 4,
  "nbformat_minor": 0,
  "metadata": {
    "colab": {
      "provenance": [],
      "authorship_tag": "ABX9TyNU+6UH0uC2xsJzvvsc9Yck",
      "include_colab_link": true
    },
    "kernelspec": {
      "name": "python3",
      "display_name": "Python 3"
    },
    "language_info": {
      "name": "python"
    }
  },
  "cells": [
    {
      "cell_type": "markdown",
      "metadata": {
        "id": "view-in-github",
        "colab_type": "text"
      },
      "source": [
        "<a href=\"https://colab.research.google.com/github/jason96819/Studying/blob/main/Coding_Algorithm/Coding_240329.ipynb\" target=\"_parent\"><img src=\"https://colab.research.google.com/assets/colab-badge.svg\" alt=\"Open In Colab\"/></a>"
      ]
    },
    {
      "cell_type": "code",
      "execution_count": null,
      "metadata": {
        "id": "cFjrXC7dSY9q"
      },
      "outputs": [],
      "source": []
    },
    {
      "cell_type": "markdown",
      "source": [
        "# 1일 1코딩 알고리즘 연습"
      ],
      "metadata": {
        "id": "tpaREozMSidh"
      }
    },
    {
      "cell_type": "markdown",
      "source": [
        "## 24년 3월 29일 요일"
      ],
      "metadata": {
        "id": "J5ferBUESido"
      }
    },
    {
      "cell_type": "markdown",
      "source": [
        "전력망을 둘로 나누기 - https://school.programmers.co.kr/learn/courses/30/lessons/86971\n",
        "\n",
        "문제 설명\n",
        "\n",
        "n개의 송전탑이 전선을 통해 하나의 트리 형태로 연결되어 있습니다. 당신은 이 전선들 중 하나를 끊어서 현재의 전력망 네트워크를 2개로 분할하려고 합니다. 이때, 두 전력망이 갖게 되는 송전탑의 개수를 최대한 비슷하게 맞추고자 합니다.\n",
        "\n",
        "송전탑의 개수 n, 그리고 전선 정보 wires가 매개변수로 주어집니다. 전선들 중 하나를 끊어서 송전탑 개수가 가능한 비슷하도록 두 전력망으로 나누었을 때, 두 전력망이 가지고 있는 송전탑 개수의 차이(절대값)를 return 하도록 solution 함수를 완성해주세요.\n",
        "\n",
        "제한사항\n",
        "- n은 2 이상 100 이하인 자연수입니다.\n",
        "- wires는 길이가 n-1인 정수형 2차원 배열입니다.\n",
        "- - wires의 각 원소는 [v1, v2] 2개의 자연수로 이루어져 있으며, 이는 전력망의 v1번 송전탑과 v2번 송전탑이 전선으로 연결되어 있다는 것을 의미합니다.\n",
        "- - 1 ≤ v1 < v2 ≤ n 입니다.\n",
        "- - 전력망 네트워크가 하나의 트리 형태가 아닌 경우는 입력으로 주어지지 않습니다."
      ],
      "metadata": {
        "id": "_TZF5P3RSido"
      }
    },
    {
      "cell_type": "markdown",
      "source": [
        "입출력 예\n",
        "\n",
        "n\twires\tresult\n",
        "\n",
        "9\t[[1,3],[2,3],[3,4],[4,5],[4,6],[4,7],[7,8],[7,9]]\t3\n",
        "\n",
        "4\t[[1,2],[2,3],[3,4]]\t0\n",
        "\n",
        "7\t[[1,2],[2,7],[3,7],[3,4],[4,5],[6,7]]\t1"
      ],
      "metadata": {
        "id": "WhMQ51ZRXrte"
      }
    },
    {
      "cell_type": "markdown",
      "source": [
        "문제 풀이\n",
        "\n",
        "트리의 탐색문제, DFS/BFS 중 가까운 노드부터 탐색해야하는 BFS 알고리즘 사용\n",
        "(DFS는 최대한 멀리있는 노드를 우선으로 탐색하는 방식)"
      ],
      "metadata": {
        "id": "x0O5U7xIQP5l"
      }
    },
    {
      "cell_type": "code",
      "source": [
        "n = 9\n",
        "wires = [[1,3],[2,3],[3,4],[4,5],[4,6],[4,7],[7,8],[7,9]]"
      ],
      "metadata": {
        "id": "KhjJyZAsPvJQ"
      },
      "execution_count": 93,
      "outputs": []
    },
    {
      "cell_type": "code",
      "source": [
        "from collections import deque\n",
        "\n",
        "# 큐(Queue) 구현을 위해 deque 라이브러리 사용\n",
        "queue = deque([0, 1, 2, 3, 4, 5])\n",
        "queue"
      ],
      "metadata": {
        "colab": {
          "base_uri": "https://localhost:8080/"
        },
        "id": "EkZCG-xCdaXj",
        "outputId": "3062d1f0-826a-44fb-e7e0-094f24ef441b"
      },
      "execution_count": 75,
      "outputs": [
        {
          "output_type": "execute_result",
          "data": {
            "text/plain": [
              "deque([0, 1, 2, 3, 4, 5])"
            ]
          },
          "metadata": {},
          "execution_count": 75
        }
      ]
    },
    {
      "cell_type": "code",
      "source": [
        "def bfs(graph, start, visited):\n",
        "    # 큐(Queue) 구현을 위해 deque 라이브러리 사용\n",
        "    queue = deque([start])\n",
        "    # 현재 노드를 방문 처리\n",
        "    visited[start] = True\n",
        "    cnt = 0\n",
        "    # 큐가 빌 때까지 반복\n",
        "    while queue:\n",
        "        # 큐에서 하나의 원소를 뽑아 출력\n",
        "        v = queue.popleft()\n",
        "        #print(v, end=' ')\n",
        "        cnt += 1\n",
        "        # 해당 원소와 연결된, 아직 방문하지 않은 원소들을 큐에 삽입\n",
        "        for i in graph[v]:\n",
        "            if not visited[i]:\n",
        "                queue.append(i)\n",
        "                visited[i] = True\n",
        "    return cnt"
      ],
      "metadata": {
        "id": "lNoa2eVdd4Se"
      },
      "execution_count": 132,
      "outputs": []
    },
    {
      "cell_type": "code",
      "source": [
        "def solution(n, wires):\n",
        "    answer = n - 2                                                                                                                                        #  두 전력망이 갖게 되는 송전탑의 개수 차이의 절댓값 중 최댓값 (만약 n이 9일때 최대 절댓값은 두 전력망이 1과 8일때 즉 7이된다.)\n",
        "    for i in range(len(wires)):\n",
        "        tmps = wires.copy()\n",
        "        graph = [[] for i in range(n+1)]\n",
        "        visited = [False] * (n+1)\n",
        "        tmps.pop(i)                                                                                                                                         # i번째 전선 제거\n",
        "        for wire in tmps:\n",
        "            x, y = wire\n",
        "            graph[x].append(y)\n",
        "            graph[y].append(x)\n",
        "        for idx,g in enumerate(graph):\n",
        "            if g != []:                                                                                                                                          # n개의 송전탑 중 다른 송전탑과 연결된 송전탑을 시작점으로 지정\n",
        "                start = idx\n",
        "                break\n",
        "        cnts = bfs(graph, start, visited)                                                                                                            # bfs를 이용하여 시작점에서 다른 송전탑 탐색함. 이때 탐색 가능한 송전탑 개수를 cnts에 담음(이는 즉 연결된 송전탑의 개수임)\n",
        "        other_cnts = n - cnts                                                                                                                           # 전력망을 둘로 나눌 때 첫번째 전력망 개수는 cnts이므로 나머지 전력망 개수는 n - cnts로 구한다.\n",
        "        if abs(cnts - other_cnts) < answer:\n",
        "            answer = abs(cnts - other_cnts)\n",
        "    return answer"
      ],
      "metadata": {
        "id": "xyLry-KWWZGV"
      },
      "execution_count": 133,
      "outputs": []
    },
    {
      "cell_type": "code",
      "source": [
        "solution(n, wires)"
      ],
      "metadata": {
        "colab": {
          "base_uri": "https://localhost:8080/"
        },
        "id": "gfbu-I7FWAni",
        "outputId": "3bcee57c-91c3-4942-9f79-acb03083ba2a"
      },
      "execution_count": 79,
      "outputs": [
        {
          "output_type": "execute_result",
          "data": {
            "text/plain": [
              "3"
            ]
          },
          "metadata": {},
          "execution_count": 79
        }
      ]
    },
    {
      "cell_type": "code",
      "source": [
        "for i in range(len(wires)):\n",
        "    tmps = wires.copy()\n",
        "    print(tmps)\n",
        "    tmps.pop(i)\n",
        "    print(tmps)"
      ],
      "metadata": {
        "colab": {
          "base_uri": "https://localhost:8080/"
        },
        "id": "1vZgOPOxvvG3",
        "outputId": "729ab612-1b44-4532-823c-14521bc48394"
      },
      "execution_count": 94,
      "outputs": [
        {
          "output_type": "stream",
          "name": "stdout",
          "text": [
            "[[1, 3], [2, 3], [3, 4], [4, 5], [4, 6], [4, 7], [7, 8], [7, 9]]\n",
            "[[2, 3], [3, 4], [4, 5], [4, 6], [4, 7], [7, 8], [7, 9]]\n",
            "[[1, 3], [2, 3], [3, 4], [4, 5], [4, 6], [4, 7], [7, 8], [7, 9]]\n",
            "[[1, 3], [3, 4], [4, 5], [4, 6], [4, 7], [7, 8], [7, 9]]\n",
            "[[1, 3], [2, 3], [3, 4], [4, 5], [4, 6], [4, 7], [7, 8], [7, 9]]\n",
            "[[1, 3], [2, 3], [4, 5], [4, 6], [4, 7], [7, 8], [7, 9]]\n",
            "[[1, 3], [2, 3], [3, 4], [4, 5], [4, 6], [4, 7], [7, 8], [7, 9]]\n",
            "[[1, 3], [2, 3], [3, 4], [4, 6], [4, 7], [7, 8], [7, 9]]\n",
            "[[1, 3], [2, 3], [3, 4], [4, 5], [4, 6], [4, 7], [7, 8], [7, 9]]\n",
            "[[1, 3], [2, 3], [3, 4], [4, 5], [4, 7], [7, 8], [7, 9]]\n",
            "[[1, 3], [2, 3], [3, 4], [4, 5], [4, 6], [4, 7], [7, 8], [7, 9]]\n",
            "[[1, 3], [2, 3], [3, 4], [4, 5], [4, 6], [7, 8], [7, 9]]\n",
            "[[1, 3], [2, 3], [3, 4], [4, 5], [4, 6], [4, 7], [7, 8], [7, 9]]\n",
            "[[1, 3], [2, 3], [3, 4], [4, 5], [4, 6], [4, 7], [7, 9]]\n",
            "[[1, 3], [2, 3], [3, 4], [4, 5], [4, 6], [4, 7], [7, 8], [7, 9]]\n",
            "[[1, 3], [2, 3], [3, 4], [4, 5], [4, 6], [4, 7], [7, 8]]\n"
          ]
        }
      ]
    },
    {
      "cell_type": "code",
      "source": [
        "for i in range(len(wires)):\n",
        "    tmps = wires.copy()\n",
        "    tmps.pop(i)\n",
        "    for wire in tmps:\n",
        "        x, y = wire\n",
        "        print(x, y)"
      ],
      "metadata": {
        "colab": {
          "base_uri": "https://localhost:8080/"
        },
        "id": "5Yt9z2LHUb7b",
        "outputId": "5f49bbdd-df89-4f40-95ef-f1016fbc4f78"
      },
      "execution_count": 95,
      "outputs": [
        {
          "output_type": "stream",
          "name": "stdout",
          "text": [
            "2 3\n",
            "3 4\n",
            "4 5\n",
            "4 6\n",
            "4 7\n",
            "7 8\n",
            "7 9\n",
            "1 3\n",
            "3 4\n",
            "4 5\n",
            "4 6\n",
            "4 7\n",
            "7 8\n",
            "7 9\n",
            "1 3\n",
            "2 3\n",
            "4 5\n",
            "4 6\n",
            "4 7\n",
            "7 8\n",
            "7 9\n",
            "1 3\n",
            "2 3\n",
            "3 4\n",
            "4 6\n",
            "4 7\n",
            "7 8\n",
            "7 9\n",
            "1 3\n",
            "2 3\n",
            "3 4\n",
            "4 5\n",
            "4 7\n",
            "7 8\n",
            "7 9\n",
            "1 3\n",
            "2 3\n",
            "3 4\n",
            "4 5\n",
            "4 6\n",
            "7 8\n",
            "7 9\n",
            "1 3\n",
            "2 3\n",
            "3 4\n",
            "4 5\n",
            "4 6\n",
            "4 7\n",
            "7 9\n",
            "1 3\n",
            "2 3\n",
            "3 4\n",
            "4 5\n",
            "4 6\n",
            "4 7\n",
            "7 8\n"
          ]
        }
      ]
    },
    {
      "cell_type": "code",
      "source": [
        "graph = [[] for i in range(n+1)]\n",
        "graph"
      ],
      "metadata": {
        "colab": {
          "base_uri": "https://localhost:8080/"
        },
        "id": "eFoxgpfoyES1",
        "outputId": "4be28ddc-87b0-4fac-933f-3f85ecbf83d1"
      },
      "execution_count": 126,
      "outputs": [
        {
          "output_type": "execute_result",
          "data": {
            "text/plain": [
              "[[], [], [], [], [], [], [], [], [], []]"
            ]
          },
          "metadata": {},
          "execution_count": 126
        }
      ]
    },
    {
      "cell_type": "code",
      "source": [
        "for i in range(len(wires)):\n",
        "    tmps = wires.copy()\n",
        "    tmps.pop(i)\n",
        "    for wire in tmps:\n",
        "        x, y = wire\n",
        "        graph[x].append(y)\n",
        "        graph[y].append(x)\n",
        "graph"
      ],
      "metadata": {
        "colab": {
          "base_uri": "https://localhost:8080/"
        },
        "id": "4iQrzwhYUDQ2",
        "outputId": "e8bd7632-3485-42cc-d1db-0dc6941f368f"
      },
      "execution_count": 127,
      "outputs": [
        {
          "output_type": "execute_result",
          "data": {
            "text/plain": [
              "[[],\n",
              " [3, 3, 3, 3, 3, 3, 3],\n",
              " [3, 3, 3, 3, 3, 3, 3],\n",
              " [2, 4, 1, 4, 1, 2, 1, 2, 4, 1, 2, 4, 1, 2, 4, 1, 2, 4, 1, 2, 4],\n",
              " [3,\n",
              "  5,\n",
              "  6,\n",
              "  7,\n",
              "  3,\n",
              "  5,\n",
              "  6,\n",
              "  7,\n",
              "  5,\n",
              "  6,\n",
              "  7,\n",
              "  3,\n",
              "  6,\n",
              "  7,\n",
              "  3,\n",
              "  5,\n",
              "  7,\n",
              "  3,\n",
              "  5,\n",
              "  6,\n",
              "  3,\n",
              "  5,\n",
              "  6,\n",
              "  7,\n",
              "  3,\n",
              "  5,\n",
              "  6,\n",
              "  7],\n",
              " [4, 4, 4, 4, 4, 4, 4],\n",
              " [4, 4, 4, 4, 4, 4, 4],\n",
              " [4, 8, 9, 4, 8, 9, 4, 8, 9, 4, 8, 9, 4, 8, 9, 8, 9, 4, 9, 4, 8],\n",
              " [7, 7, 7, 7, 7, 7, 7],\n",
              " [7, 7, 7, 7, 7, 7, 7]]"
            ]
          },
          "metadata": {},
          "execution_count": 127
        }
      ]
    },
    {
      "cell_type": "code",
      "source": [
        "for idx,g in enumerate(graph):\n",
        "    if g != []:                                                                                                                                              # n개의 송전탑 중 다른 송전탑과 연결된 송전탑을 시작점으로 지정\n",
        "        start = idx\n",
        "        break"
      ],
      "metadata": {
        "id": "IlFXEaeRRGTy"
      },
      "execution_count": 128,
      "outputs": []
    },
    {
      "cell_type": "code",
      "source": [
        "start"
      ],
      "metadata": {
        "colab": {
          "base_uri": "https://localhost:8080/"
        },
        "id": "uDYxXg2oSKCy",
        "outputId": "af170138-fb81-4635-cbd4-0957411242da"
      },
      "execution_count": 129,
      "outputs": [
        {
          "output_type": "execute_result",
          "data": {
            "text/plain": [
              "1"
            ]
          },
          "metadata": {},
          "execution_count": 129
        }
      ]
    },
    {
      "cell_type": "code",
      "source": [
        "visited = [False] * (n+1)\n",
        "visited"
      ],
      "metadata": {
        "colab": {
          "base_uri": "https://localhost:8080/"
        },
        "id": "1xhQd8aFzKH9",
        "outputId": "c0866f28-5ded-4e79-e87e-ce185663ddad"
      },
      "execution_count": 130,
      "outputs": [
        {
          "output_type": "execute_result",
          "data": {
            "text/plain": [
              "[False, False, False, False, False, False, False, False, False, False]"
            ]
          },
          "metadata": {},
          "execution_count": 130
        }
      ]
    },
    {
      "cell_type": "code",
      "source": [
        "cnts = bfs(graph, start, visited)\n",
        "cnts"
      ],
      "metadata": {
        "colab": {
          "base_uri": "https://localhost:8080/"
        },
        "id": "vRZ12WE7zJGU",
        "outputId": "c57a7b80-9c43-4b09-adae-2944459b5454"
      },
      "execution_count": 131,
      "outputs": [
        {
          "output_type": "stream",
          "name": "stdout",
          "text": [
            "deque([1])\n",
            "v= 1\n",
            "c= 1\n",
            "q= deque([3])\n",
            "v= [False, True, False, True, False, False, False, False, False, False]\n",
            "v= 3\n",
            "c= 2\n",
            "q= deque([2])\n",
            "v= [False, True, True, True, False, False, False, False, False, False]\n",
            "q= deque([2, 4])\n",
            "v= [False, True, True, True, True, False, False, False, False, False]\n",
            "v= 2\n",
            "c= 3\n",
            "v= 4\n",
            "c= 4\n",
            "q= deque([5])\n",
            "v= [False, True, True, True, True, True, False, False, False, False]\n",
            "q= deque([5, 6])\n",
            "v= [False, True, True, True, True, True, True, False, False, False]\n",
            "q= deque([5, 6, 7])\n",
            "v= [False, True, True, True, True, True, True, True, False, False]\n",
            "v= 5\n",
            "c= 5\n",
            "v= 6\n",
            "c= 6\n",
            "v= 7\n",
            "c= 7\n",
            "q= deque([8])\n",
            "v= [False, True, True, True, True, True, True, True, True, False]\n",
            "q= deque([8, 9])\n",
            "v= [False, True, True, True, True, True, True, True, True, True]\n",
            "v= 8\n",
            "c= 8\n",
            "v= 9\n",
            "c= 9\n"
          ]
        },
        {
          "output_type": "execute_result",
          "data": {
            "text/plain": [
              "9"
            ]
          },
          "metadata": {},
          "execution_count": 131
        }
      ]
    },
    {
      "cell_type": "markdown",
      "source": [
        "탐색알고리즘을 많이 알아봐야겠다."
      ],
      "metadata": {
        "id": "CUrOpeLr9Yhe"
      }
    },
    {
      "cell_type": "code",
      "source": [],
      "metadata": {
        "id": "sooYSDEfzJBF"
      },
      "execution_count": null,
      "outputs": []
    },
    {
      "cell_type": "code",
      "source": [],
      "metadata": {
        "id": "BRn43vYlPvBw"
      },
      "execution_count": null,
      "outputs": []
    },
    {
      "cell_type": "code",
      "source": [],
      "metadata": {
        "id": "769jJ4jnPu_h"
      },
      "execution_count": null,
      "outputs": []
    },
    {
      "cell_type": "code",
      "source": [],
      "metadata": {
        "id": "fzCyBc7RPu85"
      },
      "execution_count": null,
      "outputs": []
    },
    {
      "cell_type": "code",
      "source": [],
      "metadata": {
        "id": "KLz3L4OAPu6Q"
      },
      "execution_count": null,
      "outputs": []
    },
    {
      "cell_type": "code",
      "source": [],
      "metadata": {
        "id": "Cogx1ylSPu3w"
      },
      "execution_count": null,
      "outputs": []
    },
    {
      "cell_type": "code",
      "source": [],
      "metadata": {
        "id": "opq-sn1MPu1Z"
      },
      "execution_count": null,
      "outputs": []
    },
    {
      "cell_type": "code",
      "source": [],
      "metadata": {
        "id": "FJK7HClIPuzB"
      },
      "execution_count": null,
      "outputs": []
    }
  ]
}