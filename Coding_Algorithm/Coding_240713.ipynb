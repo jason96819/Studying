{
  "nbformat": 4,
  "nbformat_minor": 0,
  "metadata": {
    "colab": {
      "provenance": [],
      "authorship_tag": "ABX9TyOOXhKEDH0j3vxC/bs123fr",
      "include_colab_link": true
    },
    "kernelspec": {
      "name": "python3",
      "display_name": "Python 3"
    },
    "language_info": {
      "name": "python"
    }
  },
  "cells": [
    {
      "cell_type": "markdown",
      "metadata": {
        "id": "view-in-github",
        "colab_type": "text"
      },
      "source": [
        "<a href=\"https://colab.research.google.com/github/jason96819/Studying/blob/main/Coding_Algorithm/Coding_240713.ipynb\" target=\"_parent\"><img src=\"https://colab.research.google.com/assets/colab-badge.svg\" alt=\"Open In Colab\"/></a>"
      ]
    },
    {
      "cell_type": "markdown",
      "source": [
        "#2024년 7월 13일 토요일\n",
        "\n",
        "타겟 넘버\n",
        "\n",
        "https://school.programmers.co.kr/learn/courses/30/lessons/43165"
      ],
      "metadata": {
        "id": "hzsf9-JTxjSf"
      }
    },
    {
      "cell_type": "markdown",
      "source": [
        "##문제 설명"
      ],
      "metadata": {
        "id": "3ywHgSogbgp6"
      }
    },
    {
      "cell_type": "markdown",
      "source": [
        "n개의 음이 아닌 정수들이 있습니다. 이 정수들을 순서를 바꾸지 않고 적절히 더하거나 빼서 타겟 넘버를 만들려고 합니다. 예를 들어 [1, 1, 1, 1, 1]로 숫자 3을 만들려면 다음 다섯 방법을 쓸 수 있습니다.\n",
        "\n",
        "    -1+1+1+1+1 = 3\n",
        "    +1-1+1+1+1 = 3\n",
        "    +1+1-1+1+1 = 3\n",
        "    +1+1+1-1+1 = 3\n",
        "    +1+1+1+1-1 = 3\n",
        "\n",
        "사용할 수 있는 숫자가 담긴 배열 numbers, 타겟 넘버 target이 매개변수로 주어질 때 숫자를 적절히 더하고 빼서 타겟 넘버를 만드는 방법의 수를 return 하도록 solution 함수를 작성해주세요."
      ],
      "metadata": {
        "id": "kAiM4y5KxqAf"
      }
    },
    {
      "cell_type": "markdown",
      "source": [
        "## 제한 사항"
      ],
      "metadata": {
        "id": "7FpMz8Ne-ogC"
      }
    },
    {
      "cell_type": "markdown",
      "source": [
        "- 주어지는 숫자의 개수는 2개 이상 20개 이하입니다.\n",
        "- 각 숫자는 1 이상 50 이하인 자연수입니다.\n",
        "- 타겟 넘버는 1 이상 1000 이하인 자연수입니다."
      ],
      "metadata": {
        "id": "20XGsJw2-qCI"
      }
    },
    {
      "cell_type": "markdown",
      "source": [
        "## 입출력 예"
      ],
      "metadata": {
        "id": "vH_vjK0n-vM9"
      }
    },
    {
      "cell_type": "markdown",
      "source": [
        "![image.png](data:image/png;base64,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)"
      ],
      "metadata": {
        "id": "BY-7r_ALDG30"
      }
    },
    {
      "cell_type": "markdown",
      "source": [
        "## 입출력 예 설명"
      ],
      "metadata": {
        "id": "t38Hklmf-1pN"
      }
    },
    {
      "cell_type": "markdown",
      "source": [
        "입출력 예 #1\n",
        "\n",
        "문제 예시와 같습니다.\n",
        "\n",
        "----\n",
        "\n",
        "입출력 예 #2\n",
        "\n",
        "    +4+1-2+1 = 4\n",
        "    +4-1+2-1 = 4\n",
        "\n",
        "총 2가지 방법이 있으므로, 2를 return 합니다.\n"
      ],
      "metadata": {
        "id": "fXsEHexB-3KN"
      }
    },
    {
      "cell_type": "markdown",
      "source": [
        "## 문제 풀이"
      ],
      "metadata": {
        "id": "FYWwAl08bjuU"
      }
    },
    {
      "cell_type": "code",
      "source": [
        "numbers = [1,1,1,1,1]\n",
        "target = 3"
      ],
      "metadata": {
        "id": "N2XJGqU7DUqx"
      },
      "execution_count": 1,
      "outputs": []
    },
    {
      "cell_type": "code",
      "source": [
        "numbers = [4,1,2,1]\n",
        "target = 4"
      ],
      "metadata": {
        "id": "dNzJzJN3DUo5"
      },
      "execution_count": 2,
      "outputs": []
    },
    {
      "cell_type": "code",
      "source": [
        "leaves = [0]\n",
        "cnt = 0"
      ],
      "metadata": {
        "id": "a-A5t_hzDUms"
      },
      "execution_count": 9,
      "outputs": []
    },
    {
      "cell_type": "code",
      "source": [
        "# 모든 경우의 수 구하기\n",
        "for num in numbers:\n",
        "    temp = []\n",
        "    for leaf in leaves:\n",
        "        temp.append(leaf + num)\n",
        "        temp.append(leaf - num)\n",
        "    leaves = temp\n",
        "leaves"
      ],
      "metadata": {
        "colab": {
          "base_uri": "https://localhost:8080/"
        },
        "id": "cuf1-9fCDUke",
        "outputId": "bcbe82a2-b61d-4ecc-dd7b-f0848c36564f"
      },
      "execution_count": 10,
      "outputs": [
        {
          "output_type": "execute_result",
          "data": {
            "text/plain": [
              "[8, 6, 4, 2, 6, 4, 2, 0, 0, -2, -4, -6, -2, -4, -6, -8]"
            ]
          },
          "metadata": {},
          "execution_count": 10
        }
      ]
    },
    {
      "cell_type": "code",
      "source": [
        "# 모든 경우의 수 계산 후 target과 같은지 확인\n",
        "for leaf in leaves:\n",
        "    if leaf == target:\n",
        "        cnt += 1\n",
        "cnt"
      ],
      "metadata": {
        "colab": {
          "base_uri": "https://localhost:8080/"
        },
        "id": "LKarXg-gDUh_",
        "outputId": "6191f07c-141d-4031-8971-28a1c3ac3f64"
      },
      "execution_count": 11,
      "outputs": [
        {
          "output_type": "execute_result",
          "data": {
            "text/plain": [
              "2"
            ]
          },
          "metadata": {},
          "execution_count": 11
        }
      ]
    },
    {
      "cell_type": "code",
      "source": [
        "# 최종답\n",
        "\n",
        "def solution(numbers, target):\n",
        "  leaves = [0]\n",
        "  count = 0\n",
        "\n",
        "  for num in numbers :\n",
        "    temp = []\n",
        "\n",
        "    for leaf in leaves :\n",
        "      temp.append(leaf + num)\n",
        "      temp.append(leaf - num)\n",
        "\n",
        "    leaves = temp\n",
        "\n",
        "  for leaf in leaves :\n",
        "    if leaf == target :\n",
        "      count += 1\n",
        "\n",
        "  return count"
      ],
      "metadata": {
        "id": "vMnZA7z6DUfb"
      },
      "execution_count": 12,
      "outputs": []
    },
    {
      "cell_type": "code",
      "source": [],
      "metadata": {
        "id": "fK5Q3SW8DUdQ"
      },
      "execution_count": null,
      "outputs": []
    }
  ]
}