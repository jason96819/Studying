{
  "nbformat": 4,
  "nbformat_minor": 0,
  "metadata": {
    "colab": {
      "provenance": [],
      "collapsed_sections": [
        "J5ferBUESido",
        "TNu-MK3yBv0b"
      ],
      "authorship_tag": "ABX9TyNvR76hnW912qtJLyPzxhop",
      "include_colab_link": true
    },
    "kernelspec": {
      "name": "python3",
      "display_name": "Python 3"
    },
    "language_info": {
      "name": "python"
    }
  },
  "cells": [
    {
      "cell_type": "markdown",
      "metadata": {
        "id": "view-in-github",
        "colab_type": "text"
      },
      "source": [
        "<a href=\"https://colab.research.google.com/github/jason96819/Studying/blob/main/Coding_Algorithm/Coding_240410.ipynb\" target=\"_parent\"><img src=\"https://colab.research.google.com/assets/colab-badge.svg\" alt=\"Open In Colab\"/></a>"
      ]
    },
    {
      "cell_type": "code",
      "execution_count": null,
      "metadata": {
        "id": "cFjrXC7dSY9q"
      },
      "outputs": [],
      "source": []
    },
    {
      "cell_type": "markdown",
      "source": [
        "# 1일 1코딩 알고리즘 연습"
      ],
      "metadata": {
        "id": "tpaREozMSidh"
      }
    },
    {
      "cell_type": "markdown",
      "source": [
        "## 24년 04월 10일 수요일"
      ],
      "metadata": {
        "id": "J5ferBUESido"
      }
    },
    {
      "cell_type": "markdown",
      "source": [
        "의상 - https://school.programmers.co.kr/learn/courses/30/lessons/42578\n",
        "\n",
        "문제 설명\n",
        "\n",
        "코니는 매일 다른 옷을 조합하여 입는것을 좋아합니다.\n",
        "\n",
        "예를 들어 코니가 가진 옷이 아래와 같고, 오늘 코니가 동그란 안경, 긴 코트, 파란색 티셔츠를 입었다면 다음날은 청바지를 추가로 입거나 동그란 안경 대신 검정 선글라스를 착용하거나 해야합니다.\n",
        "\n",
        "|종류 |\t이름|\n",
        "|--|--|\n",
        "|얼굴|\t동그란 안경, 검정 선글라스|\n",
        "|상의|\t파란색 티셔츠|\n",
        "|하의|\t청바지|\n",
        "|겉옷|\t긴 코트|\n",
        "\n",
        "- 코니는 각 종류별로 최대 1가지 의상만 착용할 수 있습니다. 예를 들어 위 예시의 경우 동그란 안경과 검정 선글라스를 동시에 착용할 수는 없습니다.\n",
        "- 착용한 의상의 일부가 겹치더라도, 다른 의상이 겹치지 않거나, 혹은 의상을 추가로 더 착용한 경우에는 서로 다른 방법으로 옷을 착용한 것으로 계산합니다.\n",
        "- 코니는 하루에 최소 한 개의 의상은 입습니다.\n",
        "\n",
        "코니가 가진 의상들이 담긴 2차원 배열 clothes가 주어질 때 서로 다른 옷의 조합의 수를 return 하도록 solution 함수를 작성해주세요.\n",
        "\n",
        "제한사항\n",
        "\n",
        "- clothes의 각 행은 [의상의 이름, 의상의 종류]로 이루어져 있습니다.\n",
        "- 코니가 가진 의상의 수는 1개 이상 30개 이하입니다.\n",
        "- 같은 이름을 가진 의상은 존재하지 않습니다.\n",
        "- clothes의 모든 원소는 문자열로 이루어져 있습니다.\n",
        "- 모든 문자열의 길이는 1 이상 20 이하인 자연수이고 알파벳 소문자 또는 '_' 로만 이루어져 있습니다.\n",
        "\n",
        "입출력 예\n",
        "\n",
        "|clothes | return|\n",
        "|-|-|\n",
        "|[[\"yellow_hat\", \"headgear\"], [\"blue_sunglasses\", \"eyewear\"], [\"green_turban\", \"headgear\"]]\t|5|\n",
        "|[[\"crow_mask\", \"face\"], [\"blue_sunglasses\", \"face\"], [\"smoky_makeup\", \"face\"]]\t|3|"
      ],
      "metadata": {
        "id": "vuzeNhXPD8vv"
      }
    },
    {
      "cell_type": "markdown",
      "source": [
        "딕셔너리로 변경 후 모든 경우의 수를 구하면 끝"
      ],
      "metadata": {
        "id": "0GCiyj0oztsz"
      }
    },
    {
      "cell_type": "code",
      "source": [
        "clothes = [[\"yellow_hat\", \"headgear\"], [\"blue_sunglasses\", \"eyewear\"], [\"green_turban\", \"headgear\"], [\"red_sunglasses\", \"eyewear\"]]"
      ],
      "metadata": {
        "id": "dIQQnSkeP8Yd"
      },
      "execution_count": 29,
      "outputs": []
    },
    {
      "cell_type": "code",
      "source": [
        "clothes = [[\"crow_mask\", \"face\"], [\"blue_sunglasses\", \"face\"], [\"smoky_makeup\", \"face\"]]"
      ],
      "metadata": {
        "id": "CnueI_JCatwu"
      },
      "execution_count": 20,
      "outputs": []
    },
    {
      "cell_type": "code",
      "source": [
        "clothes_dict = {}\n",
        "\n",
        "for cloth in clothes:\n",
        "    category = cloth[1]\n",
        "    name = cloth[0]\n",
        "\n",
        "    if category not in clothes_dict:\n",
        "        clothes_dict[category] = []\n",
        "    clothes_dict[category].append(name)\n",
        "\n",
        "clothes_dict"
      ],
      "metadata": {
        "colab": {
          "base_uri": "https://localhost:8080/"
        },
        "id": "_SiEO_rMP8WL",
        "outputId": "d33a83fa-f1e4-4c33-f567-9b0eb6157b5d"
      },
      "execution_count": 30,
      "outputs": [
        {
          "output_type": "execute_result",
          "data": {
            "text/plain": [
              "{'headgear': ['yellow_hat', 'green_turban'],\n",
              " 'eyewear': ['blue_sunglasses', 'red_sunglasses']}"
            ]
          },
          "metadata": {},
          "execution_count": 30
        }
      ]
    },
    {
      "cell_type": "code",
      "source": [
        "n = 1\n",
        "\n",
        "for i in clothes_dict:\n",
        "    n *= (len(clothes_dict[i]) + 1)\n",
        "n = n - 1\n",
        "n"
      ],
      "metadata": {
        "colab": {
          "base_uri": "https://localhost:8080/"
        },
        "id": "sp6KIjbaaVGr",
        "outputId": "04f35546-d7d0-4a5f-b050-c7c11c6ffd55"
      },
      "execution_count": 31,
      "outputs": [
        {
          "output_type": "execute_result",
          "data": {
            "text/plain": [
              "8"
            ]
          },
          "metadata": {},
          "execution_count": 31
        }
      ]
    },
    {
      "cell_type": "code",
      "source": [
        "# 정답\n",
        "\n",
        "def solution(clothes):\n",
        "    clothes_dict = {}\n",
        "\n",
        "    for cloth in clothes:\n",
        "\n",
        "        category = cloth[1]\n",
        "        name = cloth[0]\n",
        "\n",
        "        if category not in clothes_dict:\n",
        "            clothes_dict[category] = []\n",
        "        clothes_dict[category].append(name)\n",
        "\n",
        "    answer = 1\n",
        "\n",
        "    for i in clothes_dict:\n",
        "        answer *= (len(clothes_dict[i]) + 1)\n",
        "\n",
        "    return answer - 1"
      ],
      "metadata": {
        "id": "yvEaHVYaaHnq"
      },
      "execution_count": 28,
      "outputs": []
    }
  ]
}