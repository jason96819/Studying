{
  "nbformat": 4,
  "nbformat_minor": 0,
  "metadata": {
    "colab": {
      "provenance": [],
      "authorship_tag": "ABX9TyN/kIpSh5Q6kvJBsYIbhgS+",
      "include_colab_link": true
    },
    "kernelspec": {
      "name": "python3",
      "display_name": "Python 3"
    },
    "language_info": {
      "name": "python"
    }
  },
  "cells": [
    {
      "cell_type": "markdown",
      "metadata": {
        "id": "view-in-github",
        "colab_type": "text"
      },
      "source": [
        "<a href=\"https://colab.research.google.com/github/jason96819/Studying/blob/main/Coding_Algorithm/Coding_240711.ipynb\" target=\"_parent\"><img src=\"https://colab.research.google.com/assets/colab-badge.svg\" alt=\"Open In Colab\"/></a>"
      ]
    },
    {
      "cell_type": "markdown",
      "source": [
        "#2024년 7월 11일 목요일\n",
        "\n",
        "프로세스\n",
        "\n",
        "https://school.programmers.co.kr/learn/courses/30/lessons/42587"
      ],
      "metadata": {
        "id": "hzsf9-JTxjSf"
      }
    },
    {
      "cell_type": "markdown",
      "source": [
        "##문제 설명"
      ],
      "metadata": {
        "id": "3ywHgSogbgp6"
      }
    },
    {
      "cell_type": "markdown",
      "source": [
        "운영체제의 역할 중 하나는 컴퓨터 시스템의 자원을 효율적으로 관리하는 것입니다. 이 문제에서는 운영체제가 다음 규칙에 따라 프로세스를 관리할 경우 특정 프로세스가 몇 번째로 실행되는지 알아내면 됩니다.\n",
        "\n",
        "    1. 실행 대기 큐(Queue)에서 대기중인 프로세스 하나를 꺼냅니다.\n",
        "    2. 큐에 대기중인 프로세스 중 우선순위가 더 높은 프로세스가 있다면 방금 꺼낸 프로세스를 다시 큐에 넣습니다.\n",
        "    3. 만약 그런 프로세스가 없다면 방금 꺼낸 프로세스를 실행합니다.\n",
        "        3.1 한 번 실행한 프로세스는 다시 큐에 넣지 않고 그대로 종료됩니다.\n",
        "\n",
        "예를 들어 프로세스 4개 [A, B, C, D]가 순서대로 실행 대기 큐에 들어있고, 우선순위가 [2, 1, 3, 2]라면 [C, D, A, B] 순으로 실행하게 됩니다.\n",
        "현재 실행 대기 큐(Queue)에 있는 프로세스의 중요도가 순서대로 담긴 배열 priorities와, 몇 번째로 실행되는지 알고싶은 프로세스의 위치를 알려주는 location이 매개변수로 주어질 때, 해당 프로세스가 몇 번째로 실행되는지 return 하도록 solution 함수를 작성해주세요."
      ],
      "metadata": {
        "id": "kAiM4y5KxqAf"
      }
    },
    {
      "cell_type": "markdown",
      "source": [
        "## 제한 사항"
      ],
      "metadata": {
        "id": "7FpMz8Ne-ogC"
      }
    },
    {
      "cell_type": "markdown",
      "source": [
        "- priorities의 길이는 1 이상 100 이하입니다.\n",
        "- priorities의 원소는 1 이상 9 이하의 정수입니다.\n",
        "- priorities의 원소는 우선순위를 나타내며 숫자가 클 수록 우선순위가 높습니다.\n",
        "- location은 0 이상 (대기 큐에 있는 프로세스 수 - 1) 이하의 값을 가집니다.\n",
        "- priorities의 가장 앞에 있으면 0, 두 번째에 있으면 1 … 과 같이 표현합니다."
      ],
      "metadata": {
        "id": "20XGsJw2-qCI"
      }
    },
    {
      "cell_type": "markdown",
      "source": [
        "## 입출력 예"
      ],
      "metadata": {
        "id": "vH_vjK0n-vM9"
      }
    },
    {
      "cell_type": "markdown",
      "source": [
        "![image.png](data:image/png;base64,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)"
      ],
      "metadata": {
        "id": "A4lW5DYY-w3r"
      }
    },
    {
      "cell_type": "markdown",
      "source": [
        "## 입출력 예 설명"
      ],
      "metadata": {
        "id": "t38Hklmf-1pN"
      }
    },
    {
      "cell_type": "markdown",
      "source": [
        "예제 #1\n",
        "\n",
        "문제에 나온 예와 같습니다.\n",
        "\n",
        "----\n",
        "\n",
        "예제 #2\n",
        "\n",
        "6개의 프로세스 [A, B, C, D, E, F]가 대기 큐에 있고 중요도가 [1, 1, 9, 1, 1, 1] 이므로 [C, D, E, F, A, B] 순으로 실행됩니다. 따라서 A는 5번째로 실행됩니다."
      ],
      "metadata": {
        "id": "fXsEHexB-3KN"
      }
    },
    {
      "cell_type": "markdown",
      "source": [
        "## 문제 풀이"
      ],
      "metadata": {
        "id": "FYWwAl08bjuU"
      }
    },
    {
      "cell_type": "markdown",
      "source": [
        "리스트를 딕셔너리 자료형으로 변환.\n",
        "\n",
        "KEY는 리스트값, VALUE는 리스트의 순서."
      ],
      "metadata": {
        "id": "SiZ7qVSoYuse"
      }
    },
    {
      "cell_type": "code",
      "source": [
        "priorities = [2, 1, 3, 2]\n",
        "location = 2"
      ],
      "metadata": {
        "id": "-r668LiG--0r"
      },
      "execution_count": 1,
      "outputs": []
    },
    {
      "cell_type": "code",
      "source": [
        "priorities = [1, 1, 9, 1, 1, 1]\n",
        "location = 0"
      ],
      "metadata": {
        "id": "6sJURaXmGQZl"
      },
      "execution_count": 15,
      "outputs": []
    },
    {
      "cell_type": "code",
      "source": [
        "pdic = {}\n",
        "\n",
        "for i, j in enumerate(priorities):\n",
        "    pdic[j] = i\n",
        "pdic"
      ],
      "metadata": {
        "colab": {
          "base_uri": "https://localhost:8080/"
        },
        "id": "Vh33e4MO--yU",
        "outputId": "63d9e4c9-c222-4e54-a751-6e3b90b8dab6"
      },
      "execution_count": 2,
      "outputs": [
        {
          "output_type": "execute_result",
          "data": {
            "text/plain": [
              "{2: 3, 1: 1, 3: 2}"
            ]
          },
          "metadata": {},
          "execution_count": 2
        }
      ]
    },
    {
      "cell_type": "markdown",
      "source": [
        "같은 key에 대해 딕셔너리가 업데이트되어 다음과 같은 결과 출력.\n",
        "\n",
        "내가 생각했던 결과는 {2:0, 1:1, 3:2, 2:3}\n",
        "\n",
        "그렇다면 일단 2차원 list 자료형에서 큐 자료형으로 변환"
      ],
      "metadata": {
        "id": "zqrZKYk6AAdO"
      }
    },
    {
      "cell_type": "markdown",
      "source": [
        "두 개의 큐를 준비해주어야 합니다.\n",
        "\n",
        "첫 번째 큐는 리스트 값과 값의 인덱스 값. (=d)\n",
        "\n",
        "두 번째 큐는 내림차순으로 정렬된 리스트 값입니다. (=spq)"
      ],
      "metadata": {
        "id": "HH4P6TIO8KNG"
      }
    },
    {
      "cell_type": "code",
      "source": [
        "from collections import deque"
      ],
      "metadata": {
        "id": "wBxxnb_F--wD"
      },
      "execution_count": 3,
      "outputs": []
    },
    {
      "cell_type": "code",
      "source": [
        "d = deque(priorities)\n",
        "d"
      ],
      "metadata": {
        "colab": {
          "base_uri": "https://localhost:8080/"
        },
        "id": "I86pi5WpBTnv",
        "outputId": "b8e45ae3-4dac-422b-8c97-96678dcadce8"
      },
      "execution_count": 4,
      "outputs": [
        {
          "output_type": "execute_result",
          "data": {
            "text/plain": [
              "deque([2, 1, 3, 2])"
            ]
          },
          "metadata": {},
          "execution_count": 4
        }
      ]
    },
    {
      "cell_type": "code",
      "source": [
        "d = deque()\n",
        "\n",
        "for idx, i in enumerate(priorities):\n",
        "    d.append([i, idx])\n",
        "d"
      ],
      "metadata": {
        "colab": {
          "base_uri": "https://localhost:8080/"
        },
        "id": "ot1ZHagI6a2_",
        "outputId": "a92b0934-1c53-44b6-f4a7-f9e5399105ff"
      },
      "execution_count": 5,
      "outputs": [
        {
          "output_type": "execute_result",
          "data": {
            "text/plain": [
              "deque([[2, 0], [1, 1], [3, 2], [2, 3]])"
            ]
          },
          "metadata": {},
          "execution_count": 5
        }
      ]
    },
    {
      "cell_type": "code",
      "source": [
        "sp = sorted(priorities, reverse=True)\n",
        "sp"
      ],
      "metadata": {
        "colab": {
          "base_uri": "https://localhost:8080/"
        },
        "id": "0DH98c3K6tXG",
        "outputId": "7d3bfa1a-d545-432a-e1ec-54b8b66a11ab"
      },
      "execution_count": 6,
      "outputs": [
        {
          "output_type": "execute_result",
          "data": {
            "text/plain": [
              "[3, 2, 2, 1]"
            ]
          },
          "metadata": {},
          "execution_count": 6
        }
      ]
    },
    {
      "cell_type": "code",
      "source": [
        "spq = deque(sp)\n",
        "spq"
      ],
      "metadata": {
        "colab": {
          "base_uri": "https://localhost:8080/"
        },
        "id": "zDpKLbXK6tUw",
        "outputId": "69eba8c0-69ad-408a-f2ae-c57df3f9a6ba"
      },
      "execution_count": 7,
      "outputs": [
        {
          "output_type": "execute_result",
          "data": {
            "text/plain": [
              "deque([3, 2, 2, 1])"
            ]
          },
          "metadata": {},
          "execution_count": 7
        }
      ]
    },
    {
      "cell_type": "code",
      "source": [
        "print(d)\n",
        "print(spq)"
      ],
      "metadata": {
        "colab": {
          "base_uri": "https://localhost:8080/"
        },
        "id": "x6m8bOTj6tSz",
        "outputId": "68aaa286-658f-4852-fc02-8ee3e849a63b"
      },
      "execution_count": 8,
      "outputs": [
        {
          "output_type": "stream",
          "name": "stdout",
          "text": [
            "deque([[2, 0], [1, 1], [3, 2], [2, 3]])\n",
            "deque([3, 2, 2, 1])\n"
          ]
        }
      ]
    },
    {
      "cell_type": "code",
      "source": [
        "answer = 0"
      ],
      "metadata": {
        "id": "AmvAAJet-X06"
      },
      "execution_count": 9,
      "outputs": []
    },
    {
      "cell_type": "code",
      "source": [
        "while d:\n",
        "    value = d.popleft()\n",
        "\n",
        "    if value[0] == spq[0]:\n",
        "        spq.popleft()\n",
        "        answer += 1\n",
        "    else:\n",
        "        d.append(value)"
      ],
      "metadata": {
        "id": "sLOTtJUv86Pt"
      },
      "execution_count": 10,
      "outputs": []
    },
    {
      "cell_type": "code",
      "source": [
        "while d:\n",
        "    value = d.popleft()\n",
        "\n",
        "    if value[0] == spq[0]:\n",
        "        spq.popleft()\n",
        "        answer += 1\n",
        "        if value[1] == location:                # 만약 location값이 value[1]과 같으면 그 answer이 정답\n",
        "            print(answer)\n",
        "    else:\n",
        "        d.append(value)"
      ],
      "metadata": {
        "id": "3wL_gNyc-bBv"
      },
      "execution_count": 13,
      "outputs": []
    },
    {
      "cell_type": "code",
      "source": [
        "# 최종답\n",
        "\n",
        "from collections import deque\n",
        "\n",
        "def solution(priorities, location):\n",
        "    # 첫 번째 큐\n",
        "    d = deque()\n",
        "\n",
        "    for idx, i in enumerate(priorities):\n",
        "        d.append([i, idx])\n",
        "\n",
        "    # 두 번째 큐\n",
        "    sp = sorted(priorities, reverse=True)\n",
        "    spq = deque(sp)\n",
        "\n",
        "    answer = 0\n",
        "\n",
        "    while d:\n",
        "        value = d.popleft()\n",
        "\n",
        "        if value[0] == spq[0]:\n",
        "            spq.popleft()\n",
        "            answer += 1\n",
        "            if value[1] == location:\n",
        "                return answer\n",
        "        else:\n",
        "            d.append(value)\n",
        "\n",
        "    return -1                                   # 에러처리"
      ],
      "metadata": {
        "id": "wl6hvaCi-b9n"
      },
      "execution_count": 14,
      "outputs": []
    },
    {
      "cell_type": "code",
      "source": [
        "solution(priorities, location)"
      ],
      "metadata": {
        "colab": {
          "base_uri": "https://localhost:8080/"
        },
        "id": "wKPLm0Av_emW",
        "outputId": "0334276b-98ab-4db7-9070-966ead521d3b"
      },
      "execution_count": 16,
      "outputs": [
        {
          "output_type": "execute_result",
          "data": {
            "text/plain": [
              "5"
            ]
          },
          "metadata": {},
          "execution_count": 16
        }
      ]
    }
  ]
}