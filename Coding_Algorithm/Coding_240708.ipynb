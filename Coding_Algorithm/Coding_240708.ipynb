{
  "nbformat": 4,
  "nbformat_minor": 0,
  "metadata": {
    "colab": {
      "provenance": [],
      "authorship_tag": "ABX9TyMkK96Z9ZrdxSN6WMoyXslv",
      "include_colab_link": true
    },
    "kernelspec": {
      "name": "python3",
      "display_name": "Python 3"
    },
    "language_info": {
      "name": "python"
    }
  },
  "cells": [
    {
      "cell_type": "markdown",
      "metadata": {
        "id": "view-in-github",
        "colab_type": "text"
      },
      "source": [
        "<a href=\"https://colab.research.google.com/github/jason96819/Studying/blob/main/Coding_Algorithm/Coding_240708.ipynb\" target=\"_parent\"><img src=\"https://colab.research.google.com/assets/colab-badge.svg\" alt=\"Open In Colab\"/></a>"
      ]
    },
    {
      "cell_type": "markdown",
      "source": [
        "#2024년 7월 8일 월요일\n",
        "\n",
        "귤 고르기\n",
        "https://school.programmers.co.kr/learn/courses/30/lessons/138476"
      ],
      "metadata": {
        "id": "hzsf9-JTxjSf"
      }
    },
    {
      "cell_type": "markdown",
      "source": [
        "##문제 설명"
      ],
      "metadata": {
        "id": "3ywHgSogbgp6"
      }
    },
    {
      "cell_type": "markdown",
      "source": [
        "경화는 과수원에서 귤을 수확했습니다. 경화는 수확한 귤 중 'k'개를 골라 상자 하나에 담아 판매하려고 합니다. 그런데 수확한 귤의 크기가 일정하지 않아 보기에 좋지 않다고 생각한 경화는 귤을 크기별로 분류했을 때 서로 다른 종류의 수를 최소화하고 싶습니다.\n",
        "\n",
        "예를 들어, 경화가 수확한 귤 8개의 크기가 [1, 3, 2, 5, 4, 5, 2, 3] 이라고 합시다. 경화가 귤 6개를 판매하고 싶다면, 크기가 1, 4인 귤을 제외한 여섯 개의 귤을 상자에 담으면, 귤의 크기의 종류가 2, 3, 5로 총 3가지가 되며 이때가 서로 다른 종류가 최소일 때입니다.\n",
        "\n",
        "경화가 한 상자에 담으려는 귤의 개수 k와 귤의 크기를 담은 배열 tangerine이 매개변수로 주어집니다. 경화가 귤 k개를 고를 때 크기가 서로 다른 종류의 수의 최솟값을 return 하도록 solution 함수를 작성해주세요.\n",
        "\n",
        "제한사항\n",
        "- 1 ≤ k ≤ tangerine의 길이 ≤ 100,000\n",
        "- 1 ≤ tangerine의 원소 ≤ 10,000,000"
      ],
      "metadata": {
        "id": "kAiM4y5KxqAf"
      }
    },
    {
      "cell_type": "markdown",
      "source": [
        "입출력 예\n",
        "\n",
        "![image.png](data:image/png;base64,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)"
      ],
      "metadata": {
        "id": "4P9xnNoZx3k9"
      }
    },
    {
      "cell_type": "markdown",
      "source": [
        "입출력 예 설명\n",
        "\n",
        "---\n",
        "\n",
        "입출력 예 #1\n",
        "\n",
        "본문에서 설명한 예시입니다.\n",
        "\n",
        "---\n",
        "\n",
        "입출력 예 #2\n",
        "\n",
        "경화는 크기가 2인 귤 2개와 3인 귤 2개 또는 2인 귤 2개와 5인 귤 2개 또는 3인 귤 2개와 5인 귤 2개로 귤을 판매할 수 있습니다.\n",
        "\n",
        "이때의 크기 종류는 2가지로 이 값이 최소가 됩니다.\n",
        "\n",
        "---\n",
        "\n",
        "입출력 예 #3\n",
        "\n",
        "경화는 크기가 1인 귤 2개를 판매하거나 2인 귤 2개를 판매할 수 있습니다.\n",
        "\n",
        "이때의 크기 종류는 1가지로, 이 값이 최소가 됩니다."
      ],
      "metadata": {
        "id": "NeHM5yUKx7cI"
      }
    },
    {
      "cell_type": "markdown",
      "source": [
        "## 문제 풀이"
      ],
      "metadata": {
        "id": "FYWwAl08bjuU"
      }
    },
    {
      "cell_type": "markdown",
      "source": [
        "아이디어 : 귤을 소거할 때 해당 크기의 귤이 적은 개수부터 없애는게 포인트.\n",
        "\n",
        "종류를 최대한 적게 담아야하기 때문에. 따라서 귤의 크기 별 개수만 구하면 끝."
      ],
      "metadata": {
        "id": "Jst5Dpank9S6"
      }
    },
    {
      "cell_type": "markdown",
      "source": [
        "예제 1"
      ],
      "metadata": {
        "id": "6XhDzbP_hBf0"
      }
    },
    {
      "cell_type": "code",
      "execution_count": 31,
      "metadata": {
        "id": "_Om9sITixYpa"
      },
      "outputs": [],
      "source": [
        "tangerine = [1, 3, 2, 5, 4, 5, 2, 3]\n",
        "k = 6"
      ]
    },
    {
      "cell_type": "markdown",
      "source": [
        "tangerine 리스트에서 딕셔너리로 자료형을 변환해줍니다.\n",
        "\n",
        "그 후, 리스트에서 중복을 제외한 값들을 key로 그리고, key값의 cnt를 value로 저장해줍니다."
      ],
      "metadata": {
        "id": "JgHa_5L5hCuA"
      }
    },
    {
      "cell_type": "code",
      "source": [
        "t_dic = {}                              # 빈 딕셔너리 생성\n",
        "\n",
        "for i in tangerine:                     # tangerine 리스트를 반복문으로 순회\n",
        "    a = t_dic.get(i)                    # t_dic 딕셔너리에서 key 값이 i인 요소를 가져와 a 변수에 할당합니다.\n",
        "\n",
        "    if a == None:                       # 만약 a 변수가 None이라면 t_dic의 key 값인 i의 value를 1로 반환해줍니다.\n",
        "        t_dic[i] = 1\n",
        "    else:\n",
        "        t_dic[i] += 1                   # 만약 값이 있으면 기존 값에 +1 해줍니다. (cnt)\n",
        "t_dic"
      ],
      "metadata": {
        "colab": {
          "base_uri": "https://localhost:8080/"
        },
        "id": "GMFjDIlffRXy",
        "outputId": "61e4bdab-7d13-412e-a829-2c53e1128e18"
      },
      "execution_count": 32,
      "outputs": [
        {
          "output_type": "execute_result",
          "data": {
            "text/plain": [
              "{1: 1, 3: 2, 2: 2, 5: 2, 4: 1}"
            ]
          },
          "metadata": {},
          "execution_count": 32
        }
      ]
    },
    {
      "cell_type": "markdown",
      "source": [
        "그래서 t_dic을 완성시켰습니다. 하지만 정렬이 제대로 되지 않습니다. value 값만 정렬해주겠습니다."
      ],
      "metadata": {
        "id": "DEdwSaEhiTjm"
      }
    },
    {
      "cell_type": "code",
      "source": [
        "t_dic = sorted(t_dic.values(), reverse=True)\n",
        "t_dic"
      ],
      "metadata": {
        "colab": {
          "base_uri": "https://localhost:8080/"
        },
        "id": "NKGwJKEPiZRg",
        "outputId": "d8a96ced-3556-4a19-e322-c483cbb4fddf"
      },
      "execution_count": 33,
      "outputs": [
        {
          "output_type": "execute_result",
          "data": {
            "text/plain": [
              "[2, 2, 2, 1, 1]"
            ]
          },
          "metadata": {},
          "execution_count": 33
        }
      ]
    },
    {
      "cell_type": "markdown",
      "source": [
        "이제 k값과 비교하여 result를 출력하면 다음과 같습니다."
      ],
      "metadata": {
        "id": "rXAJZyTJnHEM"
      }
    },
    {
      "cell_type": "code",
      "source": [
        "cnt, answer = 0, 0\n",
        "\n",
        "for i in t_dic:\n",
        "    print(\"딕셔너리의 value 값 :\\t\",i)\n",
        "    cnt += i\n",
        "    print(\"귤의 종류별 갯수 :\\t\",cnt)\n",
        "    answer += 1\n",
        "    print(\"reuslt 결과 :\\t\\t\",answer)\n",
        "    print('='*27)\n",
        "    if k <= cnt:\n",
        "        break"
      ],
      "metadata": {
        "colab": {
          "base_uri": "https://localhost:8080/"
        },
        "id": "O-XJ1KbLjxRU",
        "outputId": "8d06d640-de99-46de-9428-71d5157e6cb5"
      },
      "execution_count": 39,
      "outputs": [
        {
          "output_type": "stream",
          "name": "stdout",
          "text": [
            "딕셔너리의 value 값 :\t 2\n",
            "귤의 종류별 갯수 :\t 2\n",
            "reuslt 결과 :\t\t 1\n",
            "===========================\n",
            "딕셔너리의 value 값 :\t 2\n",
            "귤의 종류별 갯수 :\t 4\n",
            "reuslt 결과 :\t\t 2\n",
            "===========================\n",
            "딕셔너리의 value 값 :\t 2\n",
            "귤의 종류별 갯수 :\t 6\n",
            "reuslt 결과 :\t\t 3\n",
            "===========================\n"
          ]
        }
      ]
    },
    {
      "cell_type": "code",
      "source": [
        "# 최종답\n",
        "\n",
        "def solution(k, tangerine):\n",
        "    t_dic = {}\n",
        "\n",
        "    for i in tangerine:\n",
        "        a = t_dic.get(i)\n",
        "\n",
        "        if a == None:\n",
        "            t_dic[i] = 1\n",
        "        else:\n",
        "            t_dic[i] += 1\n",
        "\n",
        "    t_dic = sorted(t_dic.values(), reverse=True)\n",
        "\n",
        "    cnt, answer = 0, 0\n",
        "\n",
        "    for i in t_dic:\n",
        "        cnt += i\n",
        "        answer += 1\n",
        "        if k <= cnt:\n",
        "            break\n",
        "\n",
        "    return answer"
      ],
      "metadata": {
        "id": "3BZAnjcQjywZ"
      },
      "execution_count": 40,
      "outputs": []
    },
    {
      "cell_type": "code",
      "source": [
        "example_list_0 = [1, 3, 2, 5, 4, 5, 2, 3]\n",
        "example_k_0 = 4\n",
        "\n",
        "example_list_1 = [1, 1, 1, 1, 2, 2, 2, 3]\n",
        "example_k_1 = 2"
      ],
      "metadata": {
        "id": "eqj0y9Nhnshv"
      },
      "execution_count": 43,
      "outputs": []
    },
    {
      "cell_type": "code",
      "source": [
        "solution(example_k_0, example_list_0)"
      ],
      "metadata": {
        "colab": {
          "base_uri": "https://localhost:8080/"
        },
        "id": "b5yA_EPin6wc",
        "outputId": "a9c81bfe-e347-4cd7-dd0e-22cdf359f108"
      },
      "execution_count": 44,
      "outputs": [
        {
          "output_type": "execute_result",
          "data": {
            "text/plain": [
              "2"
            ]
          },
          "metadata": {},
          "execution_count": 44
        }
      ]
    },
    {
      "cell_type": "code",
      "source": [
        "solution(example_k_1, example_list_1)"
      ],
      "metadata": {
        "colab": {
          "base_uri": "https://localhost:8080/"
        },
        "id": "rdzLCKR8n-6A",
        "outputId": "523f493f-830d-4dd8-e3fe-f4371882487c"
      },
      "execution_count": 45,
      "outputs": [
        {
          "output_type": "execute_result",
          "data": {
            "text/plain": [
              "1"
            ]
          },
          "metadata": {},
          "execution_count": 45
        }
      ]
    },
    {
      "cell_type": "code",
      "source": [],
      "metadata": {
        "id": "c7d9Zfw8oKPD"
      },
      "execution_count": null,
      "outputs": []
    }
  ]
}