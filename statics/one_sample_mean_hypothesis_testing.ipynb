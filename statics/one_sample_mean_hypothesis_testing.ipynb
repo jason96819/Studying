{
  "nbformat": 4,
  "nbformat_minor": 0,
  "metadata": {
    "colab": {
      "provenance": [],
      "authorship_tag": "ABX9TyNqiMbel9N/wsM3YJ/AGnHE",
      "include_colab_link": true
    },
    "kernelspec": {
      "name": "python3",
      "display_name": "Python 3"
    },
    "language_info": {
      "name": "python"
    }
  },
  "cells": [
    {
      "cell_type": "markdown",
      "metadata": {
        "id": "view-in-github",
        "colab_type": "text"
      },
      "source": [
        "<a href=\"https://colab.research.google.com/github/jason96819/Studying/blob/main/statics/one_sample_mean_hypothesis_testing.ipynb\" target=\"_parent\"><img src=\"https://colab.research.google.com/assets/colab-badge.svg\" alt=\"Open In Colab\"/></a>"
      ]
    },
    {
      "cell_type": "markdown",
      "source": [
        "# 단측 검정 문제"
      ],
      "metadata": {
        "id": "N1O0bM8AJpjr"
      }
    },
    {
      "cell_type": "markdown",
      "source": [
        "$Z = \\frac{\\bar{X}-μ}{σ/\\sqrt n}$\n",
        "\n",
        "$\\bar{X} : 표본평균$\n",
        "$μ : 모평균$\n",
        "\n",
        "$σ : 모 표준편차$\n",
        "$n : 샘플수$\n"
      ],
      "metadata": {
        "id": "-ZpSj2UGKoBz"
      }
    },
    {
      "cell_type": "code",
      "source": [
        "import numpy as np\n",
        "import matplotlib.pyplot as plt\n",
        "from scipy.stats import norm"
      ],
      "metadata": {
        "id": "shRbOig8PrWc"
      },
      "execution_count": null,
      "outputs": []
    },
    {
      "cell_type": "code",
      "source": [
        "def left_testing(Z, significance_level):\n",
        "\n",
        "    if significance_level in [0.1, 0.05, 0.01]:\n",
        "\n",
        "        x = np.linspace(-5, 5, 1000000)\n",
        "        pdf = norm.pdf(x, loc=0, scale=1)\n",
        "\n",
        "        if significance_level == 0.1:\n",
        "            z_value = -1.28\n",
        "            # 임계값보다 작은 왼쪽 영역을 빨간색(기각역)으로, 오른쪽 영역을 파란색(채택역)으로 색칠\n",
        "            plt.plot(x, pdf, color='blue')\n",
        "            plt.fill_between(x, pdf, where=(x < z_value), color='red', alpha=0.5, label=f'Z < {z_value} (1%)')\n",
        "            plt.fill_between(x, pdf, where=(x >= z_value), color='blue', alpha=0.5, label=f'Z >= {z_value} (99%)')\n",
        "        elif significance_level == 0.05:\n",
        "            z_value = -1.645\n",
        "            plt.plot(x, pdf, color='blue')\n",
        "            plt.fill_between(x, pdf, where=(x < z_value), color='red', alpha=0.5, label=f'Z < {z_value} (5%)')\n",
        "            plt.fill_between(x, pdf, where=(x >= z_value), color='blue', alpha=0.5, label=f'Z >= {z_value} (95%)')\n",
        "        else:\n",
        "            z_value = -2.33\n",
        "            plt.plot(x, pdf, color='blue')\n",
        "            plt.fill_between(x, pdf, where=(x < z_value), color='red', alpha=0.5, label=f'Z < {z_value} (0.1%)')\n",
        "            plt.fill_between(x, pdf, where=(x >= z_value), color='blue', alpha=0.5, label=f'Z >= {z_value} (99.9%)')\n",
        "\n",
        "        # 검정통계량에 초록색 점 찍기\n",
        "        plt.scatter(Z, 0, color='green', marker='o', label='test statistic')\n",
        "        plt.xlabel('Z')\n",
        "        plt.legend(loc='upper left')\n",
        "        plt.show()\n",
        "\n",
        "        if Z < z_value:\n",
        "            print('\\n귀무가설을 기각합니다.')\n",
        "        else:\n",
        "            print('\\n귀무가설을 채택합니다.')\n",
        "    else:\n",
        "        print('잘못된 유의수준입니다.')"
      ],
      "metadata": {
        "id": "J5Xx5zYHSohb"
      },
      "execution_count": null,
      "outputs": []
    },
    {
      "cell_type": "code",
      "source": [
        "def right_testing(Z, significance_level):\n",
        "\n",
        "    if significance_level in [0.1, 0.05, 0.01]:\n",
        "\n",
        "        x = np.linspace(-5, 5, 1000000)\n",
        "        pdf = norm.pdf(x, loc=0, scale=1)\n",
        "\n",
        "        if significance_level == 0.1:\n",
        "            z_value = 1.28\n",
        "            # 임계값보다 작은 왼쪽 영역을 파란색(채택역)으로, 오른쪽 영역을 빨간색(기각역)으로 색칠\n",
        "            plt.plot(x, pdf, color='blue')\n",
        "            plt.fill_between(x, pdf, where=(x > z_value), color='red', alpha=0.5, label=f'Z > {z_value} (1%)')\n",
        "            plt.fill_between(x, pdf, where=(x <= z_value), color='blue', alpha=0.5, label=f'Z <= {z_value} (99%)')\n",
        "        elif significance_level == 0.05:\n",
        "            z_value = 1.645\n",
        "            plt.plot(x, pdf, color='blue')\n",
        "            plt.fill_between(x, pdf, where=(x > z_value), color='red', alpha=0.5, label=f'Z > {z_value} (5%)')\n",
        "            plt.fill_between(x, pdf, where=(x <= z_value), color='blue', alpha=0.5, label=f'Z <= {z_value} (95%)')\n",
        "        else:\n",
        "            z_value = 2.33\n",
        "            plt.plot(x, pdf, color='blue')\n",
        "            plt.fill_between(x, pdf, where=(x > z_value), color='red', alpha=0.5, label=f'Z > {z_value} (0.1%)')\n",
        "            plt.fill_between(x, pdf, where=(x <= z_value), color='blue', alpha=0.5, label=f'Z <>= {z_value} (99.9%)')\n",
        "\n",
        "        # 검정통계량에 초록색 점 찍기\n",
        "        plt.scatter(Z, 0, color='green', marker='o', label='test statistic')\n",
        "        plt.xlabel('Z')\n",
        "        plt.legend(loc='upper left')\n",
        "        plt.show()\n",
        "\n",
        "        if Z > z_value:\n",
        "            print('\\n귀무가설을 기각합니다.')\n",
        "        else:\n",
        "            print('\\n귀무가설을 채택합니다.')\n",
        "    else:\n",
        "        print('잘못된 유의수준입니다.')"
      ],
      "metadata": {
        "id": "AlnJTPCxNBq8"
      },
      "execution_count": null,
      "outputs": []
    },
    {
      "cell_type": "code",
      "source": [
        "def print_z_value_and_one_tailed_testing():\n",
        "    population_mean = float(input('모집단의 평균을 입력해주세요. : '))\n",
        "    population_stddev = float(input('모집단의 표준편차를 입력해주세요. : '))\n",
        "    sample_size = float(input('표본의 크기를 입력해주세요. : '))\n",
        "    sample_mean = float(input('표본의 평균을 입력해주세요. : '))\n",
        "    significance_level = float(input('유의수준을 입력해주세요, : '))\n",
        "\n",
        "    Z = (sample_mean - population_mean) / (population_stddev / np.sqrt(sample_size))\n",
        "\n",
        "    if population_mean <= sample_mean:\n",
        "        print(f'Z값 : {Z}')\n",
        "        print('오른꼬리 검정입니다.')\n",
        "        right_testing(Z, significance_level)\n",
        "    else:\n",
        "        print(f'Z값 : {Z}')\n",
        "        print('왼꼬리 검정입니다.')\n",
        "        left_testing(Z, significance_level)"
      ],
      "metadata": {
        "id": "T_VEAa9qJbbC"
      },
      "execution_count": null,
      "outputs": []
    },
    {
      "cell_type": "code",
      "source": [
        "print_z_value_and_one_tailed_testing()"
      ],
      "metadata": {
        "colab": {
          "base_uri": "https://localhost:8080/",
          "height": 615
        },
        "id": "TliJ7mqsKE1-",
        "outputId": "30db729c-c01f-41d5-c89c-1a0e8496f467"
      },
      "execution_count": null,
      "outputs": [
        {
          "output_type": "stream",
          "name": "stdout",
          "text": [
            "모집단의 평균을 입력해주세요. : 100\n",
            "모집단의 표준편차를 입력해주세요. : 10\n",
            "표본의 크기를 입력해주세요. : 64\n",
            "표본의 평균을 입력해주세요. : 95\n",
            "유의수준을 입력해주세요, : 0.05\n",
            "Z값 : -4.0\n",
            "왼꼬리 검정입니다.\n"
          ]
        },
        {
          "output_type": "display_data",
          "data": {
            "text/plain": [
              "<Figure size 640x480 with 1 Axes>"
            ],
            "image/png": "[encoded data removed]"
          },
          "metadata": {}
        },
        {
          "output_type": "stream",
          "name": "stdout",
          "text": [
            "\n",
            "귀무가설을 기각합니다.\n"
          ]
        }
      ]
    },
    {
      "cell_type": "code",
      "source": [
        "print_z_value_and_one_tailed_testing()"
      ],
      "metadata": {
        "colab": {
          "base_uri": "https://localhost:8080/",
          "height": 615
        },
        "id": "pl1CbUfRP0jR",
        "outputId": "8a9c6f3d-9544-4772-c88b-fe636c2cf02e"
      },
      "execution_count": null,
      "outputs": [
        {
          "output_type": "stream",
          "name": "stdout",
          "text": [
            "모집단의 평균을 입력해주세요. : 170\n",
            "모집단의 표준편차를 입력해주세요. : 15\n",
            "표본의 크기를 입력해주세요. : 100\n",
            "표본의 평균을 입력해주세요. : 173\n",
            "유의수준을 입력해주세요, : 0.05\n",
            "Z값 : 2.0\n",
            "오른꼬리 검정입니다.\n"
          ]
        },
        {
          "output_type": "display_data",
          "data": {
            "text/plain": [
              "<Figure size 640x480 with 1 Axes>"
            ],
            "image/png": "[encoded data removed]"
          },
          "metadata": {}
        },
        {
          "output_type": "stream",
          "name": "stdout",
          "text": [
            "\n",
            "귀무가설을 기각합니다.\n"
          ]
        }
      ]
    },
    {
      "cell_type": "code",
      "source": [
        "from scipy.stats import norm\n",
        "\n",
        "Z = 2\n",
        "p_value = 1 - norm.cdf(Z)\n",
        "\n",
        "print(f'p-value: {p_value:.4f}')"
      ],
      "metadata": {
        "colab": {
          "base_uri": "https://localhost:8080/"
        },
        "id": "FHqOew_sUDER",
        "outputId": "9b4f874c-7265-4c14-a606-4d6f1ddca9a8"
      },
      "execution_count": null,
      "outputs": [
        {
          "output_type": "stream",
          "name": "stdout",
          "text": [
            "p-value: 0.0228\n"
          ]
        }
      ]
    },
    {
      "cell_type": "markdown",
      "source": [
        "# 양측 검정"
      ],
      "metadata": {
        "id": "_aSYSAALYD5e"
      }
    },
    {
      "cell_type": "code",
      "source": [
        "def two_tailed_testing(Z, significance_level):\n",
        "\n",
        "    if significance_level in [0.1, 0.05, 0.05]:\n",
        "\n",
        "        x = np.linspace(-5, 5, 1000000)\n",
        "        pdf = norm.pdf(x, loc=0, scale=1)\n",
        "        plt.plot(x, pdf, color='blue')\n",
        "\n",
        "        if significance_level == 0.01:\n",
        "            z_value = 1.645\n",
        "            plt.fill_between(x, pdf, where=((x >= -z_value) & (x <= z_value)), color='blue', alpha=0.5, label=f'{-z_value} <= Z <= {z_value} (90%)')\n",
        "            plt.fill_between(x, pdf, where=(x > z_value), color='red', alpha=0.5, label=f'Z > {z_value} (5%)')\n",
        "            plt.fill_between(x, pdf, where=(x < -z_value), color='red', alpha=0.5, label=f'Z < {-z_value} (5%)')\n",
        "        elif significance_level == 0.05:\n",
        "            z_value = 1.96\n",
        "            plt.fill_between(x, pdf, where=((x >= -z_value) & (x <= z_value)), color='blue', alpha=0.5, label=f'{-z_value} <= Z <= {z_value} (95%)')\n",
        "            plt.fill_between(x, pdf, where=(x > z_value), color='red', alpha=0.5, label=f'Z > {z_value} (2.5%)')\n",
        "            plt.fill_between(x, pdf, where=(x < -z_value), color='red', alpha=0.5, label=f'Z < {-z_value} (2.5%)')\n",
        "        else:\n",
        "            z_value = 2.575\n",
        "            plt.fill_between(x, pdf, where=((x >= -z_value) & (x <= z_value)), color='blue', alpha=0.5, label=f'{-z_value} <= Z <= {z_value} (99%)')\n",
        "            plt.fill_between(x, pdf, where=(x > z_value), color='red', alpha=0.5, label=f'Z > {z_value} (0.5%)')\n",
        "            plt.fill_between(x, pdf, where=(x < -z_value), color='red', alpha=0.5, label=f'Z < {-z_value} (0.5%)')\n",
        "\n",
        "        # 검정통계량에 초록색 점 찍기\n",
        "        plt.scatter(Z, 0, color='green', marker='o', label='test statistic')\n",
        "        plt.xlabel('Z')\n",
        "        plt.legend(loc='upper left')\n",
        "        plt.show()\n",
        "\n",
        "        if -z_value <= Z <= z_value:\n",
        "            print('\\n귀무가설을 채택합니다.')\n",
        "        else:\n",
        "            print('\\n귀무가설을 기각합니다.')\n",
        "    else:\n",
        "        print('잘못된 유의수준입니다.')"
      ],
      "metadata": {
        "id": "LKAJlItqYGGW"
      },
      "execution_count": null,
      "outputs": []
    },
    {
      "cell_type": "code",
      "source": [
        "def print_z_value_and_two_tailed_testing():\n",
        "    population_mean = float(input('모집단의 평균을 입력해주세요. : '))\n",
        "    population_stddev = float(input('모집단의 표준편차를 입력해주세요. : '))\n",
        "    sample_size = float(input('표본의 크기를 입력해주세요. : '))\n",
        "    sample_mean = float(input('표본의 평균을 입력해주세요. : '))\n",
        "    significance_level = float(input('유의수준을 입력해주세요, : '))\n",
        "\n",
        "    Z = (sample_mean - population_mean) / (population_stddev / np.sqrt(sample_size))\n",
        "\n",
        "    two_tailed_testing(Z, significance_level)"
      ],
      "metadata": {
        "id": "BqJQPzIgcno3"
      },
      "execution_count": null,
      "outputs": []
    },
    {
      "cell_type": "code",
      "source": [
        "print_z_value_and_two_tailed_testing()"
      ],
      "metadata": {
        "colab": {
          "base_uri": "https://localhost:8080/",
          "height": 578
        },
        "id": "PG3tbEC3c5lK",
        "outputId": "17ce4042-6b62-4851-e612-23f431d5e10a"
      },
      "execution_count": null,
      "outputs": [
        {
          "name": "stdout",
          "output_type": "stream",
          "text": [
            "모집단의 평균을 입력해주세요. : 150\n",
            "모집단의 표준편차를 입력해주세요. : 10\n",
            "표본의 크기를 입력해주세요. : 30\n",
            "표본의 평균을 입력해주세요. : 155\n",
            "유의수준을 입력해주세요, : 0.05\n"
          ]
        },
        {
          "output_type": "display_data",
          "data": {
            "text/plain": [
              "<Figure size 640x480 with 1 Axes>"
            ],
            "image/png": "[encoded data removed]"
          },
          "metadata": {}
        },
        {
          "output_type": "stream",
          "name": "stdout",
          "text": [
            "\n",
            "귀무가설을 기각합니다.\n"
          ]
        }
      ]
    },
    {
      "cell_type": "markdown",
      "source": [
        "# 모듈사용"
      ],
      "metadata": {
        "id": "hAty6idiqccX"
      }
    },
    {
      "cell_type": "markdown",
      "source": [
        "## Z 검정 : 모표준편차를 알때"
      ],
      "metadata": {
        "id": "1EI85vsntpRg"
      }
    },
    {
      "cell_type": "markdown",
      "source": [
        "$Z = \\frac{\\bar{X}-μ}{σ/\\sqrt n}$\n",
        "\n",
        "$\\bar{X} : 표본평균$\n",
        "$μ : 모평균$\n",
        "\n",
        "$σ : 모 표준편차$\n",
        "$n : 샘플수$\n"
      ],
      "metadata": {
        "id": "Rf8O6dM6zPsm"
      }
    },
    {
      "cell_type": "code",
      "source": [
        "import numpy as np\n",
        "from scipy.stats import norm"
      ],
      "metadata": {
        "id": "Meb9-HDht4vl"
      },
      "execution_count": 196,
      "outputs": []
    },
    {
      "cell_type": "markdown",
      "source": [
        "### 왼꼬리 검정 : (귀무가설)표본평균이 모평균보다 작다."
      ],
      "metadata": {
        "id": "FRR4v6oavoZS"
      }
    },
    {
      "cell_type": "code",
      "source": [
        "# 데이터 및 가설 설정\n",
        "population_mean = 170\n",
        "population_std = 15\n",
        "sample_size = 100\n",
        "sample_mean = 168\n",
        "alpha = .05\n",
        "\n",
        "# Z-값 계산\n",
        "Z = (sample_mean - population_mean) / (population_std / np.sqrt(sample_size))\n",
        "\n",
        "# 단측 검정의 p-value 계산 (왼꼬리, 모평균이 표본평균보다 큰 경우를 가정)\n",
        "p_value_left_side = norm.cdf(Z)\n",
        "\n",
        "print(f'Z-값: {Z}')\n",
        "print(f'왼꼬리 검정 p-value: {p_value_left_side}')\n",
        "\n",
        "if p_value_left_side < alpha:\n",
        "    print('귀무가설 기각')\n",
        "else:\n",
        "    print('귀무가설 채택')"
      ],
      "metadata": {
        "colab": {
          "base_uri": "https://localhost:8080/"
        },
        "id": "LReQl-Rfufjf",
        "outputId": "8a222aa5-b07b-43ff-a038-9d32700b50b5"
      },
      "execution_count": 197,
      "outputs": [
        {
          "output_type": "stream",
          "name": "stdout",
          "text": [
            "Z-값: -1.3333333333333333\n",
            "왼꼬리 검정 p-value: 0.09121121972586788\n",
            "귀무가설 채택\n"
          ]
        }
      ]
    },
    {
      "cell_type": "markdown",
      "source": [
        "### 오른꼬리 검정 : (귀무가설)표본평균이 모평균보다 크다."
      ],
      "metadata": {
        "id": "fWNKkOjKwRyr"
      }
    },
    {
      "cell_type": "code",
      "source": [
        "# 데이터 및 가설 설정\n",
        "population_mean = 170\n",
        "population_std = 15\n",
        "sample_size = 100\n",
        "sample_mean = 174\n",
        "alpha = .05\n",
        "\n",
        "# Z-값 계산\n",
        "Z = (sample_mean - population_mean) / (population_std / np.sqrt(sample_size))\n",
        "\n",
        "# 단측 검정의 p-value 계산 (왼꼬리, 모평균이 표본평균보다 작은 경우를 가정)\n",
        "p_value_left_side = norm.cdf(Z)\n",
        "\n",
        "print(f'Z-값: {Z}')\n",
        "print(f'단측 검정 p-value: {p_value_right_side}')\n",
        "\n",
        "if p_value_right_side < alpha:\n",
        "    print('귀무가설 기각')\n",
        "else:\n",
        "    print('귀무가설 채택')"
      ],
      "metadata": {
        "colab": {
          "base_uri": "https://localhost:8080/"
        },
        "id": "FevUA64mwVpB",
        "outputId": "a2287cd4-ec73-4062-cef9-f8d9bc8add0c"
      },
      "execution_count": 198,
      "outputs": [
        {
          "output_type": "stream",
          "name": "stdout",
          "text": [
            "Z-값: 2.6666666666666665\n",
            "단측 검정 p-value: 0.003830380567589775\n",
            "귀무가설 기각\n"
          ]
        }
      ]
    },
    {
      "cell_type": "markdown",
      "source": [
        "### 양측 검정 : (귀무가설)모평균과 표본평균은 다르다."
      ],
      "metadata": {
        "id": "vrRQJtsoxsOV"
      }
    },
    {
      "cell_type": "code",
      "source": [
        "# 데이터 및 가설 설정\n",
        "population_mean = 170\n",
        "population_std = 15\n",
        "sample_size = 100\n",
        "sample_mean = 174\n",
        "alpha = .05\n",
        "\n",
        "# Z-값 계산\n",
        "Z = (sample_mean - population_mean) / (population_std / np.sqrt(sample_size))\n",
        "\n",
        "# 양측 검정의 p-value 계산\n",
        "p_value_two_side = 2 * (1 - norm.cdf(np.abs(Z)))\n",
        "\n",
        "print(f'Z-값: {Z}')\n",
        "print(f'양측 검정 p-value: {p_value_two_side}')\n",
        "\n",
        "if p_value_two_side < alpha:\n",
        "    print('귀무가설 기각')\n",
        "else:\n",
        "    print('귀무가설 채택')"
      ],
      "metadata": {
        "colab": {
          "base_uri": "https://localhost:8080/"
        },
        "id": "NZ1f8OoYxydr",
        "outputId": "f672dc95-15f7-4e21-f3a3-45564fccdce0"
      },
      "execution_count": 200,
      "outputs": [
        {
          "output_type": "stream",
          "name": "stdout",
          "text": [
            "Z-값: 2.6666666666666665\n",
            "양측 검정 p-value: 0.00766076113517955\n",
            "귀무가설 기각\n"
          ]
        }
      ]
    },
    {
      "cell_type": "markdown",
      "source": [
        "## Z 검정 : 모표준편차를 모를때, 하지만 표본의 개수가 30개 이상일때"
      ],
      "metadata": {
        "id": "H6CopWKGym6_"
      }
    },
    {
      "cell_type": "markdown",
      "source": [
        "$Z = \\frac{\\bar{X}-μ}{s/\\sqrt n}$\n",
        "\n",
        "$\\bar{X} : 표본평균$\n",
        "$μ : 모평균$\n",
        "\n",
        "$s : 표본표준편차$\n",
        "$n : 샘플수$\n"
      ],
      "metadata": {
        "id": "gdrdqr7HzMq3"
      }
    },
    {
      "cell_type": "markdown",
      "source": [
        "### 왼꼬리 검정 : (귀무가설)표본평균이 모평균보다 작다."
      ],
      "metadata": {
        "id": "j3amnIiYywJ2"
      }
    },
    {
      "cell_type": "code",
      "source": [
        "# 데이터 및 가설 설정\n",
        "population_mean = 170\n",
        "sample_size = 100\n",
        "sample_mean = 168\n",
        "sample_std = 13\n",
        "alpha = .05\n",
        "\n",
        "# Z-값 계산\n",
        "Z = (sample_mean - population_mean) / (sample_std / np.sqrt(sample_size))\n",
        "\n",
        "# 단측 검정의 p-value 계산 (왼꼬리, 모평균이 표본평균보다 큰 경우를 가정)\n",
        "p_value_left_side = norm.cdf(Z)\n",
        "\n",
        "print(f'Z-값: {Z}')\n",
        "print(f'왼꼬리 검정 p-value: {p_value_left_side}')\n",
        "\n",
        "if p_value_left_side < alpha:\n",
        "    print('귀무가설 기각')\n",
        "else:\n",
        "    print('귀무가설 채택')"
      ],
      "metadata": {
        "colab": {
          "base_uri": "https://localhost:8080/"
        },
        "outputId": "118e61ac-6e87-4f32-bf73-ec533be0fe73",
        "id": "3o7XYJmSywJ3"
      },
      "execution_count": 201,
      "outputs": [
        {
          "output_type": "stream",
          "name": "stdout",
          "text": [
            "Z-값: -1.5384615384615383\n",
            "왼꼬리 검정 p-value: 0.06196790283637124\n",
            "귀무가설 채택\n"
          ]
        }
      ]
    },
    {
      "cell_type": "markdown",
      "source": [
        "### 오른꼬리 검정 : (귀무가설)표본평균이 모평균보다 크다."
      ],
      "metadata": {
        "id": "q7VPIuC_ywJ6"
      }
    },
    {
      "cell_type": "code",
      "source": [
        "# 데이터 및 가설 설정\n",
        "population_mean = 170\n",
        "sample_size = 100\n",
        "sample_mean = 174\n",
        "sample_std = 13\n",
        "alpha = .05\n",
        "\n",
        "# Z-값 계산\n",
        "Z = (sample_mean - population_mean) / (sample_std / np.sqrt(sample_size))\n",
        "\n",
        "# 단측 검정의 p-value 계산 (왼꼬리, 모평균이 표본평균보다 작은 경우를 가정)\n",
        "p_value_left_side = norm.cdf(Z)\n",
        "\n",
        "print(f'Z-값: {Z}')\n",
        "print(f'단측 검정 p-value: {p_value_right_side}')\n",
        "\n",
        "if p_value_right_side < alpha:\n",
        "    print('귀무가설 기각')\n",
        "else:\n",
        "    print('귀무가설 채택')"
      ],
      "metadata": {
        "colab": {
          "base_uri": "https://localhost:8080/"
        },
        "outputId": "16e92d21-e857-4d8c-b0c2-f16d705853a6",
        "id": "HxdizwP1ywJ6"
      },
      "execution_count": 202,
      "outputs": [
        {
          "output_type": "stream",
          "name": "stdout",
          "text": [
            "Z-값: 3.0769230769230766\n",
            "단측 검정 p-value: 0.003830380567589775\n",
            "귀무가설 기각\n"
          ]
        }
      ]
    },
    {
      "cell_type": "markdown",
      "source": [
        "### 양측 검정 : (귀무가설)모평균과 표본평균은 다르다."
      ],
      "metadata": {
        "id": "msNv36KHywJ8"
      }
    },
    {
      "cell_type": "code",
      "source": [
        "# 데이터 및 가설 설정\n",
        "population_mean = 170\n",
        "sample_size = 100\n",
        "sample_mean = 174\n",
        "sample_std = 13\n",
        "alpha = .05\n",
        "\n",
        "# Z-값 계산\n",
        "Z = (sample_mean - population_mean) / (sample_std / np.sqrt(sample_size))\n",
        "\n",
        "# 양측 검정의 p-value 계산\n",
        "p_value_two_side = 2 * (1 - norm.cdf(np.abs(Z)))\n",
        "\n",
        "print(f'Z-값: {Z}')\n",
        "print(f'양측 검정 p-value: {p_value_two_side}')\n",
        "\n",
        "if p_value_two_side < alpha:\n",
        "    print('귀무가설 기각')\n",
        "else:\n",
        "    print('귀무가설 채택')"
      ],
      "metadata": {
        "colab": {
          "base_uri": "https://localhost:8080/"
        },
        "outputId": "c5c8e466-f8de-43b7-bb41-316fc1341c55",
        "id": "NnGrERDgywJ9"
      },
      "execution_count": 203,
      "outputs": [
        {
          "output_type": "stream",
          "name": "stdout",
          "text": [
            "Z-값: 3.0769230769230766\n",
            "양측 검정 p-value: 0.0020914926604775896\n",
            "귀무가설 기각\n"
          ]
        }
      ]
    },
    {
      "cell_type": "markdown",
      "source": [
        "## t 검정 : 모표준편차를 모를때, 표본의 개수가 30개 미만일때"
      ],
      "metadata": {
        "id": "ummC-Aaazbc8"
      }
    },
    {
      "cell_type": "markdown",
      "source": [
        "$t = \\frac{\\bar{X}-μ}{s/\\sqrt n}$\n",
        "\n",
        "$\\bar{X} : 표본평균$\n",
        "$μ : 모평균$\n",
        "\n",
        "$s : 표본표준편차$\n",
        "$n : 샘플수$\n"
      ],
      "metadata": {
        "id": "3LiWxZkczfFW"
      }
    },
    {
      "cell_type": "code",
      "source": [
        "import numpy as np\n",
        "from scipy.stats import ttest_1samp\n",
        "\n",
        "# 모집단 설정\n",
        "population = np.random.normal(100, 15, 100000)\n",
        "\n",
        "# 임의의 데이터 생성 (예: 20개의 표본)\n",
        "np.random.seed(42)\n",
        "sample = np.random.choice(population, size=20)\n",
        "\n",
        "# 가설 설정에 따른 기대값 설정\n",
        "hypothesized_value = 105\n",
        "\n",
        "# 1-sample t-test 수행\n",
        "t_statistic, p_value = ttest_1samp(sample, hypothesized_value)\n",
        "\n",
        "# 결과 출력\n",
        "print(f'Test Statistic: {t_statistic}')\n",
        "print(f'P-value: {p_value}')\n",
        "\n",
        "# 유의수준 0.05에서의 검정\n",
        "alpha = 0.05\n",
        "if p_value < alpha:\n",
        "    print(\"귀무가설 기각: 모평균은 표본평균과 다르다.\")\n",
        "else:\n",
        "    print(\"귀무가설 채택: 모평균은 표본평균과 같다.\")"
      ],
      "metadata": {
        "colab": {
          "base_uri": "https://localhost:8080/"
        },
        "id": "Wvz15nJ6yEdg",
        "outputId": "ca4de1fa-e69f-4ba2-e5d3-efab06f7af94"
      },
      "execution_count": 210,
      "outputs": [
        {
          "output_type": "stream",
          "name": "stdout",
          "text": [
            "Test Statistic: -0.316279198972497\n",
            "P-value: 0.7552389359995569\n",
            "귀무가설 채택: 모평균은 표본평균과 같다.\n"
          ]
        }
      ]
    },
    {
      "cell_type": "code",
      "source": [],
      "metadata": {
        "id": "lzUO-X6j07lh"
      },
      "execution_count": null,
      "outputs": []
    }
  ]
}