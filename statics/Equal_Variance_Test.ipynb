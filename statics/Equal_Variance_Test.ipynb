{
  "nbformat": 4,
  "nbformat_minor": 0,
  "metadata": {
    "colab": {
      "provenance": [],
      "authorship_tag": "ABX9TyM5VQu7yq3xbuKmPXiELPGJ",
      "include_colab_link": true
    },
    "kernelspec": {
      "name": "python3",
      "display_name": "Python 3"
    },
    "language_info": {
      "name": "python"
    }
  },
  "cells": [
    {
      "cell_type": "markdown",
      "metadata": {
        "id": "view-in-github",
        "colab_type": "text"
      },
      "source": [
        "<a href=\"https://colab.research.google.com/github/jason96819/Studying/blob/main/statics/Equal_Variance_Test.ipynb\" target=\"_parent\"><img src=\"https://colab.research.google.com/assets/colab-badge.svg\" alt=\"Open In Colab\"/></a>"
      ]
    },
    {
      "cell_type": "markdown",
      "source": [
        "# 등분산 검정"
      ],
      "metadata": {
        "id": "OvWrpphJIu-p"
      }
    },
    {
      "cell_type": "markdown",
      "source": [
        "$X = \\frac{s_1^2}{s_2^2}~F[n_1-1, n_2-1]$"
      ],
      "metadata": {
        "id": "q7LuBVe9IwpL"
      }
    },
    {
      "cell_type": "code",
      "execution_count": 1,
      "metadata": {
        "id": "8YfIOBIvFYKU"
      },
      "outputs": [],
      "source": [
        "import numpy as np"
      ]
    },
    {
      "cell_type": "code",
      "source": [
        "data_a = [0.95, 0.82, 0.78, 0.96, 0.71, 0.86, 0.99]\n",
        "data_b = [0.89, 0.91, 0.94, 0.91, 0.90, 0.89]"
      ],
      "metadata": {
        "id": "xTPwg6zIJMK8"
      },
      "execution_count": 6,
      "outputs": []
    },
    {
      "cell_type": "code",
      "source": [
        "s1 = np.var(data_a)\n",
        "s2 = np.var(data_b)\n",
        "f_value = s1/s2"
      ],
      "metadata": {
        "id": "WtYOgcEaJNEZ"
      },
      "execution_count": 7,
      "outputs": []
    },
    {
      "cell_type": "code",
      "source": [
        "from scipy.stats import f\n",
        "\n",
        "# 검정통계량 값\n",
        "test_statistic = f_value\n",
        "\n",
        "# F-분포의 자유도\n",
        "df_between = 6\n",
        "df_within = 5\n",
        "\n",
        "# p-value 계산\n",
        "p_value = 1 - f.cdf(test_statistic, df_between, df_within)\n",
        "\n",
        "print(\"P-value:\", p_value)"
      ],
      "metadata": {
        "colab": {
          "base_uri": "https://localhost:8080/"
        },
        "id": "_2N1QiEwFd91",
        "outputId": "cf4aedfd-97a0-48f0-e832-a89f786b9a30"
      },
      "execution_count": 8,
      "outputs": [
        {
          "output_type": "stream",
          "name": "stdout",
          "text": [
            "P-value: 0.0007668283930746256\n"
          ]
        }
      ]
    },
    {
      "cell_type": "markdown",
      "source": [
        "## 모듈 사용"
      ],
      "metadata": {
        "id": "irp-2jZJJdPa"
      }
    },
    {
      "cell_type": "code",
      "source": [
        "from scipy.stats import f_oneway\n",
        "\n",
        "# 두 기기의 데이터\n",
        "data_a = [0.95, 0.82, 0.78, 0.96, 0.71, 0.86, 0.99]\n",
        "data_b = [0.89, 0.91, 0.94, 0.91, 0.90, 0.89]\n",
        "\n",
        "# F-테스트 수행\n",
        "statistic, p_value = f_oneway(data_a, data_b)\n",
        "\n",
        "# 결과 출력\n",
        "print(\"Statistic:\", statistic)\n",
        "print(\"P-value:\", p_value)\n",
        "\n",
        "# 가설검정\n",
        "alpha = 0.05\n",
        "if p_value < alpha:\n",
        "    print(\"귀무가설 기각: 두 집단의 분산이 다르다.\")\n",
        "else:\n",
        "    print(\"귀무가설 채택: 두 집단의 분산이 동일하다.\")"
      ],
      "metadata": {
        "colab": {
          "base_uri": "https://localhost:8080/"
        },
        "id": "V0MU-TVsG6qB",
        "outputId": "b63428e6-8a6f-4cd3-894f-50011651e5a7"
      },
      "execution_count": 4,
      "outputs": [
        {
          "output_type": "stream",
          "name": "stdout",
          "text": [
            "Statistic: 0.8301272922463483\n",
            "P-value: 0.3817682650682853\n",
            "귀무가설 채택: 두 집단의 분산이 동일하다.\n"
          ]
        }
      ]
    },
    {
      "cell_type": "markdown",
      "source": [
        "## 바틀렛 검정"
      ],
      "metadata": {
        "id": "q5mih7e2Je4p"
      }
    },
    {
      "cell_type": "code",
      "source": [
        "from scipy.stats import bartlett\n",
        "\n",
        "# 두 기기의 데이터\n",
        "data_a = [0.95, 0.82, 0.78, 0.96, 0.71, 0.86, 0.99]\n",
        "data_b = [0.89, 0.91, 0.94, 0.91, 0.90, 0.89]\n",
        "\n",
        "# Bartlett의 등분산 검정 수행\n",
        "statistic, p_value = bartlett(data_a, data_b)\n",
        "\n",
        "# 결과 출력\n",
        "print(\"Statistic:\", statistic)\n",
        "print(\"P-value:\", p_value)\n",
        "\n",
        "# 가설검정\n",
        "alpha = 0.05\n",
        "if p_value < alpha:\n",
        "    print(\"귀무가설 기각: 두 집단의 분산이 다르다.\")\n",
        "else:\n",
        "    print(\"귀무가설 채택: 두 집단의 분산이 동일하다.\")"
      ],
      "metadata": {
        "colab": {
          "base_uri": "https://localhost:8080/"
        },
        "id": "TyKFL6yJHBjn",
        "outputId": "76751928-40c3-4c3d-9782-db8909d7d01d"
      },
      "execution_count": 3,
      "outputs": [
        {
          "output_type": "stream",
          "name": "stdout",
          "text": [
            "Statistic: 9.929712639841371\n",
            "P-value: 0.0016263192193019446\n",
            "귀무가설 기각: 두 집단의 분산이 다르다.\n"
          ]
        }
      ]
    },
    {
      "cell_type": "markdown",
      "source": [
        "# 레빈 검정"
      ],
      "metadata": {
        "id": "Xcnukg9xJhpj"
      }
    },
    {
      "cell_type": "code",
      "source": [
        "from scipy.stats import levene\n",
        "\n",
        "# 두 기기의 데이터\n",
        "data_a = [0.95, 0.82, 0.78, 0.96, 0.71, 0.86, 0.99]\n",
        "data_b = [0.89, 0.91, 0.94, 0.91, 0.90, 0.89]\n",
        "\n",
        "# Levene의 등분산 검정 수행\n",
        "statistic, p_value = levene(data_a, data_b)\n",
        "\n",
        "# 결과 출력\n",
        "print(\"Statistic:\", statistic)\n",
        "print(\"P-value:\", p_value)\n",
        "\n",
        "# 가설검정\n",
        "alpha = 0.05\n",
        "if p_value < alpha:\n",
        "    print(\"귀무가설 기각: 두 집단의 분산이 다르다.\")\n",
        "else:\n",
        "    print(\"귀무가설 채택: 두 집단의 분산이 동일하다.\")"
      ],
      "metadata": {
        "colab": {
          "base_uri": "https://localhost:8080/"
        },
        "id": "RhMQoGqhIQw5",
        "outputId": "e43fe1a6-9452-4733-a157-fbb1beac8209"
      },
      "execution_count": 5,
      "outputs": [
        {
          "output_type": "stream",
          "name": "stdout",
          "text": [
            "Statistic: 10.872789198935925\n",
            "P-value: 0.007110831345517678\n",
            "귀무가설 기각: 두 집단의 분산이 다르다.\n"
          ]
        }
      ]
    },
    {
      "cell_type": "code",
      "source": [],
      "metadata": {
        "id": "ZQtGRXBNIRG-"
      },
      "execution_count": null,
      "outputs": []
    }
  ]
}