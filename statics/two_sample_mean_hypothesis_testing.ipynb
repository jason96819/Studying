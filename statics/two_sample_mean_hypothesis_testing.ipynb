{
  "nbformat": 4,
  "nbformat_minor": 0,
  "metadata": {
    "colab": {
      "provenance": [],
      "authorship_tag": "ABX9TyPKmUiGa2hKzE+tZToMryTW",
      "include_colab_link": true
    },
    "kernelspec": {
      "name": "python3",
      "display_name": "Python 3"
    },
    "language_info": {
      "name": "python"
    }
  },
  "cells": [
    {
      "cell_type": "markdown",
      "metadata": {
        "id": "view-in-github",
        "colab_type": "text"
      },
      "source": [
        "<a href=\"https://colab.research.google.com/github/jason96819/Studying/blob/main/statics/two_sample_mean_hypothesis_testing.ipynb\" target=\"_parent\"><img src=\"https://colab.research.google.com/assets/colab-badge.svg\" alt=\"Open In Colab\"/></a>"
      ]
    },
    {
      "cell_type": "markdown",
      "source": [
        "# 두 개의 모집단의 모평균 가설 검정 - 독립"
      ],
      "metadata": {
        "id": "wa92_uo0UYm7"
      }
    },
    {
      "cell_type": "markdown",
      "source": [
        "이 검정은 두 개의 모집단의 표본들이 독립일 때 표본평균을 산출해 비교하는 검정입니다.\n",
        "\n",
        "모분산을 알때와 모를때, 모를경우, 모집단이 대표본일 때와 소표본일 때로 나뉩니다."
      ],
      "metadata": {
        "id": "yqI81iI2UaiT"
      }
    },
    {
      "cell_type": "code",
      "source": [
        "import numpy as np\n",
        "from scipy.stats import norm"
      ],
      "metadata": {
        "id": "koP-37MmqrP8"
      },
      "execution_count": 1,
      "outputs": []
    },
    {
      "cell_type": "markdown",
      "source": [
        "## 모분산을 알 경우"
      ],
      "metadata": {
        "id": "8Ta_5eqnnqJJ"
      }
    },
    {
      "cell_type": "markdown",
      "source": [
        "$Z = \\frac{\\bar{X_1}-\\bar{X_2}}{\\sqrt{\\frac{σ_1^2}{n_1}+\\frac{σ_2^2}{n_2}}}$\n",
        "\n",
        "$\\bar{X_1} : 첫 번째 집단의 표본평균$\n",
        "$\\bar{X_2} : 두 번째 집단의 표본평균$\n",
        "\n",
        "$σ_1^2 : 첫 번째 집단의 모분산$\n",
        "$σ_2^2 : 두 번째 집단의 모분산$\n",
        "\n",
        "$n_1 : 첫 번째 집단의 샘플수$\n",
        "$n_2 : 두 번째 집단의 샘플수$"
      ],
      "metadata": {
        "id": "ssnYWhT7n_-K"
      }
    },
    {
      "cell_type": "code",
      "source": [
        "one_sam_mean = 130\n",
        "two_sam_mean = 120\n",
        "\n",
        "one_pop_var = 10\n",
        "two_pop_var = 10\n",
        "\n",
        "one_sam_size = 50\n",
        "two_sam_size = 55\n",
        "\n",
        "Z = (one_sam_mean - two_sam_mean) / np.sqrt((one_pop_var/one_sam_size) + (two_pop_var/two_sam_size))\n",
        "\n",
        "print(\"Z-score :\", Z)\n",
        "\n",
        "# 양측 검정을 수행하기 때문에 5% 유의수준에서의 Z-score 임계값은 약 ±1.96\n",
        "critical_value = norm.ppf(1 - 0.05/2)\n",
        "print('\\n유의수준 5%의 Z임계값 :',critical_value)\n",
        "\n",
        "# 가설검정\n",
        "if np.abs(Z) > critical_value:\n",
        "    print(\"\\n귀무가설 기각: 두 그룹 간에 통계적으로 유의한 차이가 있음\")\n",
        "else:\n",
        "    print(\"\\n귀무가설 채택: 두 그룹 간에 통계적으로 유의한 차이가 없음\")"
      ],
      "metadata": {
        "colab": {
          "base_uri": "https://localhost:8080/"
        },
        "id": "D3LJL88CwNJ0",
        "outputId": "55eedbd7-6210-4514-d73f-00c0384abd28"
      },
      "execution_count": 29,
      "outputs": [
        {
          "output_type": "stream",
          "name": "stdout",
          "text": [
            "Z-score : 16.18347187425374\n",
            "\n",
            "유의수준 5%의 Z임계값 : 1.959963984540054\n",
            "\n",
            "귀무가설 기각: 두 그룹 간에 통계적으로 유의한 차이가 있음\n"
          ]
        }
      ]
    },
    {
      "cell_type": "markdown",
      "source": [
        "## 모분산을 모를 경우 - 대표본"
      ],
      "metadata": {
        "id": "Dc8l8NXxrjqw"
      }
    },
    {
      "cell_type": "markdown",
      "source": [
        "모분산을 몰라도 대표본이기에 Z분포를 사용합니다. 하지만, 모분산대신 표본분산을 사용합니다."
      ],
      "metadata": {
        "id": "Uh7qYzAbrn2j"
      }
    },
    {
      "cell_type": "markdown",
      "source": [
        "$Z = \\frac{\\bar{X_1}-\\bar{X_2}}{\\sqrt{\\frac{s_1^2}{n_1}+\\frac{s_2^2}{n_2}}}$\n",
        "\n",
        "$\\bar{X_1} : 첫 번째 집단의 표본평균$\n",
        "$\\bar{X_2} : 두 번째 집단의 표본평균$\n",
        "\n",
        "$σ_1^2 : 첫 번째 집단의 표본분산$\n",
        "$σ_2^2 : 두 번째 집단의 표본분산$\n",
        "\n",
        "$n_1 : 첫 번째 집단의 샘플수$\n",
        "$n_2 : 두 번째 집단의 샘플수$"
      ],
      "metadata": {
        "id": "yNrJnzfgru9H"
      }
    },
    {
      "cell_type": "code",
      "source": [
        "one_sam_mean = 130\n",
        "two_sam_mean = 131\n",
        "\n",
        "one_sam_var = 10\n",
        "two_sam_var = 10\n",
        "\n",
        "one_sam_size = 60\n",
        "two_sam_size = 59\n",
        "\n",
        "Z = (one_sam_mean - two_sam_mean) / np.sqrt((one_sam_var/one_sam_size) + (two_sam_var/two_sam_size))\n",
        "\n",
        "print(\"Z-score:\", Z)\n",
        "\n",
        "# 양측 검정을 수행하기 때문에 5% 유의수준에서의 Z-score 임계값은 약 ±1.96\n",
        "critical_value = norm.ppf(1 - 0.05/2)\n",
        "print('\\n유의수준 5%의 Z임계값 :',critical_value)\n",
        "\n",
        "# 가설검정\n",
        "if np.abs(Z) > critical_value:\n",
        "    print(\"\\n귀무가설 기각: 두 그룹 간에 통계적으로 유의한 차이가 있음\")\n",
        "else:\n",
        "    print(\"\\n귀무가설 채택: 두 그룹 간에 통계적으로 유의한 차이가 없음\")"
      ],
      "metadata": {
        "colab": {
          "base_uri": "https://localhost:8080/"
        },
        "id": "sWz0ifkxruI0",
        "outputId": "3922bacd-c904-42ab-ac1d-3713f8661d6a"
      },
      "execution_count": 32,
      "outputs": [
        {
          "output_type": "stream",
          "name": "stdout",
          "text": [
            "Z-score: -1.7247579296719835\n",
            "\n",
            "유의수준 5%의 Z임계값 : 1.959963984540054\n",
            "\n",
            "귀무가설 채택: 두 그룹 간에 통계적으로 유의한 차이가 없음\n"
          ]
        }
      ]
    },
    {
      "cell_type": "markdown",
      "source": [
        "## 모분산을 모를 경우 - 소표본"
      ],
      "metadata": {
        "id": "79GBHx4Msuqs"
      }
    },
    {
      "cell_type": "markdown",
      "source": [
        "모분산을 모르고 소표본이기에 자유도가 [n1 + n2 - 2]인 t분포를 사용합니다."
      ],
      "metadata": {
        "id": "7QXrWSE6t07e"
      }
    },
    {
      "cell_type": "markdown",
      "source": [
        "$t = \\frac{\\bar{X_1}-\\bar{X_2}}{s_p\\sqrt{\\frac{1}{n_1}+\\frac{1}{n_2}}}$\n",
        "\n",
        "$\\bar{X_1} : 첫 번째 집단의 표본평균$\n",
        "$\\bar{X_2} : 두 번째 집단의 표본평균$\n",
        "\n",
        "$n_1 : 첫 번째 집단의 샘플수$\n",
        "$n_2 : 두 번째 집단의 샘플수$\n",
        "\n",
        "$s_p : 합동표본표준편차$\n",
        "\n",
        "$s_p = \\sqrt\\frac{(n_1-1)s_1^2+(n_2-1)s_2^2}{n_1+n_2-2}$"
      ],
      "metadata": {
        "id": "f2r0Qyxhwum9"
      }
    },
    {
      "cell_type": "code",
      "source": [
        "sam1 = [41, 44, 42, 45, 49, 46, 48, 50, 42, 44, 46, 46, 47, 48, 47, 45]\n",
        "sam2 = [40, 46, 42, 45, 45, 46, 42, 44, 40, 40, 44, 46, 42, 42, 44]"
      ],
      "metadata": {
        "id": "UnxrVHLlxegD"
      },
      "execution_count": 43,
      "outputs": []
    },
    {
      "cell_type": "code",
      "source": [
        "sam1_mean = np.mean(sam1)\n",
        "sam2_mean = np.mean(sam2)\n",
        "sam1_var = np.var(sam1)\n",
        "sam2_var = np.var(sam2)\n",
        "sam1_size = len(sam1)\n",
        "sam2_size = len(sam2)\n",
        "\n",
        "print('표본1과 표본2의 평균 :',sam1_mean,',',sam2_mean)\n",
        "print('표본1과 표본2의 분산 :',sam1_var,',',sam2_var)\n",
        "print('표본1과 표본2의 크기 :',sam1_size,',',sam2_size)"
      ],
      "metadata": {
        "colab": {
          "base_uri": "https://localhost:8080/"
        },
        "id": "MmWevDtNxibX",
        "outputId": "ddc4dfaa-9ef3-490b-9cff-d7e7e6b74c13"
      },
      "execution_count": 48,
      "outputs": [
        {
          "output_type": "stream",
          "name": "stdout",
          "text": [
            "표본1과 표본2의 평균 : 45.625 , 43.2\n",
            "표본1과 표본2의 분산 : 6.234375 , 4.5600000000000005\n",
            "표본1과 표본2의 크기 : 16 , 15\n"
          ]
        }
      ]
    },
    {
      "cell_type": "code",
      "source": [
        "sp = np.sqrt((((sam1_size-1)*sam1_var) + ((sam2_size-1)*sam2_var)) / (sam1_size+sam2_size-2))\n",
        "print('합동표본표준편차 :',sp)"
      ],
      "metadata": {
        "colab": {
          "base_uri": "https://localhost:8080/"
        },
        "id": "vZIFX2NkxkEb",
        "outputId": "73b423bd-676f-44ba-c0d1-05a0bc5a7c8a"
      },
      "execution_count": 49,
      "outputs": [
        {
          "output_type": "stream",
          "name": "stdout",
          "text": [
            "합동표본표준편차 : 2.3293896270230876\n"
          ]
        }
      ]
    },
    {
      "cell_type": "code",
      "source": [
        "t_value = (sam1_mean - sam2_mean) / (sp * (np.sqrt((1/sam1_size) + (1/sam2_size))))\n",
        "t_value"
      ],
      "metadata": {
        "colab": {
          "base_uri": "https://localhost:8080/"
        },
        "id": "NWj_3u21xkCD",
        "outputId": "5ed80f0e-c2cb-4180-a4ca-edb3aa223749"
      },
      "execution_count": 51,
      "outputs": [
        {
          "output_type": "execute_result",
          "data": {
            "text/plain": [
              "2.8966390401306463"
            ]
          },
          "metadata": {},
          "execution_count": 51
        }
      ]
    },
    {
      "cell_type": "code",
      "source": [
        "from scipy.stats import t"
      ],
      "metadata": {
        "id": "33X1gyJ8y0wS"
      },
      "execution_count": 52,
      "outputs": []
    },
    {
      "cell_type": "code",
      "source": [
        "# 자유도 29인 t-분포에서의 p-value 계산\n",
        "degrees_of_freedom = sam1_size + sam2_size - 2\n",
        "t_value = t_value\n",
        "p_value = t.sf(np.abs(t_value), degrees_of_freedom) * 2                          # 양측검정을 위해 2를 곱해줍니다.\n",
        "\n",
        "print('자유도 :', degrees_of_freedom)\n",
        "print('t값 :', t_value)\n",
        "print(\"p-value :\", p_value)\n",
        "\n",
        "alpha = 0.05\n",
        "if p_value < alpha:\n",
        "    print('귀무가설을 기각합니다. 두 그룹의 평균에 차이가 있다.')\n",
        "else:\n",
        "    print('귀무가설을 채잭합니다. 두 그룹의 평균에 차이가 없다.')"
      ],
      "metadata": {
        "colab": {
          "base_uri": "https://localhost:8080/"
        },
        "id": "QY-TuMVyxj_t",
        "outputId": "7684deb6-cd69-4373-cef2-6126497b9f27"
      },
      "execution_count": 54,
      "outputs": [
        {
          "output_type": "stream",
          "name": "stdout",
          "text": [
            "자유도 : 29\n",
            "t값 : 2.8966390401306463\n",
            "p-value : 0.00710489408561611\n",
            "귀무가설을 기각합니다. 두 그룹의 평균에 차이가 있다.\n"
          ]
        }
      ]
    },
    {
      "cell_type": "markdown",
      "source": [
        "### 모듈 사용"
      ],
      "metadata": {
        "id": "kHg7Rdo2zmGE"
      }
    },
    {
      "cell_type": "code",
      "source": [
        "from scipy.stats import ttest_ind"
      ],
      "metadata": {
        "id": "z5_8vUkNxj4p"
      },
      "execution_count": 55,
      "outputs": []
    },
    {
      "cell_type": "code",
      "source": [
        "sam1 = [41, 44, 42, 45, 49, 46, 48, 50, 42, 44, 46, 46, 47, 48, 47, 45]\n",
        "sam2 = [40, 46, 42, 45, 45, 46, 42, 44, 40, 40, 44, 46, 42, 42, 44]\n",
        "\n",
        "# 독립이표본 t-검정 수행\n",
        "t_statistic, p_value = ttest_ind(sam1, sam2)\n",
        "\n",
        "# 결과 출력\n",
        "print(\"t-statistic:\", t_statistic)\n",
        "print(\"p-value:\", p_value)\n",
        "\n",
        "# 가설검정\n",
        "alpha = 0.05                                                                     # 유의수준 5%\n",
        "if p_value < alpha:\n",
        "    print(\"귀무가설 기각: 두 그룹 간에 통계적으로 유의한 차이가 있음\")\n",
        "else:\n",
        "    print(\"귀무가설 채택: 두 그룹 간에 통계적으로 유의한 차이가 없음\")"
      ],
      "metadata": {
        "colab": {
          "base_uri": "https://localhost:8080/"
        },
        "outputId": "a6667d75-ae6e-4b12-af52-fee42c34c3c8",
        "id": "6cQddq1Fxgnc"
      },
      "execution_count": 56,
      "outputs": [
        {
          "output_type": "stream",
          "name": "stdout",
          "text": [
            "t-statistic: 2.802122258979598\n",
            "p-value: 0.00895212138821157\n",
            "귀무가설 기각: 두 그룹 간에 통계적으로 유의한 차이가 있음\n"
          ]
        }
      ]
    },
    {
      "cell_type": "markdown",
      "source": [
        "### 다른 문제"
      ],
      "metadata": {
        "id": "tBczDePcxb3N"
      }
    },
    {
      "cell_type": "code",
      "source": [
        "from scipy.stats import ttest_ind"
      ],
      "metadata": {
        "id": "LCfcI39juId3"
      },
      "execution_count": 33,
      "outputs": []
    },
    {
      "cell_type": "code",
      "source": [
        "# 두 독립된 표본 생성\n",
        "np.random.seed(42)                                                               # 결과를 일정하게 유지하기 위해 시드 설정\n",
        "sample1 = np.random.normal(loc=5, scale=2, size=100)                             # 평균 5, 분산 2, 크기 100\n",
        "sample2 = np.random.normal(loc=7, scale=2, size=120)                             # 평균 7, 분산 2, 크기 120\n",
        "\n",
        "# 독립이표본 t-검정 수행\n",
        "t_statistic, p_value = ttest_ind(sample1, sample2)\n",
        "\n",
        "# 결과 출력\n",
        "print(\"t-statistic:\", t_statistic)\n",
        "print(\"p-value:\", p_value)\n",
        "\n",
        "# 가설검정\n",
        "alpha = 0.05                                                                     # 유의수준 5%\n",
        "if p_value < alpha:\n",
        "    print(\"귀무가설 기각: 두 그룹 간에 통계적으로 유의한 차이가 있음\")\n",
        "else:\n",
        "    print(\"귀무가설 채택: 두 그룹 간에 통계적으로 유의한 차이가 없음\")"
      ],
      "metadata": {
        "colab": {
          "base_uri": "https://localhost:8080/"
        },
        "id": "CBQA8CbtruGX",
        "outputId": "b20a0ebb-8432-474e-b23d-657bda522ac4"
      },
      "execution_count": 34,
      "outputs": [
        {
          "output_type": "stream",
          "name": "stdout",
          "text": [
            "t-statistic: -9.282349796668713\n",
            "p-value: 1.7161820700497027e-17\n",
            "귀무가설 기각: 두 그룹 간에 통계적으로 유의한 차이가 있음\n"
          ]
        }
      ]
    },
    {
      "cell_type": "markdown",
      "source": [
        "# 두 개의 모집단의 모평균 가설 검정 - 대응표본"
      ],
      "metadata": {
        "id": "T-B467Wbz1US"
      }
    },
    {
      "cell_type": "markdown",
      "source": [
        "분산이 알려지지 않고 정규분포를 따른다고 가정합니다."
      ],
      "metadata": {
        "id": "sOd2wvND5jt3"
      }
    },
    {
      "cell_type": "markdown",
      "source": [
        "$t = \\frac{\\bar{d}-μ_d}{s_d / \\sqrt{n}} = \\frac{\\bar{d}}{s_d / \\sqrt{n}}$\n",
        "\n",
        "$\\bar{μ_d} : 귀무가설에 따른 평균 차이 보통(0)$\n",
        "\n",
        "$n : 대응표본의 크기$\n",
        "\n",
        "$\\bar{d} : 대응표본의 평균차이$ $\\bar{d} = \\frac{\\sum^n_{i=1}d_i}{n}$\n",
        "\n",
        "$s_d : 대응표본 차이의 표준편차$ $s_d = \\sqrt{\\frac{\\sum^n_{i=1}(d_i-\\bar{d})^2}{n-1}}$"
      ],
      "metadata": {
        "id": "6Sa5FgWV5qZX"
      }
    },
    {
      "cell_type": "code",
      "source": [
        "d_list = [.8, .4, .6, .0, .1, .3]"
      ],
      "metadata": {
        "id": "8pSWRi8t_0V7"
      },
      "execution_count": 17,
      "outputs": []
    },
    {
      "cell_type": "code",
      "source": [
        "d = np.mean(d_list)\n",
        "n = len(d_list)\n",
        "\n",
        "sum_list = []\n",
        "for i in d_list:\n",
        "    a = (i-d)**2\n",
        "    sum_list.append(a)\n",
        "sd = np.sqrt(sum(sum_list)/(n-1))\n",
        "\n",
        "print('대응표본의 평균차이(d) :',d)\n",
        "print('대응표본크기(n) :', n)\n",
        "print('대응표본차이의 표준편차(s_d) :',sd)\n",
        "\n",
        "t_value = (d) / (sd / (np.sqrt(n)))\n",
        "print('t값 :',t_value)"
      ],
      "metadata": {
        "colab": {
          "base_uri": "https://localhost:8080/"
        },
        "id": "WJ7ljXoB_0Ts",
        "outputId": "33642e51-6795-48d2-f25b-f1302e297467"
      },
      "execution_count": 30,
      "outputs": [
        {
          "output_type": "stream",
          "name": "stdout",
          "text": [
            "대응표본의 평균차이(d) : 0.3666666666666667\n",
            "대응표본크기(n) : 6\n",
            "대응표본차이의 표준편차(s_d) : 0.30110906108363245\n",
            "t값 : 2.9827937950065215\n"
          ]
        }
      ]
    },
    {
      "cell_type": "code",
      "source": [
        "from scipy.stats import t"
      ],
      "metadata": {
        "id": "oI3cIHDTU-BP"
      },
      "execution_count": 32,
      "outputs": []
    },
    {
      "cell_type": "code",
      "source": [
        "# 자유도 n-1인 t-분포에서의 p-value 계산\n",
        "degrees_of_freedom = 6-1\n",
        "t_value = t_value\n",
        "p_value = t.sf(np.abs(t_value), degrees_of_freedom) * 2                          # 양측검정을 위해 2를 곱해줍니다.\n",
        "\n",
        "print('자유도 :', degrees_of_freedom)\n",
        "print('t값 :', t_value)\n",
        "print(\"p-value :\", p_value)\n",
        "\n",
        "alpha = 0.05\n",
        "if p_value < alpha:\n",
        "    print('귀무가설을 기각합니다. 두 그룹의 평균에 차이가 있다.')\n",
        "else:\n",
        "    print('귀무가설을 채잭합니다. 두 그룹의 평균에 차이가 없다.')"
      ],
      "metadata": {
        "colab": {
          "base_uri": "https://localhost:8080/"
        },
        "id": "x55xuCs5u70e",
        "outputId": "235a0f86-989a-46a1-b21f-11832c9a3baf"
      },
      "execution_count": 33,
      "outputs": [
        {
          "output_type": "stream",
          "name": "stdout",
          "text": [
            "자유도 : 5\n",
            "t값 : 2.9827937950065215\n",
            "p-value : 0.030700961912712755\n",
            "귀무가설을 기각합니다. 두 그룹의 평균에 차이가 있다.\n"
          ]
        }
      ]
    },
    {
      "cell_type": "markdown",
      "source": [
        "## 모듈 사용"
      ],
      "metadata": {
        "id": "51rIHMpJV23j"
      }
    },
    {
      "cell_type": "code",
      "source": [
        "from scipy.stats import ttest_rel"
      ],
      "metadata": {
        "id": "Ghb2kB2VWDGD"
      },
      "execution_count": 34,
      "outputs": []
    },
    {
      "cell_type": "code",
      "source": [
        "# 대응표본 데이터 생성 (가상의 예시)\n",
        "before = [15, 18, 22, 25, 30]\n",
        "after = [12, 20, 21, 24, 28]\n",
        "\n",
        "# 대응표본 t-검정 수행\n",
        "t_statistic, p_value = ttest_rel(before, after)\n",
        "\n",
        "# 결과 출력\n",
        "print(\"t-statistic:\", t_statistic)\n",
        "print(\"p-value:\", p_value)\n",
        "\n",
        "# 가설검정\n",
        "alpha = 0.05\n",
        "if p_value < alpha:\n",
        "    print(\"귀무가설 기각: 대응표본의 모평균 차이는 0이 아니다.\")\n",
        "else:\n",
        "    print(\"귀무가설 채택: 대응표본의 모평균 차이는 0이다.\")"
      ],
      "metadata": {
        "colab": {
          "base_uri": "https://localhost:8080/"
        },
        "id": "dKzGZbPmu7yF",
        "outputId": "153f0a1d-50bd-467b-ae74-b866c0eda296"
      },
      "execution_count": 35,
      "outputs": [
        {
          "output_type": "stream",
          "name": "stdout",
          "text": [
            "t-statistic: 1.1952286093343936\n",
            "p-value: 0.2980148117312104\n",
            "귀무가설 채택: 대응표본의 모평균 차이는 0이다.\n"
          ]
        }
      ]
    },
    {
      "cell_type": "code",
      "source": [],
      "metadata": {
        "id": "hlKZ0QSsu7vg"
      },
      "execution_count": null,
      "outputs": []
    }
  ]
}