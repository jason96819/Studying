{
  "nbformat": 4,
  "nbformat_minor": 0,
  "metadata": {
    "colab": {
      "provenance": [],
      "mount_file_id": "1UmV9EDt-KzLNCuh3jbZHqmtWC27PYnO_",
      "authorship_tag": "ABX9TyOL03cqQOsrCNwMBFmvmM3h",
      "include_colab_link": true
    },
    "kernelspec": {
      "name": "python3",
      "display_name": "Python 3"
    },
    "language_info": {
      "name": "python"
    }
  },
  "cells": [
    {
      "cell_type": "markdown",
      "metadata": {
        "id": "view-in-github",
        "colab_type": "text"
      },
      "source": [
        "<a href=\"https://colab.research.google.com/github/jason96819/Studying/blob/main/statics/%EA%B8%B0%EC%88%A0%ED%86%B5%EA%B3%84.ipynb\" target=\"_parent\"><img src=\"https://colab.research.google.com/assets/colab-badge.svg\" alt=\"Open In Colab\"/></a>"
      ]
    },
    {
      "cell_type": "markdown",
      "source": [
        "# 서울시 공공자전거 이용정보 데이터"
      ],
      "metadata": {
        "id": "h9xtFDCJ9tsI"
      }
    },
    {
      "cell_type": "markdown",
      "source": [
        "출처 : https://data.seoul.go.kr/dataList/OA-15246/F/1/datasetView.do"
      ],
      "metadata": {
        "id": "uf2SHa_U9yE5"
      }
    },
    {
      "cell_type": "markdown",
      "source": [
        "22년 12월의 서울시 공공자전거 이용정보 데이터를 가져와 기술통계를 실습해 보겠습니다."
      ],
      "metadata": {
        "id": "EYI30SeA9zt1"
      }
    },
    {
      "cell_type": "markdown",
      "source": [
        "## 필요한 라이브러리 import"
      ],
      "metadata": {
        "id": "2Ktzse3Q-zAG"
      }
    },
    {
      "cell_type": "code",
      "source": [
        "import pandas as pd\n",
        "import numpy as np\n",
        "import matplotlib.pyplot as plt\n",
        "%matplotlib inline\n",
        "import seaborn as sns\n",
        "import warnings\n",
        "warnings.filterwarnings(action='ignore')\n",
        "warnings.filterwarnings('ignore', category=UserWarning)\n",
        "warnings.filterwarnings('ignore', category=Warning)"
      ],
      "metadata": {
        "id": "kjbItX4W-JsE"
      },
      "execution_count": null,
      "outputs": []
    },
    {
      "cell_type": "code",
      "source": [
        "font_name = './drive/MyDrive/data/malgun.ttf'\n",
        "\n",
        "from matplotlib import font_manager\n",
        "fontprop = font_manager.FontProperties(fname=font_name, size=20)"
      ],
      "metadata": {
        "id": "ioJ8_0heK4gS"
      },
      "execution_count": null,
      "outputs": []
    },
    {
      "cell_type": "markdown",
      "source": [
        "## 데이터 확인"
      ],
      "metadata": {
        "id": "zoEDJo3r-xic"
      }
    },
    {
      "cell_type": "code",
      "execution_count": null,
      "metadata": {
        "colab": {
          "base_uri": "https://localhost:8080/",
          "height": 423
        },
        "id": "t4yKC2RL9hak",
        "outputId": "15d8b5c2-b24c-472b-f927-dd2cd5271498"
      },
      "outputs": [
        {
          "output_type": "execute_result",
          "data": {
            "text/plain": [
              "                day  number                spot code  sex   age  count  \\\n",
              "0        2022-12-01     729    729. 서부식자재마트 건너편  정기권  NaN  ~10대      1   \n",
              "1        2022-12-01     735         735. 영도초등학교  정기권  NaN  ~10대      3   \n",
              "2        2022-12-01     739          739. 신월사거리  정기권  NaN  ~10대      1   \n",
              "3        2022-12-01     741     741. 화곡로 입구 교차로  정기권  NaN  ~10대      1   \n",
              "4        2022-12-01     746       746. 목동2단지 상가  정기권  NaN  ~10대      3   \n",
              "...             ...     ...                 ...  ...  ...   ...    ...   \n",
              "1074741  2022-12-31    3501        3501. 광진구청 앞  정기권    M    기타      1   \n",
              "1074742  2022-12-31    3502      3502. 중곡역 1번출구  정기권    M    기타      1   \n",
              "1074743  2022-12-31     502  502. 뚝섬유원지역 1번출구 앞  정기권    M    기타      1   \n",
              "1074744  2022-12-31     426       426. 서울신용보증재단  정기권    M    기타      1   \n",
              "1074745  2022-12-31     726  726. 목동3단지 시내버스정류장  정기권    M    기타      2   \n",
              "\n",
              "        momentum carbon  distance  minute  \n",
              "0          58.56   0.44   1895.75      10  \n",
              "1          47.52   0.51   2190.00      12  \n",
              "2          13.50   0.14    620.00       6  \n",
              "3          54.67   0.58   2510.00      19  \n",
              "4          64.97   0.73   3170.97      20  \n",
              "...          ...    ...       ...     ...  \n",
              "1074741    52.78   0.45   1960.00      62  \n",
              "1074742    96.31   0.71   3040.00      23  \n",
              "1074743    34.49   0.31   1340.00       8  \n",
              "1074744    42.47   0.38   1650.00      28  \n",
              "1074745   102.70   0.92   3990.00      93  \n",
              "\n",
              "[1074746 rows x 11 columns]"
            ],
            "text/html": [
              "\n",
              "  <div id=\"df-a69c4646-0e86-4f15-9c11-fc877d3145bc\">\n",
              "    <div class=\"colab-df-container\">\n",
              "      <div>\n",
              "<style scoped>\n",
              "    .dataframe tbody tr th:only-of-type {\n",
              "        vertical-align: middle;\n",
              "    }\n",
              "\n",
              "    .dataframe tbody tr th {\n",
              "        vertical-align: top;\n",
              "    }\n",
              "\n",
              "    .dataframe thead th {\n",
              "        text-align: right;\n",
              "    }\n",
              "</style>\n",
              "<table border=\"1\" class=\"dataframe\">\n",
              "  <thead>\n",
              "    <tr style=\"text-align: right;\">\n",
              "      <th></th>\n",
              "      <th>day</th>\n",
              "      <th>number</th>\n",
              "      <th>spot</th>\n",
              "      <th>code</th>\n",
              "      <th>sex</th>\n",
              "      <th>age</th>\n",
              "      <th>count</th>\n",
              "      <th>momentum</th>\n",
              "      <th>carbon</th>\n",
              "      <th>distance</th>\n",
              "      <th>minute</th>\n",
              "    </tr>\n",
              "  </thead>\n",
              "  <tbody>\n",
              "    <tr>\n",
              "      <th>0</th>\n",
              "      <td>2022-12-01</td>\n",
              "      <td>729</td>\n",
              "      <td>729. 서부식자재마트 건너편</td>\n",
              "      <td>정기권</td>\n",
              "      <td>NaN</td>\n",
              "      <td>~10대</td>\n",
              "      <td>1</td>\n",
              "      <td>58.56</td>\n",
              "      <td>0.44</td>\n",
              "      <td>1895.75</td>\n",
              "      <td>10</td>\n",
              "    </tr>\n",
              "    <tr>\n",
              "      <th>1</th>\n",
              "      <td>2022-12-01</td>\n",
              "      <td>735</td>\n",
              "      <td>735. 영도초등학교</td>\n",
              "      <td>정기권</td>\n",
              "      <td>NaN</td>\n",
              "      <td>~10대</td>\n",
              "      <td>3</td>\n",
              "      <td>47.52</td>\n",
              "      <td>0.51</td>\n",
              "      <td>2190.00</td>\n",
              "      <td>12</td>\n",
              "    </tr>\n",
              "    <tr>\n",
              "      <th>2</th>\n",
              "      <td>2022-12-01</td>\n",
              "      <td>739</td>\n",
              "      <td>739. 신월사거리</td>\n",
              "      <td>정기권</td>\n",
              "      <td>NaN</td>\n",
              "      <td>~10대</td>\n",
              "      <td>1</td>\n",
              "      <td>13.50</td>\n",
              "      <td>0.14</td>\n",
              "      <td>620.00</td>\n",
              "      <td>6</td>\n",
              "    </tr>\n",
              "    <tr>\n",
              "      <th>3</th>\n",
              "      <td>2022-12-01</td>\n",
              "      <td>741</td>\n",
              "      <td>741. 화곡로 입구 교차로</td>\n",
              "      <td>정기권</td>\n",
              "      <td>NaN</td>\n",
              "      <td>~10대</td>\n",
              "      <td>1</td>\n",
              "      <td>54.67</td>\n",
              "      <td>0.58</td>\n",
              "      <td>2510.00</td>\n",
              "      <td>19</td>\n",
              "    </tr>\n",
              "    <tr>\n",
              "      <th>4</th>\n",
              "      <td>2022-12-01</td>\n",
              "      <td>746</td>\n",
              "      <td>746. 목동2단지 상가</td>\n",
              "      <td>정기권</td>\n",
              "      <td>NaN</td>\n",
              "      <td>~10대</td>\n",
              "      <td>3</td>\n",
              "      <td>64.97</td>\n",
              "      <td>0.73</td>\n",
              "      <td>3170.97</td>\n",
              "      <td>20</td>\n",
              "    </tr>\n",
              "    <tr>\n",
              "      <th>...</th>\n",
              "      <td>...</td>\n",
              "      <td>...</td>\n",
              "      <td>...</td>\n",
              "      <td>...</td>\n",
              "      <td>...</td>\n",
              "      <td>...</td>\n",
              "      <td>...</td>\n",
              "      <td>...</td>\n",
              "      <td>...</td>\n",
              "      <td>...</td>\n",
              "      <td>...</td>\n",
              "    </tr>\n",
              "    <tr>\n",
              "      <th>1074741</th>\n",
              "      <td>2022-12-31</td>\n",
              "      <td>3501</td>\n",
              "      <td>3501. 광진구청 앞</td>\n",
              "      <td>정기권</td>\n",
              "      <td>M</td>\n",
              "      <td>기타</td>\n",
              "      <td>1</td>\n",
              "      <td>52.78</td>\n",
              "      <td>0.45</td>\n",
              "      <td>1960.00</td>\n",
              "      <td>62</td>\n",
              "    </tr>\n",
              "    <tr>\n",
              "      <th>1074742</th>\n",
              "      <td>2022-12-31</td>\n",
              "      <td>3502</td>\n",
              "      <td>3502. 중곡역 1번출구</td>\n",
              "      <td>정기권</td>\n",
              "      <td>M</td>\n",
              "      <td>기타</td>\n",
              "      <td>1</td>\n",
              "      <td>96.31</td>\n",
              "      <td>0.71</td>\n",
              "      <td>3040.00</td>\n",
              "      <td>23</td>\n",
              "    </tr>\n",
              "    <tr>\n",
              "      <th>1074743</th>\n",
              "      <td>2022-12-31</td>\n",
              "      <td>502</td>\n",
              "      <td>502. 뚝섬유원지역 1번출구 앞</td>\n",
              "      <td>정기권</td>\n",
              "      <td>M</td>\n",
              "      <td>기타</td>\n",
              "      <td>1</td>\n",
              "      <td>34.49</td>\n",
              "      <td>0.31</td>\n",
              "      <td>1340.00</td>\n",
              "      <td>8</td>\n",
              "    </tr>\n",
              "    <tr>\n",
              "      <th>1074744</th>\n",
              "      <td>2022-12-31</td>\n",
              "      <td>426</td>\n",
              "      <td>426. 서울신용보증재단</td>\n",
              "      <td>정기권</td>\n",
              "      <td>M</td>\n",
              "      <td>기타</td>\n",
              "      <td>1</td>\n",
              "      <td>42.47</td>\n",
              "      <td>0.38</td>\n",
              "      <td>1650.00</td>\n",
              "      <td>28</td>\n",
              "    </tr>\n",
              "    <tr>\n",
              "      <th>1074745</th>\n",
              "      <td>2022-12-31</td>\n",
              "      <td>726</td>\n",
              "      <td>726. 목동3단지 시내버스정류장</td>\n",
              "      <td>정기권</td>\n",
              "      <td>M</td>\n",
              "      <td>기타</td>\n",
              "      <td>2</td>\n",
              "      <td>102.70</td>\n",
              "      <td>0.92</td>\n",
              "      <td>3990.00</td>\n",
              "      <td>93</td>\n",
              "    </tr>\n",
              "  </tbody>\n",
              "</table>\n",
              "<p>1074746 rows × 11 columns</p>\n",
              "</div>\n",
              "      <button class=\"colab-df-convert\" onclick=\"convertToInteractive('df-a69c4646-0e86-4f15-9c11-fc877d3145bc')\"\n",
              "              title=\"Convert this dataframe to an interactive table.\"\n",
              "              style=\"display:none;\">\n",
              "        \n",
              "  <svg xmlns=\"http://www.w3.org/2000/svg\" height=\"24px\"viewBox=\"0 0 24 24\"\n",
              "       width=\"24px\">\n",
              "    <path d=\"M0 0h24v24H0V0z\" fill=\"none\"/>\n",
              "    <path d=\"M18.56 5.44l.94 2.06.94-2.06 2.06-.94-2.06-.94-.94-2.06-.94 2.06-2.06.94zm-11 1L8.5 8.5l.94-2.06 2.06-.94-2.06-.94L8.5 2.5l-.94 2.06-2.06.94zm10 10l.94 2.06.94-2.06 2.06-.94-2.06-.94-.94-2.06-.94 2.06-2.06.94z\"/><path d=\"M17.41 7.96l-1.37-1.37c-.4-.4-.92-.59-1.43-.59-.52 0-1.04.2-1.43.59L10.3 9.45l-7.72 7.72c-.78.78-.78 2.05 0 2.83L4 21.41c.39.39.9.59 1.41.59.51 0 1.02-.2 1.41-.59l7.78-7.78 2.81-2.81c.8-.78.8-2.07 0-2.86zM5.41 20L4 18.59l7.72-7.72 1.47 1.35L5.41 20z\"/>\n",
              "  </svg>\n",
              "      </button>\n",
              "      \n",
              "  <style>\n",
              "    .colab-df-container {\n",
              "      display:flex;\n",
              "      flex-wrap:wrap;\n",
              "      gap: 12px;\n",
              "    }\n",
              "\n",
              "    .colab-df-convert {\n",
              "      background-color: #E8F0FE;\n",
              "      border: none;\n",
              "      border-radius: 50%;\n",
              "      cursor: pointer;\n",
              "      display: none;\n",
              "      fill: #1967D2;\n",
              "      height: 32px;\n",
              "      padding: 0 0 0 0;\n",
              "      width: 32px;\n",
              "    }\n",
              "\n",
              "    .colab-df-convert:hover {\n",
              "      background-color: #E2EBFA;\n",
              "      box-shadow: 0px 1px 2px rgba(60, 64, 67, 0.3), 0px 1px 3px 1px rgba(60, 64, 67, 0.15);\n",
              "      fill: #174EA6;\n",
              "    }\n",
              "\n",
              "    [theme=dark] .colab-df-convert {\n",
              "      background-color: #3B4455;\n",
              "      fill: #D2E3FC;\n",
              "    }\n",
              "\n",
              "    [theme=dark] .colab-df-convert:hover {\n",
              "      background-color: #434B5C;\n",
              "      box-shadow: 0px 1px 3px 1px rgba(0, 0, 0, 0.15);\n",
              "      filter: drop-shadow(0px 1px 2px rgba(0, 0, 0, 0.3));\n",
              "      fill: #FFFFFF;\n",
              "    }\n",
              "  </style>\n",
              "\n",
              "      <script>\n",
              "        const buttonEl =\n",
              "          document.querySelector('#df-a69c4646-0e86-4f15-9c11-fc877d3145bc button.colab-df-convert');\n",
              "        buttonEl.style.display =\n",
              "          google.colab.kernel.accessAllowed ? 'block' : 'none';\n",
              "\n",
              "        async function convertToInteractive(key) {\n",
              "          const element = document.querySelector('#df-a69c4646-0e86-4f15-9c11-fc877d3145bc');\n",
              "          const dataTable =\n",
              "            await google.colab.kernel.invokeFunction('convertToInteractive',\n",
              "                                                     [key], {});\n",
              "          if (!dataTable) return;\n",
              "\n",
              "          const docLinkHtml = 'Like what you see? Visit the ' +\n",
              "            '<a target=\"_blank\" href=https://colab.research.google.com/notebooks/data_table.ipynb>data table notebook</a>'\n",
              "            + ' to learn more about interactive tables.';\n",
              "          element.innerHTML = '';\n",
              "          dataTable['output_type'] = 'display_data';\n",
              "          await google.colab.output.renderOutput(dataTable, element);\n",
              "          const docLink = document.createElement('div');\n",
              "          docLink.innerHTML = docLinkHtml;\n",
              "          element.appendChild(docLink);\n",
              "        }\n",
              "      </script>\n",
              "    </div>\n",
              "  </div>\n",
              "  "
            ]
          },
          "metadata": {},
          "execution_count": 3
        }
      ],
      "source": [
        "df = pd.read_csv('./drive/MyDrive/data/bike_2212.csv', encoding='cp949')\n",
        "df.columns = ['day', 'number', 'spot', 'code', 'sex', 'age', 'count', 'momentum', 'carbon', 'distance', 'minute']\n",
        "df"
      ]
    },
    {
      "cell_type": "markdown",
      "source": [
        "총 11개의 컬럼과 1,074,746개의 열이 있습니다."
      ],
      "metadata": {
        "id": "du3rURo0-70_"
      }
    },
    {
      "cell_type": "markdown",
      "source": [
        ".info() 메서드로 데이터의 정보를 확인할 수 있습니다."
      ],
      "metadata": {
        "id": "2XXnv7vz-3kL"
      }
    },
    {
      "cell_type": "code",
      "source": [
        "df.info()"
      ],
      "metadata": {
        "colab": {
          "base_uri": "https://localhost:8080/"
        },
        "id": "XFEI2KiD-SEe",
        "outputId": "7a67e908-4c7b-44c8-917f-309dd54b0c74"
      },
      "execution_count": null,
      "outputs": [
        {
          "output_type": "stream",
          "name": "stdout",
          "text": [
            "<class 'pandas.core.frame.DataFrame'>\n",
            "RangeIndex: 1074746 entries, 0 to 1074745\n",
            "Data columns (total 11 columns):\n",
            " #   Column    Non-Null Count    Dtype  \n",
            "---  ------    --------------    -----  \n",
            " 0   day       1074746 non-null  object \n",
            " 1   number    1074746 non-null  int64  \n",
            " 2   spot      1074746 non-null  object \n",
            " 3   code      1074746 non-null  object \n",
            " 4   sex       735257 non-null   object \n",
            " 5   age       1074746 non-null  object \n",
            " 6   count     1074746 non-null  int64  \n",
            " 7   momentum  1074746 non-null  object \n",
            " 8   carbon    1074746 non-null  object \n",
            " 9   distance  1074746 non-null  float64\n",
            " 10  minute    1074746 non-null  int64  \n",
            "dtypes: float64(1), int64(3), object(7)\n",
            "memory usage: 90.2+ MB\n"
          ]
        }
      ]
    },
    {
      "cell_type": "code",
      "source": [
        "df.isnull().sum()"
      ],
      "metadata": {
        "colab": {
          "base_uri": "https://localhost:8080/"
        },
        "id": "srQsTXDBH_Xg",
        "outputId": "66e1401e-ccc0-43a5-bc95-63b119dcb094"
      },
      "execution_count": null,
      "outputs": [
        {
          "output_type": "execute_result",
          "data": {
            "text/plain": [
              "day              0\n",
              "number           0\n",
              "spot             0\n",
              "code             0\n",
              "sex         339489\n",
              "age              0\n",
              "count            0\n",
              "momentum         0\n",
              "carbon           0\n",
              "distance         0\n",
              "minute           0\n",
              "dtype: int64"
            ]
          },
          "metadata": {},
          "execution_count": 5
        }
      ]
    },
    {
      "cell_type": "markdown",
      "source": [
        "성별 컬럼에 null이 조금 있고, 중간중간 int, float 정수형 실수형 데이터가 있는것을 확인할 수 있습니다."
      ],
      "metadata": {
        "id": "Jrux2S-Y_Iy-"
      }
    },
    {
      "cell_type": "markdown",
      "source": [
        "그런데 이상하네요.\n",
        "운동량, 탄소량은 수치형이어야하는데, object라고 나옵니다.\n",
        "확인해 보겠습니다."
      ],
      "metadata": {
        "id": "JKA-W05YAbsL"
      }
    },
    {
      "cell_type": "code",
      "source": [
        "import re\n",
        "\n",
        "pattern = r\"[^0-9.]\"\n",
        "\n",
        "for i in df.momentum:\n",
        "    result = re.search(pattern, i)\n",
        "    if result:\n",
        "        print(f\"Non-matching character found in '운동량': {i}\")\n",
        "        break"
      ],
      "metadata": {
        "colab": {
          "base_uri": "https://localhost:8080/"
        },
        "id": "EnwlJ715CV47",
        "outputId": "b7a748a9-3517-4e3e-ffb0-7303d20d6c14"
      },
      "execution_count": null,
      "outputs": [
        {
          "output_type": "stream",
          "name": "stdout",
          "text": [
            "Non-matching character found in '운동량': \\N\n"
          ]
        }
      ]
    },
    {
      "cell_type": "code",
      "source": [
        "df[df.momentum =='\\\\N']"
      ],
      "metadata": {
        "colab": {
          "base_uri": "https://localhost:8080/",
          "height": 423
        },
        "id": "rS4otOuAER3D",
        "outputId": "26dfbfe1-9599-4b0f-fbc9-3466f1f73c57"
      },
      "execution_count": null,
      "outputs": [
        {
          "output_type": "execute_result",
          "data": {
            "text/plain": [
              "                day  number                   spot code  sex  age  count  \\\n",
              "388      2022-12-01    1024          1024.  강동구청 앞  정기권  NaN  20대      1   \n",
              "1053     2022-12-01    2523        2523.뉴코아 킴스클럽 앞  정기권  NaN  20대      1   \n",
              "1676     2022-12-01     617         617. 청솔우성아파트 앞  정기권  NaN  20대      1   \n",
              "1680     2022-12-01    4512    4512. 목동13_14단지 사거리  정기권  NaN  20대      1   \n",
              "3503     2022-12-01    4705  4705. 웰니스센터(민방위교육장 앞)  정기권  NaN  30대      1   \n",
              "...             ...     ...                    ...  ...  ...  ...    ...   \n",
              "1072856  2022-12-31     175             175. 홍연2교옆  정기권    M  40대      1   \n",
              "1072907  2022-12-31    4761    4761. 중부경찰서앞사거리 건너편  정기권    M  40대      1   \n",
              "1073668  2022-12-31     605          605. 신설동역8번출구  정기권    M  50대      1   \n",
              "1073670  2022-12-31     606             606. 휘경공고앞  정기권    M  50대      1   \n",
              "1074295  2022-12-31    1941        1941. 오류동역 2번출구  정기권    M  60대      1   \n",
              "\n",
              "        momentum carbon  distance  minute  \n",
              "388           \\N     \\N       0.0      50  \n",
              "1053          \\N     \\N       0.0       3  \n",
              "1676          \\N     \\N       0.0     262  \n",
              "1680          \\N     \\N       0.0      60  \n",
              "3503          \\N     \\N       0.0      15  \n",
              "...          ...    ...       ...     ...  \n",
              "1072856       \\N     \\N       0.0      15  \n",
              "1072907       \\N     \\N       0.0     115  \n",
              "1073668       \\N     \\N       0.0     100  \n",
              "1073670       \\N     \\N       0.0     115  \n",
              "1074295       \\N     \\N       0.0      31  \n",
              "\n",
              "[2883 rows x 11 columns]"
            ],
            "text/html": [
              "\n",
              "  <div id=\"df-f6dfbb22-de60-4315-9321-a1f3a28caeab\">\n",
              "    <div class=\"colab-df-container\">\n",
              "      <div>\n",
              "<style scoped>\n",
              "    .dataframe tbody tr th:only-of-type {\n",
              "        vertical-align: middle;\n",
              "    }\n",
              "\n",
              "    .dataframe tbody tr th {\n",
              "        vertical-align: top;\n",
              "    }\n",
              "\n",
              "    .dataframe thead th {\n",
              "        text-align: right;\n",
              "    }\n",
              "</style>\n",
              "<table border=\"1\" class=\"dataframe\">\n",
              "  <thead>\n",
              "    <tr style=\"text-align: right;\">\n",
              "      <th></th>\n",
              "      <th>day</th>\n",
              "      <th>number</th>\n",
              "      <th>spot</th>\n",
              "      <th>code</th>\n",
              "      <th>sex</th>\n",
              "      <th>age</th>\n",
              "      <th>count</th>\n",
              "      <th>momentum</th>\n",
              "      <th>carbon</th>\n",
              "      <th>distance</th>\n",
              "      <th>minute</th>\n",
              "    </tr>\n",
              "  </thead>\n",
              "  <tbody>\n",
              "    <tr>\n",
              "      <th>388</th>\n",
              "      <td>2022-12-01</td>\n",
              "      <td>1024</td>\n",
              "      <td>1024.  강동구청 앞</td>\n",
              "      <td>정기권</td>\n",
              "      <td>NaN</td>\n",
              "      <td>20대</td>\n",
              "      <td>1</td>\n",
              "      <td>\\N</td>\n",
              "      <td>\\N</td>\n",
              "      <td>0.0</td>\n",
              "      <td>50</td>\n",
              "    </tr>\n",
              "    <tr>\n",
              "      <th>1053</th>\n",
              "      <td>2022-12-01</td>\n",
              "      <td>2523</td>\n",
              "      <td>2523.뉴코아 킴스클럽 앞</td>\n",
              "      <td>정기권</td>\n",
              "      <td>NaN</td>\n",
              "      <td>20대</td>\n",
              "      <td>1</td>\n",
              "      <td>\\N</td>\n",
              "      <td>\\N</td>\n",
              "      <td>0.0</td>\n",
              "      <td>3</td>\n",
              "    </tr>\n",
              "    <tr>\n",
              "      <th>1676</th>\n",
              "      <td>2022-12-01</td>\n",
              "      <td>617</td>\n",
              "      <td>617. 청솔우성아파트 앞</td>\n",
              "      <td>정기권</td>\n",
              "      <td>NaN</td>\n",
              "      <td>20대</td>\n",
              "      <td>1</td>\n",
              "      <td>\\N</td>\n",
              "      <td>\\N</td>\n",
              "      <td>0.0</td>\n",
              "      <td>262</td>\n",
              "    </tr>\n",
              "    <tr>\n",
              "      <th>1680</th>\n",
              "      <td>2022-12-01</td>\n",
              "      <td>4512</td>\n",
              "      <td>4512. 목동13_14단지 사거리</td>\n",
              "      <td>정기권</td>\n",
              "      <td>NaN</td>\n",
              "      <td>20대</td>\n",
              "      <td>1</td>\n",
              "      <td>\\N</td>\n",
              "      <td>\\N</td>\n",
              "      <td>0.0</td>\n",
              "      <td>60</td>\n",
              "    </tr>\n",
              "    <tr>\n",
              "      <th>3503</th>\n",
              "      <td>2022-12-01</td>\n",
              "      <td>4705</td>\n",
              "      <td>4705. 웰니스센터(민방위교육장 앞)</td>\n",
              "      <td>정기권</td>\n",
              "      <td>NaN</td>\n",
              "      <td>30대</td>\n",
              "      <td>1</td>\n",
              "      <td>\\N</td>\n",
              "      <td>\\N</td>\n",
              "      <td>0.0</td>\n",
              "      <td>15</td>\n",
              "    </tr>\n",
              "    <tr>\n",
              "      <th>...</th>\n",
              "      <td>...</td>\n",
              "      <td>...</td>\n",
              "      <td>...</td>\n",
              "      <td>...</td>\n",
              "      <td>...</td>\n",
              "      <td>...</td>\n",
              "      <td>...</td>\n",
              "      <td>...</td>\n",
              "      <td>...</td>\n",
              "      <td>...</td>\n",
              "      <td>...</td>\n",
              "    </tr>\n",
              "    <tr>\n",
              "      <th>1072856</th>\n",
              "      <td>2022-12-31</td>\n",
              "      <td>175</td>\n",
              "      <td>175. 홍연2교옆</td>\n",
              "      <td>정기권</td>\n",
              "      <td>M</td>\n",
              "      <td>40대</td>\n",
              "      <td>1</td>\n",
              "      <td>\\N</td>\n",
              "      <td>\\N</td>\n",
              "      <td>0.0</td>\n",
              "      <td>15</td>\n",
              "    </tr>\n",
              "    <tr>\n",
              "      <th>1072907</th>\n",
              "      <td>2022-12-31</td>\n",
              "      <td>4761</td>\n",
              "      <td>4761. 중부경찰서앞사거리 건너편</td>\n",
              "      <td>정기권</td>\n",
              "      <td>M</td>\n",
              "      <td>40대</td>\n",
              "      <td>1</td>\n",
              "      <td>\\N</td>\n",
              "      <td>\\N</td>\n",
              "      <td>0.0</td>\n",
              "      <td>115</td>\n",
              "    </tr>\n",
              "    <tr>\n",
              "      <th>1073668</th>\n",
              "      <td>2022-12-31</td>\n",
              "      <td>605</td>\n",
              "      <td>605. 신설동역8번출구</td>\n",
              "      <td>정기권</td>\n",
              "      <td>M</td>\n",
              "      <td>50대</td>\n",
              "      <td>1</td>\n",
              "      <td>\\N</td>\n",
              "      <td>\\N</td>\n",
              "      <td>0.0</td>\n",
              "      <td>100</td>\n",
              "    </tr>\n",
              "    <tr>\n",
              "      <th>1073670</th>\n",
              "      <td>2022-12-31</td>\n",
              "      <td>606</td>\n",
              "      <td>606. 휘경공고앞</td>\n",
              "      <td>정기권</td>\n",
              "      <td>M</td>\n",
              "      <td>50대</td>\n",
              "      <td>1</td>\n",
              "      <td>\\N</td>\n",
              "      <td>\\N</td>\n",
              "      <td>0.0</td>\n",
              "      <td>115</td>\n",
              "    </tr>\n",
              "    <tr>\n",
              "      <th>1074295</th>\n",
              "      <td>2022-12-31</td>\n",
              "      <td>1941</td>\n",
              "      <td>1941. 오류동역 2번출구</td>\n",
              "      <td>정기권</td>\n",
              "      <td>M</td>\n",
              "      <td>60대</td>\n",
              "      <td>1</td>\n",
              "      <td>\\N</td>\n",
              "      <td>\\N</td>\n",
              "      <td>0.0</td>\n",
              "      <td>31</td>\n",
              "    </tr>\n",
              "  </tbody>\n",
              "</table>\n",
              "<p>2883 rows × 11 columns</p>\n",
              "</div>\n",
              "      <button class=\"colab-df-convert\" onclick=\"convertToInteractive('df-f6dfbb22-de60-4315-9321-a1f3a28caeab')\"\n",
              "              title=\"Convert this dataframe to an interactive table.\"\n",
              "              style=\"display:none;\">\n",
              "        \n",
              "  <svg xmlns=\"http://www.w3.org/2000/svg\" height=\"24px\"viewBox=\"0 0 24 24\"\n",
              "       width=\"24px\">\n",
              "    <path d=\"M0 0h24v24H0V0z\" fill=\"none\"/>\n",
              "    <path d=\"M18.56 5.44l.94 2.06.94-2.06 2.06-.94-2.06-.94-.94-2.06-.94 2.06-2.06.94zm-11 1L8.5 8.5l.94-2.06 2.06-.94-2.06-.94L8.5 2.5l-.94 2.06-2.06.94zm10 10l.94 2.06.94-2.06 2.06-.94-2.06-.94-.94-2.06-.94 2.06-2.06.94z\"/><path d=\"M17.41 7.96l-1.37-1.37c-.4-.4-.92-.59-1.43-.59-.52 0-1.04.2-1.43.59L10.3 9.45l-7.72 7.72c-.78.78-.78 2.05 0 2.83L4 21.41c.39.39.9.59 1.41.59.51 0 1.02-.2 1.41-.59l7.78-7.78 2.81-2.81c.8-.78.8-2.07 0-2.86zM5.41 20L4 18.59l7.72-7.72 1.47 1.35L5.41 20z\"/>\n",
              "  </svg>\n",
              "      </button>\n",
              "      \n",
              "  <style>\n",
              "    .colab-df-container {\n",
              "      display:flex;\n",
              "      flex-wrap:wrap;\n",
              "      gap: 12px;\n",
              "    }\n",
              "\n",
              "    .colab-df-convert {\n",
              "      background-color: #E8F0FE;\n",
              "      border: none;\n",
              "      border-radius: 50%;\n",
              "      cursor: pointer;\n",
              "      display: none;\n",
              "      fill: #1967D2;\n",
              "      height: 32px;\n",
              "      padding: 0 0 0 0;\n",
              "      width: 32px;\n",
              "    }\n",
              "\n",
              "    .colab-df-convert:hover {\n",
              "      background-color: #E2EBFA;\n",
              "      box-shadow: 0px 1px 2px rgba(60, 64, 67, 0.3), 0px 1px 3px 1px rgba(60, 64, 67, 0.15);\n",
              "      fill: #174EA6;\n",
              "    }\n",
              "\n",
              "    [theme=dark] .colab-df-convert {\n",
              "      background-color: #3B4455;\n",
              "      fill: #D2E3FC;\n",
              "    }\n",
              "\n",
              "    [theme=dark] .colab-df-convert:hover {\n",
              "      background-color: #434B5C;\n",
              "      box-shadow: 0px 1px 3px 1px rgba(0, 0, 0, 0.15);\n",
              "      filter: drop-shadow(0px 1px 2px rgba(0, 0, 0, 0.3));\n",
              "      fill: #FFFFFF;\n",
              "    }\n",
              "  </style>\n",
              "\n",
              "      <script>\n",
              "        const buttonEl =\n",
              "          document.querySelector('#df-f6dfbb22-de60-4315-9321-a1f3a28caeab button.colab-df-convert');\n",
              "        buttonEl.style.display =\n",
              "          google.colab.kernel.accessAllowed ? 'block' : 'none';\n",
              "\n",
              "        async function convertToInteractive(key) {\n",
              "          const element = document.querySelector('#df-f6dfbb22-de60-4315-9321-a1f3a28caeab');\n",
              "          const dataTable =\n",
              "            await google.colab.kernel.invokeFunction('convertToInteractive',\n",
              "                                                     [key], {});\n",
              "          if (!dataTable) return;\n",
              "\n",
              "          const docLinkHtml = 'Like what you see? Visit the ' +\n",
              "            '<a target=\"_blank\" href=https://colab.research.google.com/notebooks/data_table.ipynb>data table notebook</a>'\n",
              "            + ' to learn more about interactive tables.';\n",
              "          element.innerHTML = '';\n",
              "          dataTable['output_type'] = 'display_data';\n",
              "          await google.colab.output.renderOutput(dataTable, element);\n",
              "          const docLink = document.createElement('div');\n",
              "          docLink.innerHTML = docLinkHtml;\n",
              "          element.appendChild(docLink);\n",
              "        }\n",
              "      </script>\n",
              "    </div>\n",
              "  </div>\n",
              "  "
            ]
          },
          "metadata": {},
          "execution_count": 7
        }
      ]
    },
    {
      "cell_type": "markdown",
      "source": [
        "확인해 보니 운동량과 탄소량에 '\\N'이 있는 열의 이동거리가 모두 0.0으로 나왔습니다.\n",
        "\n",
        "아마 이용시간은 있지만 이동거리가 0인건 오류인것같습니다.\n",
        "\n",
        "과감하게 삭제시키겠습니다."
      ],
      "metadata": {
        "id": "VqcOLAHFFVU3"
      }
    },
    {
      "cell_type": "code",
      "source": [
        "df = df[df['momentum'] != '\\\\N'].reset_index(drop=True)\n",
        "df"
      ],
      "metadata": {
        "colab": {
          "base_uri": "https://localhost:8080/",
          "height": 423
        },
        "id": "YQKXXqmTEl4K",
        "outputId": "593795c2-113d-4cb8-84ad-1f399281d6b0"
      },
      "execution_count": null,
      "outputs": [
        {
          "output_type": "execute_result",
          "data": {
            "text/plain": [
              "                day  number                spot code  sex   age  count  \\\n",
              "0        2022-12-01     729    729. 서부식자재마트 건너편  정기권  NaN  ~10대      1   \n",
              "1        2022-12-01     735         735. 영도초등학교  정기권  NaN  ~10대      3   \n",
              "2        2022-12-01     739          739. 신월사거리  정기권  NaN  ~10대      1   \n",
              "3        2022-12-01     741     741. 화곡로 입구 교차로  정기권  NaN  ~10대      1   \n",
              "4        2022-12-01     746       746. 목동2단지 상가  정기권  NaN  ~10대      3   \n",
              "...             ...     ...                 ...  ...  ...   ...    ...   \n",
              "1071858  2022-12-31    3501        3501. 광진구청 앞  정기권    M    기타      1   \n",
              "1071859  2022-12-31    3502      3502. 중곡역 1번출구  정기권    M    기타      1   \n",
              "1071860  2022-12-31     502  502. 뚝섬유원지역 1번출구 앞  정기권    M    기타      1   \n",
              "1071861  2022-12-31     426       426. 서울신용보증재단  정기권    M    기타      1   \n",
              "1071862  2022-12-31     726  726. 목동3단지 시내버스정류장  정기권    M    기타      2   \n",
              "\n",
              "        momentum carbon  distance  minute  \n",
              "0          58.56   0.44   1895.75      10  \n",
              "1          47.52   0.51   2190.00      12  \n",
              "2          13.50   0.14    620.00       6  \n",
              "3          54.67   0.58   2510.00      19  \n",
              "4          64.97   0.73   3170.97      20  \n",
              "...          ...    ...       ...     ...  \n",
              "1071858    52.78   0.45   1960.00      62  \n",
              "1071859    96.31   0.71   3040.00      23  \n",
              "1071860    34.49   0.31   1340.00       8  \n",
              "1071861    42.47   0.38   1650.00      28  \n",
              "1071862   102.70   0.92   3990.00      93  \n",
              "\n",
              "[1071863 rows x 11 columns]"
            ],
            "text/html": [
              "\n",
              "  <div id=\"df-4df335e9-8c66-4b81-8ba2-78bbe4593804\">\n",
              "    <div class=\"colab-df-container\">\n",
              "      <div>\n",
              "<style scoped>\n",
              "    .dataframe tbody tr th:only-of-type {\n",
              "        vertical-align: middle;\n",
              "    }\n",
              "\n",
              "    .dataframe tbody tr th {\n",
              "        vertical-align: top;\n",
              "    }\n",
              "\n",
              "    .dataframe thead th {\n",
              "        text-align: right;\n",
              "    }\n",
              "</style>\n",
              "<table border=\"1\" class=\"dataframe\">\n",
              "  <thead>\n",
              "    <tr style=\"text-align: right;\">\n",
              "      <th></th>\n",
              "      <th>day</th>\n",
              "      <th>number</th>\n",
              "      <th>spot</th>\n",
              "      <th>code</th>\n",
              "      <th>sex</th>\n",
              "      <th>age</th>\n",
              "      <th>count</th>\n",
              "      <th>momentum</th>\n",
              "      <th>carbon</th>\n",
              "      <th>distance</th>\n",
              "      <th>minute</th>\n",
              "    </tr>\n",
              "  </thead>\n",
              "  <tbody>\n",
              "    <tr>\n",
              "      <th>0</th>\n",
              "      <td>2022-12-01</td>\n",
              "      <td>729</td>\n",
              "      <td>729. 서부식자재마트 건너편</td>\n",
              "      <td>정기권</td>\n",
              "      <td>NaN</td>\n",
              "      <td>~10대</td>\n",
              "      <td>1</td>\n",
              "      <td>58.56</td>\n",
              "      <td>0.44</td>\n",
              "      <td>1895.75</td>\n",
              "      <td>10</td>\n",
              "    </tr>\n",
              "    <tr>\n",
              "      <th>1</th>\n",
              "      <td>2022-12-01</td>\n",
              "      <td>735</td>\n",
              "      <td>735. 영도초등학교</td>\n",
              "      <td>정기권</td>\n",
              "      <td>NaN</td>\n",
              "      <td>~10대</td>\n",
              "      <td>3</td>\n",
              "      <td>47.52</td>\n",
              "      <td>0.51</td>\n",
              "      <td>2190.00</td>\n",
              "      <td>12</td>\n",
              "    </tr>\n",
              "    <tr>\n",
              "      <th>2</th>\n",
              "      <td>2022-12-01</td>\n",
              "      <td>739</td>\n",
              "      <td>739. 신월사거리</td>\n",
              "      <td>정기권</td>\n",
              "      <td>NaN</td>\n",
              "      <td>~10대</td>\n",
              "      <td>1</td>\n",
              "      <td>13.50</td>\n",
              "      <td>0.14</td>\n",
              "      <td>620.00</td>\n",
              "      <td>6</td>\n",
              "    </tr>\n",
              "    <tr>\n",
              "      <th>3</th>\n",
              "      <td>2022-12-01</td>\n",
              "      <td>741</td>\n",
              "      <td>741. 화곡로 입구 교차로</td>\n",
              "      <td>정기권</td>\n",
              "      <td>NaN</td>\n",
              "      <td>~10대</td>\n",
              "      <td>1</td>\n",
              "      <td>54.67</td>\n",
              "      <td>0.58</td>\n",
              "      <td>2510.00</td>\n",
              "      <td>19</td>\n",
              "    </tr>\n",
              "    <tr>\n",
              "      <th>4</th>\n",
              "      <td>2022-12-01</td>\n",
              "      <td>746</td>\n",
              "      <td>746. 목동2단지 상가</td>\n",
              "      <td>정기권</td>\n",
              "      <td>NaN</td>\n",
              "      <td>~10대</td>\n",
              "      <td>3</td>\n",
              "      <td>64.97</td>\n",
              "      <td>0.73</td>\n",
              "      <td>3170.97</td>\n",
              "      <td>20</td>\n",
              "    </tr>\n",
              "    <tr>\n",
              "      <th>...</th>\n",
              "      <td>...</td>\n",
              "      <td>...</td>\n",
              "      <td>...</td>\n",
              "      <td>...</td>\n",
              "      <td>...</td>\n",
              "      <td>...</td>\n",
              "      <td>...</td>\n",
              "      <td>...</td>\n",
              "      <td>...</td>\n",
              "      <td>...</td>\n",
              "      <td>...</td>\n",
              "    </tr>\n",
              "    <tr>\n",
              "      <th>1071858</th>\n",
              "      <td>2022-12-31</td>\n",
              "      <td>3501</td>\n",
              "      <td>3501. 광진구청 앞</td>\n",
              "      <td>정기권</td>\n",
              "      <td>M</td>\n",
              "      <td>기타</td>\n",
              "      <td>1</td>\n",
              "      <td>52.78</td>\n",
              "      <td>0.45</td>\n",
              "      <td>1960.00</td>\n",
              "      <td>62</td>\n",
              "    </tr>\n",
              "    <tr>\n",
              "      <th>1071859</th>\n",
              "      <td>2022-12-31</td>\n",
              "      <td>3502</td>\n",
              "      <td>3502. 중곡역 1번출구</td>\n",
              "      <td>정기권</td>\n",
              "      <td>M</td>\n",
              "      <td>기타</td>\n",
              "      <td>1</td>\n",
              "      <td>96.31</td>\n",
              "      <td>0.71</td>\n",
              "      <td>3040.00</td>\n",
              "      <td>23</td>\n",
              "    </tr>\n",
              "    <tr>\n",
              "      <th>1071860</th>\n",
              "      <td>2022-12-31</td>\n",
              "      <td>502</td>\n",
              "      <td>502. 뚝섬유원지역 1번출구 앞</td>\n",
              "      <td>정기권</td>\n",
              "      <td>M</td>\n",
              "      <td>기타</td>\n",
              "      <td>1</td>\n",
              "      <td>34.49</td>\n",
              "      <td>0.31</td>\n",
              "      <td>1340.00</td>\n",
              "      <td>8</td>\n",
              "    </tr>\n",
              "    <tr>\n",
              "      <th>1071861</th>\n",
              "      <td>2022-12-31</td>\n",
              "      <td>426</td>\n",
              "      <td>426. 서울신용보증재단</td>\n",
              "      <td>정기권</td>\n",
              "      <td>M</td>\n",
              "      <td>기타</td>\n",
              "      <td>1</td>\n",
              "      <td>42.47</td>\n",
              "      <td>0.38</td>\n",
              "      <td>1650.00</td>\n",
              "      <td>28</td>\n",
              "    </tr>\n",
              "    <tr>\n",
              "      <th>1071862</th>\n",
              "      <td>2022-12-31</td>\n",
              "      <td>726</td>\n",
              "      <td>726. 목동3단지 시내버스정류장</td>\n",
              "      <td>정기권</td>\n",
              "      <td>M</td>\n",
              "      <td>기타</td>\n",
              "      <td>2</td>\n",
              "      <td>102.70</td>\n",
              "      <td>0.92</td>\n",
              "      <td>3990.00</td>\n",
              "      <td>93</td>\n",
              "    </tr>\n",
              "  </tbody>\n",
              "</table>\n",
              "<p>1071863 rows × 11 columns</p>\n",
              "</div>\n",
              "      <button class=\"colab-df-convert\" onclick=\"convertToInteractive('df-4df335e9-8c66-4b81-8ba2-78bbe4593804')\"\n",
              "              title=\"Convert this dataframe to an interactive table.\"\n",
              "              style=\"display:none;\">\n",
              "        \n",
              "  <svg xmlns=\"http://www.w3.org/2000/svg\" height=\"24px\"viewBox=\"0 0 24 24\"\n",
              "       width=\"24px\">\n",
              "    <path d=\"M0 0h24v24H0V0z\" fill=\"none\"/>\n",
              "    <path d=\"M18.56 5.44l.94 2.06.94-2.06 2.06-.94-2.06-.94-.94-2.06-.94 2.06-2.06.94zm-11 1L8.5 8.5l.94-2.06 2.06-.94-2.06-.94L8.5 2.5l-.94 2.06-2.06.94zm10 10l.94 2.06.94-2.06 2.06-.94-2.06-.94-.94-2.06-.94 2.06-2.06.94z\"/><path d=\"M17.41 7.96l-1.37-1.37c-.4-.4-.92-.59-1.43-.59-.52 0-1.04.2-1.43.59L10.3 9.45l-7.72 7.72c-.78.78-.78 2.05 0 2.83L4 21.41c.39.39.9.59 1.41.59.51 0 1.02-.2 1.41-.59l7.78-7.78 2.81-2.81c.8-.78.8-2.07 0-2.86zM5.41 20L4 18.59l7.72-7.72 1.47 1.35L5.41 20z\"/>\n",
              "  </svg>\n",
              "      </button>\n",
              "      \n",
              "  <style>\n",
              "    .colab-df-container {\n",
              "      display:flex;\n",
              "      flex-wrap:wrap;\n",
              "      gap: 12px;\n",
              "    }\n",
              "\n",
              "    .colab-df-convert {\n",
              "      background-color: #E8F0FE;\n",
              "      border: none;\n",
              "      border-radius: 50%;\n",
              "      cursor: pointer;\n",
              "      display: none;\n",
              "      fill: #1967D2;\n",
              "      height: 32px;\n",
              "      padding: 0 0 0 0;\n",
              "      width: 32px;\n",
              "    }\n",
              "\n",
              "    .colab-df-convert:hover {\n",
              "      background-color: #E2EBFA;\n",
              "      box-shadow: 0px 1px 2px rgba(60, 64, 67, 0.3), 0px 1px 3px 1px rgba(60, 64, 67, 0.15);\n",
              "      fill: #174EA6;\n",
              "    }\n",
              "\n",
              "    [theme=dark] .colab-df-convert {\n",
              "      background-color: #3B4455;\n",
              "      fill: #D2E3FC;\n",
              "    }\n",
              "\n",
              "    [theme=dark] .colab-df-convert:hover {\n",
              "      background-color: #434B5C;\n",
              "      box-shadow: 0px 1px 3px 1px rgba(0, 0, 0, 0.15);\n",
              "      filter: drop-shadow(0px 1px 2px rgba(0, 0, 0, 0.3));\n",
              "      fill: #FFFFFF;\n",
              "    }\n",
              "  </style>\n",
              "\n",
              "      <script>\n",
              "        const buttonEl =\n",
              "          document.querySelector('#df-4df335e9-8c66-4b81-8ba2-78bbe4593804 button.colab-df-convert');\n",
              "        buttonEl.style.display =\n",
              "          google.colab.kernel.accessAllowed ? 'block' : 'none';\n",
              "\n",
              "        async function convertToInteractive(key) {\n",
              "          const element = document.querySelector('#df-4df335e9-8c66-4b81-8ba2-78bbe4593804');\n",
              "          const dataTable =\n",
              "            await google.colab.kernel.invokeFunction('convertToInteractive',\n",
              "                                                     [key], {});\n",
              "          if (!dataTable) return;\n",
              "\n",
              "          const docLinkHtml = 'Like what you see? Visit the ' +\n",
              "            '<a target=\"_blank\" href=https://colab.research.google.com/notebooks/data_table.ipynb>data table notebook</a>'\n",
              "            + ' to learn more about interactive tables.';\n",
              "          element.innerHTML = '';\n",
              "          dataTable['output_type'] = 'display_data';\n",
              "          await google.colab.output.renderOutput(dataTable, element);\n",
              "          const docLink = document.createElement('div');\n",
              "          docLink.innerHTML = docLinkHtml;\n",
              "          element.appendChild(docLink);\n",
              "        }\n",
              "      </script>\n",
              "    </div>\n",
              "  </div>\n",
              "  "
            ]
          },
          "metadata": {},
          "execution_count": 8
        }
      ]
    },
    {
      "cell_type": "markdown",
      "source": [
        "이제 다시 info()메서드로 확인해 보겠습니다."
      ],
      "metadata": {
        "id": "jdFelf5uF-vG"
      }
    },
    {
      "cell_type": "code",
      "source": [
        "df.info()"
      ],
      "metadata": {
        "colab": {
          "base_uri": "https://localhost:8080/"
        },
        "id": "hoADh2aSFzrO",
        "outputId": "06c3fdd7-de48-4c51-be4a-721a49770d1e"
      },
      "execution_count": null,
      "outputs": [
        {
          "output_type": "stream",
          "name": "stdout",
          "text": [
            "<class 'pandas.core.frame.DataFrame'>\n",
            "RangeIndex: 1071863 entries, 0 to 1071862\n",
            "Data columns (total 11 columns):\n",
            " #   Column    Non-Null Count    Dtype  \n",
            "---  ------    --------------    -----  \n",
            " 0   day       1071863 non-null  object \n",
            " 1   number    1071863 non-null  int64  \n",
            " 2   spot      1071863 non-null  object \n",
            " 3   code      1071863 non-null  object \n",
            " 4   sex       733304 non-null   object \n",
            " 5   age       1071863 non-null  object \n",
            " 6   count     1071863 non-null  int64  \n",
            " 7   momentum  1071863 non-null  object \n",
            " 8   carbon    1071863 non-null  object \n",
            " 9   distance  1071863 non-null  float64\n",
            " 10  minute    1071863 non-null  int64  \n",
            "dtypes: float64(1), int64(3), object(7)\n",
            "memory usage: 90.0+ MB\n"
          ]
        }
      ]
    },
    {
      "cell_type": "markdown",
      "source": [
        "아직도 object라고 돼있네요. astype으로 float으로 데이터를 변환시키겠습니다."
      ],
      "metadata": {
        "id": "lDaeR24sGFwh"
      }
    },
    {
      "cell_type": "code",
      "source": [
        "df['momentum'] = df['momentum'].astype(float)\n",
        "df['carbon'] = df['carbon'].astype(float)"
      ],
      "metadata": {
        "id": "ZUqPv17PGCUy"
      },
      "execution_count": null,
      "outputs": []
    },
    {
      "cell_type": "code",
      "source": [
        "df.info()"
      ],
      "metadata": {
        "colab": {
          "base_uri": "https://localhost:8080/"
        },
        "id": "upeZJaZZGTHm",
        "outputId": "f287c174-efb9-46a2-a33a-6aad6b3a1dc9"
      },
      "execution_count": null,
      "outputs": [
        {
          "output_type": "stream",
          "name": "stdout",
          "text": [
            "<class 'pandas.core.frame.DataFrame'>\n",
            "RangeIndex: 1071863 entries, 0 to 1071862\n",
            "Data columns (total 11 columns):\n",
            " #   Column    Non-Null Count    Dtype  \n",
            "---  ------    --------------    -----  \n",
            " 0   day       1071863 non-null  object \n",
            " 1   number    1071863 non-null  int64  \n",
            " 2   spot      1071863 non-null  object \n",
            " 3   code      1071863 non-null  object \n",
            " 4   sex       733304 non-null   object \n",
            " 5   age       1071863 non-null  object \n",
            " 6   count     1071863 non-null  int64  \n",
            " 7   momentum  1071863 non-null  float64\n",
            " 8   carbon    1071863 non-null  float64\n",
            " 9   distance  1071863 non-null  float64\n",
            " 10  minute    1071863 non-null  int64  \n",
            "dtypes: float64(3), int64(3), object(5)\n",
            "memory usage: 90.0+ MB\n"
          ]
        }
      ]
    },
    {
      "cell_type": "markdown",
      "source": [
        "### 수치형 데이터 통계"
      ],
      "metadata": {
        "id": "OVdW8xgyHmLl"
      }
    },
    {
      "cell_type": "markdown",
      "source": [
        "이제 전처리는 잘 된거같습니다.\n",
        "\n",
        "이제 통계량을 한번 살펴보겠습니다.\n",
        "\n",
        "메서드는 describe() 입니다."
      ],
      "metadata": {
        "id": "o-bUJSRvGWUD"
      }
    },
    {
      "cell_type": "code",
      "source": [
        "df.describe()"
      ],
      "metadata": {
        "colab": {
          "base_uri": "https://localhost:8080/",
          "height": 300
        },
        "id": "yJ46ToKiGUPV",
        "outputId": "2051ab6a-bea1-471c-a121-a27c33e97767"
      },
      "execution_count": null,
      "outputs": [
        {
          "output_type": "execute_result",
          "data": {
            "text/plain": [
              "             number         count      momentum        carbon      distance  \\\n",
              "count  1.071863e+06  1.071863e+06  1.071863e+06  1.071863e+06  1.071863e+06   \n",
              "mean   2.111711e+03  1.636204e+00  8.261790e+01  7.113090e-01  3.066007e+03   \n",
              "std    1.518663e+03  1.421872e+00  9.875292e+01  8.230273e-01  3.547514e+03   \n",
              "min    1.100000e+01  1.000000e+00  0.000000e+00  0.000000e+00  0.000000e+00   \n",
              "25%    7.950000e+02  1.000000e+00  2.644000e+01  2.400000e-01  1.016380e+03   \n",
              "50%    1.703000e+03  1.000000e+00  5.045000e+01  4.400000e-01  1.910000e+03   \n",
              "75%    3.517000e+03  2.000000e+00  9.991000e+01  8.700000e-01  3.730000e+03   \n",
              "max    9.980000e+03  5.200000e+01  2.854800e+03  2.904000e+01  1.251741e+05   \n",
              "\n",
              "             minute  \n",
              "count  1.071863e+06  \n",
              "mean   2.876533e+01  \n",
              "std    3.716819e+01  \n",
              "min    0.000000e+00  \n",
              "25%    7.000000e+00  \n",
              "50%    1.600000e+01  \n",
              "75%    3.500000e+01  \n",
              "max    1.454000e+03  "
            ],
            "text/html": [
              "\n",
              "  <div id=\"df-ac9c98a4-8a93-436b-a5e9-a0b6d0a1c5da\">\n",
              "    <div class=\"colab-df-container\">\n",
              "      <div>\n",
              "<style scoped>\n",
              "    .dataframe tbody tr th:only-of-type {\n",
              "        vertical-align: middle;\n",
              "    }\n",
              "\n",
              "    .dataframe tbody tr th {\n",
              "        vertical-align: top;\n",
              "    }\n",
              "\n",
              "    .dataframe thead th {\n",
              "        text-align: right;\n",
              "    }\n",
              "</style>\n",
              "<table border=\"1\" class=\"dataframe\">\n",
              "  <thead>\n",
              "    <tr style=\"text-align: right;\">\n",
              "      <th></th>\n",
              "      <th>number</th>\n",
              "      <th>count</th>\n",
              "      <th>momentum</th>\n",
              "      <th>carbon</th>\n",
              "      <th>distance</th>\n",
              "      <th>minute</th>\n",
              "    </tr>\n",
              "  </thead>\n",
              "  <tbody>\n",
              "    <tr>\n",
              "      <th>count</th>\n",
              "      <td>1.071863e+06</td>\n",
              "      <td>1.071863e+06</td>\n",
              "      <td>1.071863e+06</td>\n",
              "      <td>1.071863e+06</td>\n",
              "      <td>1.071863e+06</td>\n",
              "      <td>1.071863e+06</td>\n",
              "    </tr>\n",
              "    <tr>\n",
              "      <th>mean</th>\n",
              "      <td>2.111711e+03</td>\n",
              "      <td>1.636204e+00</td>\n",
              "      <td>8.261790e+01</td>\n",
              "      <td>7.113090e-01</td>\n",
              "      <td>3.066007e+03</td>\n",
              "      <td>2.876533e+01</td>\n",
              "    </tr>\n",
              "    <tr>\n",
              "      <th>std</th>\n",
              "      <td>1.518663e+03</td>\n",
              "      <td>1.421872e+00</td>\n",
              "      <td>9.875292e+01</td>\n",
              "      <td>8.230273e-01</td>\n",
              "      <td>3.547514e+03</td>\n",
              "      <td>3.716819e+01</td>\n",
              "    </tr>\n",
              "    <tr>\n",
              "      <th>min</th>\n",
              "      <td>1.100000e+01</td>\n",
              "      <td>1.000000e+00</td>\n",
              "      <td>0.000000e+00</td>\n",
              "      <td>0.000000e+00</td>\n",
              "      <td>0.000000e+00</td>\n",
              "      <td>0.000000e+00</td>\n",
              "    </tr>\n",
              "    <tr>\n",
              "      <th>25%</th>\n",
              "      <td>7.950000e+02</td>\n",
              "      <td>1.000000e+00</td>\n",
              "      <td>2.644000e+01</td>\n",
              "      <td>2.400000e-01</td>\n",
              "      <td>1.016380e+03</td>\n",
              "      <td>7.000000e+00</td>\n",
              "    </tr>\n",
              "    <tr>\n",
              "      <th>50%</th>\n",
              "      <td>1.703000e+03</td>\n",
              "      <td>1.000000e+00</td>\n",
              "      <td>5.045000e+01</td>\n",
              "      <td>4.400000e-01</td>\n",
              "      <td>1.910000e+03</td>\n",
              "      <td>1.600000e+01</td>\n",
              "    </tr>\n",
              "    <tr>\n",
              "      <th>75%</th>\n",
              "      <td>3.517000e+03</td>\n",
              "      <td>2.000000e+00</td>\n",
              "      <td>9.991000e+01</td>\n",
              "      <td>8.700000e-01</td>\n",
              "      <td>3.730000e+03</td>\n",
              "      <td>3.500000e+01</td>\n",
              "    </tr>\n",
              "    <tr>\n",
              "      <th>max</th>\n",
              "      <td>9.980000e+03</td>\n",
              "      <td>5.200000e+01</td>\n",
              "      <td>2.854800e+03</td>\n",
              "      <td>2.904000e+01</td>\n",
              "      <td>1.251741e+05</td>\n",
              "      <td>1.454000e+03</td>\n",
              "    </tr>\n",
              "  </tbody>\n",
              "</table>\n",
              "</div>\n",
              "      <button class=\"colab-df-convert\" onclick=\"convertToInteractive('df-ac9c98a4-8a93-436b-a5e9-a0b6d0a1c5da')\"\n",
              "              title=\"Convert this dataframe to an interactive table.\"\n",
              "              style=\"display:none;\">\n",
              "        \n",
              "  <svg xmlns=\"http://www.w3.org/2000/svg\" height=\"24px\"viewBox=\"0 0 24 24\"\n",
              "       width=\"24px\">\n",
              "    <path d=\"M0 0h24v24H0V0z\" fill=\"none\"/>\n",
              "    <path d=\"M18.56 5.44l.94 2.06.94-2.06 2.06-.94-2.06-.94-.94-2.06-.94 2.06-2.06.94zm-11 1L8.5 8.5l.94-2.06 2.06-.94-2.06-.94L8.5 2.5l-.94 2.06-2.06.94zm10 10l.94 2.06.94-2.06 2.06-.94-2.06-.94-.94-2.06-.94 2.06-2.06.94z\"/><path d=\"M17.41 7.96l-1.37-1.37c-.4-.4-.92-.59-1.43-.59-.52 0-1.04.2-1.43.59L10.3 9.45l-7.72 7.72c-.78.78-.78 2.05 0 2.83L4 21.41c.39.39.9.59 1.41.59.51 0 1.02-.2 1.41-.59l7.78-7.78 2.81-2.81c.8-.78.8-2.07 0-2.86zM5.41 20L4 18.59l7.72-7.72 1.47 1.35L5.41 20z\"/>\n",
              "  </svg>\n",
              "      </button>\n",
              "      \n",
              "  <style>\n",
              "    .colab-df-container {\n",
              "      display:flex;\n",
              "      flex-wrap:wrap;\n",
              "      gap: 12px;\n",
              "    }\n",
              "\n",
              "    .colab-df-convert {\n",
              "      background-color: #E8F0FE;\n",
              "      border: none;\n",
              "      border-radius: 50%;\n",
              "      cursor: pointer;\n",
              "      display: none;\n",
              "      fill: #1967D2;\n",
              "      height: 32px;\n",
              "      padding: 0 0 0 0;\n",
              "      width: 32px;\n",
              "    }\n",
              "\n",
              "    .colab-df-convert:hover {\n",
              "      background-color: #E2EBFA;\n",
              "      box-shadow: 0px 1px 2px rgba(60, 64, 67, 0.3), 0px 1px 3px 1px rgba(60, 64, 67, 0.15);\n",
              "      fill: #174EA6;\n",
              "    }\n",
              "\n",
              "    [theme=dark] .colab-df-convert {\n",
              "      background-color: #3B4455;\n",
              "      fill: #D2E3FC;\n",
              "    }\n",
              "\n",
              "    [theme=dark] .colab-df-convert:hover {\n",
              "      background-color: #434B5C;\n",
              "      box-shadow: 0px 1px 3px 1px rgba(0, 0, 0, 0.15);\n",
              "      filter: drop-shadow(0px 1px 2px rgba(0, 0, 0, 0.3));\n",
              "      fill: #FFFFFF;\n",
              "    }\n",
              "  </style>\n",
              "\n",
              "      <script>\n",
              "        const buttonEl =\n",
              "          document.querySelector('#df-ac9c98a4-8a93-436b-a5e9-a0b6d0a1c5da button.colab-df-convert');\n",
              "        buttonEl.style.display =\n",
              "          google.colab.kernel.accessAllowed ? 'block' : 'none';\n",
              "\n",
              "        async function convertToInteractive(key) {\n",
              "          const element = document.querySelector('#df-ac9c98a4-8a93-436b-a5e9-a0b6d0a1c5da');\n",
              "          const dataTable =\n",
              "            await google.colab.kernel.invokeFunction('convertToInteractive',\n",
              "                                                     [key], {});\n",
              "          if (!dataTable) return;\n",
              "\n",
              "          const docLinkHtml = 'Like what you see? Visit the ' +\n",
              "            '<a target=\"_blank\" href=https://colab.research.google.com/notebooks/data_table.ipynb>data table notebook</a>'\n",
              "            + ' to learn more about interactive tables.';\n",
              "          element.innerHTML = '';\n",
              "          dataTable['output_type'] = 'display_data';\n",
              "          await google.colab.output.renderOutput(dataTable, element);\n",
              "          const docLink = document.createElement('div');\n",
              "          docLink.innerHTML = docLinkHtml;\n",
              "          element.appendChild(docLink);\n",
              "        }\n",
              "      </script>\n",
              "    </div>\n",
              "  </div>\n",
              "  "
            ]
          },
          "metadata": {},
          "execution_count": 12
        }
      ]
    },
    {
      "cell_type": "markdown",
      "source": [
        "describe 메서드를 사용하면 수치형 데이터의 평균, 표준편차, 최솟값, 25%, 50%, 75%, 최댓값을 확인할 수 있습니다."
      ],
      "metadata": {
        "id": "p97w8qJdGq3E"
      }
    },
    {
      "cell_type": "markdown",
      "source": [
        "12월 서울시 공공 자전거의 평균 이동거리는 3,066m로 확인할 수 있습니다.\n",
        "\n",
        "12월 서울시 공공 자전거의 평균 이용시간은 28.7분으로 확인할 수 있습니다."
      ],
      "metadata": {
        "id": "ehp2m-wjHHq5"
      }
    },
    {
      "cell_type": "markdown",
      "source": [
        "### 범주형 데이터 통계"
      ],
      "metadata": {
        "id": "StGMtyeTHoVn"
      }
    },
    {
      "cell_type": "markdown",
      "source": [
        "범주형 데이터도 확인해 볼 수 있습니다.\n",
        "\n",
        "여기서 확인할 수 있는 범주형 데이터는 '대여구분코드',\t'성별',\t'연령대' 가 되겠네요."
      ],
      "metadata": {
        "id": "zPNpKkqKHrA8"
      }
    },
    {
      "cell_type": "markdown",
      "source": [
        "먼저 대여구분코드입니다."
      ],
      "metadata": {
        "id": "jjerW47zI2Mw"
      }
    },
    {
      "cell_type": "code",
      "source": [
        "df['code'].unique()"
      ],
      "metadata": {
        "colab": {
          "base_uri": "https://localhost:8080/"
        },
        "id": "n3b7Nby3IFI5",
        "outputId": "64afdfaa-a2ca-4c64-af93-115d71319649"
      },
      "execution_count": null,
      "outputs": [
        {
          "output_type": "execute_result",
          "data": {
            "text/plain": [
              "array(['정기권', '일일권', '일일권(비회원)', '단체권'], dtype=object)"
            ]
          },
          "metadata": {},
          "execution_count": 13
        }
      ]
    },
    {
      "cell_type": "markdown",
      "source": [
        "정기권, 일일권, 일일권(비회원), 단체권이있네요."
      ],
      "metadata": {
        "id": "Fcd4Cq-vI4Ic"
      }
    },
    {
      "cell_type": "code",
      "source": [
        "df['code'].value_counts()"
      ],
      "metadata": {
        "colab": {
          "base_uri": "https://localhost:8080/"
        },
        "id": "bklY2vCwGc8-",
        "outputId": "44419ef0-6aa4-429e-e939-080d79352003"
      },
      "execution_count": null,
      "outputs": [
        {
          "output_type": "execute_result",
          "data": {
            "text/plain": [
              "정기권         920460\n",
              "일일권         142791\n",
              "일일권(비회원)      5709\n",
              "단체권           2903\n",
              "Name: code, dtype: int64"
            ]
          },
          "metadata": {},
          "execution_count": 14
        }
      ]
    },
    {
      "cell_type": "markdown",
      "source": [
        "대여구분코드를 시각화해보겠습니다."
      ],
      "metadata": {
        "id": "x6H2zV8HI8zY"
      }
    },
    {
      "cell_type": "code",
      "source": [
        "plt.figure(figsize=(8, 6))\n",
        "df['code'].value_counts().plot(kind='bar')\n",
        "\n",
        "plt.xticks(rotation=0, fontproperties=fontprop, fontsize=12)\n",
        "plt.title('대여 구분 코드', fontproperties=fontprop)\n",
        "plt.show()"
      ],
      "metadata": {
        "colab": {
          "base_uri": "https://localhost:8080/",
          "height": 557
        },
        "id": "523N7XcxJh9Z",
        "outputId": "604e0134-4d5a-4ca7-fff1-65a75ed925d4"
      },
      "execution_count": null,
      "outputs": [
        {
          "output_type": "display_data",
          "data": {
            "text/plain": [
              "<Figure size 800x600 with 1 Axes>"
            ],
            "image/png": "[encoded data removed]"
          },
          "metadata": {}
        }
      ]
    },
    {
      "cell_type": "markdown",
      "source": [
        "다음은 성별입니다."
      ],
      "metadata": {
        "id": "4TZWATCrN-VD"
      }
    },
    {
      "cell_type": "code",
      "source": [
        "df['sex'].unique()"
      ],
      "metadata": {
        "colab": {
          "base_uri": "https://localhost:8080/"
        },
        "id": "-vy5ujB-Nf8p",
        "outputId": "ce3f5b28-e56e-473e-96f0-7acece5c3ac5"
      },
      "execution_count": null,
      "outputs": [
        {
          "output_type": "execute_result",
          "data": {
            "text/plain": [
              "array([nan, 'F', 'f', 'M', 'm'], dtype=object)"
            ]
          },
          "metadata": {},
          "execution_count": 16
        }
      ]
    },
    {
      "cell_type": "code",
      "source": [
        "df['sex'].value_counts()"
      ],
      "metadata": {
        "colab": {
          "base_uri": "https://localhost:8080/"
        },
        "id": "joClsVOkOCc7",
        "outputId": "3cc6f0d2-5d1c-4108-e1c5-379d1e6dbfec"
      },
      "execution_count": null,
      "outputs": [
        {
          "output_type": "execute_result",
          "data": {
            "text/plain": [
              "M    463374\n",
              "F    269709\n",
              "m       189\n",
              "f        32\n",
              "Name: sex, dtype: int64"
            ]
          },
          "metadata": {},
          "execution_count": 17
        }
      ]
    },
    {
      "cell_type": "markdown",
      "source": [
        "nan을 문자열 'Unkown'으로 바꾸고\n",
        "\n",
        "m, f를 대문자로 바꿔주겠습니다."
      ],
      "metadata": {
        "id": "fyU2qqdAOQuj"
      }
    },
    {
      "cell_type": "code",
      "source": [
        "df['sex'] = df['sex'].fillna('Unkown')\n",
        "df['sex'] = df['sex'].str.upper()"
      ],
      "metadata": {
        "id": "nUQKbpWFOq-j"
      },
      "execution_count": null,
      "outputs": []
    },
    {
      "cell_type": "code",
      "source": [
        "df['sex'].value_counts()"
      ],
      "metadata": {
        "colab": {
          "base_uri": "https://localhost:8080/"
        },
        "id": "yGRf0RZSOzAU",
        "outputId": "a5dba8c6-299b-4281-f4b5-1a787a533000"
      },
      "execution_count": null,
      "outputs": [
        {
          "output_type": "execute_result",
          "data": {
            "text/plain": [
              "M         463563\n",
              "UNKOWN    338559\n",
              "F         269741\n",
              "Name: sex, dtype: int64"
            ]
          },
          "metadata": {},
          "execution_count": 19
        }
      ]
    },
    {
      "cell_type": "code",
      "source": [
        "plt.figure(figsize=(8, 6))\n",
        "df['sex'].value_counts().plot(kind='bar')\n",
        "\n",
        "plt.xticks(rotation=0, fontproperties=fontprop, fontsize=12)\n",
        "plt.title('성별', fontproperties=fontprop)\n",
        "plt.show()"
      ],
      "metadata": {
        "colab": {
          "base_uri": "https://localhost:8080/",
          "height": 556
        },
        "id": "3X3ynLTlOHUe",
        "outputId": "cc8455de-2cf7-4795-f4b0-83d5020b4809"
      },
      "execution_count": null,
      "outputs": [
        {
          "output_type": "display_data",
          "data": {
            "text/plain": [
              "<Figure size 800x600 with 1 Axes>"
            ],
            "image/png": "[encoded data removed]"
          },
          "metadata": {}
        }
      ]
    },
    {
      "cell_type": "markdown",
      "source": [
        "마지막으로 연령대 입니다."
      ],
      "metadata": {
        "id": "yPvv4XjbO3kQ"
      }
    },
    {
      "cell_type": "code",
      "source": [
        "df['age'].unique()"
      ],
      "metadata": {
        "colab": {
          "base_uri": "https://localhost:8080/"
        },
        "id": "EwCOWBjNOL7a",
        "outputId": "6ebb70d4-c2a1-4b3e-c035-4bcce0a691b7"
      },
      "execution_count": null,
      "outputs": [
        {
          "output_type": "execute_result",
          "data": {
            "text/plain": [
              "array(['~10대', '20대', '30대', '40대', '50대', '60대', '70대이상', '기타'],\n",
              "      dtype=object)"
            ]
          },
          "metadata": {},
          "execution_count": 21
        }
      ]
    },
    {
      "cell_type": "code",
      "source": [
        "df['age'].value_counts()"
      ],
      "metadata": {
        "colab": {
          "base_uri": "https://localhost:8080/"
        },
        "id": "jCBO7VhNO7el",
        "outputId": "20731c27-23d8-4e45-b1ca-83ac7a7e2b28"
      },
      "execution_count": null,
      "outputs": [
        {
          "output_type": "execute_result",
          "data": {
            "text/plain": [
              "20대      288147\n",
              "30대      235459\n",
              "40대      176424\n",
              "50대      130827\n",
              "기타       107095\n",
              "~10대      76124\n",
              "60대       49476\n",
              "70대이상      8311\n",
              "Name: age, dtype: int64"
            ]
          },
          "metadata": {},
          "execution_count": 22
        }
      ]
    },
    {
      "cell_type": "code",
      "source": [
        "plt.figure(figsize=(8, 6))\n",
        "age_counts = df['age'].value_counts()\n",
        "\n",
        "age_labels = df['age'].unique()\n",
        "age_counts.loc[age_labels].plot(kind='bar')\n",
        "\n",
        "plt.xticks(range(len(age_labels)), age_labels, rotation=0, fontproperties=fontprop, fontsize=12)\n",
        "plt.title('연령대', fontproperties=fontprop)\n",
        "plt.show()"
      ],
      "metadata": {
        "colab": {
          "base_uri": "https://localhost:8080/",
          "height": 556
        },
        "id": "-vq96Y2pPsf6",
        "outputId": "fc7887a6-26af-4183-897d-611991e2953f"
      },
      "execution_count": null,
      "outputs": [
        {
          "output_type": "display_data",
          "data": {
            "text/plain": [
              "<Figure size 800x600 with 1 Axes>"
            ],
            "image/png": "[encoded data removed]"
          },
          "metadata": {}
        }
      ]
    },
    {
      "cell_type": "markdown",
      "source": [
        "## 이상값"
      ],
      "metadata": {
        "id": "inOdCtX1rE2R"
      }
    },
    {
      "cell_type": "markdown",
      "source": [
        "수치형 데이터의 이상치가 있는지 확인하고 필요에따라 제거해보겠습니다."
      ],
      "metadata": {
        "id": "CAf0tvcorG8F"
      }
    },
    {
      "cell_type": "code",
      "source": [
        "num_df = df[['momentum', 'carbon', 'distance', 'minute']]\n",
        "num_df"
      ],
      "metadata": {
        "colab": {
          "base_uri": "https://localhost:8080/",
          "height": 423
        },
        "id": "qoELuWbNqXeT",
        "outputId": "e81b4ee6-284d-4bbf-cc9f-f2950ff3e8f3"
      },
      "execution_count": null,
      "outputs": [
        {
          "output_type": "execute_result",
          "data": {
            "text/plain": [
              "         momentum  carbon  distance  minute\n",
              "0           58.56    0.44   1895.75      10\n",
              "1           47.52    0.51   2190.00      12\n",
              "2           13.50    0.14    620.00       6\n",
              "3           54.67    0.58   2510.00      19\n",
              "4           64.97    0.73   3170.97      20\n",
              "...           ...     ...       ...     ...\n",
              "1071858     52.78    0.45   1960.00      62\n",
              "1071859     96.31    0.71   3040.00      23\n",
              "1071860     34.49    0.31   1340.00       8\n",
              "1071861     42.47    0.38   1650.00      28\n",
              "1071862    102.70    0.92   3990.00      93\n",
              "\n",
              "[1071863 rows x 4 columns]"
            ],
            "text/html": [
              "\n",
              "  <div id=\"df-89e9546f-5721-4ffb-bdbc-559f2a9ba62c\">\n",
              "    <div class=\"colab-df-container\">\n",
              "      <div>\n",
              "<style scoped>\n",
              "    .dataframe tbody tr th:only-of-type {\n",
              "        vertical-align: middle;\n",
              "    }\n",
              "\n",
              "    .dataframe tbody tr th {\n",
              "        vertical-align: top;\n",
              "    }\n",
              "\n",
              "    .dataframe thead th {\n",
              "        text-align: right;\n",
              "    }\n",
              "</style>\n",
              "<table border=\"1\" class=\"dataframe\">\n",
              "  <thead>\n",
              "    <tr style=\"text-align: right;\">\n",
              "      <th></th>\n",
              "      <th>momentum</th>\n",
              "      <th>carbon</th>\n",
              "      <th>distance</th>\n",
              "      <th>minute</th>\n",
              "    </tr>\n",
              "  </thead>\n",
              "  <tbody>\n",
              "    <tr>\n",
              "      <th>0</th>\n",
              "      <td>58.56</td>\n",
              "      <td>0.44</td>\n",
              "      <td>1895.75</td>\n",
              "      <td>10</td>\n",
              "    </tr>\n",
              "    <tr>\n",
              "      <th>1</th>\n",
              "      <td>47.52</td>\n",
              "      <td>0.51</td>\n",
              "      <td>2190.00</td>\n",
              "      <td>12</td>\n",
              "    </tr>\n",
              "    <tr>\n",
              "      <th>2</th>\n",
              "      <td>13.50</td>\n",
              "      <td>0.14</td>\n",
              "      <td>620.00</td>\n",
              "      <td>6</td>\n",
              "    </tr>\n",
              "    <tr>\n",
              "      <th>3</th>\n",
              "      <td>54.67</td>\n",
              "      <td>0.58</td>\n",
              "      <td>2510.00</td>\n",
              "      <td>19</td>\n",
              "    </tr>\n",
              "    <tr>\n",
              "      <th>4</th>\n",
              "      <td>64.97</td>\n",
              "      <td>0.73</td>\n",
              "      <td>3170.97</td>\n",
              "      <td>20</td>\n",
              "    </tr>\n",
              "    <tr>\n",
              "      <th>...</th>\n",
              "      <td>...</td>\n",
              "      <td>...</td>\n",
              "      <td>...</td>\n",
              "      <td>...</td>\n",
              "    </tr>\n",
              "    <tr>\n",
              "      <th>1071858</th>\n",
              "      <td>52.78</td>\n",
              "      <td>0.45</td>\n",
              "      <td>1960.00</td>\n",
              "      <td>62</td>\n",
              "    </tr>\n",
              "    <tr>\n",
              "      <th>1071859</th>\n",
              "      <td>96.31</td>\n",
              "      <td>0.71</td>\n",
              "      <td>3040.00</td>\n",
              "      <td>23</td>\n",
              "    </tr>\n",
              "    <tr>\n",
              "      <th>1071860</th>\n",
              "      <td>34.49</td>\n",
              "      <td>0.31</td>\n",
              "      <td>1340.00</td>\n",
              "      <td>8</td>\n",
              "    </tr>\n",
              "    <tr>\n",
              "      <th>1071861</th>\n",
              "      <td>42.47</td>\n",
              "      <td>0.38</td>\n",
              "      <td>1650.00</td>\n",
              "      <td>28</td>\n",
              "    </tr>\n",
              "    <tr>\n",
              "      <th>1071862</th>\n",
              "      <td>102.70</td>\n",
              "      <td>0.92</td>\n",
              "      <td>3990.00</td>\n",
              "      <td>93</td>\n",
              "    </tr>\n",
              "  </tbody>\n",
              "</table>\n",
              "<p>1071863 rows × 4 columns</p>\n",
              "</div>\n",
              "      <button class=\"colab-df-convert\" onclick=\"convertToInteractive('df-89e9546f-5721-4ffb-bdbc-559f2a9ba62c')\"\n",
              "              title=\"Convert this dataframe to an interactive table.\"\n",
              "              style=\"display:none;\">\n",
              "        \n",
              "  <svg xmlns=\"http://www.w3.org/2000/svg\" height=\"24px\"viewBox=\"0 0 24 24\"\n",
              "       width=\"24px\">\n",
              "    <path d=\"M0 0h24v24H0V0z\" fill=\"none\"/>\n",
              "    <path d=\"M18.56 5.44l.94 2.06.94-2.06 2.06-.94-2.06-.94-.94-2.06-.94 2.06-2.06.94zm-11 1L8.5 8.5l.94-2.06 2.06-.94-2.06-.94L8.5 2.5l-.94 2.06-2.06.94zm10 10l.94 2.06.94-2.06 2.06-.94-2.06-.94-.94-2.06-.94 2.06-2.06.94z\"/><path d=\"M17.41 7.96l-1.37-1.37c-.4-.4-.92-.59-1.43-.59-.52 0-1.04.2-1.43.59L10.3 9.45l-7.72 7.72c-.78.78-.78 2.05 0 2.83L4 21.41c.39.39.9.59 1.41.59.51 0 1.02-.2 1.41-.59l7.78-7.78 2.81-2.81c.8-.78.8-2.07 0-2.86zM5.41 20L4 18.59l7.72-7.72 1.47 1.35L5.41 20z\"/>\n",
              "  </svg>\n",
              "      </button>\n",
              "      \n",
              "  <style>\n",
              "    .colab-df-container {\n",
              "      display:flex;\n",
              "      flex-wrap:wrap;\n",
              "      gap: 12px;\n",
              "    }\n",
              "\n",
              "    .colab-df-convert {\n",
              "      background-color: #E8F0FE;\n",
              "      border: none;\n",
              "      border-radius: 50%;\n",
              "      cursor: pointer;\n",
              "      display: none;\n",
              "      fill: #1967D2;\n",
              "      height: 32px;\n",
              "      padding: 0 0 0 0;\n",
              "      width: 32px;\n",
              "    }\n",
              "\n",
              "    .colab-df-convert:hover {\n",
              "      background-color: #E2EBFA;\n",
              "      box-shadow: 0px 1px 2px rgba(60, 64, 67, 0.3), 0px 1px 3px 1px rgba(60, 64, 67, 0.15);\n",
              "      fill: #174EA6;\n",
              "    }\n",
              "\n",
              "    [theme=dark] .colab-df-convert {\n",
              "      background-color: #3B4455;\n",
              "      fill: #D2E3FC;\n",
              "    }\n",
              "\n",
              "    [theme=dark] .colab-df-convert:hover {\n",
              "      background-color: #434B5C;\n",
              "      box-shadow: 0px 1px 3px 1px rgba(0, 0, 0, 0.15);\n",
              "      filter: drop-shadow(0px 1px 2px rgba(0, 0, 0, 0.3));\n",
              "      fill: #FFFFFF;\n",
              "    }\n",
              "  </style>\n",
              "\n",
              "      <script>\n",
              "        const buttonEl =\n",
              "          document.querySelector('#df-89e9546f-5721-4ffb-bdbc-559f2a9ba62c button.colab-df-convert');\n",
              "        buttonEl.style.display =\n",
              "          google.colab.kernel.accessAllowed ? 'block' : 'none';\n",
              "\n",
              "        async function convertToInteractive(key) {\n",
              "          const element = document.querySelector('#df-89e9546f-5721-4ffb-bdbc-559f2a9ba62c');\n",
              "          const dataTable =\n",
              "            await google.colab.kernel.invokeFunction('convertToInteractive',\n",
              "                                                     [key], {});\n",
              "          if (!dataTable) return;\n",
              "\n",
              "          const docLinkHtml = 'Like what you see? Visit the ' +\n",
              "            '<a target=\"_blank\" href=https://colab.research.google.com/notebooks/data_table.ipynb>data table notebook</a>'\n",
              "            + ' to learn more about interactive tables.';\n",
              "          element.innerHTML = '';\n",
              "          dataTable['output_type'] = 'display_data';\n",
              "          await google.colab.output.renderOutput(dataTable, element);\n",
              "          const docLink = document.createElement('div');\n",
              "          docLink.innerHTML = docLinkHtml;\n",
              "          element.appendChild(docLink);\n",
              "        }\n",
              "      </script>\n",
              "    </div>\n",
              "  </div>\n",
              "  "
            ]
          },
          "metadata": {},
          "execution_count": 26
        }
      ]
    },
    {
      "cell_type": "markdown",
      "source": [
        "이상치를 모두 제거한 운동량의 box plot을 보겠습니다."
      ],
      "metadata": {
        "id": "PdTMDAZCsZDB"
      }
    },
    {
      "cell_type": "code",
      "source": [
        "def boxplot(c_name, korean):\n",
        "    q1 = c_name.quantile(0.25)\n",
        "    q3 = c_name.quantile(0.75)\n",
        "    IQR = q3 - q1\n",
        "    print(\"Q1 =\",q1)\n",
        "    print(\"Q3 =\",q3)\n",
        "    print(\"IQR =\",IQR)\n",
        "    print(\"=\"*20)\n",
        "    print(f\"{korean}의 Minimum \\t:\",q1 - 1.5*IQR)\n",
        "    print(f\"{korean}의 최솟값 \\t:\",c_name.min())\n",
        "    print(f\"{korean}의 1분위수(25%) :\",c_name.quantile(0.25))\n",
        "    print(f\"{korean}의 2분위수(50%) :\",c_name.quantile(0.5))\n",
        "    print(f\"{korean}의 중위수 \\t:\",c_name.median())\n",
        "    print(f\"{korean}의 3분위수(75%) :\",c_name.quantile(0.75))\n",
        "    print(f\"{korean}의 최댓값 \\t:\",c_name.max())\n",
        "    print(f\"{korean}의 Maximun \\t:\",q3 + 1.5*IQR)\n",
        "    plt.figure(figsize=(10, 6))\n",
        "    plt.boxplot(c_name)\n",
        "    plt.title(f'{korean} Box Plot', fontproperties=fontprop)\n",
        "    plt.ylabel('Values')\n",
        "    plt.xticks([1], [f'{korean}'], rotation=0, fontproperties=fontprop)\n",
        "    plt.show()"
      ],
      "metadata": {
        "id": "3-ApGO-n26WD"
      },
      "execution_count": null,
      "outputs": []
    },
    {
      "cell_type": "code",
      "source": [
        "boxplot(num_df.momentum, '운동량')"
      ],
      "metadata": {
        "colab": {
          "base_uri": "https://localhost:8080/",
          "height": 786
        },
        "id": "XGYfr7tH254D",
        "outputId": "6ece462b-052f-470b-cf48-353f5dc805a6"
      },
      "execution_count": null,
      "outputs": [
        {
          "output_type": "stream",
          "name": "stdout",
          "text": [
            "Q1 = 26.44\n",
            "Q3 = 99.91\n",
            "IQR = 73.47\n",
            "====================\n",
            "운동량의 Minimum \t: -83.765\n",
            "운동량의 최솟값 \t: 0.0\n",
            "운동량의 1분위수(25%) : 26.44\n",
            "운동량의 2분위수(50%) : 50.45\n",
            "운동량의 중위수 \t: 50.45\n",
            "운동량의 3분위수(75%) : 99.91\n",
            "운동량의 최댓값 \t: 2854.8\n",
            "운동량의 Maximun \t: 210.115\n"
          ]
        },
        {
          "output_type": "display_data",
          "data": {
            "text/plain": [
              "<Figure size 1000x600 with 1 Axes>"
            ],
            "image/png": "[encoded data removed]"
          },
          "metadata": {}
        }
      ]
    },
    {
      "cell_type": "markdown",
      "source": [
        "이상치를 제거 후 다시 box plot을 그려보겠습니다."
      ],
      "metadata": {
        "id": "QwNB9g3r8Ynn"
      }
    },
    {
      "cell_type": "code",
      "source": [
        "momentum = num_df['momentum'][num_df['momentum'] <= num_df['momentum'].quantile(0.75)]"
      ],
      "metadata": {
        "id": "ZUlcjx5esfGV"
      },
      "execution_count": null,
      "outputs": []
    },
    {
      "cell_type": "code",
      "source": [
        "boxplot(momentum, '운동량')"
      ],
      "metadata": {
        "colab": {
          "base_uri": "https://localhost:8080/",
          "height": 786
        },
        "id": "F-ATHrSf8c99",
        "outputId": "cdb326bc-3698-419b-9275-fea7e0703559"
      },
      "execution_count": null,
      "outputs": [
        {
          "output_type": "stream",
          "name": "stdout",
          "text": [
            "Q1 = 21.87\n",
            "Q3 = 59.01\n",
            "IQR = 37.14\n",
            "====================\n",
            "운동량의 Minimum \t: -33.84\n",
            "운동량의 최솟값 \t: 0.0\n",
            "운동량의 1분위수(25%) : 21.87\n",
            "운동량의 2분위수(50%) : 36.94\n",
            "운동량의 중위수 \t: 36.94\n",
            "운동량의 3분위수(75%) : 59.01\n",
            "운동량의 최댓값 \t: 99.91\n",
            "운동량의 Maximun \t: 114.72\n"
          ]
        },
        {
          "output_type": "display_data",
          "data": {
            "text/plain": [
              "<Figure size 1000x600 with 1 Axes>"
            ],
            "image/png": "[encoded data removed]"
          },
          "metadata": {}
        }
      ]
    },
    {
      "cell_type": "markdown",
      "source": [
        "이상치를 제거한 운동량의 box plot으로 최솟값, 1분위수, 중위수, 3분위수, 최대값을 시각화해 볼 수 있습니다.\n",
        "\n",
        "탄소량과 이동거리 이동시간도 해보겠습니다."
      ],
      "metadata": {
        "id": "UrQlynDlv5ZN"
      }
    },
    {
      "cell_type": "code",
      "source": [
        "carbon = num_df['carbon'][num_df['carbon'] <= num_df['carbon'].quantile(0.75)]"
      ],
      "metadata": {
        "id": "UFysUmrV07Fb"
      },
      "execution_count": null,
      "outputs": []
    },
    {
      "cell_type": "code",
      "source": [
        "boxplot(carbon, '탄소량')"
      ],
      "metadata": {
        "colab": {
          "base_uri": "https://localhost:8080/",
          "height": 786
        },
        "id": "98bB3N133DRQ",
        "outputId": "d2373ce5-235e-4519-b158-0340d8a98e43"
      },
      "execution_count": null,
      "outputs": [
        {
          "output_type": "stream",
          "name": "stdout",
          "text": [
            "Q1 = 0.2\n",
            "Q3 = 0.52\n",
            "IQR = 0.32\n",
            "====================\n",
            "탄소량의 Minimum \t: -0.27999999999999997\n",
            "탄소량의 최솟값 \t: 0.0\n",
            "탄소량의 1분위수(25%) : 0.2\n",
            "탄소량의 2분위수(50%) : 0.33\n",
            "탄소량의 중위수 \t: 0.33\n",
            "탄소량의 3분위수(75%) : 0.52\n",
            "탄소량의 최댓값 \t: 0.87\n",
            "탄소량의 Maximun \t: 1.0\n"
          ]
        },
        {
          "output_type": "display_data",
          "data": {
            "text/plain": [
              "<Figure size 1000x600 with 1 Axes>"
            ],
            "image/png": "[encoded data removed]"
          },
          "metadata": {}
        }
      ]
    },
    {
      "cell_type": "code",
      "source": [
        "distance = num_df['distance'][num_df['distance'] <= num_df['distance'].quantile(0.75)]"
      ],
      "metadata": {
        "id": "DBVTVY3G1m7M"
      },
      "execution_count": null,
      "outputs": []
    },
    {
      "cell_type": "code",
      "source": [
        "boxplot(distance, '이동거리')"
      ],
      "metadata": {
        "colab": {
          "base_uri": "https://localhost:8080/",
          "height": 786
        },
        "id": "lsQbfo3L2iDv",
        "outputId": "57aa2e77-b1fb-4209-e65b-c1f5ca88da61"
      },
      "execution_count": null,
      "outputs": [
        {
          "output_type": "stream",
          "name": "stdout",
          "text": [
            "Q1 = 843.52\n",
            "Q3 = 2229.8\n",
            "IQR = 1386.2800000000002\n",
            "====================\n",
            "이동거리의 Minimum \t: -1235.9\n",
            "이동거리의 최솟값 \t: 0.0\n",
            "이동거리의 1분위수(25%) : 843.52\n",
            "이동거리의 2분위수(50%) : 1410.0\n",
            "이동거리의 중위수 \t: 1410.0\n",
            "이동거리의 3분위수(75%) : 2229.8\n",
            "이동거리의 최댓값 \t: 3730.0\n",
            "이동거리의 Maximun \t: 4309.22\n"
          ]
        },
        {
          "output_type": "display_data",
          "data": {
            "text/plain": [
              "<Figure size 1000x600 with 1 Axes>"
            ],
            "image/png": "[encoded data removed]"
          },
          "metadata": {}
        }
      ]
    },
    {
      "cell_type": "code",
      "source": [
        "minute = num_df['minute'][num_df['minute'] <= num_df['minute'].quantile(0.75)]"
      ],
      "metadata": {
        "id": "Hg-0EBGk2k7E"
      },
      "execution_count": null,
      "outputs": []
    },
    {
      "cell_type": "code",
      "source": [
        "boxplot(minute, '이용시간')"
      ],
      "metadata": {
        "colab": {
          "base_uri": "https://localhost:8080/",
          "height": 786
        },
        "id": "DLKdnykU3V1M",
        "outputId": "d48d157c-7342-4d09-a170-369c18c84d65"
      },
      "execution_count": null,
      "outputs": [
        {
          "output_type": "stream",
          "name": "stdout",
          "text": [
            "Q1 = 6.0\n",
            "Q3 = 19.0\n",
            "IQR = 13.0\n",
            "====================\n",
            "이용시간의 Minimum \t: -13.5\n",
            "이용시간의 최솟값 \t: 0\n",
            "이용시간의 1분위수(25%) : 6.0\n",
            "이용시간의 2분위수(50%) : 11.0\n",
            "이용시간의 중위수 \t: 11.0\n",
            "이용시간의 3분위수(75%) : 19.0\n",
            "이용시간의 최댓값 \t: 35\n",
            "이용시간의 Maximun \t: 38.5\n"
          ]
        },
        {
          "output_type": "display_data",
          "data": {
            "text/plain": [
              "<Figure size 1000x600 with 1 Axes>"
            ],
            "image/png": "[encoded data removed]"
          },
          "metadata": {}
        }
      ]
    },
    {
      "cell_type": "code",
      "source": [
        "fig, axs = plt.subplots(1, 4, figsize=(12, 4))\n",
        "\n",
        "col = ['momentum', 'carbon', 'distance', 'minute']\n",
        "\n",
        "for i, j in enumerate(col):\n",
        "    tmp = num_df[num_df[j] <= num_df[j].quantile(0.75)]\n",
        "    axs[i].boxplot(tmp[j])\n",
        "    axs[i].set_title(f'{j} Box Plot', fontproperties=fontprop)\n",
        "    axs[i].set_ylabel('Values')\n",
        "    axs[i].set_xticks([1], [f'{j}'])\n",
        "    axs[i].tick_params(axis='x', rotation=0)\n",
        "\n",
        "plt.tight_layout()\n",
        "plt.show()"
      ],
      "metadata": {
        "colab": {
          "base_uri": "https://localhost:8080/",
          "height": 407
        },
        "id": "gOjWFcm1CsEE",
        "outputId": "a5cd5e62-3a83-4ea7-ff3d-b95c48e21ca4"
      },
      "execution_count": null,
      "outputs": [
        {
          "output_type": "display_data",
          "data": {
            "text/plain": [
              "<Figure size 1200x400 with 4 Axes>"
            ],
            "image/png": "[encoded data removed]"
          },
          "metadata": {}
        }
      ]
    },
    {
      "cell_type": "code",
      "source": [
        "col = ['momentum', 'carbon', 'distance', 'minute']\n",
        "\n",
        "for i in col:\n",
        "    tmp[i] = num_df[i][num_df[i] <= num_df[i].quantile(0.75)]\n",
        "tmp.describe()"
      ],
      "metadata": {
        "colab": {
          "base_uri": "https://localhost:8080/",
          "height": 300
        },
        "id": "NBk7skMWG722",
        "outputId": "04580c34-9660-4f8a-e8ff-f4a81059d7b1"
      },
      "execution_count": null,
      "outputs": [
        {
          "output_type": "execute_result",
          "data": {
            "text/plain": [
              "            momentum         carbon       distance         minute\n",
              "count  720307.000000  725254.000000  722618.000000  805461.000000\n",
              "mean       39.870070       0.353249    1514.530851      13.102458\n",
              "std        24.027134       0.208894     891.808242       8.727744\n",
              "min         0.000000       0.000000       0.000000       0.000000\n",
              "25%        20.980000       0.190000     810.970000       6.000000\n",
              "50%        34.960000       0.310000    1336.235000      11.000000\n",
              "75%        55.880000       0.490000    2111.297500      19.000000\n",
              "max        99.910000       0.870000    3730.000000      35.000000"
            ],
            "text/html": [
              "\n",
              "  <div id=\"df-d7068c59-615c-458c-a176-b08a93a3b65b\">\n",
              "    <div class=\"colab-df-container\">\n",
              "      <div>\n",
              "<style scoped>\n",
              "    .dataframe tbody tr th:only-of-type {\n",
              "        vertical-align: middle;\n",
              "    }\n",
              "\n",
              "    .dataframe tbody tr th {\n",
              "        vertical-align: top;\n",
              "    }\n",
              "\n",
              "    .dataframe thead th {\n",
              "        text-align: right;\n",
              "    }\n",
              "</style>\n",
              "<table border=\"1\" class=\"dataframe\">\n",
              "  <thead>\n",
              "    <tr style=\"text-align: right;\">\n",
              "      <th></th>\n",
              "      <th>momentum</th>\n",
              "      <th>carbon</th>\n",
              "      <th>distance</th>\n",
              "      <th>minute</th>\n",
              "    </tr>\n",
              "  </thead>\n",
              "  <tbody>\n",
              "    <tr>\n",
              "      <th>count</th>\n",
              "      <td>720307.000000</td>\n",
              "      <td>725254.000000</td>\n",
              "      <td>722618.000000</td>\n",
              "      <td>805461.000000</td>\n",
              "    </tr>\n",
              "    <tr>\n",
              "      <th>mean</th>\n",
              "      <td>39.870070</td>\n",
              "      <td>0.353249</td>\n",
              "      <td>1514.530851</td>\n",
              "      <td>13.102458</td>\n",
              "    </tr>\n",
              "    <tr>\n",
              "      <th>std</th>\n",
              "      <td>24.027134</td>\n",
              "      <td>0.208894</td>\n",
              "      <td>891.808242</td>\n",
              "      <td>8.727744</td>\n",
              "    </tr>\n",
              "    <tr>\n",
              "      <th>min</th>\n",
              "      <td>0.000000</td>\n",
              "      <td>0.000000</td>\n",
              "      <td>0.000000</td>\n",
              "      <td>0.000000</td>\n",
              "    </tr>\n",
              "    <tr>\n",
              "      <th>25%</th>\n",
              "      <td>20.980000</td>\n",
              "      <td>0.190000</td>\n",
              "      <td>810.970000</td>\n",
              "      <td>6.000000</td>\n",
              "    </tr>\n",
              "    <tr>\n",
              "      <th>50%</th>\n",
              "      <td>34.960000</td>\n",
              "      <td>0.310000</td>\n",
              "      <td>1336.235000</td>\n",
              "      <td>11.000000</td>\n",
              "    </tr>\n",
              "    <tr>\n",
              "      <th>75%</th>\n",
              "      <td>55.880000</td>\n",
              "      <td>0.490000</td>\n",
              "      <td>2111.297500</td>\n",
              "      <td>19.000000</td>\n",
              "    </tr>\n",
              "    <tr>\n",
              "      <th>max</th>\n",
              "      <td>99.910000</td>\n",
              "      <td>0.870000</td>\n",
              "      <td>3730.000000</td>\n",
              "      <td>35.000000</td>\n",
              "    </tr>\n",
              "  </tbody>\n",
              "</table>\n",
              "</div>\n",
              "      <button class=\"colab-df-convert\" onclick=\"convertToInteractive('df-d7068c59-615c-458c-a176-b08a93a3b65b')\"\n",
              "              title=\"Convert this dataframe to an interactive table.\"\n",
              "              style=\"display:none;\">\n",
              "        \n",
              "  <svg xmlns=\"http://www.w3.org/2000/svg\" height=\"24px\"viewBox=\"0 0 24 24\"\n",
              "       width=\"24px\">\n",
              "    <path d=\"M0 0h24v24H0V0z\" fill=\"none\"/>\n",
              "    <path d=\"M18.56 5.44l.94 2.06.94-2.06 2.06-.94-2.06-.94-.94-2.06-.94 2.06-2.06.94zm-11 1L8.5 8.5l.94-2.06 2.06-.94-2.06-.94L8.5 2.5l-.94 2.06-2.06.94zm10 10l.94 2.06.94-2.06 2.06-.94-2.06-.94-.94-2.06-.94 2.06-2.06.94z\"/><path d=\"M17.41 7.96l-1.37-1.37c-.4-.4-.92-.59-1.43-.59-.52 0-1.04.2-1.43.59L10.3 9.45l-7.72 7.72c-.78.78-.78 2.05 0 2.83L4 21.41c.39.39.9.59 1.41.59.51 0 1.02-.2 1.41-.59l7.78-7.78 2.81-2.81c.8-.78.8-2.07 0-2.86zM5.41 20L4 18.59l7.72-7.72 1.47 1.35L5.41 20z\"/>\n",
              "  </svg>\n",
              "      </button>\n",
              "      \n",
              "  <style>\n",
              "    .colab-df-container {\n",
              "      display:flex;\n",
              "      flex-wrap:wrap;\n",
              "      gap: 12px;\n",
              "    }\n",
              "\n",
              "    .colab-df-convert {\n",
              "      background-color: #E8F0FE;\n",
              "      border: none;\n",
              "      border-radius: 50%;\n",
              "      cursor: pointer;\n",
              "      display: none;\n",
              "      fill: #1967D2;\n",
              "      height: 32px;\n",
              "      padding: 0 0 0 0;\n",
              "      width: 32px;\n",
              "    }\n",
              "\n",
              "    .colab-df-convert:hover {\n",
              "      background-color: #E2EBFA;\n",
              "      box-shadow: 0px 1px 2px rgba(60, 64, 67, 0.3), 0px 1px 3px 1px rgba(60, 64, 67, 0.15);\n",
              "      fill: #174EA6;\n",
              "    }\n",
              "\n",
              "    [theme=dark] .colab-df-convert {\n",
              "      background-color: #3B4455;\n",
              "      fill: #D2E3FC;\n",
              "    }\n",
              "\n",
              "    [theme=dark] .colab-df-convert:hover {\n",
              "      background-color: #434B5C;\n",
              "      box-shadow: 0px 1px 3px 1px rgba(0, 0, 0, 0.15);\n",
              "      filter: drop-shadow(0px 1px 2px rgba(0, 0, 0, 0.3));\n",
              "      fill: #FFFFFF;\n",
              "    }\n",
              "  </style>\n",
              "\n",
              "      <script>\n",
              "        const buttonEl =\n",
              "          document.querySelector('#df-d7068c59-615c-458c-a176-b08a93a3b65b button.colab-df-convert');\n",
              "        buttonEl.style.display =\n",
              "          google.colab.kernel.accessAllowed ? 'block' : 'none';\n",
              "\n",
              "        async function convertToInteractive(key) {\n",
              "          const element = document.querySelector('#df-d7068c59-615c-458c-a176-b08a93a3b65b');\n",
              "          const dataTable =\n",
              "            await google.colab.kernel.invokeFunction('convertToInteractive',\n",
              "                                                     [key], {});\n",
              "          if (!dataTable) return;\n",
              "\n",
              "          const docLinkHtml = 'Like what you see? Visit the ' +\n",
              "            '<a target=\"_blank\" href=https://colab.research.google.com/notebooks/data_table.ipynb>data table notebook</a>'\n",
              "            + ' to learn more about interactive tables.';\n",
              "          element.innerHTML = '';\n",
              "          dataTable['output_type'] = 'display_data';\n",
              "          await google.colab.output.renderOutput(dataTable, element);\n",
              "          const docLink = document.createElement('div');\n",
              "          docLink.innerHTML = docLinkHtml;\n",
              "          element.appendChild(docLink);\n",
              "        }\n",
              "      </script>\n",
              "    </div>\n",
              "  </div>\n",
              "  "
            ]
          },
          "metadata": {},
          "execution_count": 59
        }
      ]
    },
    {
      "cell_type": "code",
      "source": [
        "df[df.distance == 3730]"
      ],
      "metadata": {
        "colab": {
          "base_uri": "https://localhost:8080/",
          "height": 423
        },
        "id": "lnU1B1PKHenD",
        "outputId": "8270911f-2056-4f74-f0c3-01b08cdac1be"
      },
      "execution_count": null,
      "outputs": [
        {
          "output_type": "execute_result",
          "data": {
            "text/plain": [
              "                day  number                  spot code     sex   age  count  \\\n",
              "3138     2022-12-01    2422       2422.수서동 성당 맞은편  정기권  UNKOWN   30대      1   \n",
              "6270     2022-12-01    1145  1145. 곰달래 문화복지센터 1-2  정기권  UNKOWN   50대      1   \n",
              "6498     2022-12-01    1278        1278. 송파구청 교차로  정기권  UNKOWN   60대      1   \n",
              "7788     2022-12-01    2102         2102. 봉림교 교통섬  정기권       F  ~10대      2   \n",
              "10857    2022-12-01     553       553. 중곡 성원아파트 앞  정기권       F   30대      1   \n",
              "...             ...     ...                   ...  ...     ...   ...    ...   \n",
              "1065768  2022-12-31    5859       5859. 여의도 삼부아파트  정기권  UNKOWN   60대      1   \n",
              "1066684  2022-12-31    5854        5854. 신한금융투자 앞  정기권       F   30대      1   \n",
              "1071198  2022-12-31    1742     1742. 북한산 코오롱 하늘채  정기권       M   60대      1   \n",
              "1071252  2022-12-31    1768      1768.신동아타워 버스정류소  정기권       M   60대      1   \n",
              "1071717  2022-12-31    4013         4013. 중계 롯데마트  정기권       M    기타      1   \n",
              "\n",
              "         momentum  carbon  distance  minute  \n",
              "3138       100.44    0.87    3730.0      20  \n",
              "6270       103.40    0.87    3730.0      13  \n",
              "6498        82.72    0.87    3730.0      34  \n",
              "7788        89.79    0.86    3730.0      36  \n",
              "10857      112.26    0.87    3730.0      23  \n",
              "...           ...     ...       ...     ...  \n",
              "1065768     94.53    0.87    3730.0      94  \n",
              "1066684     66.47    0.87    3730.0      43  \n",
              "1071198    101.92    0.87    3730.0      41  \n",
              "1071252    115.21    0.87    3730.0      65  \n",
              "1071717    140.32    0.87    3730.0      17  \n",
              "\n",
              "[295 rows x 11 columns]"
            ],
            "text/html": [
              "\n",
              "  <div id=\"df-200dcd4b-8a5e-4bc2-b9d3-96f377a68491\">\n",
              "    <div class=\"colab-df-container\">\n",
              "      <div>\n",
              "<style scoped>\n",
              "    .dataframe tbody tr th:only-of-type {\n",
              "        vertical-align: middle;\n",
              "    }\n",
              "\n",
              "    .dataframe tbody tr th {\n",
              "        vertical-align: top;\n",
              "    }\n",
              "\n",
              "    .dataframe thead th {\n",
              "        text-align: right;\n",
              "    }\n",
              "</style>\n",
              "<table border=\"1\" class=\"dataframe\">\n",
              "  <thead>\n",
              "    <tr style=\"text-align: right;\">\n",
              "      <th></th>\n",
              "      <th>day</th>\n",
              "      <th>number</th>\n",
              "      <th>spot</th>\n",
              "      <th>code</th>\n",
              "      <th>sex</th>\n",
              "      <th>age</th>\n",
              "      <th>count</th>\n",
              "      <th>momentum</th>\n",
              "      <th>carbon</th>\n",
              "      <th>distance</th>\n",
              "      <th>minute</th>\n",
              "    </tr>\n",
              "  </thead>\n",
              "  <tbody>\n",
              "    <tr>\n",
              "      <th>3138</th>\n",
              "      <td>2022-12-01</td>\n",
              "      <td>2422</td>\n",
              "      <td>2422.수서동 성당 맞은편</td>\n",
              "      <td>정기권</td>\n",
              "      <td>UNKOWN</td>\n",
              "      <td>30대</td>\n",
              "      <td>1</td>\n",
              "      <td>100.44</td>\n",
              "      <td>0.87</td>\n",
              "      <td>3730.0</td>\n",
              "      <td>20</td>\n",
              "    </tr>\n",
              "    <tr>\n",
              "      <th>6270</th>\n",
              "      <td>2022-12-01</td>\n",
              "      <td>1145</td>\n",
              "      <td>1145. 곰달래 문화복지센터 1-2</td>\n",
              "      <td>정기권</td>\n",
              "      <td>UNKOWN</td>\n",
              "      <td>50대</td>\n",
              "      <td>1</td>\n",
              "      <td>103.40</td>\n",
              "      <td>0.87</td>\n",
              "      <td>3730.0</td>\n",
              "      <td>13</td>\n",
              "    </tr>\n",
              "    <tr>\n",
              "      <th>6498</th>\n",
              "      <td>2022-12-01</td>\n",
              "      <td>1278</td>\n",
              "      <td>1278. 송파구청 교차로</td>\n",
              "      <td>정기권</td>\n",
              "      <td>UNKOWN</td>\n",
              "      <td>60대</td>\n",
              "      <td>1</td>\n",
              "      <td>82.72</td>\n",
              "      <td>0.87</td>\n",
              "      <td>3730.0</td>\n",
              "      <td>34</td>\n",
              "    </tr>\n",
              "    <tr>\n",
              "      <th>7788</th>\n",
              "      <td>2022-12-01</td>\n",
              "      <td>2102</td>\n",
              "      <td>2102. 봉림교 교통섬</td>\n",
              "      <td>정기권</td>\n",
              "      <td>F</td>\n",
              "      <td>~10대</td>\n",
              "      <td>2</td>\n",
              "      <td>89.79</td>\n",
              "      <td>0.86</td>\n",
              "      <td>3730.0</td>\n",
              "      <td>36</td>\n",
              "    </tr>\n",
              "    <tr>\n",
              "      <th>10857</th>\n",
              "      <td>2022-12-01</td>\n",
              "      <td>553</td>\n",
              "      <td>553. 중곡 성원아파트 앞</td>\n",
              "      <td>정기권</td>\n",
              "      <td>F</td>\n",
              "      <td>30대</td>\n",
              "      <td>1</td>\n",
              "      <td>112.26</td>\n",
              "      <td>0.87</td>\n",
              "      <td>3730.0</td>\n",
              "      <td>23</td>\n",
              "    </tr>\n",
              "    <tr>\n",
              "      <th>...</th>\n",
              "      <td>...</td>\n",
              "      <td>...</td>\n",
              "      <td>...</td>\n",
              "      <td>...</td>\n",
              "      <td>...</td>\n",
              "      <td>...</td>\n",
              "      <td>...</td>\n",
              "      <td>...</td>\n",
              "      <td>...</td>\n",
              "      <td>...</td>\n",
              "      <td>...</td>\n",
              "    </tr>\n",
              "    <tr>\n",
              "      <th>1065768</th>\n",
              "      <td>2022-12-31</td>\n",
              "      <td>5859</td>\n",
              "      <td>5859. 여의도 삼부아파트</td>\n",
              "      <td>정기권</td>\n",
              "      <td>UNKOWN</td>\n",
              "      <td>60대</td>\n",
              "      <td>1</td>\n",
              "      <td>94.53</td>\n",
              "      <td>0.87</td>\n",
              "      <td>3730.0</td>\n",
              "      <td>94</td>\n",
              "    </tr>\n",
              "    <tr>\n",
              "      <th>1066684</th>\n",
              "      <td>2022-12-31</td>\n",
              "      <td>5854</td>\n",
              "      <td>5854. 신한금융투자 앞</td>\n",
              "      <td>정기권</td>\n",
              "      <td>F</td>\n",
              "      <td>30대</td>\n",
              "      <td>1</td>\n",
              "      <td>66.47</td>\n",
              "      <td>0.87</td>\n",
              "      <td>3730.0</td>\n",
              "      <td>43</td>\n",
              "    </tr>\n",
              "    <tr>\n",
              "      <th>1071198</th>\n",
              "      <td>2022-12-31</td>\n",
              "      <td>1742</td>\n",
              "      <td>1742. 북한산 코오롱 하늘채</td>\n",
              "      <td>정기권</td>\n",
              "      <td>M</td>\n",
              "      <td>60대</td>\n",
              "      <td>1</td>\n",
              "      <td>101.92</td>\n",
              "      <td>0.87</td>\n",
              "      <td>3730.0</td>\n",
              "      <td>41</td>\n",
              "    </tr>\n",
              "    <tr>\n",
              "      <th>1071252</th>\n",
              "      <td>2022-12-31</td>\n",
              "      <td>1768</td>\n",
              "      <td>1768.신동아타워 버스정류소</td>\n",
              "      <td>정기권</td>\n",
              "      <td>M</td>\n",
              "      <td>60대</td>\n",
              "      <td>1</td>\n",
              "      <td>115.21</td>\n",
              "      <td>0.87</td>\n",
              "      <td>3730.0</td>\n",
              "      <td>65</td>\n",
              "    </tr>\n",
              "    <tr>\n",
              "      <th>1071717</th>\n",
              "      <td>2022-12-31</td>\n",
              "      <td>4013</td>\n",
              "      <td>4013. 중계 롯데마트</td>\n",
              "      <td>정기권</td>\n",
              "      <td>M</td>\n",
              "      <td>기타</td>\n",
              "      <td>1</td>\n",
              "      <td>140.32</td>\n",
              "      <td>0.87</td>\n",
              "      <td>3730.0</td>\n",
              "      <td>17</td>\n",
              "    </tr>\n",
              "  </tbody>\n",
              "</table>\n",
              "<p>295 rows × 11 columns</p>\n",
              "</div>\n",
              "      <button class=\"colab-df-convert\" onclick=\"convertToInteractive('df-200dcd4b-8a5e-4bc2-b9d3-96f377a68491')\"\n",
              "              title=\"Convert this dataframe to an interactive table.\"\n",
              "              style=\"display:none;\">\n",
              "        \n",
              "  <svg xmlns=\"http://www.w3.org/2000/svg\" height=\"24px\"viewBox=\"0 0 24 24\"\n",
              "       width=\"24px\">\n",
              "    <path d=\"M0 0h24v24H0V0z\" fill=\"none\"/>\n",
              "    <path d=\"M18.56 5.44l.94 2.06.94-2.06 2.06-.94-2.06-.94-.94-2.06-.94 2.06-2.06.94zm-11 1L8.5 8.5l.94-2.06 2.06-.94-2.06-.94L8.5 2.5l-.94 2.06-2.06.94zm10 10l.94 2.06.94-2.06 2.06-.94-2.06-.94-.94-2.06-.94 2.06-2.06.94z\"/><path d=\"M17.41 7.96l-1.37-1.37c-.4-.4-.92-.59-1.43-.59-.52 0-1.04.2-1.43.59L10.3 9.45l-7.72 7.72c-.78.78-.78 2.05 0 2.83L4 21.41c.39.39.9.59 1.41.59.51 0 1.02-.2 1.41-.59l7.78-7.78 2.81-2.81c.8-.78.8-2.07 0-2.86zM5.41 20L4 18.59l7.72-7.72 1.47 1.35L5.41 20z\"/>\n",
              "  </svg>\n",
              "      </button>\n",
              "      \n",
              "  <style>\n",
              "    .colab-df-container {\n",
              "      display:flex;\n",
              "      flex-wrap:wrap;\n",
              "      gap: 12px;\n",
              "    }\n",
              "\n",
              "    .colab-df-convert {\n",
              "      background-color: #E8F0FE;\n",
              "      border: none;\n",
              "      border-radius: 50%;\n",
              "      cursor: pointer;\n",
              "      display: none;\n",
              "      fill: #1967D2;\n",
              "      height: 32px;\n",
              "      padding: 0 0 0 0;\n",
              "      width: 32px;\n",
              "    }\n",
              "\n",
              "    .colab-df-convert:hover {\n",
              "      background-color: #E2EBFA;\n",
              "      box-shadow: 0px 1px 2px rgba(60, 64, 67, 0.3), 0px 1px 3px 1px rgba(60, 64, 67, 0.15);\n",
              "      fill: #174EA6;\n",
              "    }\n",
              "\n",
              "    [theme=dark] .colab-df-convert {\n",
              "      background-color: #3B4455;\n",
              "      fill: #D2E3FC;\n",
              "    }\n",
              "\n",
              "    [theme=dark] .colab-df-convert:hover {\n",
              "      background-color: #434B5C;\n",
              "      box-shadow: 0px 1px 3px 1px rgba(0, 0, 0, 0.15);\n",
              "      filter: drop-shadow(0px 1px 2px rgba(0, 0, 0, 0.3));\n",
              "      fill: #FFFFFF;\n",
              "    }\n",
              "  </style>\n",
              "\n",
              "      <script>\n",
              "        const buttonEl =\n",
              "          document.querySelector('#df-200dcd4b-8a5e-4bc2-b9d3-96f377a68491 button.colab-df-convert');\n",
              "        buttonEl.style.display =\n",
              "          google.colab.kernel.accessAllowed ? 'block' : 'none';\n",
              "\n",
              "        async function convertToInteractive(key) {\n",
              "          const element = document.querySelector('#df-200dcd4b-8a5e-4bc2-b9d3-96f377a68491');\n",
              "          const dataTable =\n",
              "            await google.colab.kernel.invokeFunction('convertToInteractive',\n",
              "                                                     [key], {});\n",
              "          if (!dataTable) return;\n",
              "\n",
              "          const docLinkHtml = 'Like what you see? Visit the ' +\n",
              "            '<a target=\"_blank\" href=https://colab.research.google.com/notebooks/data_table.ipynb>data table notebook</a>'\n",
              "            + ' to learn more about interactive tables.';\n",
              "          element.innerHTML = '';\n",
              "          dataTable['output_type'] = 'display_data';\n",
              "          await google.colab.output.renderOutput(dataTable, element);\n",
              "          const docLink = document.createElement('div');\n",
              "          docLink.innerHTML = docLinkHtml;\n",
              "          element.appendChild(docLink);\n",
              "        }\n",
              "      </script>\n",
              "    </div>\n",
              "  </div>\n",
              "  "
            ]
          },
          "metadata": {},
          "execution_count": 60
        }
      ]
    },
    {
      "cell_type": "code",
      "source": [
        "num_df"
      ],
      "metadata": {
        "colab": {
          "base_uri": "https://localhost:8080/",
          "height": 423
        },
        "id": "l5UqxjGA9EMx",
        "outputId": "60e0e05b-08fb-4a3c-e7d1-1a937ae3d1c0"
      },
      "execution_count": null,
      "outputs": [
        {
          "output_type": "execute_result",
          "data": {
            "text/plain": [
              "         momentum  carbon  distance  minute\n",
              "0           58.56    0.44   1895.75      10\n",
              "1           47.52    0.51   2190.00      12\n",
              "2           13.50    0.14    620.00       6\n",
              "3           54.67    0.58   2510.00      19\n",
              "4           64.97    0.73   3170.97      20\n",
              "...           ...     ...       ...     ...\n",
              "1071858     52.78    0.45   1960.00      62\n",
              "1071859     96.31    0.71   3040.00      23\n",
              "1071860     34.49    0.31   1340.00       8\n",
              "1071861     42.47    0.38   1650.00      28\n",
              "1071862    102.70    0.92   3990.00      93\n",
              "\n",
              "[1071863 rows x 4 columns]"
            ],
            "text/html": [
              "\n",
              "  <div id=\"df-724edcf3-3cc5-4bd9-8c60-3b9fec1cc847\">\n",
              "    <div class=\"colab-df-container\">\n",
              "      <div>\n",
              "<style scoped>\n",
              "    .dataframe tbody tr th:only-of-type {\n",
              "        vertical-align: middle;\n",
              "    }\n",
              "\n",
              "    .dataframe tbody tr th {\n",
              "        vertical-align: top;\n",
              "    }\n",
              "\n",
              "    .dataframe thead th {\n",
              "        text-align: right;\n",
              "    }\n",
              "</style>\n",
              "<table border=\"1\" class=\"dataframe\">\n",
              "  <thead>\n",
              "    <tr style=\"text-align: right;\">\n",
              "      <th></th>\n",
              "      <th>momentum</th>\n",
              "      <th>carbon</th>\n",
              "      <th>distance</th>\n",
              "      <th>minute</th>\n",
              "    </tr>\n",
              "  </thead>\n",
              "  <tbody>\n",
              "    <tr>\n",
              "      <th>0</th>\n",
              "      <td>58.56</td>\n",
              "      <td>0.44</td>\n",
              "      <td>1895.75</td>\n",
              "      <td>10</td>\n",
              "    </tr>\n",
              "    <tr>\n",
              "      <th>1</th>\n",
              "      <td>47.52</td>\n",
              "      <td>0.51</td>\n",
              "      <td>2190.00</td>\n",
              "      <td>12</td>\n",
              "    </tr>\n",
              "    <tr>\n",
              "      <th>2</th>\n",
              "      <td>13.50</td>\n",
              "      <td>0.14</td>\n",
              "      <td>620.00</td>\n",
              "      <td>6</td>\n",
              "    </tr>\n",
              "    <tr>\n",
              "      <th>3</th>\n",
              "      <td>54.67</td>\n",
              "      <td>0.58</td>\n",
              "      <td>2510.00</td>\n",
              "      <td>19</td>\n",
              "    </tr>\n",
              "    <tr>\n",
              "      <th>4</th>\n",
              "      <td>64.97</td>\n",
              "      <td>0.73</td>\n",
              "      <td>3170.97</td>\n",
              "      <td>20</td>\n",
              "    </tr>\n",
              "    <tr>\n",
              "      <th>...</th>\n",
              "      <td>...</td>\n",
              "      <td>...</td>\n",
              "      <td>...</td>\n",
              "      <td>...</td>\n",
              "    </tr>\n",
              "    <tr>\n",
              "      <th>1071858</th>\n",
              "      <td>52.78</td>\n",
              "      <td>0.45</td>\n",
              "      <td>1960.00</td>\n",
              "      <td>62</td>\n",
              "    </tr>\n",
              "    <tr>\n",
              "      <th>1071859</th>\n",
              "      <td>96.31</td>\n",
              "      <td>0.71</td>\n",
              "      <td>3040.00</td>\n",
              "      <td>23</td>\n",
              "    </tr>\n",
              "    <tr>\n",
              "      <th>1071860</th>\n",
              "      <td>34.49</td>\n",
              "      <td>0.31</td>\n",
              "      <td>1340.00</td>\n",
              "      <td>8</td>\n",
              "    </tr>\n",
              "    <tr>\n",
              "      <th>1071861</th>\n",
              "      <td>42.47</td>\n",
              "      <td>0.38</td>\n",
              "      <td>1650.00</td>\n",
              "      <td>28</td>\n",
              "    </tr>\n",
              "    <tr>\n",
              "      <th>1071862</th>\n",
              "      <td>102.70</td>\n",
              "      <td>0.92</td>\n",
              "      <td>3990.00</td>\n",
              "      <td>93</td>\n",
              "    </tr>\n",
              "  </tbody>\n",
              "</table>\n",
              "<p>1071863 rows × 4 columns</p>\n",
              "</div>\n",
              "      <button class=\"colab-df-convert\" onclick=\"convertToInteractive('df-724edcf3-3cc5-4bd9-8c60-3b9fec1cc847')\"\n",
              "              title=\"Convert this dataframe to an interactive table.\"\n",
              "              style=\"display:none;\">\n",
              "        \n",
              "  <svg xmlns=\"http://www.w3.org/2000/svg\" height=\"24px\"viewBox=\"0 0 24 24\"\n",
              "       width=\"24px\">\n",
              "    <path d=\"M0 0h24v24H0V0z\" fill=\"none\"/>\n",
              "    <path d=\"M18.56 5.44l.94 2.06.94-2.06 2.06-.94-2.06-.94-.94-2.06-.94 2.06-2.06.94zm-11 1L8.5 8.5l.94-2.06 2.06-.94-2.06-.94L8.5 2.5l-.94 2.06-2.06.94zm10 10l.94 2.06.94-2.06 2.06-.94-2.06-.94-.94-2.06-.94 2.06-2.06.94z\"/><path d=\"M17.41 7.96l-1.37-1.37c-.4-.4-.92-.59-1.43-.59-.52 0-1.04.2-1.43.59L10.3 9.45l-7.72 7.72c-.78.78-.78 2.05 0 2.83L4 21.41c.39.39.9.59 1.41.59.51 0 1.02-.2 1.41-.59l7.78-7.78 2.81-2.81c.8-.78.8-2.07 0-2.86zM5.41 20L4 18.59l7.72-7.72 1.47 1.35L5.41 20z\"/>\n",
              "  </svg>\n",
              "      </button>\n",
              "      \n",
              "  <style>\n",
              "    .colab-df-container {\n",
              "      display:flex;\n",
              "      flex-wrap:wrap;\n",
              "      gap: 12px;\n",
              "    }\n",
              "\n",
              "    .colab-df-convert {\n",
              "      background-color: #E8F0FE;\n",
              "      border: none;\n",
              "      border-radius: 50%;\n",
              "      cursor: pointer;\n",
              "      display: none;\n",
              "      fill: #1967D2;\n",
              "      height: 32px;\n",
              "      padding: 0 0 0 0;\n",
              "      width: 32px;\n",
              "    }\n",
              "\n",
              "    .colab-df-convert:hover {\n",
              "      background-color: #E2EBFA;\n",
              "      box-shadow: 0px 1px 2px rgba(60, 64, 67, 0.3), 0px 1px 3px 1px rgba(60, 64, 67, 0.15);\n",
              "      fill: #174EA6;\n",
              "    }\n",
              "\n",
              "    [theme=dark] .colab-df-convert {\n",
              "      background-color: #3B4455;\n",
              "      fill: #D2E3FC;\n",
              "    }\n",
              "\n",
              "    [theme=dark] .colab-df-convert:hover {\n",
              "      background-color: #434B5C;\n",
              "      box-shadow: 0px 1px 3px 1px rgba(0, 0, 0, 0.15);\n",
              "      filter: drop-shadow(0px 1px 2px rgba(0, 0, 0, 0.3));\n",
              "      fill: #FFFFFF;\n",
              "    }\n",
              "  </style>\n",
              "\n",
              "      <script>\n",
              "        const buttonEl =\n",
              "          document.querySelector('#df-724edcf3-3cc5-4bd9-8c60-3b9fec1cc847 button.colab-df-convert');\n",
              "        buttonEl.style.display =\n",
              "          google.colab.kernel.accessAllowed ? 'block' : 'none';\n",
              "\n",
              "        async function convertToInteractive(key) {\n",
              "          const element = document.querySelector('#df-724edcf3-3cc5-4bd9-8c60-3b9fec1cc847');\n",
              "          const dataTable =\n",
              "            await google.colab.kernel.invokeFunction('convertToInteractive',\n",
              "                                                     [key], {});\n",
              "          if (!dataTable) return;\n",
              "\n",
              "          const docLinkHtml = 'Like what you see? Visit the ' +\n",
              "            '<a target=\"_blank\" href=https://colab.research.google.com/notebooks/data_table.ipynb>data table notebook</a>'\n",
              "            + ' to learn more about interactive tables.';\n",
              "          element.innerHTML = '';\n",
              "          dataTable['output_type'] = 'display_data';\n",
              "          await google.colab.output.renderOutput(dataTable, element);\n",
              "          const docLink = document.createElement('div');\n",
              "          docLink.innerHTML = docLinkHtml;\n",
              "          element.appendChild(docLink);\n",
              "        }\n",
              "      </script>\n",
              "    </div>\n",
              "  </div>\n",
              "  "
            ]
          },
          "metadata": {},
          "execution_count": 41
        }
      ]
    },
    {
      "cell_type": "code",
      "source": [
        "def outliers_iqr(data):\n",
        "    q1, q3 = np.percentile(data, [25, 75])\n",
        "    iqr = q3 - q1\n",
        "    lower_bound = q1 - 1.5 * iqr\n",
        "    upper_bound = q3 + 1.5 * iqr\n",
        "    return np.where((data > upper_bound) | (data < lower_bound))"
      ],
      "metadata": {
        "id": "LWetvbxa3Yp3"
      },
      "execution_count": null,
      "outputs": []
    },
    {
      "cell_type": "code",
      "source": [
        "outliers_m = outliers_iqr(num_df.momentum)\n",
        "outliers_c = outliers_iqr(num_df.carbon)\n",
        "outliers_d = outliers_iqr(num_df.distance)\n",
        "outliers_mi = outliers_iqr(num_df.minute)"
      ],
      "metadata": {
        "id": "KKkFrD9K4IES"
      },
      "execution_count": null,
      "outputs": []
    },
    {
      "cell_type": "code",
      "source": [
        "print(np.size(outliers_m))\n",
        "print(np.size(outliers_c))\n",
        "print(np.size(outliers_d))\n",
        "print(np.size(outliers_mi))"
      ],
      "metadata": {
        "colab": {
          "base_uri": "https://localhost:8080/"
        },
        "id": "ONlNUztt5cb4",
        "outputId": "3606a9cb-aa30-4363-e07a-56a5be9146f3"
      },
      "execution_count": null,
      "outputs": [
        {
          "output_type": "stream",
          "name": "stdout",
          "text": [
            "84875\n",
            "82839\n",
            "83317\n",
            "90847\n"
          ]
        }
      ]
    },
    {
      "cell_type": "code",
      "source": [
        "outliers_m"
      ],
      "metadata": {
        "colab": {
          "base_uri": "https://localhost:8080/"
        },
        "id": "ME9Ep6hL5zX1",
        "outputId": "d4f0e91d-eba5-4af0-8d63-6aefbe428fe7"
      },
      "execution_count": null,
      "outputs": [
        {
          "output_type": "execute_result",
          "data": {
            "text/plain": [
              "(array([    279,     329,     344, ..., 1071836, 1071845, 1071848]),)"
            ]
          },
          "metadata": {},
          "execution_count": 51
        }
      ]
    },
    {
      "cell_type": "code",
      "source": [
        "num_df.iloc[outliers_m]"
      ],
      "metadata": {
        "colab": {
          "base_uri": "https://localhost:8080/",
          "height": 423
        },
        "id": "zcogxhhf93XC",
        "outputId": "b1779ea3-a086-4bc8-98bd-2cd4ddb7f148"
      },
      "execution_count": null,
      "outputs": [
        {
          "output_type": "execute_result",
          "data": {
            "text/plain": [
              "         momentum  carbon  distance  minute\n",
              "279        277.56    3.01  12980.00      63\n",
              "329        223.88    2.15   9261.63      84\n",
              "344        447.22    4.54  19534.24      67\n",
              "350        319.58    2.91  12566.15      63\n",
              "374        545.27    4.83  20908.36     118\n",
              "...           ...     ...       ...     ...\n",
              "1071827    270.36    2.47  10613.22      51\n",
              "1071834    303.68    1.78   7668.81      36\n",
              "1071836    220.55    1.64   7050.00     122\n",
              "1071845    463.62    3.68  15880.00     198\n",
              "1071848    227.72    1.91   8215.18      63\n",
              "\n",
              "[84875 rows x 4 columns]"
            ],
            "text/html": [
              "\n",
              "  <div id=\"df-6895258a-3dde-4186-b999-61784bd66a87\">\n",
              "    <div class=\"colab-df-container\">\n",
              "      <div>\n",
              "<style scoped>\n",
              "    .dataframe tbody tr th:only-of-type {\n",
              "        vertical-align: middle;\n",
              "    }\n",
              "\n",
              "    .dataframe tbody tr th {\n",
              "        vertical-align: top;\n",
              "    }\n",
              "\n",
              "    .dataframe thead th {\n",
              "        text-align: right;\n",
              "    }\n",
              "</style>\n",
              "<table border=\"1\" class=\"dataframe\">\n",
              "  <thead>\n",
              "    <tr style=\"text-align: right;\">\n",
              "      <th></th>\n",
              "      <th>momentum</th>\n",
              "      <th>carbon</th>\n",
              "      <th>distance</th>\n",
              "      <th>minute</th>\n",
              "    </tr>\n",
              "  </thead>\n",
              "  <tbody>\n",
              "    <tr>\n",
              "      <th>279</th>\n",
              "      <td>277.56</td>\n",
              "      <td>3.01</td>\n",
              "      <td>12980.00</td>\n",
              "      <td>63</td>\n",
              "    </tr>\n",
              "    <tr>\n",
              "      <th>329</th>\n",
              "      <td>223.88</td>\n",
              "      <td>2.15</td>\n",
              "      <td>9261.63</td>\n",
              "      <td>84</td>\n",
              "    </tr>\n",
              "    <tr>\n",
              "      <th>344</th>\n",
              "      <td>447.22</td>\n",
              "      <td>4.54</td>\n",
              "      <td>19534.24</td>\n",
              "      <td>67</td>\n",
              "    </tr>\n",
              "    <tr>\n",
              "      <th>350</th>\n",
              "      <td>319.58</td>\n",
              "      <td>2.91</td>\n",
              "      <td>12566.15</td>\n",
              "      <td>63</td>\n",
              "    </tr>\n",
              "    <tr>\n",
              "      <th>374</th>\n",
              "      <td>545.27</td>\n",
              "      <td>4.83</td>\n",
              "      <td>20908.36</td>\n",
              "      <td>118</td>\n",
              "    </tr>\n",
              "    <tr>\n",
              "      <th>...</th>\n",
              "      <td>...</td>\n",
              "      <td>...</td>\n",
              "      <td>...</td>\n",
              "      <td>...</td>\n",
              "    </tr>\n",
              "    <tr>\n",
              "      <th>1071827</th>\n",
              "      <td>270.36</td>\n",
              "      <td>2.47</td>\n",
              "      <td>10613.22</td>\n",
              "      <td>51</td>\n",
              "    </tr>\n",
              "    <tr>\n",
              "      <th>1071834</th>\n",
              "      <td>303.68</td>\n",
              "      <td>1.78</td>\n",
              "      <td>7668.81</td>\n",
              "      <td>36</td>\n",
              "    </tr>\n",
              "    <tr>\n",
              "      <th>1071836</th>\n",
              "      <td>220.55</td>\n",
              "      <td>1.64</td>\n",
              "      <td>7050.00</td>\n",
              "      <td>122</td>\n",
              "    </tr>\n",
              "    <tr>\n",
              "      <th>1071845</th>\n",
              "      <td>463.62</td>\n",
              "      <td>3.68</td>\n",
              "      <td>15880.00</td>\n",
              "      <td>198</td>\n",
              "    </tr>\n",
              "    <tr>\n",
              "      <th>1071848</th>\n",
              "      <td>227.72</td>\n",
              "      <td>1.91</td>\n",
              "      <td>8215.18</td>\n",
              "      <td>63</td>\n",
              "    </tr>\n",
              "  </tbody>\n",
              "</table>\n",
              "<p>84875 rows × 4 columns</p>\n",
              "</div>\n",
              "      <button class=\"colab-df-convert\" onclick=\"convertToInteractive('df-6895258a-3dde-4186-b999-61784bd66a87')\"\n",
              "              title=\"Convert this dataframe to an interactive table.\"\n",
              "              style=\"display:none;\">\n",
              "        \n",
              "  <svg xmlns=\"http://www.w3.org/2000/svg\" height=\"24px\"viewBox=\"0 0 24 24\"\n",
              "       width=\"24px\">\n",
              "    <path d=\"M0 0h24v24H0V0z\" fill=\"none\"/>\n",
              "    <path d=\"M18.56 5.44l.94 2.06.94-2.06 2.06-.94-2.06-.94-.94-2.06-.94 2.06-2.06.94zm-11 1L8.5 8.5l.94-2.06 2.06-.94-2.06-.94L8.5 2.5l-.94 2.06-2.06.94zm10 10l.94 2.06.94-2.06 2.06-.94-2.06-.94-.94-2.06-.94 2.06-2.06.94z\"/><path d=\"M17.41 7.96l-1.37-1.37c-.4-.4-.92-.59-1.43-.59-.52 0-1.04.2-1.43.59L10.3 9.45l-7.72 7.72c-.78.78-.78 2.05 0 2.83L4 21.41c.39.39.9.59 1.41.59.51 0 1.02-.2 1.41-.59l7.78-7.78 2.81-2.81c.8-.78.8-2.07 0-2.86zM5.41 20L4 18.59l7.72-7.72 1.47 1.35L5.41 20z\"/>\n",
              "  </svg>\n",
              "      </button>\n",
              "      \n",
              "  <style>\n",
              "    .colab-df-container {\n",
              "      display:flex;\n",
              "      flex-wrap:wrap;\n",
              "      gap: 12px;\n",
              "    }\n",
              "\n",
              "    .colab-df-convert {\n",
              "      background-color: #E8F0FE;\n",
              "      border: none;\n",
              "      border-radius: 50%;\n",
              "      cursor: pointer;\n",
              "      display: none;\n",
              "      fill: #1967D2;\n",
              "      height: 32px;\n",
              "      padding: 0 0 0 0;\n",
              "      width: 32px;\n",
              "    }\n",
              "\n",
              "    .colab-df-convert:hover {\n",
              "      background-color: #E2EBFA;\n",
              "      box-shadow: 0px 1px 2px rgba(60, 64, 67, 0.3), 0px 1px 3px 1px rgba(60, 64, 67, 0.15);\n",
              "      fill: #174EA6;\n",
              "    }\n",
              "\n",
              "    [theme=dark] .colab-df-convert {\n",
              "      background-color: #3B4455;\n",
              "      fill: #D2E3FC;\n",
              "    }\n",
              "\n",
              "    [theme=dark] .colab-df-convert:hover {\n",
              "      background-color: #434B5C;\n",
              "      box-shadow: 0px 1px 3px 1px rgba(0, 0, 0, 0.15);\n",
              "      filter: drop-shadow(0px 1px 2px rgba(0, 0, 0, 0.3));\n",
              "      fill: #FFFFFF;\n",
              "    }\n",
              "  </style>\n",
              "\n",
              "      <script>\n",
              "        const buttonEl =\n",
              "          document.querySelector('#df-6895258a-3dde-4186-b999-61784bd66a87 button.colab-df-convert');\n",
              "        buttonEl.style.display =\n",
              "          google.colab.kernel.accessAllowed ? 'block' : 'none';\n",
              "\n",
              "        async function convertToInteractive(key) {\n",
              "          const element = document.querySelector('#df-6895258a-3dde-4186-b999-61784bd66a87');\n",
              "          const dataTable =\n",
              "            await google.colab.kernel.invokeFunction('convertToInteractive',\n",
              "                                                     [key], {});\n",
              "          if (!dataTable) return;\n",
              "\n",
              "          const docLinkHtml = 'Like what you see? Visit the ' +\n",
              "            '<a target=\"_blank\" href=https://colab.research.google.com/notebooks/data_table.ipynb>data table notebook</a>'\n",
              "            + ' to learn more about interactive tables.';\n",
              "          element.innerHTML = '';\n",
              "          dataTable['output_type'] = 'display_data';\n",
              "          await google.colab.output.renderOutput(dataTable, element);\n",
              "          const docLink = document.createElement('div');\n",
              "          docLink.innerHTML = docLinkHtml;\n",
              "          element.appendChild(docLink);\n",
              "        }\n",
              "      </script>\n",
              "    </div>\n",
              "  </div>\n",
              "  "
            ]
          },
          "metadata": {},
          "execution_count": 52
        }
      ]
    },
    {
      "cell_type": "markdown",
      "source": [
        "이러한 이상값이 왜 발생했는지 파악하고 분석후 문제가 있는 데이터는 분석에서 제외합니다."
      ],
      "metadata": {
        "id": "XefHvIow-ECT"
      }
    },
    {
      "cell_type": "code",
      "source": [],
      "metadata": {
        "id": "2SAA7V3t959Q"
      },
      "execution_count": null,
      "outputs": []
    }
  ]
}