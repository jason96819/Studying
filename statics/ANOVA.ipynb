{
  "nbformat": 4,
  "nbformat_minor": 0,
  "metadata": {
    "colab": {
      "provenance": [],
      "authorship_tag": "ABX9TyNTruvOGEYqimWvOs7mPq0A",
      "include_colab_link": true
    },
    "kernelspec": {
      "name": "python3",
      "display_name": "Python 3"
    },
    "language_info": {
      "name": "python"
    }
  },
  "cells": [
    {
      "cell_type": "markdown",
      "metadata": {
        "id": "view-in-github",
        "colab_type": "text"
      },
      "source": [
        "<a href=\"https://colab.research.google.com/github/jason96819/Studying/blob/main/statics/ANOVA.ipynb\" target=\"_parent\"><img src=\"https://colab.research.google.com/assets/colab-badge.svg\" alt=\"Open In Colab\"/></a>"
      ]
    },
    {
      "cell_type": "markdown",
      "source": [
        "# 일원배치 분산분석"
      ],
      "metadata": {
        "id": "ufbNExMSuAAs"
      }
    },
    {
      "cell_type": "markdown",
      "source": [
        "SST : 그룹에 무관한 전체 자료의 변동을 측정\n",
        "SSE : 각 그룹 내에서의 변동을 측정\n",
        "SSTR : 각 그룹 별 평균의 변동을 측정"
      ],
      "metadata": {
        "id": "YNsk8xo7uCr4"
      }
    },
    {
      "cell_type": "markdown",
      "source": [
        "MSTR = SSTR / k-1\n",
        "\n",
        "MSE = SSE / nk-k\n",
        "\n",
        "X(F) = MSTR / MSE ~ F[k-1, nk-k]"
      ],
      "metadata": {
        "id": "5LUsOr8tuOV0"
      }
    },
    {
      "cell_type": "code",
      "source": [
        "import numpy as np"
      ],
      "metadata": {
        "id": "io9OyhsZufpq"
      },
      "execution_count": 5,
      "outputs": []
    },
    {
      "cell_type": "code",
      "source": [
        "a = [15, 11, 12, 13, 12]\n",
        "b = [18, 17, 16, 17, 16]\n",
        "c = [22, 23, 19, 18, 19]"
      ],
      "metadata": {
        "id": "RiSeiBFPuaVy"
      },
      "execution_count": 4,
      "outputs": []
    },
    {
      "cell_type": "code",
      "source": [
        "a1 = np.mean(a)\n",
        "b1 = np.mean(b)\n",
        "c1 = np.mean(c)\n",
        "y = np.mean(a + b + c)\n",
        "n = max(len(a), len(b), len(c))"
      ],
      "metadata": {
        "id": "QiItBLh6ua_b"
      },
      "execution_count": 13,
      "outputs": []
    },
    {
      "cell_type": "code",
      "source": [
        "SSTR = n*((a1 - y)**2 + (b1 - y)**2 + (c1 - y)**2)\n",
        "SSTR"
      ],
      "metadata": {
        "colab": {
          "base_uri": "https://localhost:8080/"
        },
        "id": "loYiJDrPuix_",
        "outputId": "f92378d9-9f85-434b-ff7e-e20c2989f114"
      },
      "execution_count": 16,
      "outputs": [
        {
          "output_type": "execute_result",
          "data": {
            "text/plain": [
              "144.93333333333334"
            ]
          },
          "metadata": {},
          "execution_count": 16
        }
      ]
    },
    {
      "cell_type": "code",
      "source": [
        "dummy1, dummy2, dummy3 = 0, 0, 0\n",
        "mean_list = [a1, b1, c1]\n",
        "\n",
        "for i in mean_list:\n",
        "    if i == a1:\n",
        "        for j in a:\n",
        "            dummy1 += (j - i)**2\n",
        "\n",
        "    if i == b1:\n",
        "        for j in b:\n",
        "            dummy2 += (j - i)**2\n",
        "\n",
        "    if i == c1:\n",
        "        for j in c:\n",
        "            dummy3 += (j - i)**2\n",
        "\n",
        "SSE = dummy1 + dummy2 + dummy3\n",
        "SSE"
      ],
      "metadata": {
        "colab": {
          "base_uri": "https://localhost:8080/"
        },
        "id": "_nnC-PQIuivp",
        "outputId": "7d87498a-047b-473d-8008-2595ea82a43a"
      },
      "execution_count": 27,
      "outputs": [
        {
          "output_type": "execute_result",
          "data": {
            "text/plain": [
              "30.8"
            ]
          },
          "metadata": {},
          "execution_count": 27
        }
      ]
    },
    {
      "cell_type": "code",
      "source": [
        "SST = SSE + SSTR\n",
        "SST"
      ],
      "metadata": {
        "colab": {
          "base_uri": "https://localhost:8080/"
        },
        "id": "mY3ezxQKwjlc",
        "outputId": "f14dfbc0-3410-4b8d-ed33-4555db7d8289"
      },
      "execution_count": 28,
      "outputs": [
        {
          "output_type": "execute_result",
          "data": {
            "text/plain": [
              "175.73333333333335"
            ]
          },
          "metadata": {},
          "execution_count": 28
        }
      ]
    },
    {
      "cell_type": "code",
      "source": [
        "MSTR = SSTR / 2\n",
        "MSTR"
      ],
      "metadata": {
        "colab": {
          "base_uri": "https://localhost:8080/"
        },
        "id": "RVnTTNe2wji-",
        "outputId": "3f33f30f-3000-4ecf-b79f-5b9fe0eb9065"
      },
      "execution_count": 35,
      "outputs": [
        {
          "output_type": "execute_result",
          "data": {
            "text/plain": [
              "72.46666666666667"
            ]
          },
          "metadata": {},
          "execution_count": 35
        }
      ]
    },
    {
      "cell_type": "code",
      "source": [
        "MSE = SSE / ((5*3)-3)\n",
        "MSE"
      ],
      "metadata": {
        "colab": {
          "base_uri": "https://localhost:8080/"
        },
        "id": "JhCLqrzOwjgp",
        "outputId": "00b2f184-3eee-4760-b9bc-b224828e3c1c"
      },
      "execution_count": 32,
      "outputs": [
        {
          "output_type": "execute_result",
          "data": {
            "text/plain": [
              "2.566666666666667"
            ]
          },
          "metadata": {},
          "execution_count": 32
        }
      ]
    },
    {
      "cell_type": "code",
      "source": [
        "F = MSTR / MSE\n",
        "F"
      ],
      "metadata": {
        "colab": {
          "base_uri": "https://localhost:8080/"
        },
        "id": "x88Yx7N6x_Jz",
        "outputId": "de1746c4-bbf6-4864-f748-c9397f52bbb7"
      },
      "execution_count": 36,
      "outputs": [
        {
          "output_type": "execute_result",
          "data": {
            "text/plain": [
              "28.233766233766232"
            ]
          },
          "metadata": {},
          "execution_count": 36
        }
      ]
    },
    {
      "cell_type": "code",
      "execution_count": 37,
      "metadata": {
        "colab": {
          "base_uri": "https://localhost:8080/"
        },
        "id": "fuBipFjsYZVI",
        "outputId": "0d380db7-07ab-459e-aa05-c81279e8046c"
      },
      "outputs": [
        {
          "output_type": "stream",
          "name": "stdout",
          "text": [
            "P-value: 2.898540799367577e-05\n"
          ]
        }
      ],
      "source": [
        "from scipy.stats import f\n",
        "\n",
        "# 검정통계량 값\n",
        "test_statistic = F\n",
        "\n",
        "# F-분포의 자유도\n",
        "df_between = 3-1\n",
        "df_within = ((5*3)-3)\n",
        "\n",
        "# p-value 계산\n",
        "p_value = 1 - f.cdf(test_statistic, df_between, df_within)\n",
        "\n",
        "print(\"P-value:\", p_value)"
      ]
    },
    {
      "cell_type": "markdown",
      "source": [
        "## 모듈사용"
      ],
      "metadata": {
        "id": "cnm-M3tXyUrg"
      }
    },
    {
      "cell_type": "code",
      "source": [
        "from scipy.stats import f_oneway\n",
        "\n",
        "# 데이터\n",
        "a = [15, 11, 12, 13, 12]\n",
        "b = [18, 17, 16, 17, 16]\n",
        "c = [22, 23, 19, 18, 19]\n",
        "\n",
        "# 일원분산분석 수행\n",
        "f_statistic, p_value = f_oneway(a, b, c)\n",
        "\n",
        "# 결과 출력\n",
        "print(\"F-statistic:\", f_statistic)\n",
        "print(\"P-value:\", p_value)\n",
        "\n",
        "# 가설검정\n",
        "alpha = 0.05\n",
        "if p_value < alpha:\n",
        "    print(\"귀무가설 기각: 그룹 간 평균 차이가 있다.\")\n",
        "else:\n",
        "    print(\"귀무가설 채택: 그룹 간 평균 차이가 없다.\")"
      ],
      "metadata": {
        "colab": {
          "base_uri": "https://localhost:8080/"
        },
        "id": "KOl-QZ5_tkAU",
        "outputId": "50486a49-f222-4046-9e6a-f0ebb3700ed1"
      },
      "execution_count": 3,
      "outputs": [
        {
          "output_type": "stream",
          "name": "stdout",
          "text": [
            "F-statistic: 28.23376623376625\n",
            "P-value: 2.8985407993662547e-05\n",
            "귀무가설 기각: 그룹 간 평균 차이가 있다.\n"
          ]
        }
      ]
    },
    {
      "cell_type": "markdown",
      "source": [
        "# 이원배치 분산분석"
      ],
      "metadata": {
        "id": "iFSw7xZL_Hnx"
      }
    },
    {
      "cell_type": "markdown",
      "source": [
        "이원배치 분산분석(Two-Way ANOVA)은 두 개의 범주형 독립변수가 종속변수에 미치는 영향을 평가하는 통계적 기법입니다. 두 독립변수 모두가 데이터를 그룹화하는 데 기여하고, 그들 간의 상호작용도 고려됩니다.\n",
        "\n",
        "아래는 Python을 사용하여 이원배치 분산분석을 수행하는 간단한 예시 코드입니다. 코드에서는 scipy.stats 모듈의 f_oneway 함수를 사용하여 각각의 효과와 상호작용에 대한 통계적 유의성을 검정합니다."
      ],
      "metadata": {
        "id": "uG1CbEro_71p"
      }
    },
    {
      "cell_type": "code",
      "source": [
        "import numpy as np\n",
        "import pandas as pd\n",
        "from scipy.stats import f_oneway\n",
        "import statsmodels.api as sm\n",
        "from statsmodels.formula.api import ols\n",
        "\n",
        "# 데이터 생성\n",
        "np.random.seed(42)\n",
        "\n",
        "# 두 독립변수에 대한 랜덤한 데이터 생성\n",
        "factor_A = np.repeat(['A1', 'A2', 'A3'], 20)\n",
        "factor_B = np.tile(['B1', 'B2', 'B3', 'B4'], 15)\n",
        "\n",
        "# 종속변수에 대한 랜덤한 데이터 생성\n",
        "data = np.random.normal(loc=50, scale=10, size=60)\n",
        "\n",
        "# 데이터프레임 생성\n",
        "df = pd.DataFrame({'Factor_A': factor_A, 'Factor_B': factor_B, 'Data': data})\n",
        "\n",
        "# 이원배치 분산분석 수행\n",
        "model = ols('Data ~ Factor_A * Factor_B', data=df).fit()\n",
        "anova_table = sm.stats.anova_lm(model, typ=2)\n",
        "\n",
        "# 결과 출력\n",
        "print(anova_table)"
      ],
      "metadata": {
        "colab": {
          "base_uri": "https://localhost:8080/"
        },
        "id": "GRzdd-Eftkfh",
        "outputId": "41694cf9-34f3-4dfc-f3a2-3bb6427cee96"
      },
      "execution_count": 39,
      "outputs": [
        {
          "output_type": "stream",
          "name": "stdout",
          "text": [
            "                        sum_sq    df         F    PR(>F)\n",
            "Factor_A             58.088244   2.0  0.322798  0.725680\n",
            "Factor_B            257.579648   3.0  0.954251  0.421986\n",
            "Factor_A:Factor_B   235.398790   6.0  0.436039  0.851121\n",
            "Residual           4318.856017  48.0       NaN       NaN\n"
          ]
        }
      ]
    },
    {
      "cell_type": "markdown",
      "source": [
        "이 코드는 두 개의 범주형 독립변수 Factor_A와 Factor_B가 종속변수 Data에 미치는 영향을 분석합니다. ols 함수를 사용하여 선형 회귀 모델을 생성하고, anova_lm 함수를 사용하여 분산분석 테이블을 출력합니다.\n",
        "\n",
        "종속변수와 독립변수에 맞게 데이터를 변경하고, 더 복잡한 모델 또는 상호작용을 추가할 수 있습니다."
      ],
      "metadata": {
        "id": "q0JRwMbKAGLe"
      }
    },
    {
      "cell_type": "markdown",
      "source": [
        "# 다원변량 분산분석"
      ],
      "metadata": {
        "id": "WVlqDvtf_gQX"
      }
    },
    {
      "cell_type": "markdown",
      "source": [
        "다원변량 분산분석(MANOVA, Multivariate Analysis of Variance)은 한 번에 여러 종속변수 간의 평균 차이를 평가하는 통계적 기법입니다. 각 종속변수 간의 상호작용과 그룹 간의 차이를 고려하여 분석합니다.\n",
        "\n",
        "아래는 Python을 사용하여 MANOVA를 수행하는 간단한 예시 코드입니다. 코드에서는 statsmodels 라이브러리의 MANOVA 클래스를 사용합니다."
      ],
      "metadata": {
        "id": "rAJvJDzj_9a_"
      }
    },
    {
      "cell_type": "code",
      "source": [
        "import numpy as np\n",
        "import pandas as pd\n",
        "from statsmodels.multivariate.manova import MANOVA\n",
        "\n",
        "# 데이터 생성\n",
        "np.random.seed(42)\n",
        "\n",
        "# 두 개의 독립변수에 대한 랜덤한 데이터 생성\n",
        "factor_A = np.repeat(['A1', 'A2', 'A3'], 20)\n",
        "factor_B = np.tile(['B1', 'B2', 'B3', 'B4'], 15)\n",
        "\n",
        "# 세 종속변수에 대한 랜덤한 데이터 생성\n",
        "data1 = np.random.normal(loc=50, scale=10, size=60)\n",
        "data2 = np.random.normal(loc=30, scale=5, size=60)\n",
        "data3 = np.random.normal(loc=70, scale=8, size=60)\n",
        "\n",
        "# 데이터프레임 생성\n",
        "df = pd.DataFrame({'Factor_A': factor_A, 'Factor_B': factor_B, 'Data1': data1, 'Data2': data2, 'Data3': data3})\n",
        "\n",
        "# MANOVA 수행\n",
        "manova = MANOVA.from_formula('Data1 + Data2 + Data3 ~ Factor_A * Factor_B', data=df)\n",
        "print(manova.mv_test())"
      ],
      "metadata": {
        "colab": {
          "base_uri": "https://localhost:8080/"
        },
        "id": "SCkRElvK_S7k",
        "outputId": "b1b4237f-d966-4758-973e-139965a0eb42"
      },
      "execution_count": 40,
      "outputs": [
        {
          "output_type": "stream",
          "name": "stdout",
          "text": [
            "                  Multivariate linear model\n",
            "==============================================================\n",
            "                                                              \n",
            "--------------------------------------------------------------\n",
            "       Intercept         Value  Num DF  Den DF F Value  Pr > F\n",
            "--------------------------------------------------------------\n",
            "          Wilks' lambda  0.0831 3.0000 46.0000 169.2084 0.0000\n",
            "         Pillai's trace  0.9169 3.0000 46.0000 169.2084 0.0000\n",
            " Hotelling-Lawley trace 11.0353 3.0000 46.0000 169.2084 0.0000\n",
            "    Roy's greatest root 11.0353 3.0000 46.0000 169.2084 0.0000\n",
            "--------------------------------------------------------------\n",
            "                                                              \n",
            "--------------------------------------------------------------\n",
            "          Factor_A        Value  Num DF  Den DF F Value Pr > F\n",
            "--------------------------------------------------------------\n",
            "            Wilks' lambda 0.9442 6.0000 92.0000  0.4463 0.8459\n",
            "           Pillai's trace 0.0562 6.0000 94.0000  0.4528 0.8413\n",
            "   Hotelling-Lawley trace 0.0586 6.0000 59.5882  0.4448 0.8458\n",
            "      Roy's greatest root 0.0498 3.0000 47.0000  0.7798 0.5112\n",
            "--------------------------------------------------------------\n",
            "                                                              \n",
            "--------------------------------------------------------------\n",
            "         Factor_B        Value  Num DF  Den DF  F Value Pr > F\n",
            "--------------------------------------------------------------\n",
            "           Wilks' lambda 0.9255 9.0000 112.1025  0.4028 0.9313\n",
            "          Pillai's trace 0.0754 9.0000 144.0000  0.4123 0.9270\n",
            "  Hotelling-Lawley trace 0.0796 9.0000  69.1724  0.4008 0.9305\n",
            "     Roy's greatest root 0.0659 3.0000  48.0000  1.0538 0.3775\n",
            "--------------------------------------------------------------\n",
            "                                                              \n",
            "--------------------------------------------------------------\n",
            "   Factor_A:Factor_B    Value   Num DF  Den DF  F Value Pr > F\n",
            "--------------------------------------------------------------\n",
            "          Wilks' lambda 0.7743 18.0000 130.5929  0.6868 0.8192\n",
            "         Pillai's trace 0.2386 18.0000 144.0000  0.6911 0.8157\n",
            " Hotelling-Lawley trace 0.2751 18.0000  86.1739  0.6884 0.8135\n",
            "    Roy's greatest root 0.1968  6.0000  48.0000  1.5744 0.1752\n",
            "==============================================================\n",
            "\n"
          ]
        }
      ]
    },
    {
      "cell_type": "markdown",
      "source": [
        "이 코드에서 MANOVA 클래스를 사용하여 Data1, Data2, Data3 종속변수에 대한 MANOVA를 수행하고 있습니다. 결과로 Wilks' Lambda 검정 통계량과 p-value를 출력합니다.\n",
        "\n",
        "데이터와 변수의 형태에 따라서 MANOVA 모델을 적절히 수정해야 할 수 있습니다. 위의 코드는 예시일 뿐이며, 실제 데이터에 맞게 수정하여 사용해야 합니다."
      ],
      "metadata": {
        "id": "bvmXFCz-_98A"
      }
    },
    {
      "cell_type": "markdown",
      "source": [
        "# 공분산분석"
      ],
      "metadata": {
        "id": "fghSrhmR_x1n"
      }
    },
    {
      "cell_type": "markdown",
      "source": [
        "공분산분석(ANCOVA, Analysis of Covariance)은 독립변수의 그룹 간 평균 차이를 검정하는 동시에, 하나 이상의 연속형 공변량을 고려하여 그룹 간 차이를 조정하는 통계적 기법입니다. 여기서는 Python을 사용한 ANCOVA의 예시 코드를 제공합니다."
      ],
      "metadata": {
        "id": "gjxEwA8G_5Ks"
      }
    },
    {
      "cell_type": "code",
      "source": [
        "import numpy as np\n",
        "import pandas as pd\n",
        "from statsmodels.formula.api import ols\n",
        "from statsmodels.stats.anova import anova_lm\n",
        "\n",
        "# 데이터 생성\n",
        "np.random.seed(42)\n",
        "\n",
        "# 독립변수\n",
        "group = np.repeat(['A', 'B', 'C'], 20)\n",
        "\n",
        "# 연속형 공변량\n",
        "covariate = np.random.normal(loc=0, scale=1, size=60)\n",
        "\n",
        "# 종속변수\n",
        "dependent_variable = np.random.normal(loc=10, scale=2, size=60)\n",
        "\n",
        "# 데이터프레임 생성\n",
        "df = pd.DataFrame({'Group': group, 'Covariate': covariate, 'Dependent_Variable': dependent_variable})\n",
        "\n",
        "# ANCOVA 모델 설정\n",
        "model = ols('Dependent_Variable ~ Group + Covariate', data=df).fit()\n",
        "\n",
        "# 분산분석 수행\n",
        "anova_result = anova_lm(model)\n",
        "\n",
        "# 결과 출력\n",
        "print(anova_result)"
      ],
      "metadata": {
        "colab": {
          "base_uri": "https://localhost:8080/"
        },
        "id": "v4M5wE_9_yIA",
        "outputId": "9d0dc52d-3129-4938-cfcc-7d8e16fdf711"
      },
      "execution_count": 41,
      "outputs": [
        {
          "output_type": "stream",
          "name": "stdout",
          "text": [
            "             df      sum_sq   mean_sq         F    PR(>F)\n",
            "Group       2.0    0.277613  0.138807  0.037249  0.963460\n",
            "Covariate   1.0    1.063947  1.063947  0.285510  0.595227\n",
            "Residual   56.0  208.682886  3.726480       NaN       NaN\n"
          ]
        }
      ]
    },
    {
      "cell_type": "markdown",
      "source": [
        "이 코드에서는 두 개의 독립변수(Group과 Covariate)와 하나의 종속변수(Dependent_Variable)를 사용하여 ANCOVA 모델을 설정하고, 이를 통해 그룹 간 평균 차이를 검정하고 있습니다. statsmodels 라이브러리의 ols 함수와 anova_lm 함수를 사용하여 모델을 설정하고 분산분석을 수행합니다.\n",
        "\n",
        "물론 실제 데이터에 따라 모델의 설정이나 변수의 선택 등을 조정해야 합니다."
      ],
      "metadata": {
        "id": "1gI62Ms5_6-t"
      }
    },
    {
      "cell_type": "code",
      "source": [],
      "metadata": {
        "id": "1ws3S2BK_zkP"
      },
      "execution_count": null,
      "outputs": []
    }
  ]
}