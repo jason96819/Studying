{
  "nbformat": 4,
  "nbformat_minor": 0,
  "metadata": {
    "colab": {
      "provenance": [],
      "authorship_tag": "ABX9TyMmqiHMEBnE8btQgW9nRsd8",
      "include_colab_link": true
    },
    "kernelspec": {
      "name": "python3",
      "display_name": "Python 3"
    },
    "language_info": {
      "name": "python"
    }
  },
  "cells": [
    {
      "cell_type": "markdown",
      "metadata": {
        "id": "view-in-github",
        "colab_type": "text"
      },
      "source": [
        "<a href=\"https://colab.research.google.com/github/jason96819/Studying/blob/main/statics/%EC%A0%95%EA%B7%9C%EC%84%B1_%EA%B2%80%EC%A0%95.ipynb\" target=\"_parent\"><img src=\"https://colab.research.google.com/assets/colab-badge.svg\" alt=\"Open In Colab\"/></a>"
      ]
    },
    {
      "cell_type": "code",
      "source": [
        "import numpy as np\n",
        "import matplotlib.pyplot as plt"
      ],
      "metadata": {
        "id": "UDsW05w_m3XT"
      },
      "execution_count": null,
      "outputs": []
    },
    {
      "cell_type": "code",
      "execution_count": 1,
      "metadata": {
        "colab": {
          "base_uri": "https://localhost:8080/"
        },
        "id": "2VOAWbKamMe9",
        "outputId": "838c6fb0-2f21-400b-861d-78b6fef7ccf1"
      },
      "outputs": [
        {
          "output_type": "stream",
          "name": "stdout",
          "text": [
            "Statistic: 0.9968552589416504, p-value: 0.8264181017875671\n",
            "샘플은 정규분포를 따릅니다 (귀무가설 채택)\n"
          ]
        }
      ],
      "source": [
        "from scipy.stats import shapiro\n",
        "\n",
        "population = np.random.normal(100, 10, 1000000)\n",
        "sample = np.random.choice(population, size=300)\n",
        "\n",
        "# Shapiro-Wilk 검정 수행\n",
        "statistic, p_value = shapiro(sample)\n",
        "\n",
        "# 결과 출력\n",
        "print(f'Statistic: {statistic}, p-value: {p_value}')\n",
        "\n",
        "# 유의수준 0.05에서의 검정\n",
        "alpha = 0.05\n",
        "if p_value > alpha:\n",
        "    print(\"샘플은 정규분포를 따릅니다 (귀무가설 채택)\")\n",
        "else:\n",
        "    print(\"샘플은 정규분포를 따르지 않습니다 (귀무가설 기각)\")"
      ]
    },
    {
      "cell_type": "code",
      "source": [
        "from scipy.stats import kstest\n",
        "\n",
        "population = np.random.normal(100, 10, 1000000)\n",
        "sample = np.random.choice(population, size=300)\n",
        "\n",
        "# Kolmogorov-Smirnov 검정 수행\n",
        "statistic, p_value = kstest(sample, 'norm', args=(np.mean(sample), np.std(sample)))\n",
        "\n",
        "# 결과 출력\n",
        "print(f'Statistic: {statistic}, p-value: {p_value}')\n",
        "\n",
        "# 유의수준 0.05에서의 검정\n",
        "alpha = 0.05\n",
        "if p_value > alpha:\n",
        "    print(\"샘플은 정규분포를 따릅니다 (귀무가설 채택)\")\n",
        "else:\n",
        "    print(\"샘플은 정규분포를 따르지 않습니다 (귀무가설 기각)\")"
      ],
      "metadata": {
        "colab": {
          "base_uri": "https://localhost:8080/"
        },
        "id": "dtGHw5C4mS7L",
        "outputId": "f4240870-a3df-4bdc-c33f-fd33539750f3"
      },
      "execution_count": 2,
      "outputs": [
        {
          "output_type": "stream",
          "name": "stdout",
          "text": [
            "Statistic: 0.037826566249281435, p-value: 0.7692267323746866\n",
            "샘플은 정규분포를 따릅니다 (귀무가설 채택)\n"
          ]
        }
      ]
    },
    {
      "cell_type": "code",
      "source": [
        "from scipy.stats import anderson\n",
        "\n",
        "population = np.random.normal(100, 10, 1000000)\n",
        "sample = np.random.choice(population, size=300)\n",
        "\n",
        "# Anderson-Darling 검정 수행\n",
        "result = anderson(sample)\n",
        "\n",
        "# 결과 출력\n",
        "print(f'Test Statistic: {result.statistic}')\n",
        "print(f'Critical Values: {result.critical_values}')\n",
        "print(f'Significance Level: {result.significance_level}')                        # 각각 유의수준 15%, 10%, 5%, 2.5%, 1%\n",
        "\n",
        "# 유의수준 0.05에서의 검정\n",
        "alpha = 0.05\n",
        "if result.statistic < result.critical_values[2]:                                 # 유의수준이 0.05(5%)이기에 critical_values[2] = 5% 채택\n",
        "    print(\"샘플은 정규분포를 따릅니다 (귀무가설 채택)\")\n",
        "else:\n",
        "    print(\"샘플은 정규분포를 따르지 않습니다 (귀무가설 기각)\")"
      ],
      "metadata": {
        "colab": {
          "base_uri": "https://localhost:8080/"
        },
        "id": "Y-CBjO5pnltn",
        "outputId": "34860ac1-031f-4f32-f630-6a8925d8565b"
      },
      "execution_count": 13,
      "outputs": [
        {
          "output_type": "stream",
          "name": "stdout",
          "text": [
            "Test Statistic: 0.666142793548147\n",
            "Critical Values: [0.569 0.648 0.777 0.906 1.078]\n",
            "Significance Level: [15.  10.   5.   2.5  1. ]\n",
            "샘플은 정규분포를 따릅니다 (귀무가설 채택)\n"
          ]
        }
      ]
    },
    {
      "cell_type": "code",
      "source": [
        "from scipy.stats import jarque_bera\n",
        "\n",
        "population = np.random.normal(100, 10, 1000000)\n",
        "sample = np.random.choice(population, size=300)\n",
        "\n",
        "# Jarque-Bera 검정 수행\n",
        "statistic, p_value = jarque_bera(sample)\n",
        "\n",
        "# 결과 출력\n",
        "print(f'Test Statistic: {statistic}')\n",
        "print(f'P-value: {p_value}')\n",
        "\n",
        "# 유의수준 0.05에서의 검정\n",
        "alpha = 0.05\n",
        "if p_value > alpha:\n",
        "    print(\"샘플은 정규분포를 따릅니다 (귀무가설 채택)\")\n",
        "else:\n",
        "    print(\"샘플은 정규분포를 따르지 않습니다 (귀무가설 기각)\")"
      ],
      "metadata": {
        "colab": {
          "base_uri": "https://localhost:8080/"
        },
        "id": "lSRAVnVmpcBo",
        "outputId": "f5ae55a3-fbca-4454-aa8f-5a6e46cddab4"
      },
      "execution_count": 14,
      "outputs": [
        {
          "output_type": "stream",
          "name": "stdout",
          "text": [
            "Test Statistic: 4.497002208668922\n",
            "P-value: 0.10555732546148756\n",
            "샘플은 정규분포를 따릅니다 (귀무가설 채택)\n"
          ]
        }
      ]
    },
    {
      "cell_type": "code",
      "source": [
        "from scipy.stats import probplot\n",
        "\n",
        "population = np.random.normal(100, 10, 1000000)\n",
        "sample = np.random.choice(population, size=300)\n",
        "\n",
        "# QQ 플롯 그리기\n",
        "probplot(sample, dist='norm', plot=plt)\n",
        "plt.title('QQ Plot for Normality Check')\n",
        "plt.show()"
      ],
      "metadata": {
        "colab": {
          "base_uri": "https://localhost:8080/",
          "height": 472
        },
        "id": "ipRXTtirmdWN",
        "outputId": "831b96cd-c873-4220-c276-fbf7065cc0c5"
      },
      "execution_count": 5,
      "outputs": [
        {
          "output_type": "display_data",
          "data": {
            "text/plain": [
              "<Figure size 640x480 with 1 Axes>"
            ],
            "image/png": "[encoded data removed]"
          },
          "metadata": {}
        }
      ]
    },
    {
      "cell_type": "code",
      "source": [],
      "metadata": {
        "id": "InUY_j8lmtwK"
      },
      "execution_count": null,
      "outputs": []
    }
  ]
}