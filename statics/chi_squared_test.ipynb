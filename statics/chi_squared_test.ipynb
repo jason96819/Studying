{
  "nbformat": 4,
  "nbformat_minor": 0,
  "metadata": {
    "colab": {
      "provenance": [],
      "authorship_tag": "ABX9TyMVCLo3m3gA/PMS8nXyL4SP",
      "include_colab_link": true
    },
    "kernelspec": {
      "name": "python3",
      "display_name": "Python 3"
    },
    "language_info": {
      "name": "python"
    }
  },
  "cells": [
    {
      "cell_type": "markdown",
      "metadata": {
        "id": "view-in-github",
        "colab_type": "text"
      },
      "source": [
        "<a href=\"https://colab.research.google.com/github/jason96819/Studying/blob/main/statics/chi_squared_test.ipynb\" target=\"_parent\"><img src=\"https://colab.research.google.com/assets/colab-badge.svg\" alt=\"Open In Colab\"/></a>"
      ]
    },
    {
      "cell_type": "markdown",
      "source": [
        "# 적합도 검정"
      ],
      "metadata": {
        "id": "yH8Tq1dDwAfl"
      }
    },
    {
      "cell_type": "code",
      "execution_count": 1,
      "metadata": {
        "colab": {
          "base_uri": "https://localhost:8080/"
        },
        "id": "MAz3sBTmsCOx",
        "outputId": "57a9a28c-ba3e-46b2-eff2-fb047a68dfa1"
      },
      "outputs": [
        {
          "output_type": "stream",
          "name": "stdout",
          "text": [
            "P-value: 0.015454827216857758\n"
          ]
        }
      ],
      "source": [
        "from scipy.stats import chi2\n",
        "\n",
        "# 검정통계량과 자유도\n",
        "test_statistic = 10.4\n",
        "degrees_of_freedom = 3\n",
        "\n",
        "# p-value 계산\n",
        "p_value = 1 - chi2.cdf(test_statistic, degrees_of_freedom)\n",
        "\n",
        "print(\"P-value:\", p_value)"
      ]
    },
    {
      "cell_type": "markdown",
      "source": [
        "가정을 하나로, 주사위를 여러 번 던져서 나오는 눈의 분포가 균등한지를 검정하는 경우입니다. 이는 주사위의 각 면이 나올 확률이 동일하다는 가정을 테스트하는데 사용됩니다.\n",
        "\n",
        "다음은 Python을 사용하여 이 검정을 수행하는 코드의 간단한 예시입니다. 여기서는 주사위 600번을 던진 결과를 사용하여 검정을 실시합니다."
      ],
      "metadata": {
        "id": "qPf_BL1Ivrt6"
      }
    },
    {
      "cell_type": "code",
      "source": [
        "import numpy as np\n",
        "from scipy.stats import chisquare\n",
        "\n",
        "# 주사위 눈의 기대 확률 (균등한 분포를 가정)\n",
        "expected_probabilities = [1/6] * 6\n",
        "\n",
        "# 주사위 600번 던진 결과\n",
        "observed_values, _ = np.histogram(np.random.randint(1, 7, size=600), bins=6)\n",
        "\n",
        "# 기대 빈도 계\n",
        "expected_frequencies = np.array(expected_probabilities) * np.sum(observed_values)\n",
        "\n",
        "# 카이제곱 적합도 검정\n",
        "chi2_statistic, p_value = chisquare(observed_values, f_exp=expected_frequencies)\n",
        "\n",
        "# 결과 출력\n",
        "print(\"Chi-Square Statistic:\", chi2_statistic)\n",
        "print(\"P-value:\", p_value)\n",
        "\n",
        "# 가설검정\n",
        "alpha = 0.05\n",
        "if p_value < alpha:\n",
        "    print(\"귀무가설 기각: 주사위의 눈의 분포가 균등하지 않다.\")\n",
        "else:\n",
        "    print(\"귀무가설 채택: 주사위의 눈의 분포가 균등하다.\")"
      ],
      "metadata": {
        "colab": {
          "base_uri": "https://localhost:8080/"
        },
        "id": "WOhTBKNFvtDZ",
        "outputId": "12c719ed-fb65-4b24-a6c9-83ec49220d6a"
      },
      "execution_count": 3,
      "outputs": [
        {
          "output_type": "stream",
          "name": "stdout",
          "text": [
            "Chi-Square Statistic: 6.7\n",
            "P-value: 0.2439246425643036\n",
            "귀무가설 채택: 주사위의 눈의 분포가 균등하다.\n"
          ]
        }
      ]
    },
    {
      "cell_type": "markdown",
      "source": [
        "이 코드에서는 NumPy를 사용하여 주사위를 600번 던진 결과를 생성하고, scipy.stats 모듈의 chisquare 함수를 사용하여 카이제곱 적합도 검정을 수행합니다. 코드의 출력은 검정 통계량과 p-value를 나타내며, 주어진 유의수준(여기서는 0.05)과 비교하여 귀무가설을 기각하거나 채택합니다."
      ],
      "metadata": {
        "id": "yCtbER5xv6H6"
      }
    },
    {
      "cell_type": "markdown",
      "source": [
        "# 독립성 검정"
      ],
      "metadata": {
        "id": "BnHv8tiZwCjb"
      }
    },
    {
      "cell_type": "code",
      "source": [
        "from scipy.stats import chi2\n",
        "\n",
        "# 검정통계량과 자유도\n",
        "test_statistic = 6.34\n",
        "degrees_of_freedom = 2\n",
        "\n",
        "# p-value 계산\n",
        "p_value = 1 - chi2.cdf(test_statistic, degrees_of_freedom)\n",
        "\n",
        "print(\"P-value:\", p_value)"
      ],
      "metadata": {
        "colab": {
          "base_uri": "https://localhost:8080/"
        },
        "id": "Tl4IKjP8vs-x",
        "outputId": "356e1fb0-c068-4145-fc11-b6ccd724ad14"
      },
      "execution_count": 4,
      "outputs": [
        {
          "output_type": "stream",
          "name": "stdout",
          "text": [
            "P-value: 0.042003597903445544\n"
          ]
        }
      ]
    },
    {
      "cell_type": "markdown",
      "source": [
        "독립성 검정을 수행하기 위해 scipy.stats 모듈의 chi2_contingency 함수를 사용할 수 있습니다. 이 함수는 관찰된 빈도를 입력으로 받아 카이제곱 독립성 검정을 수행하고, 검정 통계량, p-value, 자유도, 기대 빈도를 반환합니다."
      ],
      "metadata": {
        "id": "u-fwc13IDRVX"
      }
    },
    {
      "cell_type": "code",
      "source": [
        "import numpy as np\n",
        "from scipy.stats import chi2_contingency\n",
        "\n",
        "# 가상의 데이터 생성\n",
        "np.random.seed(42)  # 재현성을 위해 시드 고정\n",
        "male_coffee = np.random.randint(15, 25, size=100)\n",
        "male_tea = np.random.randint(20, 30, size=100)\n",
        "male_juice = np.random.randint(5, 15, size=100)\n",
        "\n",
        "female_coffee = np.random.randint(20, 30, size=100)\n",
        "female_tea = np.random.randint(15, 25, size=100)\n",
        "female_juice = np.random.randint(10, 20, size=100)\n",
        "\n",
        "# 데이터 배열 생성\n",
        "data = np.array([male_coffee, male_tea, male_juice, female_coffee, female_tea, female_juice])\n",
        "\n",
        "# 카이제곱 독립성 검정\n",
        "chi2_stat, p_value, _, expected_freq = chi2_contingency(data)\n",
        "\n",
        "# 결과 출력\n",
        "print(\"Chi-Square Statistic:\", chi2_stat)\n",
        "print(\"P-value:\", p_value)\n",
        "\n",
        "# 유의수준 5%에서의 검정\n",
        "alpha = 0.05\n",
        "print(\"Significance Level (alpha):\", alpha)\n",
        "\n",
        "if p_value < alpha:\n",
        "    print(\"결과: 귀무가설을 기각합니다. 성별과 선호하는 음료는 독립적이지 않습니다.\")\n",
        "else:\n",
        "    print(\"결과: 귀무가설을 채택합니다. 성별과 선호하는 음료는 독립적입니다.\")"
      ],
      "metadata": {
        "colab": {
          "base_uri": "https://localhost:8080/"
        },
        "id": "Y7pSJISWvs8Y",
        "outputId": "ce0ad4fe-c53d-4368-e7a9-d802ba55a9af"
      },
      "execution_count": 6,
      "outputs": [
        {
          "output_type": "stream",
          "name": "stdout",
          "text": [
            "Chi-Square Statistic: 270.1036071845948\n",
            "P-value: 1.0\n",
            "Significance Level (alpha): 0.05\n",
            "결과: 귀무가설을 채택합니다. 성별과 선호하는 음료는 독립적입니다.\n"
          ]
        }
      ]
    },
    {
      "cell_type": "markdown",
      "source": [
        "이 코드에서는 각 성별에 대해 커피, 차, 주스를 선호하는 100명의 가상의 데이터를 생성하고, 이를 하나의 배열로 합쳐 chi2_contingency 함수에 전달합니다. 결과를 통해 성별과 선호하는 음료 간의 독립성에 대한 가설을 확인할 수 있습니다."
      ],
      "metadata": {
        "id": "c0I6gDmSDSJ_"
      }
    },
    {
      "cell_type": "markdown",
      "source": [
        "# 동질성 검정"
      ],
      "metadata": {
        "id": "EsZ5-Uc6DZ1h"
      }
    },
    {
      "cell_type": "markdown",
      "source": [
        "동질성 검정은 동일한 모집단에서 추출된 여러 표본 또는 동일한 특성을 가진 여러 모집단이 동일한 범주형 변수의 분포를 가지는지를 확인하는 검정입니다. 아래는 간단한 동질성 검정의 예시 코드입니다."
      ],
      "metadata": {
        "id": "-NT02pKyDirJ"
      }
    },
    {
      "cell_type": "code",
      "source": [
        "import numpy as np\n",
        "from scipy.stats import chi2_contingency\n",
        "\n",
        "# 가상의 데이터 생성\n",
        "np.random.seed(42)  # 재현성을 위해 시드 고정\n",
        "sample1 = np.random.choice(['A', 'B', 'C'], size=150)\n",
        "sample2 = np.random.choice(['A', 'B', 'C'], size=150)\n",
        "sample3 = np.random.choice(['A', 'B', 'C'], size=150)\n",
        "\n",
        "# 데이터 배열 생성\n",
        "data = np.array([np.unique(sample1, return_counts=True)[1],\n",
        "                 np.unique(sample2, return_counts=True)[1],\n",
        "                 np.unique(sample3, return_counts=True)[1]])\n",
        "\n",
        "# 동질성 검정\n",
        "chi2_stat, p_value, _, expected_freq = chi2_contingency(data)\n",
        "\n",
        "# 결과 출력\n",
        "print(\"Chi-Square Statistic:\", chi2_stat)\n",
        "print(\"P-value:\", p_value)\n",
        "\n",
        "# 유의수준 5%에서의 검정\n",
        "alpha = 0.05\n",
        "print(\"Significance Level (alpha):\", alpha)\n",
        "\n",
        "if p_value < alpha:\n",
        "    print(\"결과: 귀무가설을 기각합니다. 적어도 하나의 표본은 다른 표본들과 동일한 범주형 변수의 분포를 가지지 않습니다.\")\n",
        "else:\n",
        "    print(\"결과: 귀무가설을 채택합니다. 모든 표본들은 동일한 범주형 변수의 분포를 가지고 있습니다.\")"
      ],
      "metadata": {
        "colab": {
          "base_uri": "https://localhost:8080/"
        },
        "id": "LK6EKYANvspY",
        "outputId": "03c1792e-8309-4a9b-8f91-a62e5fadb035"
      },
      "execution_count": 7,
      "outputs": [
        {
          "output_type": "stream",
          "name": "stdout",
          "text": [
            "Chi-Square Statistic: 1.2574649040086827\n",
            "P-value: 0.8685497810603191\n",
            "Significance Level (alpha): 0.05\n",
            "결과: 귀무가설을 채택합니다. 모든 표본들은 동일한 범주형 변수의 분포를 가지고 있습니다.\n"
          ]
        }
      ]
    },
    {
      "cell_type": "markdown",
      "source": [
        "이 코드에서는 3개의 표본이 동일한 범주형 변수에 대해 각각 A, B, C를 선택하는지를 확인하는 동질성 검정을 수행합니다. 결과를 통해 각 표본이 동일한 분포를 가지는지를 판단할 수 있습니다."
      ],
      "metadata": {
        "id": "L3NnlrZkDg1Z"
      }
    },
    {
      "cell_type": "code",
      "source": [],
      "metadata": {
        "id": "ZqV8vU2KDhNy"
      },
      "execution_count": null,
      "outputs": []
    }
  ]
}